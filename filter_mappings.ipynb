{
 "cells": [
  {
   "cell_type": "markdown",
   "metadata": {},
   "source": [
    "Filter mappings between New York Times locations and weather stations. Check that distance between station and location \"center\" is acceptable for each element measured (rain, temperature ...). If not, set mapping to NULL."
   ]
  },
  {
   "cell_type": "code",
   "execution_count": 34,
   "metadata": {},
   "outputs": [],
   "source": [
    "from IPython.core.interactiveshell import InteractiveShell\n",
    "# display output of all cell lines (not only the last one)\n",
    "#InteractiveShell.ast_node_interactivity = \"all\"\n",
    "InteractiveShell.ast_node_interactivity = \"last_expr\"\n",
    "from IPython.display import display, HTML"
   ]
  },
  {
   "cell_type": "code",
   "execution_count": 47,
   "metadata": {},
   "outputs": [],
   "source": [
    "import configparser\n",
    "import os\n",
    "import pyspark\n",
    "from pyspark import SparkConf\n",
    "from pyspark.sql import SparkSession\n",
    "import pyspark.sql.functions as F\n",
    "import pyspark.sql.types as T\n",
    "\n",
    "import pandas as pd\n",
    "%matplotlib inline\n",
    "import matplotlib.pyplot as plt\n",
    "from datetime import date, timedelta\n",
    "from sqlalchemy import create_engine\n"
   ]
  },
  {
   "cell_type": "code",
   "execution_count": 2,
   "metadata": {},
   "outputs": [
    {
     "data": {
      "text/plain": [
       "['capstone.cfg']"
      ]
     },
     "execution_count": 2,
     "metadata": {},
     "output_type": "execute_result"
    }
   ],
   "source": [
    "config = configparser.ConfigParser()\n",
    "config.read(\"capstone.cfg\")"
   ]
  },
  {
   "cell_type": "code",
   "execution_count": 3,
   "metadata": {},
   "outputs": [],
   "source": [
    "project_path = config[\"PATH\"][\"project\"]\n",
    "os.chdir(project_path)"
   ]
  },
  {
   "cell_type": "code",
   "execution_count": null,
   "metadata": {},
   "outputs": [],
   "source": []
  },
  {
   "cell_type": "markdown",
   "metadata": {},
   "source": [
    "# Load mappings"
   ]
  },
  {
   "cell_type": "code",
   "execution_count": 4,
   "metadata": {
    "scrolled": true
   },
   "outputs": [
    {
     "data": {
      "text/html": [
       "<div>\n",
       "<style scoped>\n",
       "    .dataframe tbody tr th:only-of-type {\n",
       "        vertical-align: middle;\n",
       "    }\n",
       "\n",
       "    .dataframe tbody tr th {\n",
       "        vertical-align: top;\n",
       "    }\n",
       "\n",
       "    .dataframe thead th {\n",
       "        text-align: right;\n",
       "    }\n",
       "</style>\n",
       "<table border=\"1\" class=\"dataframe\">\n",
       "  <thead>\n",
       "    <tr style=\"text-align: right;\">\n",
       "      <th></th>\n",
       "      <th></th>\n",
       "      <th>fips</th>\n",
       "      <th>county</th>\n",
       "      <th>state_gazeeter</th>\n",
       "      <th>station_id</th>\n",
       "      <th>station_name</th>\n",
       "      <th>state_station</th>\n",
       "      <th>latitude_station</th>\n",
       "      <th>longitude_station</th>\n",
       "      <th>distance</th>\n",
       "    </tr>\n",
       "  </thead>\n",
       "  <tbody>\n",
       "    <tr>\n",
       "      <th rowspan=\"5\" valign=\"top\">SNOW</th>\n",
       "      <th>0</th>\n",
       "      <td>53061.0</td>\n",
       "      <td>Snohomish</td>\n",
       "      <td>Washington</td>\n",
       "      <td>USW00094290</td>\n",
       "      <td>SEATTLE SAND PT WSFO</td>\n",
       "      <td>WA</td>\n",
       "      <td>47.6872</td>\n",
       "      <td>-122.2553</td>\n",
       "      <td>27.427372</td>\n",
       "    </tr>\n",
       "    <tr>\n",
       "      <th>1</th>\n",
       "      <td>17031.0</td>\n",
       "      <td>Cook</td>\n",
       "      <td>Illinois</td>\n",
       "      <td>USC00111577</td>\n",
       "      <td>CHICAGO MIDWAY AP 3SW                  72534</td>\n",
       "      <td>IL</td>\n",
       "      <td>41.7372</td>\n",
       "      <td>-87.7775</td>\n",
       "      <td>10.306315</td>\n",
       "    </tr>\n",
       "    <tr>\n",
       "      <th>2</th>\n",
       "      <td>6059.0</td>\n",
       "      <td>Orange</td>\n",
       "      <td>California</td>\n",
       "      <td>US1CALA0092</td>\n",
       "      <td>REDONDO BEACH 2.1 SSW</td>\n",
       "      <td>CA</td>\n",
       "      <td>33.8274</td>\n",
       "      <td>-118.3888</td>\n",
       "      <td>29.503349</td>\n",
       "    </tr>\n",
       "    <tr>\n",
       "      <th>3</th>\n",
       "      <td>4013.0</td>\n",
       "      <td>Maricopa</td>\n",
       "      <td>Arizona</td>\n",
       "      <td>USW00023183</td>\n",
       "      <td>PHOENIX SKY HARBOR INTL AP     GSN     72278</td>\n",
       "      <td>AZ</td>\n",
       "      <td>33.4278</td>\n",
       "      <td>-112.0039</td>\n",
       "      <td>23.435202</td>\n",
       "    </tr>\n",
       "    <tr>\n",
       "      <th>4</th>\n",
       "      <td>6037.0</td>\n",
       "      <td>Los Angeles</td>\n",
       "      <td>California</td>\n",
       "      <td>US1CALA0001</td>\n",
       "      <td>GLENDALE 2.4 WSW</td>\n",
       "      <td>CA</td>\n",
       "      <td>34.1689</td>\n",
       "      <td>-118.2947</td>\n",
       "      <td>2.149035</td>\n",
       "    </tr>\n",
       "    <tr>\n",
       "      <th>...</th>\n",
       "      <th>...</th>\n",
       "      <td>...</td>\n",
       "      <td>...</td>\n",
       "      <td>...</td>\n",
       "      <td>...</td>\n",
       "      <td>...</td>\n",
       "      <td>...</td>\n",
       "      <td>...</td>\n",
       "      <td>...</td>\n",
       "      <td>...</td>\n",
       "    </tr>\n",
       "    <tr>\n",
       "      <th rowspan=\"5\" valign=\"top\">TAVG</th>\n",
       "      <th>3265</th>\n",
       "      <td>NaN</td>\n",
       "      <td>Unknown</td>\n",
       "      <td>Idaho</td>\n",
       "      <td>USR0000IHPK</td>\n",
       "      <td>HORTON PEAK IDAHO</td>\n",
       "      <td>ID</td>\n",
       "      <td>43.9481</td>\n",
       "      <td>-114.7561</td>\n",
       "      <td>6.701040</td>\n",
       "    </tr>\n",
       "    <tr>\n",
       "      <th>3266</th>\n",
       "      <td>NaN</td>\n",
       "      <td>Unknown</td>\n",
       "      <td>Montana</td>\n",
       "      <td>USS0009C01S</td>\n",
       "      <td>Crystal Lake</td>\n",
       "      <td>MT</td>\n",
       "      <td>46.7900</td>\n",
       "      <td>-109.5100</td>\n",
       "      <td>9.785520</td>\n",
       "    </tr>\n",
       "    <tr>\n",
       "      <th>3267</th>\n",
       "      <td>NaN</td>\n",
       "      <td>Unknown</td>\n",
       "      <td>Alaska</td>\n",
       "      <td>USR0000ANOR</td>\n",
       "      <td>NORUTAK LAKE ALASKA</td>\n",
       "      <td>AK</td>\n",
       "      <td>66.8333</td>\n",
       "      <td>-154.3333</td>\n",
       "      <td>43.082228</td>\n",
       "    </tr>\n",
       "    <tr>\n",
       "      <th>3268</th>\n",
       "      <td>NaN</td>\n",
       "      <td>Unknown</td>\n",
       "      <td>Wyoming</td>\n",
       "      <td>USS0007F06S</td>\n",
       "      <td>Grave Springs</td>\n",
       "      <td>WY</td>\n",
       "      <td>43.4700</td>\n",
       "      <td>-107.2400</td>\n",
       "      <td>22.001426</td>\n",
       "    </tr>\n",
       "    <tr>\n",
       "      <th>3269</th>\n",
       "      <td>2261.0</td>\n",
       "      <td>Valdez-Cordova Census Area</td>\n",
       "      <td>Alaska</td>\n",
       "      <td>USS0046M04S</td>\n",
       "      <td>Sugarloaf Mtn</td>\n",
       "      <td>AK</td>\n",
       "      <td>61.0800</td>\n",
       "      <td>-146.3000</td>\n",
       "      <td>3.169607</td>\n",
       "    </tr>\n",
       "  </tbody>\n",
       "</table>\n",
       "<p>19620 rows × 9 columns</p>\n",
       "</div>"
      ],
      "text/plain": [
       "              fips                      county state_gazeeter   station_id  \\\n",
       "SNOW 0     53061.0                   Snohomish     Washington  USW00094290   \n",
       "     1     17031.0                        Cook       Illinois  USC00111577   \n",
       "     2      6059.0                      Orange     California  US1CALA0092   \n",
       "     3      4013.0                    Maricopa        Arizona  USW00023183   \n",
       "     4      6037.0                 Los Angeles     California  US1CALA0001   \n",
       "...            ...                         ...            ...          ...   \n",
       "TAVG 3265      NaN                     Unknown          Idaho  USR0000IHPK   \n",
       "     3266      NaN                     Unknown        Montana  USS0009C01S   \n",
       "     3267      NaN                     Unknown         Alaska  USR0000ANOR   \n",
       "     3268      NaN                     Unknown        Wyoming  USS0007F06S   \n",
       "     3269   2261.0  Valdez-Cordova Census Area         Alaska  USS0046M04S   \n",
       "\n",
       "                                           station_name state_station  \\\n",
       "SNOW 0     SEATTLE SAND PT WSFO                                    WA   \n",
       "     1     CHICAGO MIDWAY AP 3SW                  72534            IL   \n",
       "     2     REDONDO BEACH 2.1 SSW                                   CA   \n",
       "     3     PHOENIX SKY HARBOR INTL AP     GSN     72278            AZ   \n",
       "     4     GLENDALE 2.4 WSW                                        CA   \n",
       "...                                                 ...           ...   \n",
       "TAVG 3265  HORTON PEAK IDAHO                                       ID   \n",
       "     3266  Crystal Lake                                            MT   \n",
       "     3267  NORUTAK LAKE ALASKA                                     AK   \n",
       "     3268  Grave Springs                                           WY   \n",
       "     3269  Sugarloaf Mtn                                           AK   \n",
       "\n",
       "           latitude_station  longitude_station   distance  \n",
       "SNOW 0              47.6872          -122.2553  27.427372  \n",
       "     1              41.7372           -87.7775  10.306315  \n",
       "     2              33.8274          -118.3888  29.503349  \n",
       "     3              33.4278          -112.0039  23.435202  \n",
       "     4              34.1689          -118.2947   2.149035  \n",
       "...                     ...                ...        ...  \n",
       "TAVG 3265           43.9481          -114.7561   6.701040  \n",
       "     3266           46.7900          -109.5100   9.785520  \n",
       "     3267           66.8333          -154.3333  43.082228  \n",
       "     3268           43.4700          -107.2400  22.001426  \n",
       "     3269           61.0800          -146.3000   3.169607  \n",
       "\n",
       "[19620 rows x 9 columns]"
      ]
     },
     "execution_count": 4,
     "metadata": {},
     "output_type": "execute_result"
    }
   ],
   "source": [
    "# check multi index read ok \n",
    "out_name = os.path.join(\"OUT_DATA\", \"closest_stations.csv\")\n",
    "toto = pd.read_csv(out_name, index_col = [0,1])#, skipinitialspace=True)\n",
    "toto"
   ]
  },
  {
   "cell_type": "code",
   "execution_count": 5,
   "metadata": {},
   "outputs": [
    {
     "name": "stdout",
     "output_type": "stream",
     "text": [
      "Index(['PRCP', 'SNOW', 'SNWD', 'TAVG', 'TMAX', 'TMIN'], dtype='object')\n"
     ]
    },
    {
     "data": {
      "text/html": [
       "<div>\n",
       "<style scoped>\n",
       "    .dataframe tbody tr th:only-of-type {\n",
       "        vertical-align: middle;\n",
       "    }\n",
       "\n",
       "    .dataframe tbody tr th {\n",
       "        vertical-align: top;\n",
       "    }\n",
       "\n",
       "    .dataframe thead th {\n",
       "        text-align: right;\n",
       "    }\n",
       "</style>\n",
       "<table border=\"1\" class=\"dataframe\">\n",
       "  <thead>\n",
       "    <tr style=\"text-align: right;\">\n",
       "      <th></th>\n",
       "      <th>fips</th>\n",
       "      <th>county</th>\n",
       "      <th>state_gazeeter</th>\n",
       "      <th>station_id</th>\n",
       "      <th>station_name</th>\n",
       "      <th>state_station</th>\n",
       "      <th>latitude_station</th>\n",
       "      <th>longitude_station</th>\n",
       "      <th>distance</th>\n",
       "    </tr>\n",
       "  </thead>\n",
       "  <tbody>\n",
       "    <tr>\n",
       "      <th>0</th>\n",
       "      <td>53061.0</td>\n",
       "      <td>Snohomish</td>\n",
       "      <td>Washington</td>\n",
       "      <td>US1WASN0091</td>\n",
       "      <td>LAKE STEVENS 3.2 N</td>\n",
       "      <td>WA</td>\n",
       "      <td>48.0637</td>\n",
       "      <td>-122.0575</td>\n",
       "      <td>10.878616</td>\n",
       "    </tr>\n",
       "    <tr>\n",
       "      <th>1</th>\n",
       "      <td>17031.0</td>\n",
       "      <td>Cook</td>\n",
       "      <td>Illinois</td>\n",
       "      <td>US1ILCK0074</td>\n",
       "      <td>OAK PARK 1.3 NNE</td>\n",
       "      <td>IL</td>\n",
       "      <td>41.9062</td>\n",
       "      <td>-87.7819</td>\n",
       "      <td>5.684991</td>\n",
       "    </tr>\n",
       "    <tr>\n",
       "      <th>2</th>\n",
       "      <td>6059.0</td>\n",
       "      <td>Orange</td>\n",
       "      <td>California</td>\n",
       "      <td>USC00044303</td>\n",
       "      <td>IRVINE RCH</td>\n",
       "      <td>CA</td>\n",
       "      <td>33.7200</td>\n",
       "      <td>-117.7231</td>\n",
       "      <td>3.511917</td>\n",
       "    </tr>\n",
       "    <tr>\n",
       "      <th>3</th>\n",
       "      <td>4013.0</td>\n",
       "      <td>Maricopa</td>\n",
       "      <td>Arizona</td>\n",
       "      <td>US1AZMR0170</td>\n",
       "      <td>GOODYEAR 5.9 WSW</td>\n",
       "      <td>AZ</td>\n",
       "      <td>33.4066</td>\n",
       "      <td>-112.4485</td>\n",
       "      <td>4.140580</td>\n",
       "    </tr>\n",
       "    <tr>\n",
       "      <th>4</th>\n",
       "      <td>6037.0</td>\n",
       "      <td>Los Angeles</td>\n",
       "      <td>California</td>\n",
       "      <td>US1CALA0001</td>\n",
       "      <td>GLENDALE 2.4 WSW</td>\n",
       "      <td>CA</td>\n",
       "      <td>34.1689</td>\n",
       "      <td>-118.2947</td>\n",
       "      <td>2.149035</td>\n",
       "    </tr>\n",
       "  </tbody>\n",
       "</table>\n",
       "</div>"
      ],
      "text/plain": [
       "      fips       county state_gazeeter   station_id  \\\n",
       "0  53061.0    Snohomish     Washington  US1WASN0091   \n",
       "1  17031.0         Cook       Illinois  US1ILCK0074   \n",
       "2   6059.0       Orange     California  USC00044303   \n",
       "3   4013.0     Maricopa        Arizona  US1AZMR0170   \n",
       "4   6037.0  Los Angeles     California  US1CALA0001   \n",
       "\n",
       "                                   station_name state_station  \\\n",
       "0  LAKE STEVENS 3.2 N                                      WA   \n",
       "1  OAK PARK 1.3 NNE                                        IL   \n",
       "2  IRVINE RCH                                              CA   \n",
       "3  GOODYEAR 5.9 WSW                                        AZ   \n",
       "4  GLENDALE 2.4 WSW                                        CA   \n",
       "\n",
       "   latitude_station  longitude_station   distance  \n",
       "0           48.0637          -122.0575  10.878616  \n",
       "1           41.9062           -87.7819   5.684991  \n",
       "2           33.7200          -117.7231   3.511917  \n",
       "3           33.4066          -112.4485   4.140580  \n",
       "4           34.1689          -118.2947   2.149035  "
      ]
     },
     "execution_count": 5,
     "metadata": {},
     "output_type": "execute_result"
    }
   ],
   "source": [
    "#titi = toto.groupby(level=0).apply(lambda toto: toto.xs(toto.name).to_dict()).to_dict()\n",
    "# convert multiindex dataframe to dict\n",
    "\n",
    "# all level 0 index values (i.e. weather elements)\n",
    "l_weather_elements = toto.index.levels[0]\n",
    "print(l_weather_elements)\n",
    "# slice dataframe along elements and make put into dict\n",
    "\n",
    "titi= { elem : toto.xs(elem) for elem in l_weather_elements }\n",
    "titi[\"PRCP\"].head()\n"
   ]
  },
  {
   "cell_type": "code",
   "execution_count": 6,
   "metadata": {},
   "outputs": [
    {
     "name": "stdout",
     "output_type": "stream",
     "text": [
      "PRCP 3270\n",
      "SNOW 3270\n",
      "SNWD 3270\n",
      "TAVG 3270\n",
      "TMAX 3270\n",
      "TMIN 3270\n"
     ]
    }
   ],
   "source": [
    "for elem, lst in titi.items():\n",
    "    print(elem, len(lst))"
   ]
  },
  {
   "cell_type": "code",
   "execution_count": 7,
   "metadata": {},
   "outputs": [],
   "source": [
    "dfmi_closest_stations = toto\n",
    "closest_stations_allinfo = titi"
   ]
  },
  {
   "cell_type": "markdown",
   "metadata": {},
   "source": [
    "# Outlier analysis functions"
   ]
  },
  {
   "cell_type": "code",
   "execution_count": 230,
   "metadata": {},
   "outputs": [],
   "source": [
    "dfmi_closest_stations[\"state_pair\"] = list(zip(dfmi_closest_stations[\"state_gazeeter\"], dfmi_closest_stations[\"state_station\"]))"
   ]
  },
  {
   "cell_type": "code",
   "execution_count": 231,
   "metadata": {},
   "outputs": [],
   "source": [
    "class outlier_identification:\n",
    "    def __init__(self, df, element, distance_threshold = 100, bins = 100):\n",
    "        # keep only rows for element\n",
    "        self.df_elem = df.loc[element]\n",
    "        display(self.df_elem.loc[:, \"distance\"].describe())\n",
    "        # stations too far from location\n",
    "        self.faraway_stations = self.df_elem[  self.df_elem.loc[:,\"distance\"]>distance_threshold ] \n",
    "        print(self.faraway_stations.shape)\n",
    "        self.faraway_stations[\"distance\"].hist(bins = bins)\n",
    "    #    plt.show()\n",
    "        display( self.faraway_stations[[ \"state_gazeeter\", \"state_station\"]].value_counts().to_frame(\"counts\").reset_index())\n",
    "\n",
    "        self.group_outliers = self.faraway_stations[ [\"state_gazeeter\", \"state_station\", \"distance\"] ]\\\n",
    "            .groupby([\"state_gazeeter\", \"state_station\"])\\\n",
    "            .agg( {\"distance\" : [np.mean, np.median, min, max, len]} )\\\n",
    "            .reset_index()\n",
    "     ##.sort_values((\"distance\", \"len\"), axis = 1)\\\n",
    "        #display(group_outliers.columns)\n",
    "        self.group_outliers.sort_values([(\"distance\", \"len\")], inplace = True, ascending = False)\n",
    "        display(self.group_outliers)\n",
    "        self.outlier_state_pairs = list(zip( self.group_outliers[\"state_gazeeter\"],  self.group_outliers[\"state_station\"] ))\n",
    "    \n",
    "    "
   ]
  },
  {
   "cell_type": "markdown",
   "metadata": {},
   "source": [
    "# Set outliers to NaN"
   ]
  },
  {
   "cell_type": "markdown",
   "metadata": {},
   "source": [
    "## SNOW"
   ]
  },
  {
   "cell_type": "code",
   "execution_count": 201,
   "metadata": {},
   "outputs": [
    {
     "data": {
      "text/plain": [
       "count    3270.000000\n",
       "mean       39.104982\n",
       "std       167.015503\n",
       "min         0.034007\n",
       "25%         4.992082\n",
       "50%        10.530078\n",
       "75%        18.543485\n",
       "max      2989.364868\n",
       "Name: distance, dtype: float64"
      ]
     },
     "metadata": {},
     "output_type": "display_data"
    },
    {
     "name": "stdout",
     "output_type": "stream",
     "text": [
      "(99, 10)\n"
     ]
    },
    {
     "data": {
      "text/html": [
       "<div>\n",
       "<style scoped>\n",
       "    .dataframe tbody tr th:only-of-type {\n",
       "        vertical-align: middle;\n",
       "    }\n",
       "\n",
       "    .dataframe tbody tr th {\n",
       "        vertical-align: top;\n",
       "    }\n",
       "\n",
       "    .dataframe thead th {\n",
       "        text-align: right;\n",
       "    }\n",
       "</style>\n",
       "<table border=\"1\" class=\"dataframe\">\n",
       "  <thead>\n",
       "    <tr style=\"text-align: right;\">\n",
       "      <th></th>\n",
       "      <th>state_gazeeter</th>\n",
       "      <th>state_station</th>\n",
       "      <th>counts</th>\n",
       "    </tr>\n",
       "  </thead>\n",
       "  <tbody>\n",
       "    <tr>\n",
       "      <th>0</th>\n",
       "      <td>Puerto Rico</td>\n",
       "      <td>FL</td>\n",
       "      <td>78</td>\n",
       "    </tr>\n",
       "    <tr>\n",
       "      <th>1</th>\n",
       "      <td>Alaska</td>\n",
       "      <td>AK</td>\n",
       "      <td>10</td>\n",
       "    </tr>\n",
       "    <tr>\n",
       "      <th>2</th>\n",
       "      <td>Virgin Islands</td>\n",
       "      <td>FL</td>\n",
       "      <td>3</td>\n",
       "    </tr>\n",
       "    <tr>\n",
       "      <th>3</th>\n",
       "      <td>Hawaii</td>\n",
       "      <td>CA</td>\n",
       "      <td>3</td>\n",
       "    </tr>\n",
       "    <tr>\n",
       "      <th>4</th>\n",
       "      <td>Hawaii</td>\n",
       "      <td>AK</td>\n",
       "      <td>3</td>\n",
       "    </tr>\n",
       "    <tr>\n",
       "      <th>5</th>\n",
       "      <td>Northern Mariana Islands</td>\n",
       "      <td>AK</td>\n",
       "      <td>2</td>\n",
       "    </tr>\n",
       "  </tbody>\n",
       "</table>\n",
       "</div>"
      ],
      "text/plain": [
       "             state_gazeeter state_station  counts\n",
       "0               Puerto Rico            FL      78\n",
       "1                    Alaska            AK      10\n",
       "2            Virgin Islands            FL       3\n",
       "3                    Hawaii            CA       3\n",
       "4                    Hawaii            AK       3\n",
       "5  Northern Mariana Islands            AK       2"
      ]
     },
     "metadata": {},
     "output_type": "display_data"
    },
    {
     "data": {
      "text/html": [
       "<div>\n",
       "<style scoped>\n",
       "    .dataframe tbody tr th:only-of-type {\n",
       "        vertical-align: middle;\n",
       "    }\n",
       "\n",
       "    .dataframe tbody tr th {\n",
       "        vertical-align: top;\n",
       "    }\n",
       "\n",
       "    .dataframe thead tr th {\n",
       "        text-align: left;\n",
       "    }\n",
       "</style>\n",
       "<table border=\"1\" class=\"dataframe\">\n",
       "  <thead>\n",
       "    <tr>\n",
       "      <th></th>\n",
       "      <th>state_gazeeter</th>\n",
       "      <th>state_station</th>\n",
       "      <th colspan=\"5\" halign=\"left\">distance</th>\n",
       "    </tr>\n",
       "    <tr>\n",
       "      <th></th>\n",
       "      <th></th>\n",
       "      <th></th>\n",
       "      <th>mean</th>\n",
       "      <th>median</th>\n",
       "      <th>min</th>\n",
       "      <th>max</th>\n",
       "      <th>len</th>\n",
       "    </tr>\n",
       "  </thead>\n",
       "  <tbody>\n",
       "    <tr>\n",
       "      <th>4</th>\n",
       "      <td>Puerto Rico</td>\n",
       "      <td>FL</td>\n",
       "      <td>829.760633</td>\n",
       "      <td>832.233799</td>\n",
       "      <td>770.309777</td>\n",
       "      <td>876.599394</td>\n",
       "      <td>78.0</td>\n",
       "    </tr>\n",
       "    <tr>\n",
       "      <th>0</th>\n",
       "      <td>Alaska</td>\n",
       "      <td>AK</td>\n",
       "      <td>209.624911</td>\n",
       "      <td>164.496379</td>\n",
       "      <td>110.477210</td>\n",
       "      <td>516.924429</td>\n",
       "      <td>10.0</td>\n",
       "    </tr>\n",
       "    <tr>\n",
       "      <th>1</th>\n",
       "      <td>Hawaii</td>\n",
       "      <td>AK</td>\n",
       "      <td>1831.544835</td>\n",
       "      <td>1837.397653</td>\n",
       "      <td>1795.907377</td>\n",
       "      <td>1861.329474</td>\n",
       "      <td>3.0</td>\n",
       "    </tr>\n",
       "    <tr>\n",
       "      <th>2</th>\n",
       "      <td>Hawaii</td>\n",
       "      <td>CA</td>\n",
       "      <td>1884.524023</td>\n",
       "      <td>1883.043157</td>\n",
       "      <td>1880.790043</td>\n",
       "      <td>1889.738869</td>\n",
       "      <td>3.0</td>\n",
       "    </tr>\n",
       "    <tr>\n",
       "      <th>5</th>\n",
       "      <td>Virgin Islands</td>\n",
       "      <td>FL</td>\n",
       "      <td>903.117387</td>\n",
       "      <td>899.124199</td>\n",
       "      <td>892.708535</td>\n",
       "      <td>917.519426</td>\n",
       "      <td>3.0</td>\n",
       "    </tr>\n",
       "    <tr>\n",
       "      <th>3</th>\n",
       "      <td>Northern Mariana Islands</td>\n",
       "      <td>AK</td>\n",
       "      <td>2981.368260</td>\n",
       "      <td>2981.368260</td>\n",
       "      <td>2973.371651</td>\n",
       "      <td>2989.364868</td>\n",
       "      <td>2.0</td>\n",
       "    </tr>\n",
       "  </tbody>\n",
       "</table>\n",
       "</div>"
      ],
      "text/plain": [
       "             state_gazeeter state_station     distance               \\\n",
       "                                                  mean       median   \n",
       "4               Puerto Rico            FL   829.760633   832.233799   \n",
       "0                    Alaska            AK   209.624911   164.496379   \n",
       "1                    Hawaii            AK  1831.544835  1837.397653   \n",
       "2                    Hawaii            CA  1884.524023  1883.043157   \n",
       "5            Virgin Islands            FL   903.117387   899.124199   \n",
       "3  Northern Mariana Islands            AK  2981.368260  2981.368260   \n",
       "\n",
       "                                   \n",
       "           min          max   len  \n",
       "4   770.309777   876.599394  78.0  \n",
       "0   110.477210   516.924429  10.0  \n",
       "1  1795.907377  1861.329474   3.0  \n",
       "2  1880.790043  1889.738869   3.0  \n",
       "5   892.708535   917.519426   3.0  \n",
       "3  2973.371651  2989.364868   2.0  "
      ]
     },
     "metadata": {},
     "output_type": "display_data"
    },
    {
     "data": {
      "image/png": "[encoded data removed]",
      "text/plain": [
       "<Figure size 432x288 with 1 Axes>"
      ]
     },
     "metadata": {
      "needs_background": "light"
     },
     "output_type": "display_data"
    }
   ],
   "source": [
    "outliers_snow = outlier_identification(dfmi_closest_stations, \"SNOW\")"
   ]
  },
  {
   "cell_type": "code",
   "execution_count": 202,
   "metadata": {},
   "outputs": [
    {
     "data": {
      "text/plain": [
       "[('Puerto Rico', 'FL'),\n",
       " ('Alaska', 'AK'),\n",
       " ('Hawaii', 'AK'),\n",
       " ('Hawaii', 'CA'),\n",
       " ('Virgin Islands', 'FL'),\n",
       " ('Northern Mariana Islands', 'AK')]"
      ]
     },
     "execution_count": 202,
     "metadata": {},
     "output_type": "execute_result"
    }
   ],
   "source": [
    "outliers_snow.outlier_state_pairs"
   ]
  },
  {
   "cell_type": "code",
   "execution_count": 203,
   "metadata": {},
   "outputs": [
    {
     "data": {
      "text/html": [
       "<div>\n",
       "<style scoped>\n",
       "    .dataframe tbody tr th:only-of-type {\n",
       "        vertical-align: middle;\n",
       "    }\n",
       "\n",
       "    .dataframe tbody tr th {\n",
       "        vertical-align: top;\n",
       "    }\n",
       "\n",
       "    .dataframe thead tr th {\n",
       "        text-align: left;\n",
       "    }\n",
       "</style>\n",
       "<table border=\"1\" class=\"dataframe\">\n",
       "  <thead>\n",
       "    <tr>\n",
       "      <th></th>\n",
       "      <th>state_gazeeter</th>\n",
       "      <th>state_station</th>\n",
       "      <th colspan=\"5\" halign=\"left\">distance</th>\n",
       "    </tr>\n",
       "    <tr>\n",
       "      <th></th>\n",
       "      <th></th>\n",
       "      <th></th>\n",
       "      <th>mean</th>\n",
       "      <th>median</th>\n",
       "      <th>min</th>\n",
       "      <th>max</th>\n",
       "      <th>len</th>\n",
       "    </tr>\n",
       "  </thead>\n",
       "  <tbody>\n",
       "    <tr>\n",
       "      <th>4</th>\n",
       "      <td>Puerto Rico</td>\n",
       "      <td>FL</td>\n",
       "      <td>829.760633</td>\n",
       "      <td>832.233799</td>\n",
       "      <td>770.309777</td>\n",
       "      <td>876.599394</td>\n",
       "      <td>78.0</td>\n",
       "    </tr>\n",
       "    <tr>\n",
       "      <th>0</th>\n",
       "      <td>Alaska</td>\n",
       "      <td>AK</td>\n",
       "      <td>209.624911</td>\n",
       "      <td>164.496379</td>\n",
       "      <td>110.477210</td>\n",
       "      <td>516.924429</td>\n",
       "      <td>10.0</td>\n",
       "    </tr>\n",
       "    <tr>\n",
       "      <th>1</th>\n",
       "      <td>Hawaii</td>\n",
       "      <td>AK</td>\n",
       "      <td>1831.544835</td>\n",
       "      <td>1837.397653</td>\n",
       "      <td>1795.907377</td>\n",
       "      <td>1861.329474</td>\n",
       "      <td>3.0</td>\n",
       "    </tr>\n",
       "    <tr>\n",
       "      <th>2</th>\n",
       "      <td>Hawaii</td>\n",
       "      <td>CA</td>\n",
       "      <td>1884.524023</td>\n",
       "      <td>1883.043157</td>\n",
       "      <td>1880.790043</td>\n",
       "      <td>1889.738869</td>\n",
       "      <td>3.0</td>\n",
       "    </tr>\n",
       "    <tr>\n",
       "      <th>5</th>\n",
       "      <td>Virgin Islands</td>\n",
       "      <td>FL</td>\n",
       "      <td>903.117387</td>\n",
       "      <td>899.124199</td>\n",
       "      <td>892.708535</td>\n",
       "      <td>917.519426</td>\n",
       "      <td>3.0</td>\n",
       "    </tr>\n",
       "    <tr>\n",
       "      <th>3</th>\n",
       "      <td>Northern Mariana Islands</td>\n",
       "      <td>AK</td>\n",
       "      <td>2981.368260</td>\n",
       "      <td>2981.368260</td>\n",
       "      <td>2973.371651</td>\n",
       "      <td>2989.364868</td>\n",
       "      <td>2.0</td>\n",
       "    </tr>\n",
       "  </tbody>\n",
       "</table>\n",
       "</div>"
      ],
      "text/plain": [
       "             state_gazeeter state_station     distance               \\\n",
       "                                                  mean       median   \n",
       "4               Puerto Rico            FL   829.760633   832.233799   \n",
       "0                    Alaska            AK   209.624911   164.496379   \n",
       "1                    Hawaii            AK  1831.544835  1837.397653   \n",
       "2                    Hawaii            CA  1884.524023  1883.043157   \n",
       "5            Virgin Islands            FL   903.117387   899.124199   \n",
       "3  Northern Mariana Islands            AK  2981.368260  2981.368260   \n",
       "\n",
       "                                   \n",
       "           min          max   len  \n",
       "4   770.309777   876.599394  78.0  \n",
       "0   110.477210   516.924429  10.0  \n",
       "1  1795.907377  1861.329474   3.0  \n",
       "2  1880.790043  1889.738869   3.0  \n",
       "5   892.708535   917.519426   3.0  \n",
       "3  2973.371651  2989.364868   2.0  "
      ]
     },
     "execution_count": 203,
     "metadata": {},
     "output_type": "execute_result"
    }
   ],
   "source": [
    "outliers_snow.group_outliers"
   ]
  },
  {
   "cell_type": "code",
   "execution_count": 221,
   "metadata": {},
   "outputs": [
    {
     "data": {
      "text/plain": [
       "[('Puerto Rico', 'FL'),\n",
       " ('Hawaii', 'AK'),\n",
       " ('Hawaii', 'CA'),\n",
       " ('Virgin Islands', 'FL'),\n",
       " ('Northern Mariana Islands', 'AK')]"
      ]
     },
     "execution_count": 221,
     "metadata": {},
     "output_type": "execute_result"
    }
   ],
   "source": [
    "l_pairs = outliers_snow.outlier_state_pairs[:]\n",
    "del(l_pairs[1])\n",
    "l_pairs"
   ]
  },
  {
   "cell_type": "code",
   "execution_count": 224,
   "metadata": {},
   "outputs": [
    {
     "data": {
      "text/plain": [
       "{'SNOW', 'SNWD', 'TAVG'}"
      ]
     },
     "execution_count": 224,
     "metadata": {},
     "output_type": "execute_result"
    }
   ],
   "source": [
    "# rows to set to nan : states from station and location are to far apart\n",
    "rows_to_null =  dfmi_closest_stations[\"state_pair\"].isin(l_pairs)\n",
    "set( dfmi_closest_stations.loc[rows_to_null].index.get_level_values(0))\n",
    "#set(rows_to_null)"
   ]
  },
  {
   "cell_type": "code",
   "execution_count": 226,
   "metadata": {},
   "outputs": [],
   "source": [
    "l_station_cols = [\"station_id\", \"station_name\", \"state_station\", \"latitude_station\", \"longitude_station\",\"distance\", \"state_pair\"]\n",
    "dfmi_closest_stations.loc[ rows_to_null, l_station_cols] = np.nan"
   ]
  },
  {
   "cell_type": "code",
   "execution_count": 229,
   "metadata": {},
   "outputs": [
    {
     "data": {
      "text/html": [
       "<div>\n",
       "<style scoped>\n",
       "    .dataframe tbody tr th:only-of-type {\n",
       "        vertical-align: middle;\n",
       "    }\n",
       "\n",
       "    .dataframe tbody tr th {\n",
       "        vertical-align: top;\n",
       "    }\n",
       "\n",
       "    .dataframe thead th {\n",
       "        text-align: right;\n",
       "    }\n",
       "</style>\n",
       "<table border=\"1\" class=\"dataframe\">\n",
       "  <thead>\n",
       "    <tr style=\"text-align: right;\">\n",
       "      <th></th>\n",
       "      <th></th>\n",
       "      <th>fips</th>\n",
       "      <th>county</th>\n",
       "      <th>state_gazeeter</th>\n",
       "      <th>station_id</th>\n",
       "      <th>station_name</th>\n",
       "      <th>state_station</th>\n",
       "      <th>latitude_station</th>\n",
       "      <th>longitude_station</th>\n",
       "      <th>distance</th>\n",
       "      <th>state_pair</th>\n",
       "    </tr>\n",
       "  </thead>\n",
       "  <tbody>\n",
       "    <tr>\n",
       "      <th rowspan=\"5\" valign=\"top\">SNOW</th>\n",
       "      <th>10</th>\n",
       "      <td>15009.0</td>\n",
       "      <td>Maui</td>\n",
       "      <td>Hawaii</td>\n",
       "      <td>NaN</td>\n",
       "      <td>NaN</td>\n",
       "      <td>NaN</td>\n",
       "      <td>NaN</td>\n",
       "      <td>NaN</td>\n",
       "      <td>NaN</td>\n",
       "      <td>NaN</td>\n",
       "    </tr>\n",
       "    <tr>\n",
       "      <th>11</th>\n",
       "      <td>15001.0</td>\n",
       "      <td>Hawaii</td>\n",
       "      <td>Hawaii</td>\n",
       "      <td>NaN</td>\n",
       "      <td>NaN</td>\n",
       "      <td>NaN</td>\n",
       "      <td>NaN</td>\n",
       "      <td>NaN</td>\n",
       "      <td>NaN</td>\n",
       "      <td>NaN</td>\n",
       "    </tr>\n",
       "    <tr>\n",
       "      <th>12</th>\n",
       "      <td>NaN</td>\n",
       "      <td>Unknown</td>\n",
       "      <td>Hawaii</td>\n",
       "      <td>NaN</td>\n",
       "      <td>NaN</td>\n",
       "      <td>NaN</td>\n",
       "      <td>NaN</td>\n",
       "      <td>NaN</td>\n",
       "      <td>NaN</td>\n",
       "      <td>NaN</td>\n",
       "    </tr>\n",
       "    <tr>\n",
       "      <th>78</th>\n",
       "      <td>15003.0</td>\n",
       "      <td>Honolulu</td>\n",
       "      <td>Hawaii</td>\n",
       "      <td>NaN</td>\n",
       "      <td>NaN</td>\n",
       "      <td>NaN</td>\n",
       "      <td>NaN</td>\n",
       "      <td>NaN</td>\n",
       "      <td>NaN</td>\n",
       "      <td>NaN</td>\n",
       "    </tr>\n",
       "    <tr>\n",
       "      <th>79</th>\n",
       "      <td>15007.0</td>\n",
       "      <td>Kauai</td>\n",
       "      <td>Hawaii</td>\n",
       "      <td>NaN</td>\n",
       "      <td>NaN</td>\n",
       "      <td>NaN</td>\n",
       "      <td>NaN</td>\n",
       "      <td>NaN</td>\n",
       "      <td>NaN</td>\n",
       "      <td>NaN</td>\n",
       "    </tr>\n",
       "    <tr>\n",
       "      <th>...</th>\n",
       "      <th>...</th>\n",
       "      <td>...</td>\n",
       "      <td>...</td>\n",
       "      <td>...</td>\n",
       "      <td>...</td>\n",
       "      <td>...</td>\n",
       "      <td>...</td>\n",
       "      <td>...</td>\n",
       "      <td>...</td>\n",
       "      <td>...</td>\n",
       "      <td>...</td>\n",
       "    </tr>\n",
       "    <tr>\n",
       "      <th rowspan=\"5\" valign=\"top\">TAVG</th>\n",
       "      <th>3164</th>\n",
       "      <td>72141.0</td>\n",
       "      <td>Utuado</td>\n",
       "      <td>Puerto Rico</td>\n",
       "      <td>NaN</td>\n",
       "      <td>NaN</td>\n",
       "      <td>NaN</td>\n",
       "      <td>NaN</td>\n",
       "      <td>NaN</td>\n",
       "      <td>NaN</td>\n",
       "      <td>NaN</td>\n",
       "    </tr>\n",
       "    <tr>\n",
       "      <th>3165</th>\n",
       "      <td>72149.0</td>\n",
       "      <td>Villalba</td>\n",
       "      <td>Puerto Rico</td>\n",
       "      <td>NaN</td>\n",
       "      <td>NaN</td>\n",
       "      <td>NaN</td>\n",
       "      <td>NaN</td>\n",
       "      <td>NaN</td>\n",
       "      <td>NaN</td>\n",
       "      <td>NaN</td>\n",
       "    </tr>\n",
       "    <tr>\n",
       "      <th>3166</th>\n",
       "      <td>72151.0</td>\n",
       "      <td>Yabucoa</td>\n",
       "      <td>Puerto Rico</td>\n",
       "      <td>NaN</td>\n",
       "      <td>NaN</td>\n",
       "      <td>NaN</td>\n",
       "      <td>NaN</td>\n",
       "      <td>NaN</td>\n",
       "      <td>NaN</td>\n",
       "      <td>NaN</td>\n",
       "    </tr>\n",
       "    <tr>\n",
       "      <th>3167</th>\n",
       "      <td>72153.0</td>\n",
       "      <td>Yauco</td>\n",
       "      <td>Puerto Rico</td>\n",
       "      <td>NaN</td>\n",
       "      <td>NaN</td>\n",
       "      <td>NaN</td>\n",
       "      <td>NaN</td>\n",
       "      <td>NaN</td>\n",
       "      <td>NaN</td>\n",
       "      <td>NaN</td>\n",
       "    </tr>\n",
       "    <tr>\n",
       "      <th>3168</th>\n",
       "      <td>72093.0</td>\n",
       "      <td>Maricao</td>\n",
       "      <td>Puerto Rico</td>\n",
       "      <td>NaN</td>\n",
       "      <td>NaN</td>\n",
       "      <td>NaN</td>\n",
       "      <td>NaN</td>\n",
       "      <td>NaN</td>\n",
       "      <td>NaN</td>\n",
       "      <td>NaN</td>\n",
       "    </tr>\n",
       "  </tbody>\n",
       "</table>\n",
       "<p>259 rows × 10 columns</p>\n",
       "</div>"
      ],
      "text/plain": [
       "              fips    county state_gazeeter station_id station_name  \\\n",
       "SNOW 10    15009.0      Maui         Hawaii        NaN          NaN   \n",
       "     11    15001.0    Hawaii         Hawaii        NaN          NaN   \n",
       "     12        NaN   Unknown         Hawaii        NaN          NaN   \n",
       "     78    15003.0  Honolulu         Hawaii        NaN          NaN   \n",
       "     79    15007.0     Kauai         Hawaii        NaN          NaN   \n",
       "...            ...       ...            ...        ...          ...   \n",
       "TAVG 3164  72141.0    Utuado    Puerto Rico        NaN          NaN   \n",
       "     3165  72149.0  Villalba    Puerto Rico        NaN          NaN   \n",
       "     3166  72151.0   Yabucoa    Puerto Rico        NaN          NaN   \n",
       "     3167  72153.0     Yauco    Puerto Rico        NaN          NaN   \n",
       "     3168  72093.0   Maricao    Puerto Rico        NaN          NaN   \n",
       "\n",
       "          state_station  latitude_station  longitude_station  distance  \\\n",
       "SNOW 10             NaN               NaN                NaN       NaN   \n",
       "     11             NaN               NaN                NaN       NaN   \n",
       "     12             NaN               NaN                NaN       NaN   \n",
       "     78             NaN               NaN                NaN       NaN   \n",
       "     79             NaN               NaN                NaN       NaN   \n",
       "...                 ...               ...                ...       ...   \n",
       "TAVG 3164           NaN               NaN                NaN       NaN   \n",
       "     3165           NaN               NaN                NaN       NaN   \n",
       "     3166           NaN               NaN                NaN       NaN   \n",
       "     3167           NaN               NaN                NaN       NaN   \n",
       "     3168           NaN               NaN                NaN       NaN   \n",
       "\n",
       "          state_pair  \n",
       "SNOW 10          NaN  \n",
       "     11          NaN  \n",
       "     12          NaN  \n",
       "     78          NaN  \n",
       "     79          NaN  \n",
       "...              ...  \n",
       "TAVG 3164        NaN  \n",
       "     3165        NaN  \n",
       "     3166        NaN  \n",
       "     3167        NaN  \n",
       "     3168        NaN  \n",
       "\n",
       "[259 rows x 10 columns]"
      ]
     },
     "execution_count": 229,
     "metadata": {},
     "output_type": "execute_result"
    }
   ],
   "source": [
    "dfmi_closest_stations.loc[ dfmi_closest_stations[\"station_name\"].isna()]"
   ]
  },
  {
   "cell_type": "markdown",
   "metadata": {},
   "source": [
    "## Snow depth"
   ]
  },
  {
   "cell_type": "code",
   "execution_count": 232,
   "metadata": {},
   "outputs": [
    {
     "data": {
      "text/plain": [
       "count    3181.000000\n",
       "mean       14.226195\n",
       "std        17.131944\n",
       "min         0.034007\n",
       "25%         4.998664\n",
       "50%        10.376882\n",
       "75%        18.050596\n",
       "max       516.924429\n",
       "Name: distance, dtype: float64"
      ]
     },
     "metadata": {},
     "output_type": "display_data"
    },
    {
     "name": "stdout",
     "output_type": "stream",
     "text": [
      "(17, 10)\n"
     ]
    },
    {
     "data": {
      "text/html": [
       "<div>\n",
       "<style scoped>\n",
       "    .dataframe tbody tr th:only-of-type {\n",
       "        vertical-align: middle;\n",
       "    }\n",
       "\n",
       "    .dataframe tbody tr th {\n",
       "        vertical-align: top;\n",
       "    }\n",
       "\n",
       "    .dataframe thead th {\n",
       "        text-align: right;\n",
       "    }\n",
       "</style>\n",
       "<table border=\"1\" class=\"dataframe\">\n",
       "  <thead>\n",
       "    <tr style=\"text-align: right;\">\n",
       "      <th></th>\n",
       "      <th>state_gazeeter</th>\n",
       "      <th>state_station</th>\n",
       "      <th>counts</th>\n",
       "    </tr>\n",
       "  </thead>\n",
       "  <tbody>\n",
       "    <tr>\n",
       "      <th>0</th>\n",
       "      <td>Louisiana</td>\n",
       "      <td>MS</td>\n",
       "      <td>6</td>\n",
       "    </tr>\n",
       "    <tr>\n",
       "      <th>1</th>\n",
       "      <td>Alaska</td>\n",
       "      <td>AK</td>\n",
       "      <td>5</td>\n",
       "    </tr>\n",
       "    <tr>\n",
       "      <th>2</th>\n",
       "      <td>Louisiana</td>\n",
       "      <td>LA</td>\n",
       "      <td>3</td>\n",
       "    </tr>\n",
       "    <tr>\n",
       "      <th>3</th>\n",
       "      <td>Louisiana</td>\n",
       "      <td>TX</td>\n",
       "      <td>1</td>\n",
       "    </tr>\n",
       "    <tr>\n",
       "      <th>4</th>\n",
       "      <td>Louisiana</td>\n",
       "      <td>AL</td>\n",
       "      <td>1</td>\n",
       "    </tr>\n",
       "    <tr>\n",
       "      <th>5</th>\n",
       "      <td>Arizona</td>\n",
       "      <td>NM</td>\n",
       "      <td>1</td>\n",
       "    </tr>\n",
       "  </tbody>\n",
       "</table>\n",
       "</div>"
      ],
      "text/plain": [
       "  state_gazeeter state_station  counts\n",
       "0      Louisiana            MS       6\n",
       "1         Alaska            AK       5\n",
       "2      Louisiana            LA       3\n",
       "3      Louisiana            TX       1\n",
       "4      Louisiana            AL       1\n",
       "5        Arizona            NM       1"
      ]
     },
     "metadata": {},
     "output_type": "display_data"
    },
    {
     "data": {
      "text/html": [
       "<div>\n",
       "<style scoped>\n",
       "    .dataframe tbody tr th:only-of-type {\n",
       "        vertical-align: middle;\n",
       "    }\n",
       "\n",
       "    .dataframe tbody tr th {\n",
       "        vertical-align: top;\n",
       "    }\n",
       "\n",
       "    .dataframe thead tr th {\n",
       "        text-align: left;\n",
       "    }\n",
       "</style>\n",
       "<table border=\"1\" class=\"dataframe\">\n",
       "  <thead>\n",
       "    <tr>\n",
       "      <th></th>\n",
       "      <th>state_gazeeter</th>\n",
       "      <th>state_station</th>\n",
       "      <th colspan=\"5\" halign=\"left\">distance</th>\n",
       "    </tr>\n",
       "    <tr>\n",
       "      <th></th>\n",
       "      <th></th>\n",
       "      <th></th>\n",
       "      <th>mean</th>\n",
       "      <th>median</th>\n",
       "      <th>min</th>\n",
       "      <th>max</th>\n",
       "      <th>len</th>\n",
       "    </tr>\n",
       "  </thead>\n",
       "  <tbody>\n",
       "    <tr>\n",
       "      <th>4</th>\n",
       "      <td>Louisiana</td>\n",
       "      <td>MS</td>\n",
       "      <td>114.113100</td>\n",
       "      <td>114.552729</td>\n",
       "      <td>101.566469</td>\n",
       "      <td>132.492836</td>\n",
       "      <td>6.0</td>\n",
       "    </tr>\n",
       "    <tr>\n",
       "      <th>0</th>\n",
       "      <td>Alaska</td>\n",
       "      <td>AK</td>\n",
       "      <td>218.281931</td>\n",
       "      <td>164.415750</td>\n",
       "      <td>116.011491</td>\n",
       "      <td>516.924429</td>\n",
       "      <td>5.0</td>\n",
       "    </tr>\n",
       "    <tr>\n",
       "      <th>3</th>\n",
       "      <td>Louisiana</td>\n",
       "      <td>LA</td>\n",
       "      <td>116.917235</td>\n",
       "      <td>111.379446</td>\n",
       "      <td>105.704223</td>\n",
       "      <td>133.668037</td>\n",
       "      <td>3.0</td>\n",
       "    </tr>\n",
       "    <tr>\n",
       "      <th>1</th>\n",
       "      <td>Arizona</td>\n",
       "      <td>NM</td>\n",
       "      <td>110.344557</td>\n",
       "      <td>110.344557</td>\n",
       "      <td>110.344557</td>\n",
       "      <td>110.344557</td>\n",
       "      <td>1.0</td>\n",
       "    </tr>\n",
       "    <tr>\n",
       "      <th>2</th>\n",
       "      <td>Louisiana</td>\n",
       "      <td>AL</td>\n",
       "      <td>100.863886</td>\n",
       "      <td>100.863886</td>\n",
       "      <td>100.863886</td>\n",
       "      <td>100.863886</td>\n",
       "      <td>1.0</td>\n",
       "    </tr>\n",
       "    <tr>\n",
       "      <th>5</th>\n",
       "      <td>Louisiana</td>\n",
       "      <td>TX</td>\n",
       "      <td>118.111571</td>\n",
       "      <td>118.111571</td>\n",
       "      <td>118.111571</td>\n",
       "      <td>118.111571</td>\n",
       "      <td>1.0</td>\n",
       "    </tr>\n",
       "  </tbody>\n",
       "</table>\n",
       "</div>"
      ],
      "text/plain": [
       "  state_gazeeter state_station    distance                          \\\n",
       "                                      mean      median         min   \n",
       "4      Louisiana            MS  114.113100  114.552729  101.566469   \n",
       "0         Alaska            AK  218.281931  164.415750  116.011491   \n",
       "3      Louisiana            LA  116.917235  111.379446  105.704223   \n",
       "1        Arizona            NM  110.344557  110.344557  110.344557   \n",
       "2      Louisiana            AL  100.863886  100.863886  100.863886   \n",
       "5      Louisiana            TX  118.111571  118.111571  118.111571   \n",
       "\n",
       "                    \n",
       "          max  len  \n",
       "4  132.492836  6.0  \n",
       "0  516.924429  5.0  \n",
       "3  133.668037  3.0  \n",
       "1  110.344557  1.0  \n",
       "2  100.863886  1.0  \n",
       "5  118.111571  1.0  "
      ]
     },
     "metadata": {},
     "output_type": "display_data"
    },
    {
     "data": {
      "image/png": "[encoded data removed]",
      "text/plain": [
       "<Figure size 432x288 with 1 Axes>"
      ]
     },
     "metadata": {
      "needs_background": "light"
     },
     "output_type": "display_data"
    }
   ],
   "source": [
    "outliers_snw_depth = outlier_identification(dfmi_closest_stations, \"SNWD\")"
   ]
  },
  {
   "cell_type": "markdown",
   "metadata": {},
   "source": [
    "## Average temperature"
   ]
  },
  {
   "cell_type": "code",
   "execution_count": 233,
   "metadata": {},
   "outputs": [
    {
     "data": {
      "text/plain": [
       "count    3189.000000\n",
       "mean       26.619574\n",
       "std        74.227498\n",
       "min         0.285814\n",
       "25%        12.813094\n",
       "50%        21.902693\n",
       "75%        33.498484\n",
       "max      2893.243907\n",
       "Name: distance, dtype: float64"
      ]
     },
     "metadata": {},
     "output_type": "display_data"
    },
    {
     "name": "stdout",
     "output_type": "stream",
     "text": [
      "(4, 10)\n"
     ]
    },
    {
     "data": {
      "text/html": [
       "<div>\n",
       "<style scoped>\n",
       "    .dataframe tbody tr th:only-of-type {\n",
       "        vertical-align: middle;\n",
       "    }\n",
       "\n",
       "    .dataframe tbody tr th {\n",
       "        vertical-align: top;\n",
       "    }\n",
       "\n",
       "    .dataframe thead th {\n",
       "        text-align: right;\n",
       "    }\n",
       "</style>\n",
       "<table border=\"1\" class=\"dataframe\">\n",
       "  <thead>\n",
       "    <tr style=\"text-align: right;\">\n",
       "      <th></th>\n",
       "      <th>state_gazeeter</th>\n",
       "      <th>state_station</th>\n",
       "      <th>counts</th>\n",
       "    </tr>\n",
       "  </thead>\n",
       "  <tbody>\n",
       "    <tr>\n",
       "      <th>0</th>\n",
       "      <td>Northern Mariana Islands</td>\n",
       "      <td>HI</td>\n",
       "      <td>2</td>\n",
       "    </tr>\n",
       "    <tr>\n",
       "      <th>1</th>\n",
       "      <td>Maine</td>\n",
       "      <td>ME</td>\n",
       "      <td>1</td>\n",
       "    </tr>\n",
       "    <tr>\n",
       "      <th>2</th>\n",
       "      <td>Alaska</td>\n",
       "      <td>AK</td>\n",
       "      <td>1</td>\n",
       "    </tr>\n",
       "  </tbody>\n",
       "</table>\n",
       "</div>"
      ],
      "text/plain": [
       "             state_gazeeter state_station  counts\n",
       "0  Northern Mariana Islands            HI       2\n",
       "1                     Maine            ME       1\n",
       "2                    Alaska            AK       1"
      ]
     },
     "metadata": {},
     "output_type": "display_data"
    },
    {
     "data": {
      "text/html": [
       "<div>\n",
       "<style scoped>\n",
       "    .dataframe tbody tr th:only-of-type {\n",
       "        vertical-align: middle;\n",
       "    }\n",
       "\n",
       "    .dataframe tbody tr th {\n",
       "        vertical-align: top;\n",
       "    }\n",
       "\n",
       "    .dataframe thead tr th {\n",
       "        text-align: left;\n",
       "    }\n",
       "</style>\n",
       "<table border=\"1\" class=\"dataframe\">\n",
       "  <thead>\n",
       "    <tr>\n",
       "      <th></th>\n",
       "      <th>state_gazeeter</th>\n",
       "      <th>state_station</th>\n",
       "      <th colspan=\"5\" halign=\"left\">distance</th>\n",
       "    </tr>\n",
       "    <tr>\n",
       "      <th></th>\n",
       "      <th></th>\n",
       "      <th></th>\n",
       "      <th>mean</th>\n",
       "      <th>median</th>\n",
       "      <th>min</th>\n",
       "      <th>max</th>\n",
       "      <th>len</th>\n",
       "    </tr>\n",
       "  </thead>\n",
       "  <tbody>\n",
       "    <tr>\n",
       "      <th>2</th>\n",
       "      <td>Northern Mariana Islands</td>\n",
       "      <td>HI</td>\n",
       "      <td>2888.792954</td>\n",
       "      <td>2888.792954</td>\n",
       "      <td>2884.342001</td>\n",
       "      <td>2893.243907</td>\n",
       "      <td>2.0</td>\n",
       "    </tr>\n",
       "    <tr>\n",
       "      <th>0</th>\n",
       "      <td>Alaska</td>\n",
       "      <td>AK</td>\n",
       "      <td>648.137441</td>\n",
       "      <td>648.137441</td>\n",
       "      <td>648.137441</td>\n",
       "      <td>648.137441</td>\n",
       "      <td>1.0</td>\n",
       "    </tr>\n",
       "    <tr>\n",
       "      <th>1</th>\n",
       "      <td>Maine</td>\n",
       "      <td>ME</td>\n",
       "      <td>102.517756</td>\n",
       "      <td>102.517756</td>\n",
       "      <td>102.517756</td>\n",
       "      <td>102.517756</td>\n",
       "      <td>1.0</td>\n",
       "    </tr>\n",
       "  </tbody>\n",
       "</table>\n",
       "</div>"
      ],
      "text/plain": [
       "             state_gazeeter state_station     distance               \\\n",
       "                                                  mean       median   \n",
       "2  Northern Mariana Islands            HI  2888.792954  2888.792954   \n",
       "0                    Alaska            AK   648.137441   648.137441   \n",
       "1                     Maine            ME   102.517756   102.517756   \n",
       "\n",
       "                                  \n",
       "           min          max  len  \n",
       "2  2884.342001  2893.243907  2.0  \n",
       "0   648.137441   648.137441  1.0  \n",
       "1   102.517756   102.517756  1.0  "
      ]
     },
     "metadata": {},
     "output_type": "display_data"
    },
    {
     "data": {
      "image/png": "[encoded data removed]",
      "text/plain": [
       "<Figure size 432x288 with 1 Axes>"
      ]
     },
     "metadata": {
      "needs_background": "light"
     },
     "output_type": "display_data"
    }
   ],
   "source": [
    "outliers_avg_temp = outlier_identification(dfmi_closest_stations, \n",
    "                                           \"TAVG\" )"
   ]
  },
  {
   "cell_type": "markdown",
   "metadata": {},
   "source": [
    "## Min temperature"
   ]
  },
  {
   "cell_type": "code",
   "execution_count": 234,
   "metadata": {},
   "outputs": [
    {
     "data": {
      "text/plain": [
       "count    3270.000000\n",
       "mean        9.358852\n",
       "std        10.506962\n",
       "min         0.034007\n",
       "25%         3.924430\n",
       "50%         7.599904\n",
       "75%        13.095829\n",
       "max       467.782916\n",
       "Name: distance, dtype: float64"
      ]
     },
     "metadata": {},
     "output_type": "display_data"
    },
    {
     "name": "stdout",
     "output_type": "stream",
     "text": [
      "(1, 10)\n"
     ]
    },
    {
     "data": {
      "text/html": [
       "<div>\n",
       "<style scoped>\n",
       "    .dataframe tbody tr th:only-of-type {\n",
       "        vertical-align: middle;\n",
       "    }\n",
       "\n",
       "    .dataframe tbody tr th {\n",
       "        vertical-align: top;\n",
       "    }\n",
       "\n",
       "    .dataframe thead th {\n",
       "        text-align: right;\n",
       "    }\n",
       "</style>\n",
       "<table border=\"1\" class=\"dataframe\">\n",
       "  <thead>\n",
       "    <tr style=\"text-align: right;\">\n",
       "      <th></th>\n",
       "      <th>state_gazeeter</th>\n",
       "      <th>state_station</th>\n",
       "      <th>counts</th>\n",
       "    </tr>\n",
       "  </thead>\n",
       "  <tbody>\n",
       "    <tr>\n",
       "      <th>0</th>\n",
       "      <td>Alaska</td>\n",
       "      <td>AK</td>\n",
       "      <td>1</td>\n",
       "    </tr>\n",
       "  </tbody>\n",
       "</table>\n",
       "</div>"
      ],
      "text/plain": [
       "  state_gazeeter state_station  counts\n",
       "0         Alaska            AK       1"
      ]
     },
     "metadata": {},
     "output_type": "display_data"
    },
    {
     "data": {
      "text/html": [
       "<div>\n",
       "<style scoped>\n",
       "    .dataframe tbody tr th:only-of-type {\n",
       "        vertical-align: middle;\n",
       "    }\n",
       "\n",
       "    .dataframe tbody tr th {\n",
       "        vertical-align: top;\n",
       "    }\n",
       "\n",
       "    .dataframe thead tr th {\n",
       "        text-align: left;\n",
       "    }\n",
       "</style>\n",
       "<table border=\"1\" class=\"dataframe\">\n",
       "  <thead>\n",
       "    <tr>\n",
       "      <th></th>\n",
       "      <th>state_gazeeter</th>\n",
       "      <th>state_station</th>\n",
       "      <th colspan=\"5\" halign=\"left\">distance</th>\n",
       "    </tr>\n",
       "    <tr>\n",
       "      <th></th>\n",
       "      <th></th>\n",
       "      <th></th>\n",
       "      <th>mean</th>\n",
       "      <th>median</th>\n",
       "      <th>min</th>\n",
       "      <th>max</th>\n",
       "      <th>len</th>\n",
       "    </tr>\n",
       "  </thead>\n",
       "  <tbody>\n",
       "    <tr>\n",
       "      <th>0</th>\n",
       "      <td>Alaska</td>\n",
       "      <td>AK</td>\n",
       "      <td>467.782916</td>\n",
       "      <td>467.782916</td>\n",
       "      <td>467.782916</td>\n",
       "      <td>467.782916</td>\n",
       "      <td>1.0</td>\n",
       "    </tr>\n",
       "  </tbody>\n",
       "</table>\n",
       "</div>"
      ],
      "text/plain": [
       "  state_gazeeter state_station    distance                          \\\n",
       "                                      mean      median         min   \n",
       "0         Alaska            AK  467.782916  467.782916  467.782916   \n",
       "\n",
       "                    \n",
       "          max  len  \n",
       "0  467.782916  1.0  "
      ]
     },
     "metadata": {},
     "output_type": "display_data"
    },
    {
     "data": {
      "text/plain": [
       "<__main__.outlier_identification at 0x7fa07f24c350>"
      ]
     },
     "execution_count": 234,
     "metadata": {},
     "output_type": "execute_result"
    },
    {
     "data": {
      "image/png": "[encoded data removed]",
      "text/plain": [
       "<Figure size 432x288 with 1 Axes>"
      ]
     },
     "metadata": {
      "needs_background": "light"
     },
     "output_type": "display_data"
    }
   ],
   "source": [
    "outlier_identification( dfmi_closest_stations, \"TMIN\")"
   ]
  },
  {
   "cell_type": "markdown",
   "metadata": {},
   "source": [
    "## Max temperature"
   ]
  },
  {
   "cell_type": "code",
   "execution_count": 235,
   "metadata": {},
   "outputs": [
    {
     "data": {
      "text/plain": [
       "count    3270.000000\n",
       "mean        9.316884\n",
       "std        10.501826\n",
       "min         0.034007\n",
       "25%         3.889294\n",
       "50%         7.491808\n",
       "75%        13.014458\n",
       "max       467.782916\n",
       "Name: distance, dtype: float64"
      ]
     },
     "metadata": {},
     "output_type": "display_data"
    },
    {
     "name": "stdout",
     "output_type": "stream",
     "text": [
      "(1, 10)\n"
     ]
    },
    {
     "data": {
      "text/html": [
       "<div>\n",
       "<style scoped>\n",
       "    .dataframe tbody tr th:only-of-type {\n",
       "        vertical-align: middle;\n",
       "    }\n",
       "\n",
       "    .dataframe tbody tr th {\n",
       "        vertical-align: top;\n",
       "    }\n",
       "\n",
       "    .dataframe thead th {\n",
       "        text-align: right;\n",
       "    }\n",
       "</style>\n",
       "<table border=\"1\" class=\"dataframe\">\n",
       "  <thead>\n",
       "    <tr style=\"text-align: right;\">\n",
       "      <th></th>\n",
       "      <th>state_gazeeter</th>\n",
       "      <th>state_station</th>\n",
       "      <th>counts</th>\n",
       "    </tr>\n",
       "  </thead>\n",
       "  <tbody>\n",
       "    <tr>\n",
       "      <th>0</th>\n",
       "      <td>Alaska</td>\n",
       "      <td>AK</td>\n",
       "      <td>1</td>\n",
       "    </tr>\n",
       "  </tbody>\n",
       "</table>\n",
       "</div>"
      ],
      "text/plain": [
       "  state_gazeeter state_station  counts\n",
       "0         Alaska            AK       1"
      ]
     },
     "metadata": {},
     "output_type": "display_data"
    },
    {
     "data": {
      "text/html": [
       "<div>\n",
       "<style scoped>\n",
       "    .dataframe tbody tr th:only-of-type {\n",
       "        vertical-align: middle;\n",
       "    }\n",
       "\n",
       "    .dataframe tbody tr th {\n",
       "        vertical-align: top;\n",
       "    }\n",
       "\n",
       "    .dataframe thead tr th {\n",
       "        text-align: left;\n",
       "    }\n",
       "</style>\n",
       "<table border=\"1\" class=\"dataframe\">\n",
       "  <thead>\n",
       "    <tr>\n",
       "      <th></th>\n",
       "      <th>state_gazeeter</th>\n",
       "      <th>state_station</th>\n",
       "      <th colspan=\"5\" halign=\"left\">distance</th>\n",
       "    </tr>\n",
       "    <tr>\n",
       "      <th></th>\n",
       "      <th></th>\n",
       "      <th></th>\n",
       "      <th>mean</th>\n",
       "      <th>median</th>\n",
       "      <th>min</th>\n",
       "      <th>max</th>\n",
       "      <th>len</th>\n",
       "    </tr>\n",
       "  </thead>\n",
       "  <tbody>\n",
       "    <tr>\n",
       "      <th>0</th>\n",
       "      <td>Alaska</td>\n",
       "      <td>AK</td>\n",
       "      <td>467.782916</td>\n",
       "      <td>467.782916</td>\n",
       "      <td>467.782916</td>\n",
       "      <td>467.782916</td>\n",
       "      <td>1.0</td>\n",
       "    </tr>\n",
       "  </tbody>\n",
       "</table>\n",
       "</div>"
      ],
      "text/plain": [
       "  state_gazeeter state_station    distance                          \\\n",
       "                                      mean      median         min   \n",
       "0         Alaska            AK  467.782916  467.782916  467.782916   \n",
       "\n",
       "                    \n",
       "          max  len  \n",
       "0  467.782916  1.0  "
      ]
     },
     "metadata": {},
     "output_type": "display_data"
    },
    {
     "data": {
      "text/plain": [
       "<__main__.outlier_identification at 0x7fa07eea10d0>"
      ]
     },
     "execution_count": 235,
     "metadata": {},
     "output_type": "execute_result"
    },
    {
     "data": {
      "image/png": "[encoded data removed]",
      "text/plain": [
       "<Figure size 432x288 with 1 Axes>"
      ]
     },
     "metadata": {
      "needs_background": "light"
     },
     "output_type": "display_data"
    }
   ],
   "source": [
    "outlier_identification(dfmi_closest_stations, \"TMAX\")"
   ]
  },
  {
   "cell_type": "markdown",
   "metadata": {},
   "source": [
    "# set rows to nan for all distances > 100"
   ]
  },
  {
   "cell_type": "code",
   "execution_count": 237,
   "metadata": {},
   "outputs": [],
   "source": [
    "dfmi_closest_stations.loc[ dfmi_closest_stations[\"distance\"] >100, l_station_cols] = np.nan"
   ]
  },
  {
   "cell_type": "code",
   "execution_count": 240,
   "metadata": {},
   "outputs": [],
   "source": [
    "dfmi_closest_stations.to_csv( os.path.join(project_path, \"OUT_DATA\", \"closest_stations_filtered.csv\"))"
   ]
  },
  {
   "cell_type": "code",
   "execution_count": 239,
   "metadata": {},
   "outputs": [
    {
     "data": {
      "text/plain": [
       "'/home/severine/MOOCS/UDACITY/BIG_DATA/CAPSTONE_PROJECT'"
      ]
     },
     "execution_count": 239,
     "metadata": {},
     "output_type": "execute_result"
    }
   ],
   "source": [
    "project_path"
   ]
  },
  {
   "cell_type": "code",
   "execution_count": null,
   "metadata": {},
   "outputs": [],
   "source": []
  }
 ],
 "metadata": {
  "kernelspec": {
   "display_name": "Python 3",
   "language": "python",
   "name": "python3"
  },
  "language_info": {
   "codemirror_mode": {
    "name": "ipython",
    "version": 3
   },
   "file_extension": ".py",
   "mimetype": "text/x-python",
   "name": "python",
   "nbconvert_exporter": "python",
   "pygments_lexer": "ipython3",
   "version": "3.7.9"
  },
  "toc": {
   "base_numbering": 1,
   "nav_menu": {},
   "number_sections": true,
   "sideBar": true,
   "skip_h1_title": false,
   "title_cell": "Table of Contents",
   "title_sidebar": "Contents",
   "toc_cell": false,
   "toc_position": {},
   "toc_section_display": true,
   "toc_window_display": false
  },
  "varInspector": {
   "cols": {
    "lenName": 16,
    "lenType": 16,
    "lenVar": 40
   },
   "kernels_config": {
    "python": {
     "delete_cmd_postfix": "",
     "delete_cmd_prefix": "del ",
     "library": "var_list.py",
     "varRefreshCmd": "print(var_dic_list())"
    },
    "r": {
     "delete_cmd_postfix": ") ",
     "delete_cmd_prefix": "rm(",
     "library": "var_list.r",
     "varRefreshCmd": "cat(var_dic_list()) "
    }
   },
   "types_to_exclude": [
    "module",
    "function",
    "builtin_function_or_method",
    "instance",
    "_Feature"
   ],
   "window_display": false
  }
 },
 "nbformat": 4,
 "nbformat_minor": 4
}
