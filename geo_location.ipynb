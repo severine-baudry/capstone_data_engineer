{
 "cells": [
  {
   "cell_type": "code",
   "execution_count": 1,
   "metadata": {},
   "outputs": [],
   "source": [
    "import numpy as np\n",
    "import pandas as pd"
   ]
  },
  {
   "cell_type": "code",
   "execution_count": 2,
   "metadata": {},
   "outputs": [],
   "source": [
    "def parse_stations(name):\n",
    "    l_res = []\n",
    "    with open(name) as f:\n",
    "        n=0\n",
    "        for line in f:\n",
    "            l_str = line.split()\n",
    "            #print(l_str)\n",
    "            res = l_str[0:5]\n",
    "            #print(res)\n",
    "            toto = \" \".join(l_str[5:]) \n",
    "            #print(toto)\n",
    "            res.append(toto)\n",
    "            l_res.append(res)\n",
    "            n+=1\n",
    "#            if n ==10:\n",
    "#                break\n",
    "    return l_res"
   ]
  },
  {
   "cell_type": "code",
   "execution_count": 3,
   "metadata": {},
   "outputs": [],
   "source": [
    "def NYT_counties(name):\n",
    "    d_res = {}\n",
    "    with open(name) as f :\n",
    "        header = f.readline()\n",
    "        for line in f :\n",
    "            l_str = line.split(\",\")\n",
    "            # state,county, fips\n",
    "            d_res.setdefault( (l_str[2], l_str[1], l_str[3]), True  )\n",
    "    return d_res\n"
   ]
  },
  {
   "cell_type": "code",
   "execution_count": 4,
   "metadata": {},
   "outputs": [],
   "source": [
    "def counties_lat_long(name):\n",
    "    with open(name) as f :\n",
    "        headers = f.readline().split()\n",
    "        l_headers = len(headers)\n",
    "        print(\"len of headers : \", l_headers )\n",
    "        l_res = []\n",
    "        for line in f :\n",
    "            l_str = line.split()\n",
    "            state = l_str[0]\n",
    "            fips = l_str[1]\n",
    "            latitude = l_str[-2]\n",
    "            longitude = l_str[-1]\n",
    "            l = len(l_str)\n",
    "            n_words = l - l_headers + 1\n",
    "            county = \" \".join( l_str[3:3+n_words] )\n",
    "            #d_res.setdefault(state, []).append( [ state, county, fips, latitude, longitude ])\n",
    "            l_res.append( [state, county, fips, latitude, longitude ])\n",
    "        return l_res\n"
   ]
  },
  {
   "cell_type": "code",
   "execution_count": 6,
   "metadata": {},
   "outputs": [
    {
     "name": "stdout",
     "output_type": "stream",
     "text": [
      "['US009052008', '43.7333', '-96.6333', '482.0', 'SD', 'SIOUX FALLS (ENVIRON. CANADA)']\n",
      "['US10RMHS145', '40.5268', '-105.1113', '1569.1', 'CO', 'RMHS 1.6 SSW']\n",
      "['US10adam001', '40.5680', '-98.5069', '598.0', 'NE', 'JUNIATA 1.5 S']\n",
      "['US10adam002', '40.5093', '-98.5493', '601.1', 'NE', 'JUNIATA 6.0 SSW']\n",
      "['US10adam003', '40.4663', '-98.6537', '615.1', 'NE', 'HOLSTEIN 0.1 NW']\n",
      "['US10adam004', '40.4798', '-98.4026', '570.0', 'NE', 'AYR 3.5 NE']\n",
      "['US10adam006', '40.4372', '-98.5912', '601.1', 'NE', 'ROSELAND 2.8 SW']\n",
      "['US10adam007', '40.5389', '-98.4713', '588.9', 'NE', 'HASTINGS 5.4 WSW']\n",
      "['US10adam008', '40.4953', '-98.2973', '566.9', 'NE', 'GLENVIL 2.3 WSW']\n",
      "['US10adam010', '40.5532', '-98.6297', '622.1', 'NE', 'JUNIATA 6.9 WSW']\n",
      "['US10adam011', '40.4078', '-98.6161', '593.1', 'NE', 'ROSELAND 5.2 SW']\n",
      "65170\n",
      "52\n",
      "AK 1003\n",
      "AL 1012\n",
      "AR 885\n",
      "AZ 1534\n",
      "CA 2879\n",
      "CO 4310\n",
      "CT 350\n",
      "DC 15\n",
      "DE 124\n",
      "FL 1877\n",
      "GA 1261\n",
      "HI 752\n",
      "IA 905\n",
      "ID 794\n",
      "IL 1889\n",
      "IN 1741\n",
      "KS 1994\n",
      "KY 855\n",
      "LA 734\n",
      "MA 664\n",
      "MD 692\n",
      "ME 528\n",
      "MI 1304\n",
      "MN 1557\n",
      "MO 1471\n",
      "MS 627\n",
      "MT 1240\n",
      "NC 2317\n",
      "ND 545\n",
      "NE 2259\n",
      "NH 431\n",
      "NJ 739\n",
      "NM 2033\n",
      "NV 684\n",
      "NY 1675\n",
      "OH 1179\n",
      "OK 1018\n",
      "OR 1831\n",
      "PA 1388\n",
      "RI 155\n",
      "SC 1235\n",
      "SD 1035\n",
      "TN 1520\n",
      "TX 5391\n",
      "UM 1\n",
      "UT 929\n",
      "VA 1140\n",
      "VT 333\n",
      "WA 1506\n",
      "WI 1102\n",
      "WV 516\n",
      "WY 1211\n"
     ]
    }
   ],
   "source": [
    "    l_stations = parse_stations('/home/severine/MOOCS/UDACITY/BIG_DATA/CAPSTONE_PROJECT/DATA/WEATHER/US_ghcnd_stations.txt')\n",
    "    for i,station in enumerate(l_stations):\n",
    "        print(station)\n",
    "        if i == 10:\n",
    "            break\n",
    "    print( len(l_stations))\n",
    "    d_station = {}\n",
    "    # 0 : ID\n",
    "    # 1 : latitude\n",
    "    # 2 : longitude\n",
    "    # 3 : elevation\n",
    "    # 4 : state\n",
    "    # 5 : name\n",
    "    for station in l_stations :\n",
    "        d_station.setdefault(station[4], []).append(station)\n",
    "#        d_station[ station[4] ].append(station)\n",
    "    print(len(d_station) )\n",
    "    for state, l_stt in sorted(d_station.items()):\n",
    "        print(state, len(l_stt))\n",
    "    \n"
   ]
  },
  {
   "cell_type": "markdown",
   "metadata": {},
   "source": [
    "## COVID deaths and case per county per day, from NewYork Times"
   ]
  },
  {
   "cell_type": "code",
   "execution_count": 7,
   "metadata": {},
   "outputs": [
    {
     "name": "stdout",
     "output_type": "stream",
     "text": [
      "number of counties from NY Times: 3274\n",
      "\t ('Washington', 'Snohomish', '53061')\n",
      "\t ('Illinois', 'Cook', '17031')\n",
      "\t ('California', 'Orange', '06059')\n",
      "\t ('Arizona', 'Maricopa', '04013')\n",
      "\t ('California', 'Los Angeles', '06037')\n",
      "\t ('California', 'Santa Clara', '06085')\n",
      "\t ('Massachusetts', 'Suffolk', '25025')\n",
      "\t ('California', 'San Francisco', '06075')\n",
      "\t ('Wisconsin', 'Dane', '55025')\n",
      "\t ('California', 'San Diego', '06073')\n",
      "\t ('Texas', 'Bexar', '48029')\n"
     ]
    }
   ],
   "source": [
    "    ################################\n",
    "    #### COVID deaths and case per county per day, from NewYork Times\n",
    "    nytimes_counties = NYT_counties(\"/home/severine/MOOCS/UDACITY/BIG_DATA/CAPSTONE_PROJECT/DATA/us-counties.txt\")\n",
    "    print( \"number of counties from NY Times:\", len(nytimes_counties))\n",
    "    for i,k in enumerate (nytimes_counties.keys()):\n",
    "        print(\"\\t\",k)\n",
    "        if i ==10:\n",
    "            break\n",
    "#    for county in nytimes_counties :\n",
    "#        print(county)\n"
   ]
  },
  {
   "cell_type": "markdown",
   "metadata": {},
   "source": [
    "## Counties fips to geographic coordinates (latitude, longitude) \n"
   ]
  },
  {
   "cell_type": "code",
   "execution_count": 42,
   "metadata": {},
   "outputs": [
    {
     "name": "stdout",
     "output_type": "stream",
     "text": [
      "len of headers :  10\n",
      "number of counties from Gazeeter :  3221\n",
      "\t ['AL', 'Autauga County', '01001', '32.532237', '-86.64644']\n",
      "\t ['AL', 'Baldwin County', '01003', '30.659218', '-87.746067']\n",
      "\t ['AL', 'Barbour County', '01005', '31.870253', '-85.405104']\n",
      "\t ['AL', 'Bibb County', '01007', '33.015893', '-87.127148']\n",
      "\t ['AL', 'Blount County', '01009', '33.977358', '-86.56644']\n",
      "\t ['AL', 'Bullock County', '01011', '32.101759', '-85.717261']\n",
      "\t ['AL', 'Butler County', '01013', '31.751667', '-86.681969']\n",
      "\t ['AL', 'Calhoun County', '01015', '33.770516', '-85.827909']\n",
      "\t ['AL', 'Chambers County', '01017', '32.915504', '-85.394032']\n",
      "\t ['AL', 'Cherokee County', '01019', '34.069515', '-85.654242']\n"
     ]
    }
   ],
   "source": [
    "gazeeter_counties= counties_lat_long(\"/home/severine/MOOCS/UDACITY/BIG_DATA/CAPSTONE_PROJECT/DATA/2020_Gaz_counties_national.txt\")\n",
    "print(\"number of counties from Gazeeter : \", len(gazeeter_counties))\n",
    "for k in gazeeter_counties[:10]:\n",
    "    print(\"\\t\",k)"
   ]
  },
  {
   "cell_type": "code",
   "execution_count": 74,
   "metadata": {},
   "outputs": [],
   "source": [
    "class DistanceToStation :\n",
    "    def __init__(self, l_stations):\n",
    "        ''' init computations for latitude and longitude'''\n",
    "        self.df_stations = pd.DataFrame(l_stations, columns = [\"ID\", \"latitude_degrees\", \"longitude_degrees\", \"elevation\", \"stat\", \"name\"] )\n",
    "        self.df_stations[\"latitude_degrees\"] = self.df_stations[\"latitude_degrees\"].apply( lambda x : float(x) )\n",
    "        self.df_stations[\"longitude_degrees\"] = self.df_stations[\"longitude_degrees\"].apply( lambda x : float(x) )\n",
    "        self.df_stations[\"elevation\"] = self.df_stations[\"elevation\"].apply( lambda x : float(x) )\n",
    "\n",
    "        self.df_stations[\"latitude\"] = self.df_stations[\"latitude_degrees\"] * np.pi / 180.\n",
    "        self.df_stations[\"longitude\"] = self.df_stations[\"longitude_degrees\"] * np.pi / 180.\n",
    "        self.df_stations[\"cos_latitude\"] = np.cos(self.df_stations[\"latitude\"])\n",
    "           \n",
    "    \n",
    "    def closest_station( self, lati, longi):\n",
    "        latitude = lati * np.pi / 180.\n",
    "        longitude = longi * np.pi / 180.\n",
    "        cos_lat = np.cos(latitude)\n",
    "        print( f'latitude : {latitude}, longitude : {longitude}, cos(latitude) : {cos_lat}')\n",
    "        # Haversine formula\n",
    "        print(\"delta lat\")\n",
    "        self.df_stations[\"delta_lat_term\"] = ( np.sin( (self.df_stations[\"latitude\"] - latitude) * 0.5 ) )**2\n",
    "        print(\"delta longitutde\")\n",
    "        self.df_stations[\"delta_long_term\"] = ( np.sin( (self.df_stations[\"longitude\"] - longitude) * 0.5) )**2\n",
    "        print(\"a\")\n",
    "        self.df_stations[\"a\"] = self.df_stations[\"delta_lat_term\"] + self.df_stations[\"delta_long_term\"] \\\n",
    "                        * cos_lat * self.df_stations[\"cos_latitude\"]\n",
    "        self.df_stations[\"sqrt_a\"] = self.df_stations[\"a\"].apply( lambda x : np.sqrt(x) )\n",
    "        self.df_stations[\"sqrt_1_a\"] = self.df_stations[\"a\"].apply( lambda x : np.sqrt(1.- x) )\n",
    "        self.df_stations[\"angle\"] = np.arctan2( np.sqrt(self.df_stations[\"a\"]), np.sqrt( 1. - self.df_stations[\"a\"] ) )\n",
    "        closest = self.df_stations[\"angle\"].idxmin()\n",
    "        print(closest)\n",
    "        return self.df_stations.iloc[closest]"
   ]
  },
  {
   "cell_type": "markdown",
   "metadata": {},
   "source": [
    "### for each county, find the station closest to its 'center'\n"
   ]
  },
  {
   "cell_type": "code",
   "execution_count": 75,
   "metadata": {},
   "outputs": [],
   "source": [
    "station_distance = DistanceToStation(l_stations);"
   ]
  },
  {
   "cell_type": "code",
   "execution_count": 76,
   "metadata": {},
   "outputs": [],
   "source": [
    "# gazeeter : \n",
    "# 0 :state\n",
    "# 1 : county\n",
    "# 2 : fips\n",
    "# 3 : latitude\n",
    "# 4 : longitude\n",
    "\n",
    "# stations :\n",
    "   # 0 : ID\n",
    "    # 1 : latitude\n",
    "    # 2 : longitude\n",
    "    # 3 : elevation\n",
    "    # 4 : state\n",
    "    # 5 : name\n"
   ]
  },
  {
   "cell_type": "code",
   "execution_count": 78,
   "metadata": {},
   "outputs": [
    {
     "name": "stdout",
     "output_type": "stream",
     "text": [
      "latitude : 0.5677946486891225, longitude : -1.5122656631317155, cos(latitude) : 0.8430890051204765\n",
      "delta lat\n",
      "delta longitutde\n",
      "a\n",
      "38521\n",
      "['AL', 'Autauga County', '01001', '32.532237', '-86.64644']\n",
      "ID                        USC00010440\n",
      "latitude_degrees              32.4706\n",
      "longitude_degrees              -86.68\n",
      "elevation                          61\n",
      "stat                               AL\n",
      "name                 AUTAUGAVILLE 3 N\n",
      "latitude                     0.566719\n",
      "longitude                    -1.51285\n",
      "cos_latitude                 0.843667\n",
      "delta_lat_term            2.89319e-07\n",
      "delta_long_term           8.57706e-08\n",
      "a                         3.50327e-07\n",
      "sqrt_a                    0.000591884\n",
      "sqrt_1_a                            1\n",
      "angle                     0.000591884\n",
      "Name: 38521, dtype: object\n"
     ]
    }
   ],
   "source": [
    "for county in gazeeter_counties:\n",
    "    closest = station_distance.closest_station( float(county[3]), float(county[4]) )\n",
    "    print(county)\n",
    "    print(closest)\n",
    "    break"
   ]
  },
  {
   "cell_type": "code",
   "execution_count": 79,
   "metadata": {},
   "outputs": [
    {
     "data": {
      "text/plain": [
       "65170"
      ]
     },
     "execution_count": 79,
     "metadata": {},
     "output_type": "execute_result"
    }
   ],
   "source": [
    "len(l_stations)"
   ]
  },
  {
   "cell_type": "code",
   "execution_count": null,
   "metadata": {},
   "outputs": [],
   "source": []
  },
  {
   "cell_type": "code",
   "execution_count": 80,
   "metadata": {},
   "outputs": [],
   "source": [
    "l_WashingtonDC_stations = [ (i,st) for i,st in enumerate(l_stations) if st[4] == 'DC']"
   ]
  },
  {
   "cell_type": "code",
   "execution_count": 81,
   "metadata": {},
   "outputs": [
    {
     "data": {
      "text/plain": [
       "(38.92026, -77.02996)"
      ]
     },
     "execution_count": 81,
     "metadata": {},
     "output_type": "execute_result"
    }
   ],
   "source": [
    "average_lat = np.average([ float(st[1][1]) for st in l_WashingtonDC_stations])\n",
    "average_long = np.average([ float(st[1][2]) for st in l_WashingtonDC_stations])\n",
    "average_lat, average_long"
   ]
  },
  {
   "cell_type": "code",
   "execution_count": 82,
   "metadata": {},
   "outputs": [
    {
     "data": {
      "text/plain": [
       "[(8467,\n",
       "  ['US1DCDC0001', '38.9171', '-76.9626', '17.1', 'DC', 'WASHINGTON 3.0 ENE']),\n",
       " (8468,\n",
       "  ['US1DCDC0002', '38.9574', '-77.0337', '85.0', 'DC', 'WASHINGTON 3.7 NNW']),\n",
       " (8469,\n",
       "  ['US1DCDC0003', '38.9377', '-77.0991', '91.1', 'DC', 'WASHINGTON 5.0 WNW']),\n",
       " (8470,\n",
       "  ['US1DCDC0006', '38.8928', '-76.9834', '21.9', 'DC', 'WASHINGTON 2.0 ESE']),\n",
       " (8471,\n",
       "  ['US1DCDC0007', '38.8943', '-76.9982', '25.0', 'DC', 'WASHINGTON 1.2 SE']),\n",
       " (8472,\n",
       "  ['US1DCDC0008', '38.8901', '-76.9854', '27.1', 'DC', 'WASHINGTON 2.0 ESE']),\n",
       " (8473,\n",
       "  ['US1DCDC0009', '38.8766', '-77.0224', '3.0', 'DC', 'WASHINGTON 2.0 SSW']),\n",
       " (8474,\n",
       "  ['US1DCDC0010', '38.9773', '-77.0245', '88.1', 'DC', 'WASHINGTON 5.0 N']),\n",
       " (8475,\n",
       "  ['US1DCDC0011', '38.9303', '-77.0831', '81.4', 'DC', 'WASHINGTON 4.0 WNW']),\n",
       " (8476,\n",
       "  ['US1DCDC0014', '38.9581', '-77.0817', '106.4', 'DC', 'WASHINGTON 5.1 NW']),\n",
       " (8477,\n",
       "  ['US1DCDC0015', '38.9203', '-77.0456', '50.6', 'DC', 'WASHINGTON 1.9 WNW']),\n",
       " (8478,\n",
       "  ['US1DCDC0019', '38.8958', '-77.0370', '9.1', 'DC', 'THE WHITE HOUSE']),\n",
       " (8479,\n",
       "  ['US1DCDC0031', '38.9436', '-76.9880', '36.9', 'DC', 'WASHINGTON 3.1 NNE']),\n",
       " (45868, ['USC00189674', '38.9072', '-77.0522', '18.3', 'DC', 'GEORGETOWN']),\n",
       " (64887, ['USW00093725', '38.9053', '-77.0525', '34.1', 'DC', 'WASHINGTON'])]"
      ]
     },
     "execution_count": 82,
     "metadata": {},
     "output_type": "execute_result"
    }
   ],
   "source": [
    "l_WashingtonDC_stations"
   ]
  },
  {
   "cell_type": "code",
   "execution_count": 83,
   "metadata": {},
   "outputs": [
    {
     "data": {
      "text/plain": [
       "[(320, ['DC', 'District of Columbia', '11001', '38.904247', '-77.016517'])]"
      ]
     },
     "execution_count": 83,
     "metadata": {},
     "output_type": "execute_result"
    }
   ],
   "source": [
    "l_WashingtonDC_gazeeter = [ (i,gz) for i,gz in enumerate(gazeeter_counties) if gz[0] == 'DC']\n",
    "l_WashingtonDC_gazeeter"
   ]
  },
  {
   "cell_type": "code",
   "execution_count": 84,
   "metadata": {},
   "outputs": [
    {
     "data": {
      "text/plain": [
       "['DC', 'District of Columbia', '11001', '38.904247', '-77.016517']"
      ]
     },
     "execution_count": 84,
     "metadata": {},
     "output_type": "execute_result"
    }
   ],
   "source": [
    "county = gazeeter_counties[320]\n",
    "county"
   ]
  },
  {
   "cell_type": "code",
   "execution_count": 85,
   "metadata": {},
   "outputs": [
    {
     "name": "stdout",
     "output_type": "stream",
     "text": [
      "latitude : 0.6790072031591263, longitude : -1.3441918000681856, cos(latitude) : 0.7781965991706662\n",
      "delta lat\n",
      "delta longitutde\n",
      "a\n",
      "8471\n"
     ]
    }
   ],
   "source": [
    "closest = station_distance.closest_station( float(county[3]), float(county[4]) )\n"
   ]
  },
  {
   "cell_type": "code",
   "execution_count": 86,
   "metadata": {},
   "outputs": [
    {
     "data": {
      "text/plain": [
       "ID                         US1DCDC0007\n",
       "latitude_degrees               38.8943\n",
       "longitude_degrees             -76.9982\n",
       "elevation                           25\n",
       "stat                                DC\n",
       "name                 WASHINGTON 1.2 SE\n",
       "latitude                      0.678834\n",
       "longitude                     -1.34387\n",
       "cos_latitude                  0.778306\n",
       "delta_lat_term             7.53493e-09\n",
       "delta_long_term            2.55507e-08\n",
       "a                          2.30104e-08\n",
       "sqrt_a                     0.000151692\n",
       "sqrt_1_a                             1\n",
       "angle                      0.000151692\n",
       "Name: 8471, dtype: object"
      ]
     },
     "execution_count": 86,
     "metadata": {},
     "output_type": "execute_result"
    }
   ],
   "source": [
    "closest"
   ]
  },
  {
   "cell_type": "code",
   "execution_count": 71,
   "metadata": {},
   "outputs": [
    {
     "data": {
      "text/plain": [
       "ID                       US1DCDC0019\n",
       "latitude_degrees             38.8958\n",
       "longitude_degrees            -77.037\n",
       "elevation                        9.1\n",
       "stat                              DC\n",
       "name                 THE WHITE HOUSE\n",
       "latitude                     0.67886\n",
       "longitude                   -1.34455\n",
       "cos_latitude                0.778289\n",
       "delta_lat_term           5.43375e-09\n",
       "delta_long_term          3.19508e-08\n",
       "a                           0.605662\n",
       "sqrt_a                      0.778243\n",
       "sqrt_1_a                    0.627963\n",
       "angle                       0.891863\n",
       "Name: 8478, dtype: object"
      ]
     },
     "execution_count": 71,
     "metadata": {},
     "output_type": "execute_result"
    }
   ],
   "source": [
    "station_distance.df_stations.iloc[8478]"
   ]
  },
  {
   "cell_type": "code",
   "execution_count": 72,
   "metadata": {},
   "outputs": [
    {
     "data": {
      "text/plain": [
       "['DC', 'District of Columbia', '11001', '38.904247', '-77.016517']"
      ]
     },
     "execution_count": 72,
     "metadata": {},
     "output_type": "execute_result"
    }
   ],
   "source": [
    "gazeeter_counties[320]"
   ]
  },
  {
   "cell_type": "code",
   "execution_count": 73,
   "metadata": {},
   "outputs": [
    {
     "data": {
      "text/plain": [
       "0.09"
      ]
     },
     "execution_count": 73,
     "metadata": {},
     "output_type": "execute_result"
    }
   ],
   "source": []
  },
  {
   "cell_type": "code",
   "execution_count": null,
   "metadata": {},
   "outputs": [],
   "source": []
  }
 ],
 "metadata": {
  "kernelspec": {
   "display_name": "Python 3",
   "language": "python",
   "name": "python3"
  },
  "language_info": {
   "codemirror_mode": {
    "name": "ipython",
    "version": 3
   },
   "file_extension": ".py",
   "mimetype": "text/x-python",
   "name": "python",
   "nbconvert_exporter": "python",
   "pygments_lexer": "ipython3",
   "version": "3.7.4"
  },
  "toc": {
   "base_numbering": 1,
   "nav_menu": {},
   "number_sections": true,
   "sideBar": true,
   "skip_h1_title": false,
   "title_cell": "Table of Contents",
   "title_sidebar": "Contents",
   "toc_cell": false,
   "toc_position": {},
   "toc_section_display": true,
   "toc_window_display": false
  },
  "varInspector": {
   "cols": {
    "lenName": 16,
    "lenType": 16,
    "lenVar": 40
   },
   "kernels_config": {
    "python": {
     "delete_cmd_postfix": "",
     "delete_cmd_prefix": "del ",
     "library": "var_list.py",
     "varRefreshCmd": "print(var_dic_list())"
    },
    "r": {
     "delete_cmd_postfix": ") ",
     "delete_cmd_prefix": "rm(",
     "library": "var_list.r",
     "varRefreshCmd": "cat(var_dic_list()) "
    }
   },
   "types_to_exclude": [
    "module",
    "function",
    "builtin_function_or_method",
    "instance",
    "_Feature"
   ],
   "window_display": false
  }
 },
 "nbformat": 4,
 "nbformat_minor": 2
}
