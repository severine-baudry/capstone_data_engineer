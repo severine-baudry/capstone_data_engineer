{
 "cells": [
  {
   "cell_type": "code",
   "execution_count": 1,
   "metadata": {},
   "outputs": [],
   "source": [
    "import numpy as np\n",
    "import pandas as pd\n",
    "import os\n",
    "import configparser"
   ]
  },
  {
   "cell_type": "code",
   "execution_count": 4,
   "metadata": {},
   "outputs": [
    {
     "data": {
      "text/plain": [
       "['capstone.cfg']"
      ]
     },
     "execution_count": 4,
     "metadata": {},
     "output_type": "execute_result"
    }
   ],
   "source": [
    "config = configparser.ConfigParser()\n",
    "config.read(\"capstone.cfg\")"
   ]
  },
  {
   "cell_type": "code",
   "execution_count": 6,
   "metadata": {},
   "outputs": [
    {
     "name": "stdout",
     "output_type": "stream",
     "text": [
      "/home/severine/MOOCS/UDACITY/BIG_DATA/CAPSTONE_PROJECT\n"
     ]
    }
   ],
   "source": [
    "project_path = config[\"PATH\"][\"PROJECT\"]\n",
    "print(project_path)"
   ]
  },
  {
   "cell_type": "markdown",
   "metadata": {},
   "source": [
    "# Functions to parse geographic info from various data sources"
   ]
  },
  {
   "cell_type": "markdown",
   "metadata": {},
   "source": [
    "## Weather stations"
   ]
  },
  {
   "cell_type": "code",
   "execution_count": 7,
   "metadata": {},
   "outputs": [],
   "source": [
    "def parse_stations_(name):\n",
    "    l_res = []\n",
    "    with open(name) as f:\n",
    "        n=0\n",
    "        for line in f:\n",
    "            l_str = line.split()\n",
    "            #print(l_str)\n",
    "            res = l_str[0:5]\n",
    "            #print(res)\n",
    "            toto = \" \".join(l_str[5:]) \n",
    "            #print(toto)\n",
    "            res.append(toto)\n",
    "            l_res.append(res)\n",
    "            n+=1\n",
    "#            if n ==10:\n",
    "#                break\n",
    "    return l_res"
   ]
  },
  {
   "cell_type": "code",
   "execution_count": 8,
   "metadata": {},
   "outputs": [],
   "source": [
    "def parse_stations(name):\n",
    "    l_stations = parse_stations_(name)\n",
    "    df_stations = pd.DataFrame(l_stations, columns = [\"ID\", \"latitude\", \"longitude\", \"elevation\", \"state\", \"name\"])\n",
    "    return df_stations"
   ]
  },
  {
   "cell_type": "markdown",
   "metadata": {},
   "source": [
    "## geographic info from NYTimes covid data"
   ]
  },
  {
   "cell_type": "code",
   "execution_count": 9,
   "metadata": {},
   "outputs": [],
   "source": [
    "def NYT_counties_(name):\n",
    "    d_res = {}\n",
    "    with open(name) as f :\n",
    "        header = f.readline()\n",
    "        for line in f :\n",
    "            l_str = line.split(\",\")\n",
    "            # state,county, fips\n",
    "            d_res.setdefault( (l_str[2], l_str[1], l_str[3]), True  )\n",
    "    return d_res\n"
   ]
  },
  {
   "cell_type": "code",
   "execution_count": 10,
   "metadata": {},
   "outputs": [],
   "source": [
    "def NYT_counties(name):\n",
    "    dict_counties= NYT_counties_(name)\n",
    "    df_counties = pd.DataFrame(dict_counties.keys(), columns = [\"state\", \"county\", \"fips\"])\n",
    "    return df_counties        "
   ]
  },
  {
   "cell_type": "markdown",
   "metadata": {},
   "source": [
    "## US counties geographic info from Gazeeter"
   ]
  },
  {
   "cell_type": "code",
   "execution_count": 11,
   "metadata": {},
   "outputs": [],
   "source": [
    "def counties_lat_long_(name):\n",
    "    with open(name) as f :\n",
    "        headers = f.readline().split()\n",
    "        l_headers = len(headers)\n",
    "        print(\"len of headers : \", l_headers )\n",
    "        l_res = []\n",
    "        for line in f :\n",
    "            l_str = line.split()\n",
    "            state = l_str[0]\n",
    "            fips = l_str[1]\n",
    "            latitude = l_str[-2]\n",
    "            longitude = l_str[-1]\n",
    "            l = len(l_str)\n",
    "            n_words = l - l_headers + 1\n",
    "            county = \" \".join( l_str[3:3+n_words] )\n",
    "            #d_res.setdefault(state, []).append( [ state, county, fips, latitude, longitude ])\n",
    "            l_res.append( [state, county, fips, latitude, longitude ])\n",
    "        return l_res\n"
   ]
  },
  {
   "cell_type": "code",
   "execution_count": 12,
   "metadata": {},
   "outputs": [],
   "source": [
    "def counties_lat_long(name):\n",
    "    l_gazeeter = counties_lat_long_(name)\n",
    "    df_gazeeter = pd.DataFrame(l_gazeeter, columns = [\"state\", \"county\", \"fips\", \"latitude\", \"longitude\"])\n",
    "    return df_gazeeter"
   ]
  },
  {
   "cell_type": "markdown",
   "metadata": {},
   "source": [
    "# Read data"
   ]
  },
  {
   "cell_type": "code",
   "execution_count": 13,
   "metadata": {},
   "outputs": [],
   "source": [
    "data_root = os.path.join(project_path, 'DATA/')"
   ]
  },
  {
   "cell_type": "markdown",
   "metadata": {},
   "source": [
    "## Weather stations location"
   ]
  },
  {
   "cell_type": "code",
   "execution_count": 14,
   "metadata": {},
   "outputs": [
    {
     "data": {
      "text/html": [
       "<div>\n",
       "<style scoped>\n",
       "    .dataframe tbody tr th:only-of-type {\n",
       "        vertical-align: middle;\n",
       "    }\n",
       "\n",
       "    .dataframe tbody tr th {\n",
       "        vertical-align: top;\n",
       "    }\n",
       "\n",
       "    .dataframe thead th {\n",
       "        text-align: right;\n",
       "    }\n",
       "</style>\n",
       "<table border=\"1\" class=\"dataframe\">\n",
       "  <thead>\n",
       "    <tr style=\"text-align: right;\">\n",
       "      <th></th>\n",
       "      <th>ID</th>\n",
       "      <th>latitude</th>\n",
       "      <th>longitude</th>\n",
       "      <th>elevation</th>\n",
       "      <th>state</th>\n",
       "      <th>name</th>\n",
       "    </tr>\n",
       "  </thead>\n",
       "  <tbody>\n",
       "    <tr>\n",
       "      <th>0</th>\n",
       "      <td>US009052008</td>\n",
       "      <td>43.7333</td>\n",
       "      <td>-96.6333</td>\n",
       "      <td>482.0</td>\n",
       "      <td>SD</td>\n",
       "      <td>SIOUX FALLS (ENVIRON. CANADA)</td>\n",
       "    </tr>\n",
       "    <tr>\n",
       "      <th>1</th>\n",
       "      <td>US10RMHS145</td>\n",
       "      <td>40.5268</td>\n",
       "      <td>-105.1113</td>\n",
       "      <td>1569.1</td>\n",
       "      <td>CO</td>\n",
       "      <td>RMHS 1.6 SSW</td>\n",
       "    </tr>\n",
       "    <tr>\n",
       "      <th>2</th>\n",
       "      <td>US10adam001</td>\n",
       "      <td>40.5680</td>\n",
       "      <td>-98.5069</td>\n",
       "      <td>598.0</td>\n",
       "      <td>NE</td>\n",
       "      <td>JUNIATA 1.5 S</td>\n",
       "    </tr>\n",
       "    <tr>\n",
       "      <th>3</th>\n",
       "      <td>US10adam002</td>\n",
       "      <td>40.5093</td>\n",
       "      <td>-98.5493</td>\n",
       "      <td>601.1</td>\n",
       "      <td>NE</td>\n",
       "      <td>JUNIATA 6.0 SSW</td>\n",
       "    </tr>\n",
       "    <tr>\n",
       "      <th>4</th>\n",
       "      <td>US10adam003</td>\n",
       "      <td>40.4663</td>\n",
       "      <td>-98.6537</td>\n",
       "      <td>615.1</td>\n",
       "      <td>NE</td>\n",
       "      <td>HOLSTEIN 0.1 NW</td>\n",
       "    </tr>\n",
       "  </tbody>\n",
       "</table>\n",
       "</div>"
      ],
      "text/plain": [
       "            ID latitude  longitude elevation state  \\\n",
       "0  US009052008  43.7333   -96.6333     482.0    SD   \n",
       "1  US10RMHS145  40.5268  -105.1113    1569.1    CO   \n",
       "2  US10adam001  40.5680   -98.5069     598.0    NE   \n",
       "3  US10adam002  40.5093   -98.5493     601.1    NE   \n",
       "4  US10adam003  40.4663   -98.6537     615.1    NE   \n",
       "\n",
       "                            name  \n",
       "0  SIOUX FALLS (ENVIRON. CANADA)  \n",
       "1                   RMHS 1.6 SSW  \n",
       "2                  JUNIATA 1.5 S  \n",
       "3                JUNIATA 6.0 SSW  \n",
       "4                HOLSTEIN 0.1 NW  "
      ]
     },
     "execution_count": 14,
     "metadata": {},
     "output_type": "execute_result"
    }
   ],
   "source": [
    "#df_stations = parse_stations( os.path.join(data_root, 'WEATHER/US_ghcnd_stations.txt'))\n",
    "df_stations = parse_stations( os.path.join(data_root, 'WEATHER/US_PuertoRico_stations.txt'))\n",
    "df_stations.head()"
   ]
  },
  {
   "cell_type": "code",
   "execution_count": 15,
   "metadata": {},
   "outputs": [
    {
     "data": {
      "text/html": [
       "<div>\n",
       "<style scoped>\n",
       "    .dataframe tbody tr th:only-of-type {\n",
       "        vertical-align: middle;\n",
       "    }\n",
       "\n",
       "    .dataframe tbody tr th {\n",
       "        vertical-align: top;\n",
       "    }\n",
       "\n",
       "    .dataframe thead th {\n",
       "        text-align: right;\n",
       "    }\n",
       "</style>\n",
       "<table border=\"1\" class=\"dataframe\">\n",
       "  <thead>\n",
       "    <tr style=\"text-align: right;\">\n",
       "      <th></th>\n",
       "      <th>ID</th>\n",
       "      <th>latitude</th>\n",
       "      <th>longitude</th>\n",
       "      <th>elevation</th>\n",
       "      <th>state</th>\n",
       "      <th>name</th>\n",
       "    </tr>\n",
       "  </thead>\n",
       "  <tbody>\n",
       "    <tr>\n",
       "      <th>0</th>\n",
       "      <td>RQ1PRAB0001</td>\n",
       "      <td>18.2608</td>\n",
       "      <td>-66.1416</td>\n",
       "      <td>268.2</td>\n",
       "      <td>PR</td>\n",
       "      <td>AGUAS BUENAS 2.4 W</td>\n",
       "    </tr>\n",
       "    <tr>\n",
       "      <th>1</th>\n",
       "      <td>RQ1PRAC0001</td>\n",
       "      <td>18.4414</td>\n",
       "      <td>-66.6589</td>\n",
       "      <td>29.6</td>\n",
       "      <td>PR</td>\n",
       "      <td>ARECIBO 5.2 ESE</td>\n",
       "    </tr>\n",
       "    <tr>\n",
       "      <th>2</th>\n",
       "      <td>RQ1PRAC0002</td>\n",
       "      <td>18.4071</td>\n",
       "      <td>-66.7603</td>\n",
       "      <td>152.1</td>\n",
       "      <td>PR</td>\n",
       "      <td>CUCHI 0.3 ENE</td>\n",
       "    </tr>\n",
       "    <tr>\n",
       "      <th>3</th>\n",
       "      <td>RQ1PRAL0002</td>\n",
       "      <td>18.4774</td>\n",
       "      <td>-67.1437</td>\n",
       "      <td>71.3</td>\n",
       "      <td>PR</td>\n",
       "      <td>AGUADILLA 2.7 NNE</td>\n",
       "    </tr>\n",
       "    <tr>\n",
       "      <th>4</th>\n",
       "      <td>RQ1PRAL0003</td>\n",
       "      <td>18.5083</td>\n",
       "      <td>-67.1124</td>\n",
       "      <td>39.9</td>\n",
       "      <td>PR</td>\n",
       "      <td>AGUADILLA 5.5 NNE</td>\n",
       "    </tr>\n",
       "  </tbody>\n",
       "</table>\n",
       "</div>"
      ],
      "text/plain": [
       "            ID latitude longitude elevation state                name\n",
       "0  RQ1PRAB0001  18.2608  -66.1416     268.2    PR  AGUAS BUENAS 2.4 W\n",
       "1  RQ1PRAC0001  18.4414  -66.6589      29.6    PR     ARECIBO 5.2 ESE\n",
       "2  RQ1PRAC0002  18.4071  -66.7603     152.1    PR       CUCHI 0.3 ENE\n",
       "3  RQ1PRAL0002  18.4774  -67.1437      71.3    PR   AGUADILLA 2.7 NNE\n",
       "4  RQ1PRAL0003  18.5083  -67.1124      39.9    PR   AGUADILLA 5.5 NNE"
      ]
     },
     "execution_count": 15,
     "metadata": {},
     "output_type": "execute_result"
    }
   ],
   "source": [
    "df_puertorico =parse_stations( os.path.join(data_root, 'WEATHER/PuertoRico_ghcnd_stations.txt'))\n",
    "df_puertorico.head()"
   ]
  },
  {
   "cell_type": "code",
   "execution_count": 16,
   "metadata": {},
   "outputs": [
    {
     "data": {
      "text/plain": [
       "(65392, 222)"
      ]
     },
     "execution_count": 16,
     "metadata": {},
     "output_type": "execute_result"
    }
   ],
   "source": [
    "len(df_stations), len(df_puertorico)\n"
   ]
  },
  {
   "cell_type": "markdown",
   "metadata": {},
   "source": [
    "## COVID deaths and case per county per day, from NewYork Times"
   ]
  },
  {
   "cell_type": "code",
   "execution_count": 17,
   "metadata": {},
   "outputs": [
    {
     "name": "stdout",
     "output_type": "stream",
     "text": [
      "number of counties from NY Times: 3274\n"
     ]
    },
    {
     "data": {
      "text/html": [
       "<div>\n",
       "<style scoped>\n",
       "    .dataframe tbody tr th:only-of-type {\n",
       "        vertical-align: middle;\n",
       "    }\n",
       "\n",
       "    .dataframe tbody tr th {\n",
       "        vertical-align: top;\n",
       "    }\n",
       "\n",
       "    .dataframe thead th {\n",
       "        text-align: right;\n",
       "    }\n",
       "</style>\n",
       "<table border=\"1\" class=\"dataframe\">\n",
       "  <thead>\n",
       "    <tr style=\"text-align: right;\">\n",
       "      <th></th>\n",
       "      <th>state</th>\n",
       "      <th>county</th>\n",
       "      <th>fips</th>\n",
       "    </tr>\n",
       "  </thead>\n",
       "  <tbody>\n",
       "    <tr>\n",
       "      <th>0</th>\n",
       "      <td>Washington</td>\n",
       "      <td>Snohomish</td>\n",
       "      <td>53061</td>\n",
       "    </tr>\n",
       "    <tr>\n",
       "      <th>1</th>\n",
       "      <td>Illinois</td>\n",
       "      <td>Cook</td>\n",
       "      <td>17031</td>\n",
       "    </tr>\n",
       "    <tr>\n",
       "      <th>2</th>\n",
       "      <td>California</td>\n",
       "      <td>Orange</td>\n",
       "      <td>06059</td>\n",
       "    </tr>\n",
       "    <tr>\n",
       "      <th>3</th>\n",
       "      <td>Arizona</td>\n",
       "      <td>Maricopa</td>\n",
       "      <td>04013</td>\n",
       "    </tr>\n",
       "    <tr>\n",
       "      <th>4</th>\n",
       "      <td>California</td>\n",
       "      <td>Los Angeles</td>\n",
       "      <td>06037</td>\n",
       "    </tr>\n",
       "  </tbody>\n",
       "</table>\n",
       "</div>"
      ],
      "text/plain": [
       "        state       county   fips\n",
       "0  Washington    Snohomish  53061\n",
       "1    Illinois         Cook  17031\n",
       "2  California       Orange  06059\n",
       "3     Arizona     Maricopa  04013\n",
       "4  California  Los Angeles  06037"
      ]
     },
     "execution_count": 17,
     "metadata": {},
     "output_type": "execute_result"
    }
   ],
   "source": [
    "nytimes_counties = NYT_counties( os.path.join(data_root, \"us-counties.txt\"))\n",
    "print( \"number of counties from NY Times:\", len(nytimes_counties))\n",
    "nytimes_counties.head()"
   ]
  },
  {
   "cell_type": "markdown",
   "metadata": {},
   "source": [
    "## Counties fips to geographic coordinates (latitude, longitude) \n"
   ]
  },
  {
   "cell_type": "code",
   "execution_count": 18,
   "metadata": {},
   "outputs": [
    {
     "name": "stdout",
     "output_type": "stream",
     "text": [
      "len of headers :  10\n",
      "number of counties from Gazeeter :  3221\n"
     ]
    },
    {
     "data": {
      "text/html": [
       "<div>\n",
       "<style scoped>\n",
       "    .dataframe tbody tr th:only-of-type {\n",
       "        vertical-align: middle;\n",
       "    }\n",
       "\n",
       "    .dataframe tbody tr th {\n",
       "        vertical-align: top;\n",
       "    }\n",
       "\n",
       "    .dataframe thead th {\n",
       "        text-align: right;\n",
       "    }\n",
       "</style>\n",
       "<table border=\"1\" class=\"dataframe\">\n",
       "  <thead>\n",
       "    <tr style=\"text-align: right;\">\n",
       "      <th></th>\n",
       "      <th>state</th>\n",
       "      <th>county</th>\n",
       "      <th>fips</th>\n",
       "      <th>latitude</th>\n",
       "      <th>longitude</th>\n",
       "    </tr>\n",
       "  </thead>\n",
       "  <tbody>\n",
       "    <tr>\n",
       "      <th>0</th>\n",
       "      <td>AL</td>\n",
       "      <td>Autauga County</td>\n",
       "      <td>01001</td>\n",
       "      <td>32.532237</td>\n",
       "      <td>-86.64644</td>\n",
       "    </tr>\n",
       "    <tr>\n",
       "      <th>1</th>\n",
       "      <td>AL</td>\n",
       "      <td>Baldwin County</td>\n",
       "      <td>01003</td>\n",
       "      <td>30.659218</td>\n",
       "      <td>-87.746067</td>\n",
       "    </tr>\n",
       "    <tr>\n",
       "      <th>2</th>\n",
       "      <td>AL</td>\n",
       "      <td>Barbour County</td>\n",
       "      <td>01005</td>\n",
       "      <td>31.870253</td>\n",
       "      <td>-85.405104</td>\n",
       "    </tr>\n",
       "    <tr>\n",
       "      <th>3</th>\n",
       "      <td>AL</td>\n",
       "      <td>Bibb County</td>\n",
       "      <td>01007</td>\n",
       "      <td>33.015893</td>\n",
       "      <td>-87.127148</td>\n",
       "    </tr>\n",
       "    <tr>\n",
       "      <th>4</th>\n",
       "      <td>AL</td>\n",
       "      <td>Blount County</td>\n",
       "      <td>01009</td>\n",
       "      <td>33.977358</td>\n",
       "      <td>-86.56644</td>\n",
       "    </tr>\n",
       "  </tbody>\n",
       "</table>\n",
       "</div>"
      ],
      "text/plain": [
       "  state          county   fips   latitude   longitude\n",
       "0    AL  Autauga County  01001  32.532237   -86.64644\n",
       "1    AL  Baldwin County  01003  30.659218  -87.746067\n",
       "2    AL  Barbour County  01005  31.870253  -85.405104\n",
       "3    AL     Bibb County  01007  33.015893  -87.127148\n",
       "4    AL   Blount County  01009  33.977358   -86.56644"
      ]
     },
     "execution_count": 18,
     "metadata": {},
     "output_type": "execute_result"
    }
   ],
   "source": [
    "gazeeter_counties= counties_lat_long( os.path.join(data_root,\"2020_Gaz_counties_national.txt\"))\n",
    "print(\"number of counties from Gazeeter : \", len(gazeeter_counties))\n",
    "gazeeter_counties.head()"
   ]
  },
  {
   "cell_type": "code",
   "execution_count": 19,
   "metadata": {},
   "outputs": [],
   "source": [
    "class DistanceToStation :\n",
    "    def __init__(self, df_stations):\n",
    "        ''' init computations for latitude and longitude'''\n",
    "        self.df_stations = df_stations.copy(deep = True)\n",
    "        self.df_stations[\"latitude_degrees\"] = self.df_stations[\"latitude\"]\n",
    "        self.df_stations[\"longitude_degrees\"] = self.df_stations[\"longitude\"]\n",
    "        \n",
    "        self.df_stations[\"elevation\"] = self.df_stations[\"elevation\"].apply( lambda x : float(x) )\n",
    "        def degree_to_radian(x):\n",
    "            return  float(x)* np.pi / 180.\n",
    "        self.df_stations[\"latitude\"] = self.df_stations[\"latitude\"].apply( degree_to_radian) \n",
    "        self.df_stations[\"longitude\"] = self.df_stations[\"longitude\"].apply( degree_to_radian)\n",
    "        self.df_stations[\"cos_latitude\"] = np.cos(self.df_stations[\"latitude\"])\n",
    "           \n",
    "    \n",
    "    def closest_station( self, lati, longi):\n",
    "        latitude = float(lati) * np.pi / 180.\n",
    "        longitude = float(longi) * np.pi / 180.\n",
    "        cos_lat = np.cos(latitude)\n",
    "        #print( f'latitude : {latitude}, longitude : {longitude}, cos(latitude) : {cos_lat}')\n",
    "        # Haversine formula\n",
    "        self.df_stations[\"delta_lat_term\"] = ( np.sin( (self.df_stations[\"latitude\"] - latitude) * 0.5 ) )**2\n",
    "        self.df_stations[\"delta_long_term\"] = ( np.sin( (self.df_stations[\"longitude\"] - longitude) * 0.5) )**2\n",
    "        self.df_stations[\"a\"] = self.df_stations[\"delta_lat_term\"] + self.df_stations[\"delta_long_term\"] \\\n",
    "                        * cos_lat * self.df_stations[\"cos_latitude\"]\n",
    "        self.df_stations[\"sqrt_a\"] = self.df_stations[\"a\"].apply( lambda x : np.sqrt(x) )\n",
    "        self.df_stations[\"sqrt_1_a\"] = self.df_stations[\"a\"].apply( lambda x : np.sqrt(1.- x) )\n",
    "        self.df_stations[\"angle\"] = np.arctan2( np.sqrt(self.df_stations[\"a\"]), np.sqrt( 1. - self.df_stations[\"a\"] ) )\n",
    "        closest = self.df_stations[\"angle\"].idxmin()\n",
    "        #print(closest)\n",
    "        return closest, self.df_stations.iloc[closest]\n",
    "        "
   ]
  },
  {
   "cell_type": "markdown",
   "metadata": {},
   "source": [
    "# Map fips to the closest weather station\n",
    "\n",
    "for each county, find the station closest to its 'center'\n"
   ]
  },
  {
   "cell_type": "code",
   "execution_count": 20,
   "metadata": {},
   "outputs": [],
   "source": [
    "station_distance = DistanceToStation(df_stations);"
   ]
  },
  {
   "cell_type": "markdown",
   "metadata": {},
   "source": [
    "## Test with first county"
   ]
  },
  {
   "cell_type": "code",
   "execution_count": 21,
   "metadata": {},
   "outputs": [
    {
     "name": "stdout",
     "output_type": "stream",
     "text": [
      "OrderedDict([('state', 'AL'), ('county', 'Autauga County'), ('fips', '01001'), ('latitude', '32.532237'), ('longitude', '-86.64644')])\n",
      "38521\n",
      "ID                        USC00010440\n",
      "latitude                     0.566719\n",
      "longitude                    -1.51285\n",
      "elevation                          61\n",
      "state                              AL\n",
      "name                 AUTAUGAVILLE 3 N\n",
      "latitude_degrees              32.4706\n",
      "longitude_degrees            -86.6800\n",
      "cos_latitude                 0.843667\n",
      "delta_lat_term            2.89319e-07\n",
      "delta_long_term           8.57706e-08\n",
      "a                         3.50327e-07\n",
      "sqrt_a                    0.000591884\n",
      "sqrt_1_a                            1\n",
      "angle                     0.000591884\n",
      "Name: 38521, dtype: object\n"
     ]
    }
   ],
   "source": [
    "from collections import OrderedDict\n",
    "for county in gazeeter_counties.itertuples(index = False):\n",
    "    d_county = county._asdict()\n",
    "    idx_closest, closest = station_distance.closest_station( d_county[\"latitude\"], d_county[\"longitude\"] )\n",
    "    print(d_county)\n",
    "    print(idx_closest)\n",
    "    print(closest)\n",
    "    break"
   ]
  },
  {
   "cell_type": "code",
   "execution_count": 22,
   "metadata": {},
   "outputs": [
    {
     "data": {
      "text/plain": [
       "pandas.core.series.Series"
      ]
     },
     "execution_count": 22,
     "metadata": {},
     "output_type": "execute_result"
    }
   ],
   "source": [
    "type(closest)"
   ]
  },
  {
   "cell_type": "code",
   "execution_count": 23,
   "metadata": {},
   "outputs": [
    {
     "data": {
      "text/plain": [
       "(numpy.float64, str)"
      ]
     },
     "execution_count": 23,
     "metadata": {},
     "output_type": "execute_result"
    }
   ],
   "source": [
    "type(closest[\"latitude\"]), type(closest[\"ID\"])"
   ]
  },
  {
   "cell_type": "code",
   "execution_count": 24,
   "metadata": {},
   "outputs": [
    {
     "data": {
      "text/plain": [
       "ID          USC00010440\n",
       "latitude       0.566719\n",
       "Name: 38521, dtype: object"
      ]
     },
     "execution_count": 24,
     "metadata": {},
     "output_type": "execute_result"
    }
   ],
   "source": [
    "closest.loc[[\"ID\", \"latitude\"]]"
   ]
  },
  {
   "cell_type": "code",
   "execution_count": 25,
   "metadata": {},
   "outputs": [
    {
     "data": {
      "text/plain": [
       "65392"
      ]
     },
     "execution_count": 25,
     "metadata": {},
     "output_type": "execute_result"
    }
   ],
   "source": [
    "len(df_stations)"
   ]
  },
  {
   "cell_type": "markdown",
   "metadata": {},
   "source": [
    "## Test with Washingon DC (small state)"
   ]
  },
  {
   "cell_type": "code",
   "execution_count": 26,
   "metadata": {},
   "outputs": [
    {
     "data": {
      "text/html": [
       "<div>\n",
       "<style scoped>\n",
       "    .dataframe tbody tr th:only-of-type {\n",
       "        vertical-align: middle;\n",
       "    }\n",
       "\n",
       "    .dataframe tbody tr th {\n",
       "        vertical-align: top;\n",
       "    }\n",
       "\n",
       "    .dataframe thead th {\n",
       "        text-align: right;\n",
       "    }\n",
       "</style>\n",
       "<table border=\"1\" class=\"dataframe\">\n",
       "  <thead>\n",
       "    <tr style=\"text-align: right;\">\n",
       "      <th></th>\n",
       "      <th>ID</th>\n",
       "      <th>latitude</th>\n",
       "      <th>longitude</th>\n",
       "      <th>elevation</th>\n",
       "      <th>state</th>\n",
       "      <th>name</th>\n",
       "    </tr>\n",
       "  </thead>\n",
       "  <tbody>\n",
       "    <tr>\n",
       "      <th>8467</th>\n",
       "      <td>US1DCDC0001</td>\n",
       "      <td>38.9171</td>\n",
       "      <td>-76.9626</td>\n",
       "      <td>17.1</td>\n",
       "      <td>DC</td>\n",
       "      <td>WASHINGTON 3.0 ENE</td>\n",
       "    </tr>\n",
       "    <tr>\n",
       "      <th>8468</th>\n",
       "      <td>US1DCDC0002</td>\n",
       "      <td>38.9574</td>\n",
       "      <td>-77.0337</td>\n",
       "      <td>85.0</td>\n",
       "      <td>DC</td>\n",
       "      <td>WASHINGTON 3.7 NNW</td>\n",
       "    </tr>\n",
       "    <tr>\n",
       "      <th>8469</th>\n",
       "      <td>US1DCDC0003</td>\n",
       "      <td>38.9377</td>\n",
       "      <td>-77.0991</td>\n",
       "      <td>91.1</td>\n",
       "      <td>DC</td>\n",
       "      <td>WASHINGTON 5.0 WNW</td>\n",
       "    </tr>\n",
       "    <tr>\n",
       "      <th>8470</th>\n",
       "      <td>US1DCDC0006</td>\n",
       "      <td>38.8928</td>\n",
       "      <td>-76.9834</td>\n",
       "      <td>21.9</td>\n",
       "      <td>DC</td>\n",
       "      <td>WASHINGTON 2.0 ESE</td>\n",
       "    </tr>\n",
       "    <tr>\n",
       "      <th>8471</th>\n",
       "      <td>US1DCDC0007</td>\n",
       "      <td>38.8943</td>\n",
       "      <td>-76.9982</td>\n",
       "      <td>25.0</td>\n",
       "      <td>DC</td>\n",
       "      <td>WASHINGTON 1.2 SE</td>\n",
       "    </tr>\n",
       "    <tr>\n",
       "      <th>8472</th>\n",
       "      <td>US1DCDC0008</td>\n",
       "      <td>38.8901</td>\n",
       "      <td>-76.9854</td>\n",
       "      <td>27.1</td>\n",
       "      <td>DC</td>\n",
       "      <td>WASHINGTON 2.0 ESE</td>\n",
       "    </tr>\n",
       "    <tr>\n",
       "      <th>8473</th>\n",
       "      <td>US1DCDC0009</td>\n",
       "      <td>38.8766</td>\n",
       "      <td>-77.0224</td>\n",
       "      <td>3.0</td>\n",
       "      <td>DC</td>\n",
       "      <td>WASHINGTON 2.0 SSW</td>\n",
       "    </tr>\n",
       "    <tr>\n",
       "      <th>8474</th>\n",
       "      <td>US1DCDC0010</td>\n",
       "      <td>38.9773</td>\n",
       "      <td>-77.0245</td>\n",
       "      <td>88.1</td>\n",
       "      <td>DC</td>\n",
       "      <td>WASHINGTON 5.0 N</td>\n",
       "    </tr>\n",
       "    <tr>\n",
       "      <th>8475</th>\n",
       "      <td>US1DCDC0011</td>\n",
       "      <td>38.9303</td>\n",
       "      <td>-77.0831</td>\n",
       "      <td>81.4</td>\n",
       "      <td>DC</td>\n",
       "      <td>WASHINGTON 4.0 WNW</td>\n",
       "    </tr>\n",
       "    <tr>\n",
       "      <th>8476</th>\n",
       "      <td>US1DCDC0014</td>\n",
       "      <td>38.9581</td>\n",
       "      <td>-77.0817</td>\n",
       "      <td>106.4</td>\n",
       "      <td>DC</td>\n",
       "      <td>WASHINGTON 5.1 NW</td>\n",
       "    </tr>\n",
       "    <tr>\n",
       "      <th>8477</th>\n",
       "      <td>US1DCDC0015</td>\n",
       "      <td>38.9203</td>\n",
       "      <td>-77.0456</td>\n",
       "      <td>50.6</td>\n",
       "      <td>DC</td>\n",
       "      <td>WASHINGTON 1.9 WNW</td>\n",
       "    </tr>\n",
       "    <tr>\n",
       "      <th>8478</th>\n",
       "      <td>US1DCDC0019</td>\n",
       "      <td>38.8958</td>\n",
       "      <td>-77.0370</td>\n",
       "      <td>9.1</td>\n",
       "      <td>DC</td>\n",
       "      <td>THE WHITE HOUSE</td>\n",
       "    </tr>\n",
       "    <tr>\n",
       "      <th>8479</th>\n",
       "      <td>US1DCDC0031</td>\n",
       "      <td>38.9436</td>\n",
       "      <td>-76.9880</td>\n",
       "      <td>36.9</td>\n",
       "      <td>DC</td>\n",
       "      <td>WASHINGTON 3.1 NNE</td>\n",
       "    </tr>\n",
       "    <tr>\n",
       "      <th>45868</th>\n",
       "      <td>USC00189674</td>\n",
       "      <td>38.9072</td>\n",
       "      <td>-77.0522</td>\n",
       "      <td>18.3</td>\n",
       "      <td>DC</td>\n",
       "      <td>GEORGETOWN</td>\n",
       "    </tr>\n",
       "    <tr>\n",
       "      <th>64887</th>\n",
       "      <td>USW00093725</td>\n",
       "      <td>38.9053</td>\n",
       "      <td>-77.0525</td>\n",
       "      <td>34.1</td>\n",
       "      <td>DC</td>\n",
       "      <td>WASHINGTON</td>\n",
       "    </tr>\n",
       "  </tbody>\n",
       "</table>\n",
       "</div>"
      ],
      "text/plain": [
       "                ID latitude longitude elevation state                name\n",
       "8467   US1DCDC0001  38.9171  -76.9626      17.1    DC  WASHINGTON 3.0 ENE\n",
       "8468   US1DCDC0002  38.9574  -77.0337      85.0    DC  WASHINGTON 3.7 NNW\n",
       "8469   US1DCDC0003  38.9377  -77.0991      91.1    DC  WASHINGTON 5.0 WNW\n",
       "8470   US1DCDC0006  38.8928  -76.9834      21.9    DC  WASHINGTON 2.0 ESE\n",
       "8471   US1DCDC0007  38.8943  -76.9982      25.0    DC   WASHINGTON 1.2 SE\n",
       "8472   US1DCDC0008  38.8901  -76.9854      27.1    DC  WASHINGTON 2.0 ESE\n",
       "8473   US1DCDC0009  38.8766  -77.0224       3.0    DC  WASHINGTON 2.0 SSW\n",
       "8474   US1DCDC0010  38.9773  -77.0245      88.1    DC    WASHINGTON 5.0 N\n",
       "8475   US1DCDC0011  38.9303  -77.0831      81.4    DC  WASHINGTON 4.0 WNW\n",
       "8476   US1DCDC0014  38.9581  -77.0817     106.4    DC   WASHINGTON 5.1 NW\n",
       "8477   US1DCDC0015  38.9203  -77.0456      50.6    DC  WASHINGTON 1.9 WNW\n",
       "8478   US1DCDC0019  38.8958  -77.0370       9.1    DC     THE WHITE HOUSE\n",
       "8479   US1DCDC0031  38.9436  -76.9880      36.9    DC  WASHINGTON 3.1 NNE\n",
       "45868  USC00189674  38.9072  -77.0522      18.3    DC          GEORGETOWN\n",
       "64887  USW00093725  38.9053  -77.0525      34.1    DC          WASHINGTON"
      ]
     },
     "execution_count": 26,
     "metadata": {},
     "output_type": "execute_result"
    }
   ],
   "source": [
    "df_WashingtonDC_stations = df_stations[ df_stations[\"state\"] == \"DC\" ]\n",
    "df_WashingtonDC_stations"
   ]
  },
  {
   "cell_type": "code",
   "execution_count": 27,
   "metadata": {},
   "outputs": [
    {
     "data": {
      "text/plain": [
       "(38.92026, -77.02996)"
      ]
     },
     "execution_count": 27,
     "metadata": {},
     "output_type": "execute_result"
    }
   ],
   "source": [
    "average_lat = np.average(df_WashingtonDC_stations[\"latitude\"].apply(lambda x : float(x)))\n",
    "average_long = np.average(df_WashingtonDC_stations[\"longitude\"].apply(lambda x : float(x)))\n",
    "average_lat, average_long"
   ]
  },
  {
   "cell_type": "code",
   "execution_count": 28,
   "metadata": {},
   "outputs": [
    {
     "data": {
      "text/html": [
       "<div>\n",
       "<style scoped>\n",
       "    .dataframe tbody tr th:only-of-type {\n",
       "        vertical-align: middle;\n",
       "    }\n",
       "\n",
       "    .dataframe tbody tr th {\n",
       "        vertical-align: top;\n",
       "    }\n",
       "\n",
       "    .dataframe thead th {\n",
       "        text-align: right;\n",
       "    }\n",
       "</style>\n",
       "<table border=\"1\" class=\"dataframe\">\n",
       "  <thead>\n",
       "    <tr style=\"text-align: right;\">\n",
       "      <th></th>\n",
       "      <th>state</th>\n",
       "      <th>county</th>\n",
       "      <th>fips</th>\n",
       "      <th>latitude</th>\n",
       "      <th>longitude</th>\n",
       "    </tr>\n",
       "  </thead>\n",
       "  <tbody>\n",
       "    <tr>\n",
       "      <th>320</th>\n",
       "      <td>DC</td>\n",
       "      <td>District of Columbia</td>\n",
       "      <td>11001</td>\n",
       "      <td>38.904247</td>\n",
       "      <td>-77.016517</td>\n",
       "    </tr>\n",
       "  </tbody>\n",
       "</table>\n",
       "</div>"
      ],
      "text/plain": [
       "    state                county   fips   latitude   longitude\n",
       "320    DC  District of Columbia  11001  38.904247  -77.016517"
      ]
     },
     "execution_count": 28,
     "metadata": {},
     "output_type": "execute_result"
    }
   ],
   "source": [
    "df_WashingtonDC_gazeeter = gazeeter_counties[ gazeeter_counties[\"state\"] == \"DC\"]\n",
    "df_WashingtonDC_gazeeter"
   ]
  },
  {
   "cell_type": "code",
   "execution_count": 29,
   "metadata": {},
   "outputs": [],
   "source": [
    "county = df_WashingtonDC_gazeeter.iloc[0]\n",
    "i_closest, closest = station_distance.closest_station( float(county[\"latitude\"]), float(county[\"longitude\"]) )\n"
   ]
  },
  {
   "cell_type": "code",
   "execution_count": 30,
   "metadata": {},
   "outputs": [
    {
     "data": {
      "text/plain": [
       "ID                         US1DCDC0007\n",
       "latitude                      0.678834\n",
       "longitude                     -1.34387\n",
       "elevation                           25\n",
       "state                               DC\n",
       "name                 WASHINGTON 1.2 SE\n",
       "latitude_degrees               38.8943\n",
       "longitude_degrees             -76.9982\n",
       "cos_latitude                  0.778306\n",
       "delta_lat_term             7.53493e-09\n",
       "delta_long_term            2.55507e-08\n",
       "a                          2.30104e-08\n",
       "sqrt_a                     0.000151692\n",
       "sqrt_1_a                             1\n",
       "angle                      0.000151692\n",
       "Name: 8471, dtype: object"
      ]
     },
     "execution_count": 30,
     "metadata": {},
     "output_type": "execute_result"
    }
   ],
   "source": [
    "closest"
   ]
  },
  {
   "cell_type": "markdown",
   "metadata": {},
   "source": [
    "## All county fips"
   ]
  },
  {
   "cell_type": "code",
   "execution_count": 31,
   "metadata": {},
   "outputs": [],
   "source": [
    "def func_closest_station(df_row):\n",
    "    i, res = station_distance.closest_station( df_row[\"latitude\"], df_row[\"longitude\"] )\n",
    "    return res.loc[[\"ID\", \"latitude\", \"longitude\",\"elevation\",\"state\",\"name\"]]\n",
    "\n",
    "res = gazeeter_counties.apply(func_closest_station, axis = 1)\n",
    "res.to_csv(\"county_station.csv\")\n",
    "#gazeeter_counties[ [\"station_ID\", \"station_latitude\", \"station_longitude\", \"station_elevation\", \"station_state\", \"station_name\"]] = \\\n",
    "#    gazeeter_counties.apply(func_closest_station)\n",
    "    "
   ]
  },
  {
   "cell_type": "code",
   "execution_count": 32,
   "metadata": {},
   "outputs": [
    {
     "data": {
      "text/html": [
       "<div>\n",
       "<style scoped>\n",
       "    .dataframe tbody tr th:only-of-type {\n",
       "        vertical-align: middle;\n",
       "    }\n",
       "\n",
       "    .dataframe tbody tr th {\n",
       "        vertical-align: top;\n",
       "    }\n",
       "\n",
       "    .dataframe thead th {\n",
       "        text-align: right;\n",
       "    }\n",
       "</style>\n",
       "<table border=\"1\" class=\"dataframe\">\n",
       "  <thead>\n",
       "    <tr style=\"text-align: right;\">\n",
       "      <th></th>\n",
       "      <th>state</th>\n",
       "      <th>county</th>\n",
       "      <th>fips</th>\n",
       "      <th>latitude</th>\n",
       "      <th>longitude</th>\n",
       "    </tr>\n",
       "  </thead>\n",
       "  <tbody>\n",
       "    <tr>\n",
       "      <th>0</th>\n",
       "      <td>AL</td>\n",
       "      <td>Autauga County</td>\n",
       "      <td>01001</td>\n",
       "      <td>32.532237</td>\n",
       "      <td>-86.64644</td>\n",
       "    </tr>\n",
       "    <tr>\n",
       "      <th>1</th>\n",
       "      <td>AL</td>\n",
       "      <td>Baldwin County</td>\n",
       "      <td>01003</td>\n",
       "      <td>30.659218</td>\n",
       "      <td>-87.746067</td>\n",
       "    </tr>\n",
       "    <tr>\n",
       "      <th>2</th>\n",
       "      <td>AL</td>\n",
       "      <td>Barbour County</td>\n",
       "      <td>01005</td>\n",
       "      <td>31.870253</td>\n",
       "      <td>-85.405104</td>\n",
       "    </tr>\n",
       "    <tr>\n",
       "      <th>3</th>\n",
       "      <td>AL</td>\n",
       "      <td>Bibb County</td>\n",
       "      <td>01007</td>\n",
       "      <td>33.015893</td>\n",
       "      <td>-87.127148</td>\n",
       "    </tr>\n",
       "    <tr>\n",
       "      <th>4</th>\n",
       "      <td>AL</td>\n",
       "      <td>Blount County</td>\n",
       "      <td>01009</td>\n",
       "      <td>33.977358</td>\n",
       "      <td>-86.56644</td>\n",
       "    </tr>\n",
       "  </tbody>\n",
       "</table>\n",
       "</div>"
      ],
      "text/plain": [
       "  state          county   fips   latitude   longitude\n",
       "0    AL  Autauga County  01001  32.532237   -86.64644\n",
       "1    AL  Baldwin County  01003  30.659218  -87.746067\n",
       "2    AL  Barbour County  01005  31.870253  -85.405104\n",
       "3    AL     Bibb County  01007  33.015893  -87.127148\n",
       "4    AL   Blount County  01009  33.977358   -86.56644"
      ]
     },
     "execution_count": 32,
     "metadata": {},
     "output_type": "execute_result"
    }
   ],
   "source": [
    "gazeeter_counties.head()"
   ]
  },
  {
   "cell_type": "code",
   "execution_count": 33,
   "metadata": {},
   "outputs": [],
   "source": [
    "gazeeter_counties.to_csv(\"counties.csv\")"
   ]
  },
  {
   "cell_type": "code",
   "execution_count": 34,
   "metadata": {},
   "outputs": [
    {
     "data": {
      "text/plain": [
       "65392"
      ]
     },
     "execution_count": 34,
     "metadata": {},
     "output_type": "execute_result"
    }
   ],
   "source": [
    "len(station_distance.df_stations)"
   ]
  },
  {
   "cell_type": "code",
   "execution_count": 35,
   "metadata": {},
   "outputs": [
    {
     "data": {
      "text/html": [
       "<div>\n",
       "<style scoped>\n",
       "    .dataframe tbody tr th:only-of-type {\n",
       "        vertical-align: middle;\n",
       "    }\n",
       "\n",
       "    .dataframe tbody tr th {\n",
       "        vertical-align: top;\n",
       "    }\n",
       "\n",
       "    .dataframe thead th {\n",
       "        text-align: right;\n",
       "    }\n",
       "</style>\n",
       "<table border=\"1\" class=\"dataframe\">\n",
       "  <thead>\n",
       "    <tr style=\"text-align: right;\">\n",
       "      <th></th>\n",
       "      <th>state</th>\n",
       "      <th>county</th>\n",
       "      <th>fips</th>\n",
       "      <th>latitude</th>\n",
       "      <th>longitude</th>\n",
       "    </tr>\n",
       "  </thead>\n",
       "  <tbody>\n",
       "    <tr>\n",
       "      <th>3143</th>\n",
       "      <td>PR</td>\n",
       "      <td>Adjuntas Municipio</td>\n",
       "      <td>72001</td>\n",
       "      <td>18.181611</td>\n",
       "      <td>-66.758165</td>\n",
       "    </tr>\n",
       "    <tr>\n",
       "      <th>3144</th>\n",
       "      <td>PR</td>\n",
       "      <td>Aguada Municipio</td>\n",
       "      <td>72003</td>\n",
       "      <td>18.375673</td>\n",
       "      <td>-67.185745</td>\n",
       "    </tr>\n",
       "    <tr>\n",
       "      <th>3145</th>\n",
       "      <td>PR</td>\n",
       "      <td>Aguadilla Municipio</td>\n",
       "      <td>72005</td>\n",
       "      <td>18.480191</td>\n",
       "      <td>-67.143762</td>\n",
       "    </tr>\n",
       "    <tr>\n",
       "      <th>3146</th>\n",
       "      <td>PR</td>\n",
       "      <td>Aguas Buenas Municipio</td>\n",
       "      <td>72007</td>\n",
       "      <td>18.256524</td>\n",
       "      <td>-66.128496</td>\n",
       "    </tr>\n",
       "    <tr>\n",
       "      <th>3147</th>\n",
       "      <td>PR</td>\n",
       "      <td>Aibonito Municipio</td>\n",
       "      <td>72009</td>\n",
       "      <td>18.130723</td>\n",
       "      <td>-66.26446</td>\n",
       "    </tr>\n",
       "    <tr>\n",
       "      <th>...</th>\n",
       "      <td>...</td>\n",
       "      <td>...</td>\n",
       "      <td>...</td>\n",
       "      <td>...</td>\n",
       "      <td>...</td>\n",
       "    </tr>\n",
       "    <tr>\n",
       "      <th>3216</th>\n",
       "      <td>PR</td>\n",
       "      <td>Vega Baja Municipio</td>\n",
       "      <td>72145</td>\n",
       "      <td>18.455128</td>\n",
       "      <td>-66.397883</td>\n",
       "    </tr>\n",
       "    <tr>\n",
       "      <th>3217</th>\n",
       "      <td>PR</td>\n",
       "      <td>Vieques Municipio</td>\n",
       "      <td>72147</td>\n",
       "      <td>18.125418</td>\n",
       "      <td>-65.432474</td>\n",
       "    </tr>\n",
       "    <tr>\n",
       "      <th>3218</th>\n",
       "      <td>PR</td>\n",
       "      <td>Villalba Municipio</td>\n",
       "      <td>72149</td>\n",
       "      <td>18.130718</td>\n",
       "      <td>-66.472244</td>\n",
       "    </tr>\n",
       "    <tr>\n",
       "      <th>3219</th>\n",
       "      <td>PR</td>\n",
       "      <td>Yabucoa Municipio</td>\n",
       "      <td>72151</td>\n",
       "      <td>18.059858</td>\n",
       "      <td>-65.859871</td>\n",
       "    </tr>\n",
       "    <tr>\n",
       "      <th>3220</th>\n",
       "      <td>PR</td>\n",
       "      <td>Yauco Municipio</td>\n",
       "      <td>72153</td>\n",
       "      <td>18.085669</td>\n",
       "      <td>-66.857901</td>\n",
       "    </tr>\n",
       "  </tbody>\n",
       "</table>\n",
       "<p>78 rows × 5 columns</p>\n",
       "</div>"
      ],
      "text/plain": [
       "     state                  county   fips   latitude   longitude\n",
       "3143    PR      Adjuntas Municipio  72001  18.181611  -66.758165\n",
       "3144    PR        Aguada Municipio  72003  18.375673  -67.185745\n",
       "3145    PR     Aguadilla Municipio  72005  18.480191  -67.143762\n",
       "3146    PR  Aguas Buenas Municipio  72007  18.256524  -66.128496\n",
       "3147    PR      Aibonito Municipio  72009  18.130723   -66.26446\n",
       "...    ...                     ...    ...        ...         ...\n",
       "3216    PR     Vega Baja Municipio  72145  18.455128  -66.397883\n",
       "3217    PR       Vieques Municipio  72147  18.125418  -65.432474\n",
       "3218    PR      Villalba Municipio  72149  18.130718  -66.472244\n",
       "3219    PR       Yabucoa Municipio  72151  18.059858  -65.859871\n",
       "3220    PR         Yauco Municipio  72153  18.085669  -66.857901\n",
       "\n",
       "[78 rows x 5 columns]"
      ]
     },
     "execution_count": 35,
     "metadata": {},
     "output_type": "execute_result"
    }
   ],
   "source": [
    "fips_puertorico = gazeeter_counties[gazeeter_counties[\"state\"] == 'PR']\n",
    "fips_puertorico"
   ]
  },
  {
   "cell_type": "code",
   "execution_count": 36,
   "metadata": {},
   "outputs": [],
   "source": [
    "res = fips_puertorico.apply(func_closest_station, axis = 1)"
   ]
  },
  {
   "cell_type": "code",
   "execution_count": 37,
   "metadata": {},
   "outputs": [],
   "source": [
    "res.to_csv(\"county_station_withPuertoRico.csv\")"
   ]
  },
  {
   "cell_type": "markdown",
   "metadata": {},
   "source": [
    "# Map NY Times location to Gazeeter locations"
   ]
  },
  {
   "cell_type": "markdown",
   "metadata": {},
   "source": [
    "Check that all fips are unique in Gazeeter"
   ]
  },
  {
   "cell_type": "code",
   "execution_count": 38,
   "metadata": {},
   "outputs": [
    {
     "data": {
      "text/plain": [
       "0"
      ]
     },
     "execution_count": 38,
     "metadata": {},
     "output_type": "execute_result"
    }
   ],
   "source": [
    "gaz_counts = gazeeter_counties[\"fips\"].value_counts()\n",
    "len( gaz_counts[gaz_counts>1]) # 0 : all fips are unique !"
   ]
  },
  {
   "cell_type": "markdown",
   "metadata": {},
   "source": [
    "Check whether all fips are unique in New York Times data"
   ]
  },
  {
   "cell_type": "code",
   "execution_count": 39,
   "metadata": {},
   "outputs": [
    {
     "data": {
      "text/plain": [
       "    56\n",
       "Name: fips, dtype: int64"
      ]
     },
     "execution_count": 39,
     "metadata": {},
     "output_type": "execute_result"
    }
   ],
   "source": [
    "fips_counts = nytimes_counties[\"fips\"].value_counts()\n",
    "fips_counts[ fips_counts >1 ] # several empty fips"
   ]
  },
  {
   "cell_type": "markdown",
   "metadata": {},
   "source": [
    "Remove empty fips so that we can join with a one-to-one match"
   ]
  },
  {
   "cell_type": "code",
   "execution_count": 40,
   "metadata": {},
   "outputs": [
    {
     "data": {
      "text/plain": [
       "(3274, 3218, 56)"
      ]
     },
     "execution_count": 40,
     "metadata": {},
     "output_type": "execute_result"
    }
   ],
   "source": [
    "nytimes_counties_withfips = nytimes_counties[ nytimes_counties[\"fips\"] != '']\n",
    "nytimes_counties_nofips = nytimes_counties[nytimes_counties[\"fips\"] == '']\n",
    "len(nytimes_counties), len(nytimes_counties_withfips), len(nytimes_counties_nofips)"
   ]
  },
  {
   "cell_type": "code",
   "execution_count": 41,
   "metadata": {},
   "outputs": [
    {
     "data": {
      "text/plain": [
       "(3212, 3218)"
      ]
     },
     "execution_count": 41,
     "metadata": {},
     "output_type": "execute_result"
    }
   ],
   "source": [
    "nytimes_geo = pd.merge(nytimes_counties_withfips, gazeeter_counties, how = \"inner\", on = \"fips\", validate = \"one_to_one\")\n",
    "len(nytimes_geo), len(nytimes_counties_withfips)"
   ]
  },
  {
   "cell_type": "code",
   "execution_count": 42,
   "metadata": {},
   "outputs": [
    {
     "name": "stdout",
     "output_type": "stream",
     "text": [
      "Unknown fips in NYTimes data\n"
     ]
    },
    {
     "data": {
      "text/plain": [
       "{'02261', '69110', '69120', '78010', '78020', '78030'}"
      ]
     },
     "execution_count": 42,
     "metadata": {},
     "output_type": "execute_result"
    }
   ],
   "source": [
    "unknown_fips = set(nytimes_counties_withfips[\"fips\"]) - set(nytimes_geo[\"fips\"])\n",
    "print(\"Unknown fips in NYTimes data\")\n",
    "unknown_fips"
   ]
  },
  {
   "cell_type": "code",
   "execution_count": 43,
   "metadata": {},
   "outputs": [],
   "source": [
    "nytimes_unknown_fips = nytimes_counties_withfips[ nytimes_counties_withfips[\"fips\"].isin(unknown_fips)]"
   ]
  },
  {
   "cell_type": "code",
   "execution_count": 44,
   "metadata": {},
   "outputs": [
    {
     "data": {
      "text/html": [
       "<div>\n",
       "<style scoped>\n",
       "    .dataframe tbody tr th:only-of-type {\n",
       "        vertical-align: middle;\n",
       "    }\n",
       "\n",
       "    .dataframe tbody tr th {\n",
       "        vertical-align: top;\n",
       "    }\n",
       "\n",
       "    .dataframe thead th {\n",
       "        text-align: right;\n",
       "    }\n",
       "</style>\n",
       "<table border=\"1\" class=\"dataframe\">\n",
       "  <thead>\n",
       "    <tr style=\"text-align: right;\">\n",
       "      <th></th>\n",
       "      <th>state</th>\n",
       "      <th>county</th>\n",
       "      <th>fips</th>\n",
       "    </tr>\n",
       "  </thead>\n",
       "  <tbody>\n",
       "    <tr>\n",
       "      <th>2493</th>\n",
       "      <td>Virgin Islands</td>\n",
       "      <td>St. Croix</td>\n",
       "      <td>78010</td>\n",
       "    </tr>\n",
       "    <tr>\n",
       "      <th>2494</th>\n",
       "      <td>Virgin Islands</td>\n",
       "      <td>St. John</td>\n",
       "      <td>78020</td>\n",
       "    </tr>\n",
       "    <tr>\n",
       "      <th>2495</th>\n",
       "      <td>Virgin Islands</td>\n",
       "      <td>St. Thomas</td>\n",
       "      <td>78030</td>\n",
       "    </tr>\n",
       "    <tr>\n",
       "      <th>2990</th>\n",
       "      <td>Alaska</td>\n",
       "      <td>Valdez-Cordova Census Area</td>\n",
       "      <td>02261</td>\n",
       "    </tr>\n",
       "    <tr>\n",
       "      <th>3218</th>\n",
       "      <td>Northern Mariana Islands</td>\n",
       "      <td>Saipan</td>\n",
       "      <td>69110</td>\n",
       "    </tr>\n",
       "    <tr>\n",
       "      <th>3219</th>\n",
       "      <td>Northern Mariana Islands</td>\n",
       "      <td>Tinian</td>\n",
       "      <td>69120</td>\n",
       "    </tr>\n",
       "  </tbody>\n",
       "</table>\n",
       "</div>"
      ],
      "text/plain": [
       "                         state                      county   fips\n",
       "2493            Virgin Islands                   St. Croix  78010\n",
       "2494            Virgin Islands                    St. John  78020\n",
       "2495            Virgin Islands                  St. Thomas  78030\n",
       "2990                    Alaska  Valdez-Cordova Census Area  02261\n",
       "3218  Northern Mariana Islands                      Saipan  69110\n",
       "3219  Northern Mariana Islands                      Tinian  69120"
      ]
     },
     "execution_count": 44,
     "metadata": {},
     "output_type": "execute_result"
    }
   ],
   "source": [
    "nytimes_unknown_fips"
   ]
  },
  {
   "cell_type": "code",
   "execution_count": 45,
   "metadata": {},
   "outputs": [
    {
     "data": {
      "text/html": [
       "<div>\n",
       "<style scoped>\n",
       "    .dataframe tbody tr th:only-of-type {\n",
       "        vertical-align: middle;\n",
       "    }\n",
       "\n",
       "    .dataframe tbody tr th {\n",
       "        vertical-align: top;\n",
       "    }\n",
       "\n",
       "    .dataframe thead th {\n",
       "        text-align: right;\n",
       "    }\n",
       "</style>\n",
       "<table border=\"1\" class=\"dataframe\">\n",
       "  <thead>\n",
       "    <tr style=\"text-align: right;\">\n",
       "      <th></th>\n",
       "      <th>state</th>\n",
       "      <th>county</th>\n",
       "      <th>fips</th>\n",
       "    </tr>\n",
       "  </thead>\n",
       "  <tbody>\n",
       "    <tr>\n",
       "      <th>2229</th>\n",
       "      <td>Alaska</td>\n",
       "      <td>Unknown</td>\n",
       "      <td></td>\n",
       "    </tr>\n",
       "    <tr>\n",
       "      <th>1228</th>\n",
       "      <td>Arizona</td>\n",
       "      <td>Unknown</td>\n",
       "      <td></td>\n",
       "    </tr>\n",
       "    <tr>\n",
       "      <th>772</th>\n",
       "      <td>Arkansas</td>\n",
       "      <td>Unknown</td>\n",
       "      <td></td>\n",
       "    </tr>\n",
       "    <tr>\n",
       "      <th>1034</th>\n",
       "      <td>California</td>\n",
       "      <td>Unknown</td>\n",
       "      <td></td>\n",
       "    </tr>\n",
       "    <tr>\n",
       "      <th>1035</th>\n",
       "      <td>Colorado</td>\n",
       "      <td>Unknown</td>\n",
       "      <td></td>\n",
       "    </tr>\n",
       "    <tr>\n",
       "      <th>1987</th>\n",
       "      <td>Connecticut</td>\n",
       "      <td>Unknown</td>\n",
       "      <td></td>\n",
       "    </tr>\n",
       "    <tr>\n",
       "      <th>2618</th>\n",
       "      <td>Delaware</td>\n",
       "      <td>Unknown</td>\n",
       "      <td></td>\n",
       "    </tr>\n",
       "    <tr>\n",
       "      <th>1040</th>\n",
       "      <td>Florida</td>\n",
       "      <td>Unknown</td>\n",
       "      <td></td>\n",
       "    </tr>\n",
       "    <tr>\n",
       "      <th>798</th>\n",
       "      <td>Georgia</td>\n",
       "      <td>Unknown</td>\n",
       "      <td></td>\n",
       "    </tr>\n",
       "    <tr>\n",
       "      <th>388</th>\n",
       "      <td>Guam</td>\n",
       "      <td>Unknown</td>\n",
       "      <td></td>\n",
       "    </tr>\n",
       "    <tr>\n",
       "      <th>1154</th>\n",
       "      <td>Hawaii</td>\n",
       "      <td>Unknown</td>\n",
       "      <td></td>\n",
       "    </tr>\n",
       "    <tr>\n",
       "      <th>1558</th>\n",
       "      <td>Idaho</td>\n",
       "      <td>Unknown</td>\n",
       "      <td></td>\n",
       "    </tr>\n",
       "    <tr>\n",
       "      <th>1156</th>\n",
       "      <td>Illinois</td>\n",
       "      <td>Unknown</td>\n",
       "      <td></td>\n",
       "    </tr>\n",
       "    <tr>\n",
       "      <th>2178</th>\n",
       "      <td>Indiana</td>\n",
       "      <td>Unknown</td>\n",
       "      <td></td>\n",
       "    </tr>\n",
       "    <tr>\n",
       "      <th>2181</th>\n",
       "      <td>Iowa</td>\n",
       "      <td>Unknown</td>\n",
       "      <td></td>\n",
       "    </tr>\n",
       "    <tr>\n",
       "      <th>2564</th>\n",
       "      <td>Kansas</td>\n",
       "      <td>Unknown</td>\n",
       "      <td></td>\n",
       "    </tr>\n",
       "    <tr>\n",
       "      <th>690</th>\n",
       "      <td>Kentucky</td>\n",
       "      <td>Unknown</td>\n",
       "      <td></td>\n",
       "    </tr>\n",
       "    <tr>\n",
       "      <th>580</th>\n",
       "      <td>Louisiana</td>\n",
       "      <td>Unknown</td>\n",
       "      <td></td>\n",
       "    </tr>\n",
       "    <tr>\n",
       "      <th>446</th>\n",
       "      <td>Maine</td>\n",
       "      <td>Unknown</td>\n",
       "      <td></td>\n",
       "    </tr>\n",
       "    <tr>\n",
       "      <th>2185</th>\n",
       "      <td>Maryland</td>\n",
       "      <td>Unknown</td>\n",
       "      <td></td>\n",
       "    </tr>\n",
       "    <tr>\n",
       "      <th>449</th>\n",
       "      <td>Massachusetts</td>\n",
       "      <td>Unknown</td>\n",
       "      <td></td>\n",
       "    </tr>\n",
       "    <tr>\n",
       "      <th>1296</th>\n",
       "      <td>Michigan</td>\n",
       "      <td>Unknown</td>\n",
       "      <td></td>\n",
       "    </tr>\n",
       "    <tr>\n",
       "      <th>972</th>\n",
       "      <td>Minnesota</td>\n",
       "      <td>Unknown</td>\n",
       "      <td></td>\n",
       "    </tr>\n",
       "    <tr>\n",
       "      <th>1726</th>\n",
       "      <td>Mississippi</td>\n",
       "      <td>Unknown</td>\n",
       "      <td></td>\n",
       "    </tr>\n",
       "    <tr>\n",
       "      <th>838</th>\n",
       "      <td>Missouri</td>\n",
       "      <td>Unknown</td>\n",
       "      <td></td>\n",
       "    </tr>\n",
       "    <tr>\n",
       "      <th>3162</th>\n",
       "      <td>Missouri</td>\n",
       "      <td>Joplin</td>\n",
       "      <td></td>\n",
       "    </tr>\n",
       "    <tr>\n",
       "      <th>835</th>\n",
       "      <td>Missouri</td>\n",
       "      <td>Kansas City</td>\n",
       "      <td></td>\n",
       "    </tr>\n",
       "    <tr>\n",
       "      <th>2129</th>\n",
       "      <td>Montana</td>\n",
       "      <td>Unknown</td>\n",
       "      <td></td>\n",
       "    </tr>\n",
       "    <tr>\n",
       "      <th>2043</th>\n",
       "      <td>Nebraska</td>\n",
       "      <td>Unknown</td>\n",
       "      <td></td>\n",
       "    </tr>\n",
       "    <tr>\n",
       "      <th>725</th>\n",
       "      <td>Nevada</td>\n",
       "      <td>Unknown</td>\n",
       "      <td></td>\n",
       "    </tr>\n",
       "    <tr>\n",
       "      <th>2395</th>\n",
       "      <td>New Hampshire</td>\n",
       "      <td>Unknown</td>\n",
       "      <td></td>\n",
       "    </tr>\n",
       "    <tr>\n",
       "      <th>231</th>\n",
       "      <td>New Jersey</td>\n",
       "      <td>Unknown</td>\n",
       "      <td></td>\n",
       "    </tr>\n",
       "    <tr>\n",
       "      <th>2336</th>\n",
       "      <td>New Mexico</td>\n",
       "      <td>Unknown</td>\n",
       "      <td></td>\n",
       "    </tr>\n",
       "    <tr>\n",
       "      <th>1933</th>\n",
       "      <td>New York</td>\n",
       "      <td>Unknown</td>\n",
       "      <td></td>\n",
       "    </tr>\n",
       "    <tr>\n",
       "      <th>25</th>\n",
       "      <td>New York</td>\n",
       "      <td>New York City</td>\n",
       "      <td></td>\n",
       "    </tr>\n",
       "    <tr>\n",
       "      <th>3273</th>\n",
       "      <td>North Carolina</td>\n",
       "      <td>Unknown</td>\n",
       "      <td></td>\n",
       "    </tr>\n",
       "    <tr>\n",
       "      <th>2634</th>\n",
       "      <td>North Dakota</td>\n",
       "      <td>Unknown</td>\n",
       "      <td></td>\n",
       "    </tr>\n",
       "    <tr>\n",
       "      <th>1845</th>\n",
       "      <td>Northern Mariana Islands</td>\n",
       "      <td>Unknown</td>\n",
       "      <td></td>\n",
       "    </tr>\n",
       "    <tr>\n",
       "      <th>3088</th>\n",
       "      <td>Ohio</td>\n",
       "      <td>Unknown</td>\n",
       "      <td></td>\n",
       "    </tr>\n",
       "    <tr>\n",
       "      <th>2203</th>\n",
       "      <td>Oklahoma</td>\n",
       "      <td>Unknown</td>\n",
       "      <td></td>\n",
       "    </tr>\n",
       "    <tr>\n",
       "      <th>3271</th>\n",
       "      <td>Oregon</td>\n",
       "      <td>Unknown</td>\n",
       "      <td></td>\n",
       "    </tr>\n",
       "    <tr>\n",
       "      <th>2144</th>\n",
       "      <td>Pennsylvania</td>\n",
       "      <td>Unknown</td>\n",
       "      <td></td>\n",
       "    </tr>\n",
       "    <tr>\n",
       "      <th>299</th>\n",
       "      <td>Puerto Rico</td>\n",
       "      <td>Unknown</td>\n",
       "      <td></td>\n",
       "    </tr>\n",
       "    <tr>\n",
       "      <th>26</th>\n",
       "      <td>Rhode Island</td>\n",
       "      <td>Unknown</td>\n",
       "      <td></td>\n",
       "    </tr>\n",
       "    <tr>\n",
       "      <th>3246</th>\n",
       "      <td>South Carolina</td>\n",
       "      <td>Unknown</td>\n",
       "      <td></td>\n",
       "    </tr>\n",
       "    <tr>\n",
       "      <th>2490</th>\n",
       "      <td>South Dakota</td>\n",
       "      <td>Unknown</td>\n",
       "      <td></td>\n",
       "    </tr>\n",
       "    <tr>\n",
       "      <th>748</th>\n",
       "      <td>Tennessee</td>\n",
       "      <td>Unknown</td>\n",
       "      <td></td>\n",
       "    </tr>\n",
       "    <tr>\n",
       "      <th>1344</th>\n",
       "      <td>Texas</td>\n",
       "      <td>Unknown</td>\n",
       "      <td></td>\n",
       "    </tr>\n",
       "    <tr>\n",
       "      <th>1512</th>\n",
       "      <td>Utah</td>\n",
       "      <td>Unknown</td>\n",
       "      <td></td>\n",
       "    </tr>\n",
       "    <tr>\n",
       "      <th>1220</th>\n",
       "      <td>Vermont</td>\n",
       "      <td>Unknown</td>\n",
       "      <td></td>\n",
       "    </tr>\n",
       "    <tr>\n",
       "      <th>370</th>\n",
       "      <td>Virgin Islands</td>\n",
       "      <td>Unknown</td>\n",
       "      <td></td>\n",
       "    </tr>\n",
       "    <tr>\n",
       "      <th>1350</th>\n",
       "      <td>Virginia</td>\n",
       "      <td>Unknown</td>\n",
       "      <td></td>\n",
       "    </tr>\n",
       "    <tr>\n",
       "      <th>1351</th>\n",
       "      <td>Washington</td>\n",
       "      <td>Unknown</td>\n",
       "      <td></td>\n",
       "    </tr>\n",
       "    <tr>\n",
       "      <th>2225</th>\n",
       "      <td>West Virginia</td>\n",
       "      <td>Unknown</td>\n",
       "      <td></td>\n",
       "    </tr>\n",
       "    <tr>\n",
       "      <th>3125</th>\n",
       "      <td>Wisconsin</td>\n",
       "      <td>Unknown</td>\n",
       "      <td></td>\n",
       "    </tr>\n",
       "    <tr>\n",
       "      <th>2587</th>\n",
       "      <td>Wyoming</td>\n",
       "      <td>Unknown</td>\n",
       "      <td></td>\n",
       "    </tr>\n",
       "  </tbody>\n",
       "</table>\n",
       "</div>"
      ],
      "text/plain": [
       "                         state         county fips\n",
       "2229                    Alaska        Unknown     \n",
       "1228                   Arizona        Unknown     \n",
       "772                   Arkansas        Unknown     \n",
       "1034                California        Unknown     \n",
       "1035                  Colorado        Unknown     \n",
       "1987               Connecticut        Unknown     \n",
       "2618                  Delaware        Unknown     \n",
       "1040                   Florida        Unknown     \n",
       "798                    Georgia        Unknown     \n",
       "388                       Guam        Unknown     \n",
       "1154                    Hawaii        Unknown     \n",
       "1558                     Idaho        Unknown     \n",
       "1156                  Illinois        Unknown     \n",
       "2178                   Indiana        Unknown     \n",
       "2181                      Iowa        Unknown     \n",
       "2564                    Kansas        Unknown     \n",
       "690                   Kentucky        Unknown     \n",
       "580                  Louisiana        Unknown     \n",
       "446                      Maine        Unknown     \n",
       "2185                  Maryland        Unknown     \n",
       "449              Massachusetts        Unknown     \n",
       "1296                  Michigan        Unknown     \n",
       "972                  Minnesota        Unknown     \n",
       "1726               Mississippi        Unknown     \n",
       "838                   Missouri        Unknown     \n",
       "3162                  Missouri         Joplin     \n",
       "835                   Missouri    Kansas City     \n",
       "2129                   Montana        Unknown     \n",
       "2043                  Nebraska        Unknown     \n",
       "725                     Nevada        Unknown     \n",
       "2395             New Hampshire        Unknown     \n",
       "231                 New Jersey        Unknown     \n",
       "2336                New Mexico        Unknown     \n",
       "1933                  New York        Unknown     \n",
       "25                    New York  New York City     \n",
       "3273            North Carolina        Unknown     \n",
       "2634              North Dakota        Unknown     \n",
       "1845  Northern Mariana Islands        Unknown     \n",
       "3088                      Ohio        Unknown     \n",
       "2203                  Oklahoma        Unknown     \n",
       "3271                    Oregon        Unknown     \n",
       "2144              Pennsylvania        Unknown     \n",
       "299                Puerto Rico        Unknown     \n",
       "26                Rhode Island        Unknown     \n",
       "3246            South Carolina        Unknown     \n",
       "2490              South Dakota        Unknown     \n",
       "748                  Tennessee        Unknown     \n",
       "1344                     Texas        Unknown     \n",
       "1512                      Utah        Unknown     \n",
       "1220                   Vermont        Unknown     \n",
       "370             Virgin Islands        Unknown     \n",
       "1350                  Virginia        Unknown     \n",
       "1351                Washington        Unknown     \n",
       "2225             West Virginia        Unknown     \n",
       "3125                 Wisconsin        Unknown     \n",
       "2587                   Wyoming        Unknown     "
      ]
     },
     "execution_count": 45,
     "metadata": {},
     "output_type": "execute_result"
    }
   ],
   "source": [
    "nytimes_counties_nofips.sort_values(\"state\")"
   ]
  },
  {
   "cell_type": "markdown",
   "metadata": {},
   "source": [
    "New York : New York, Kings, Queens, Bronx and Richmond  :40.712740°N 74.005974°W\n",
    "Kansas City (Missouri) : Kansas City town, can belong to Cass, Clay, Jackson and Platte county :  39.099724, and the longitude is -94.578331\n",
    "Joplin (Missouri) : city :37.0842° N, 94.5133° W\n",
    "Puerto Rico"
   ]
  },
  {
   "cell_type": "code",
   "execution_count": 46,
   "metadata": {},
   "outputs": [
    {
     "data": {
      "text/plain": [
       "array(['AL', 'AK', 'AZ', 'AR', 'CA', 'CO', 'CT', 'DE', 'DC', 'FL', 'GA',\n",
       "       'HI', 'ID', 'IL', 'IN', 'IA', 'KS', 'KY', 'LA', 'ME', 'MD', 'MA',\n",
       "       'MI', 'MN', 'MS', 'MO', 'MT', 'NE', 'NV', 'NH', 'NJ', 'NM', 'NY',\n",
       "       'NC', 'ND', 'OH', 'OK', 'OR', 'PA', 'RI', 'SC', 'SD', 'TN', 'TX',\n",
       "       'UT', 'VT', 'VA', 'WA', 'WV', 'WI', 'WY', 'PR'], dtype=object)"
      ]
     },
     "execution_count": 46,
     "metadata": {},
     "output_type": "execute_result"
    }
   ],
   "source": [
    "gazeeter_counties[\"state\"].unique()"
   ]
  },
  {
   "cell_type": "code",
   "execution_count": null,
   "metadata": {},
   "outputs": [],
   "source": []
  }
 ],
 "metadata": {
  "kernelspec": {
   "display_name": "Python 3",
   "language": "python",
   "name": "python3"
  },
  "language_info": {
   "codemirror_mode": {
    "name": "ipython",
    "version": 3
   },
   "file_extension": ".py",
   "mimetype": "text/x-python",
   "name": "python",
   "nbconvert_exporter": "python",
   "pygments_lexer": "ipython3",
   "version": "3.7.9"
  },
  "toc": {
   "base_numbering": 1,
   "nav_menu": {},
   "number_sections": true,
   "sideBar": true,
   "skip_h1_title": false,
   "title_cell": "Table of Contents",
   "title_sidebar": "Contents",
   "toc_cell": false,
   "toc_position": {},
   "toc_section_display": true,
   "toc_window_display": false
  },
  "varInspector": {
   "cols": {
    "lenName": 16,
    "lenType": 16,
    "lenVar": 40
   },
   "kernels_config": {
    "python": {
     "delete_cmd_postfix": "",
     "delete_cmd_prefix": "del ",
     "library": "var_list.py",
     "varRefreshCmd": "print(var_dic_list())"
    },
    "r": {
     "delete_cmd_postfix": ") ",
     "delete_cmd_prefix": "rm(",
     "library": "var_list.r",
     "varRefreshCmd": "cat(var_dic_list()) "
    }
   },
   "types_to_exclude": [
    "module",
    "function",
    "builtin_function_or_method",
    "instance",
    "_Feature"
   ],
   "window_display": false
  }
 },
 "nbformat": 4,
 "nbformat_minor": 2
}
