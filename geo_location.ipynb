{
 "cells": [
  {
   "cell_type": "code",
   "execution_count": null,
   "metadata": {},
   "outputs": [],
   "source": [
    "import numpy as np\n",
    "import pandas as pd\n",
    "import os\n",
    "import configparser"
   ]
  },
  {
   "cell_type": "code",
   "execution_count": null,
   "metadata": {},
   "outputs": [],
   "source": [
    "config = configparser.ConfigParser()\n",
    "config.read(\"capstone.cfg\")"
   ]
  },
  {
   "cell_type": "code",
   "execution_count": null,
   "metadata": {},
   "outputs": [],
   "source": [
    "project_path = config[\"PATH\"][\"PROJECT\"]\n",
    "print(project_path)"
   ]
  },
  {
   "cell_type": "markdown",
   "metadata": {},
   "source": [
    "# Functions to parse geographic info from various data sources"
   ]
  },
  {
   "cell_type": "markdown",
   "metadata": {},
   "source": [
    "## Weather stations"
   ]
  },
  {
   "cell_type": "code",
   "execution_count": null,
   "metadata": {},
   "outputs": [],
   "source": [
    "def parse_stations_(name):\n",
    "    l_res = []\n",
    "    with open(name) as f:\n",
    "        n=0\n",
    "        for line in f:\n",
    "            l_str = line.split()\n",
    "            #print(l_str)\n",
    "            res = l_str[0:5]\n",
    "            #print(res)\n",
    "            toto = \" \".join(l_str[5:]) \n",
    "            #print(toto)\n",
    "            res.append(toto)\n",
    "            l_res.append(res)\n",
    "            n+=1\n",
    "#            if n ==10:\n",
    "#                break\n",
    "    return l_res"
   ]
  },
  {
   "cell_type": "code",
   "execution_count": null,
   "metadata": {},
   "outputs": [],
   "source": [
    "def parse_stations(name):\n",
    "    l_stations = parse_stations_(name)\n",
    "    df_stations = pd.DataFrame(l_stations, columns = [\"ID\", \"latitude\", \"longitude\", \"elevation\", \"state\", \"name\"])\n",
    "    return df_stations"
   ]
  },
  {
   "cell_type": "markdown",
   "metadata": {},
   "source": [
    "## geographic info from NYTimes covid data"
   ]
  },
  {
   "cell_type": "code",
   "execution_count": null,
   "metadata": {},
   "outputs": [],
   "source": [
    "def NYT_counties_(name):\n",
    "    d_res = {}\n",
    "    with open(name) as f :\n",
    "        header = f.readline()\n",
    "        for line in f :\n",
    "            l_str = line.split(\",\")\n",
    "            # state,county, fips\n",
    "            d_res.setdefault( (l_str[2], l_str[1], l_str[3]), True  )\n",
    "    return d_res\n"
   ]
  },
  {
   "cell_type": "code",
   "execution_count": null,
   "metadata": {},
   "outputs": [],
   "source": [
    "def NYT_counties(name):\n",
    "    dict_counties= NYT_counties_(name)\n",
    "    df_counties = pd.DataFrame(dict_counties.keys(), columns = [\"state\", \"county\", \"fips\"])\n",
    "    return df_counties        "
   ]
  },
  {
   "cell_type": "markdown",
   "metadata": {},
   "source": [
    "## US counties geographic info from Gazeeter"
   ]
  },
  {
   "cell_type": "code",
   "execution_count": null,
   "metadata": {},
   "outputs": [],
   "source": [
    "def counties_lat_long_(name):\n",
    "    with open(name) as f :\n",
    "        headers = f.readline().split()\n",
    "        l_headers = len(headers)\n",
    "        print(\"len of headers : \", l_headers )\n",
    "        l_res = []\n",
    "        for line in f :\n",
    "            l_str = line.split()\n",
    "            state = l_str[0]\n",
    "            fips = l_str[1]\n",
    "            latitude = l_str[-2]\n",
    "            longitude = l_str[-1]\n",
    "            l = len(l_str)\n",
    "            n_words = l - l_headers + 1\n",
    "            county = \" \".join( l_str[3:3+n_words] )\n",
    "            #d_res.setdefault(state, []).append( [ state, county, fips, latitude, longitude ])\n",
    "            l_res.append( [state, county, fips, latitude, longitude ])\n",
    "        return l_res\n"
   ]
  },
  {
   "cell_type": "code",
   "execution_count": null,
   "metadata": {},
   "outputs": [],
   "source": [
    "def counties_lat_long(name):\n",
    "    l_gazeeter = counties_lat_long_(name)\n",
    "    df_gazeeter = pd.DataFrame(l_gazeeter, columns = [\"state\", \"county\", \"fips\", \"latitude\", \"longitude\"])\n",
    "    return df_gazeeter"
   ]
  },
  {
   "cell_type": "markdown",
   "metadata": {},
   "source": [
    "# Read data"
   ]
  },
  {
   "cell_type": "code",
   "execution_count": null,
   "metadata": {},
   "outputs": [],
   "source": [
    "data_root = os.path.join(project_path, 'DATA/')"
   ]
  },
  {
   "cell_type": "markdown",
   "metadata": {},
   "source": [
    "## Weather stations location"
   ]
  },
  {
   "cell_type": "code",
   "execution_count": null,
   "metadata": {},
   "outputs": [],
   "source": [
    "#df_stations = parse_stations( os.path.join(data_root, 'WEATHER/US_ghcnd_stations.txt'))\n",
    "df_stations = parse_stations( os.path.join(data_root, 'WEATHER/US_PuertoRico_stations.txt'))\n",
    "df_stations.head()"
   ]
  },
  {
   "cell_type": "code",
   "execution_count": null,
   "metadata": {},
   "outputs": [],
   "source": [
    "df_puertorico =parse_stations( os.path.join(data_root, 'WEATHER/PuertoRico_ghcnd_stations.txt'))\n",
    "df_puertorico.head()"
   ]
  },
  {
   "cell_type": "code",
   "execution_count": null,
   "metadata": {},
   "outputs": [],
   "source": [
    "len(df_stations), len(df_puertorico)\n"
   ]
  },
  {
   "cell_type": "markdown",
   "metadata": {},
   "source": [
    "## COVID deaths and case per county per day, from NewYork Times"
   ]
  },
  {
   "cell_type": "code",
   "execution_count": null,
   "metadata": {},
   "outputs": [],
   "source": [
    "nytimes_counties = NYT_counties( os.path.join(data_root, \"us-counties.txt\"))\n",
    "print( \"number of counties from NY Times:\", len(nytimes_counties))\n",
    "nytimes_counties.head()"
   ]
  },
  {
   "cell_type": "markdown",
   "metadata": {},
   "source": [
    "## Counties fips to geographic coordinates (latitude, longitude) \n"
   ]
  },
  {
   "cell_type": "code",
   "execution_count": null,
   "metadata": {},
   "outputs": [],
   "source": [
    "gazeeter_counties= counties_lat_long( os.path.join(data_root,\"2020_Gaz_counties_national.txt\"))\n",
    "print(\"number of counties from Gazeeter : \", len(gazeeter_counties))\n",
    "gazeeter_counties.head()"
   ]
  },
  {
   "cell_type": "code",
   "execution_count": null,
   "metadata": {},
   "outputs": [],
   "source": [
    "class DistanceToStation :\n",
    "    def __init__(self, df_stations):\n",
    "        ''' init computations for latitude and longitude'''\n",
    "        self.df_stations = df_stations.copy(deep = True)\n",
    "        self.df_stations[\"latitude_degrees\"] = self.df_stations[\"latitude\"]\n",
    "        self.df_stations[\"longitude_degrees\"] = self.df_stations[\"longitude\"]\n",
    "        \n",
    "        self.df_stations[\"elevation\"] = self.df_stations[\"elevation\"].apply( lambda x : float(x) )\n",
    "        def degree_to_radian(x):\n",
    "            return  float(x)* np.pi / 180.\n",
    "        self.df_stations[\"latitude\"] = self.df_stations[\"latitude\"].apply( degree_to_radian) \n",
    "        self.df_stations[\"longitude\"] = self.df_stations[\"longitude\"].apply( degree_to_radian)\n",
    "        self.df_stations[\"cos_latitude\"] = np.cos(self.df_stations[\"latitude\"])\n",
    "           \n",
    "    \n",
    "    def closest_station( self, lati, longi):\n",
    "        latitude = float(lati) * np.pi / 180.\n",
    "        longitude = float(longi) * np.pi / 180.\n",
    "        cos_lat = np.cos(latitude)\n",
    "        #print( f'latitude : {latitude}, longitude : {longitude}, cos(latitude) : {cos_lat}')\n",
    "        # Haversine formula\n",
    "        self.df_stations[\"delta_lat_term\"] = ( np.sin( (self.df_stations[\"latitude\"] - latitude) * 0.5 ) )**2\n",
    "        self.df_stations[\"delta_long_term\"] = ( np.sin( (self.df_stations[\"longitude\"] - longitude) * 0.5) )**2\n",
    "        self.df_stations[\"a\"] = self.df_stations[\"delta_lat_term\"] + self.df_stations[\"delta_long_term\"] \\\n",
    "                        * cos_lat * self.df_stations[\"cos_latitude\"]\n",
    "        self.df_stations[\"sqrt_a\"] = self.df_stations[\"a\"].apply( lambda x : np.sqrt(x) )\n",
    "        self.df_stations[\"sqrt_1_a\"] = self.df_stations[\"a\"].apply( lambda x : np.sqrt(1.- x) )\n",
    "        self.df_stations[\"angle\"] = np.arctan2( np.sqrt(self.df_stations[\"a\"]), np.sqrt( 1. - self.df_stations[\"a\"] ) )\n",
    "        closest = self.df_stations[\"angle\"].idxmin()\n",
    "        #print(closest)\n",
    "        return closest, self.df_stations.iloc[closest]\n",
    "        "
   ]
  },
  {
   "cell_type": "markdown",
   "metadata": {},
   "source": [
    "# Map fips to the closest weather station\n",
    "\n",
    "for each county, find the station closest to its 'center'\n"
   ]
  },
  {
   "cell_type": "code",
   "execution_count": null,
   "metadata": {},
   "outputs": [],
   "source": [
    "station_distance = DistanceToStation(df_stations);"
   ]
  },
  {
   "cell_type": "markdown",
   "metadata": {},
   "source": [
    "## Test with first county"
   ]
  },
  {
   "cell_type": "code",
   "execution_count": null,
   "metadata": {},
   "outputs": [],
   "source": [
    "from collections import OrderedDict\n",
    "for county in gazeeter_counties.itertuples(index = False):\n",
    "    d_county = county._asdict()\n",
    "    idx_closest, closest = station_distance.closest_station( d_county[\"latitude\"], d_county[\"longitude\"] )\n",
    "    print(d_county)\n",
    "    print(idx_closest)\n",
    "    print(closest)\n",
    "    break"
   ]
  },
  {
   "cell_type": "code",
   "execution_count": null,
   "metadata": {},
   "outputs": [],
   "source": [
    "type(closest)"
   ]
  },
  {
   "cell_type": "code",
   "execution_count": null,
   "metadata": {},
   "outputs": [],
   "source": [
    "type(closest[\"latitude\"]), type(closest[\"ID\"])"
   ]
  },
  {
   "cell_type": "code",
   "execution_count": null,
   "metadata": {},
   "outputs": [],
   "source": [
    "closest.loc[[\"ID\", \"latitude\"]]"
   ]
  },
  {
   "cell_type": "code",
   "execution_count": null,
   "metadata": {},
   "outputs": [],
   "source": [
    "len(df_stations)"
   ]
  },
  {
   "cell_type": "markdown",
   "metadata": {},
   "source": [
    "## Test with Washingon DC (small state)"
   ]
  },
  {
   "cell_type": "code",
   "execution_count": null,
   "metadata": {},
   "outputs": [],
   "source": [
    "df_WashingtonDC_stations = df_stations[ df_stations[\"state\"] == \"DC\" ]\n",
    "df_WashingtonDC_stations"
   ]
  },
  {
   "cell_type": "code",
   "execution_count": null,
   "metadata": {},
   "outputs": [],
   "source": [
    "average_lat = np.average(df_WashingtonDC_stations[\"latitude\"].apply(lambda x : float(x)))\n",
    "average_long = np.average(df_WashingtonDC_stations[\"longitude\"].apply(lambda x : float(x)))\n",
    "average_lat, average_long"
   ]
  },
  {
   "cell_type": "code",
   "execution_count": null,
   "metadata": {},
   "outputs": [],
   "source": [
    "df_WashingtonDC_gazeeter = gazeeter_counties[ gazeeter_counties[\"state\"] == \"DC\"]\n",
    "df_WashingtonDC_gazeeter"
   ]
  },
  {
   "cell_type": "code",
   "execution_count": null,
   "metadata": {},
   "outputs": [],
   "source": [
    "county = df_WashingtonDC_gazeeter.iloc[0]\n",
    "i_closest, closest = station_distance.closest_station( float(county[\"latitude\"]), float(county[\"longitude\"]) )\n"
   ]
  },
  {
   "cell_type": "code",
   "execution_count": null,
   "metadata": {},
   "outputs": [],
   "source": [
    "closest"
   ]
  },
  {
   "cell_type": "markdown",
   "metadata": {},
   "source": [
    "## All county fips"
   ]
  },
  {
   "cell_type": "code",
   "execution_count": null,
   "metadata": {},
   "outputs": [],
   "source": [
    "def func_closest_station(df_row):\n",
    "    i, res = station_distance.closest_station( df_row[\"latitude\"], df_row[\"longitude\"] )\n",
    "    return res.loc[[\"ID\", \"latitude\", \"longitude\",\"elevation\",\"state\",\"name\"]]\n",
    "\n",
    "res = gazeeter_counties.apply(func_closest_station, axis = 1)\n",
    "res.to_csv(\"county_station.csv\")\n",
    "#gazeeter_counties[ [\"station_ID\", \"station_latitude\", \"station_longitude\", \"station_elevation\", \"station_state\", \"station_name\"]] = \\\n",
    "#    gazeeter_counties.apply(func_closest_station)\n",
    "    "
   ]
  },
  {
   "cell_type": "code",
   "execution_count": null,
   "metadata": {},
   "outputs": [],
   "source": [
    "gazeeter_counties.head()"
   ]
  },
  {
   "cell_type": "code",
   "execution_count": null,
   "metadata": {},
   "outputs": [],
   "source": [
    "gazeeter_counties.to_csv(\"counties.csv\")"
   ]
  },
  {
   "cell_type": "code",
   "execution_count": null,
   "metadata": {},
   "outputs": [],
   "source": [
    "len(station_distance.df_stations)"
   ]
  },
  {
   "cell_type": "code",
   "execution_count": null,
   "metadata": {},
   "outputs": [],
   "source": [
    "fips_puertorico = gazeeter_counties[gazeeter_counties[\"state\"] == 'PR']\n",
    "fips_puertorico"
   ]
  },
  {
   "cell_type": "code",
   "execution_count": null,
   "metadata": {},
   "outputs": [],
   "source": [
    "res = fips_puertorico.apply(func_closest_station, axis = 1)"
   ]
  },
  {
   "cell_type": "code",
   "execution_count": null,
   "metadata": {},
   "outputs": [],
   "source": [
    "res.to_csv(\"county_station_withPuertoRico.csv\")"
   ]
  },
  {
   "cell_type": "markdown",
   "metadata": {},
   "source": [
    "# Map NY Times location to Gazeeter locations"
   ]
  },
  {
   "cell_type": "markdown",
   "metadata": {},
   "source": [
    "Check that all fips are unique in Gazeeter"
   ]
  },
  {
   "cell_type": "code",
   "execution_count": null,
   "metadata": {},
   "outputs": [],
   "source": [
    "gaz_counts = gazeeter_counties[\"fips\"].value_counts()\n",
    "len( gaz_counts[gaz_counts>1]) # 0 : all fips are unique !"
   ]
  },
  {
   "cell_type": "markdown",
   "metadata": {},
   "source": [
    "Check whether all fips are unique in New York Times data"
   ]
  },
  {
   "cell_type": "code",
   "execution_count": null,
   "metadata": {},
   "outputs": [],
   "source": [
    "fips_counts = nytimes_counties[\"fips\"].value_counts()\n",
    "fips_counts[ fips_counts >1 ] # several empty fips"
   ]
  },
  {
   "cell_type": "markdown",
   "metadata": {},
   "source": [
    "Remove empty fips so that we can join with a one-to-one match"
   ]
  },
  {
   "cell_type": "code",
   "execution_count": null,
   "metadata": {},
   "outputs": [],
   "source": [
    "nytimes_counties_withfips = nytimes_counties[ nytimes_counties[\"fips\"] != '']\n",
    "nytimes_counties_nofips = nytimes_counties[nytimes_counties[\"fips\"] == '']\n",
    "len(nytimes_counties), len(nytimes_counties_withfips), len(nytimes_counties_nofips)"
   ]
  },
  {
   "cell_type": "code",
   "execution_count": null,
   "metadata": {},
   "outputs": [],
   "source": [
    "nytimes_geo = pd.merge(nytimes_counties_withfips, gazeeter_counties, how = \"inner\", on = \"fips\", validate = \"one_to_one\")\n",
    "len(nytimes_geo), len(nytimes_counties_withfips)"
   ]
  },
  {
   "cell_type": "code",
   "execution_count": null,
   "metadata": {},
   "outputs": [],
   "source": [
    "unknown_fips = set(nytimes_counties_withfips[\"fips\"]) - set(nytimes_geo[\"fips\"])\n",
    "print(\"Unknown fips in NYTimes data\")\n",
    "unknown_fips"
   ]
  },
  {
   "cell_type": "code",
   "execution_count": null,
   "metadata": {},
   "outputs": [],
   "source": [
    "nytimes_unknown_fips = nytimes_counties_withfips[ nytimes_counties_withfips[\"fips\"].isin(unknown_fips)]"
   ]
  },
  {
   "cell_type": "code",
   "execution_count": null,
   "metadata": {},
   "outputs": [],
   "source": [
    "nytimes_unknown_fips"
   ]
  },
  {
   "cell_type": "code",
   "execution_count": null,
   "metadata": {},
   "outputs": [],
   "source": [
    "nytimes_counties_nofips.sort_values(\"state\")"
   ]
  },
  {
   "cell_type": "markdown",
   "metadata": {},
   "source": [
    "New York : New York, Kings, Queens, Bronx and Richmond  :40.712740°N 74.005974°W\n",
    "Kansas City (Missouri) : Kansas City town, can belong to Cass, Clay, Jackson and Platte county :  39.099724, and the longitude is -94.578331\n",
    "Joplin (Missouri) : city :37.0842° N, 94.5133° W\n",
    "Puerto Rico"
   ]
  },
  {
   "cell_type": "code",
   "execution_count": null,
   "metadata": {},
   "outputs": [],
   "source": [
    "gazeeter_counties[\"state\"].unique()"
   ]
  },
  {
   "cell_type": "code",
   "execution_count": null,
   "metadata": {},
   "outputs": [],
   "source": []
  }
 ],
 "metadata": {
  "kernelspec": {
   "display_name": "Python 3",
   "language": "python",
   "name": "python3"
  },
  "language_info": {
   "codemirror_mode": {
    "name": "ipython",
    "version": 3
   },
   "file_extension": ".py",
   "mimetype": "text/x-python",
   "name": "python",
   "nbconvert_exporter": "python",
   "pygments_lexer": "ipython3",
   "version": "3.7.9"
  },
  "toc": {
   "base_numbering": 1,
   "nav_menu": {},
   "number_sections": true,
   "sideBar": true,
   "skip_h1_title": false,
   "title_cell": "Table of Contents",
   "title_sidebar": "Contents",
   "toc_cell": false,
   "toc_position": {},
   "toc_section_display": true,
   "toc_window_display": false
  },
  "varInspector": {
   "cols": {
    "lenName": 16,
    "lenType": 16,
    "lenVar": 40
   },
   "kernels_config": {
    "python": {
     "delete_cmd_postfix": "",
     "delete_cmd_prefix": "del ",
     "library": "var_list.py",
     "varRefreshCmd": "print(var_dic_list())"
    },
    "r": {
     "delete_cmd_postfix": ") ",
     "delete_cmd_prefix": "rm(",
     "library": "var_list.r",
     "varRefreshCmd": "cat(var_dic_list()) "
    }
   },
   "types_to_exclude": [
    "module",
    "function",
    "builtin_function_or_method",
    "instance",
    "_Feature"
   ],
   "window_display": false
  }
 },
 "nbformat": 4,
 "nbformat_minor": 2
}
