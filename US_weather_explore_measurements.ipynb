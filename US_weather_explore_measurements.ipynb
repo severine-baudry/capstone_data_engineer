{
 "cells": [
  {
   "cell_type": "code",
   "execution_count": 56,
   "metadata": {},
   "outputs": [],
   "source": [
    "import configparser\n",
    "import os\n",
    "import pyspark\n",
    "from pyspark import SparkConf\n",
    "from pyspark.sql import SparkSession\n",
    "import pyspark.sql.functions as F\n",
    "import pyspark.sql.types as T\n",
    "import pandas as pd\n",
    "import matplotlib.pyplot as plt\n",
    "from datetime import date, timedelta"
   ]
  },
  {
   "cell_type": "code",
   "execution_count": 57,
   "metadata": {},
   "outputs": [
    {
     "data": {
      "text/plain": [
       "['capstone.cfg']"
      ]
     },
     "execution_count": 57,
     "metadata": {},
     "output_type": "execute_result"
    }
   ],
   "source": [
    "config = configparser.ConfigParser()\n",
    "config.read(\"capstone.cfg\")"
   ]
  },
  {
   "cell_type": "code",
   "execution_count": 58,
   "metadata": {},
   "outputs": [],
   "source": [
    "os.chdir(config[\"PATH\"][\"project\"])"
   ]
  },
  {
   "cell_type": "markdown",
   "metadata": {},
   "source": [
    "Create spark session. Add driver postgress to enable to load from existing postgres DB\n"
   ]
  },
  {
   "cell_type": "code",
   "execution_count": 59,
   "metadata": {},
   "outputs": [],
   "source": [
    "# add driver postgress to enable to load from existing postgres DB\n",
    "spark = SparkSession \\\n",
    "    .builder \\\n",
    "    .appName(\"US_weather\") \\\n",
    "    .config(\"spark.jars\", \"postgresql-42.2.18.jar\")\\\n",
    "    .config( \"spark.driver.extraClassPath\", \"postgresql-42.2.18.jar\")\\\n",
    "    .getOrCreate()"
   ]
  },
  {
   "cell_type": "markdown",
   "metadata": {},
   "source": [
    "Connect to postgres; read stations table from postgres DB \"covid\""
   ]
  },
  {
   "cell_type": "markdown",
   "metadata": {},
   "source": [
    "# Load data"
   ]
  },
  {
   "cell_type": "markdown",
   "metadata": {},
   "source": [
    "## Load weather stations location data from postgres DB"
   ]
  },
  {
   "cell_type": "code",
   "execution_count": 62,
   "metadata": {},
   "outputs": [],
   "source": [
    "stations = spark.read.format(\"jdbc\")\\\n",
    "    .option(\"url\" , \"jdbc:postgresql://localhost:5432/covid\")\\\n",
    "    .option(\"dbtable\", \"stations\")\\\n",
    "    .option(\"user\",\"sb\")\\\n",
    "    .option(\"password\", \"sb\")\\\n",
    "    .load()"
   ]
  },
  {
   "cell_type": "code",
   "execution_count": 61,
   "metadata": {},
   "outputs": [
    {
     "name": "stdout",
     "output_type": "stream",
     "text": [
      "root\n",
      " |-- station_id: string (nullable = true)\n",
      " |-- latitude: double (nullable = true)\n",
      " |-- longitude: double (nullable = true)\n",
      " |-- elevation: double (nullable = true)\n",
      " |-- state: string (nullable = true)\n",
      " |-- station_name: string (nullable = true)\n",
      "\n"
     ]
    }
   ],
   "source": [
    "stations.printSchema()"
   ]
  },
  {
   "cell_type": "markdown",
   "metadata": {},
   "source": [
    "## Load world US weather (prefiltered)"
   ]
  },
  {
   "cell_type": "markdown",
   "metadata": {},
   "source": [
    "from raw 2020.csv, filter to keep only US stations, and remove failed measurements.\n",
    "See US_weather_exporation.ipynb"
   ]
  },
  {
   "cell_type": "code",
   "execution_count": 63,
   "metadata": {},
   "outputs": [],
   "source": [
    "%%time\n",
    "weather_path = os.path.join(config[\"PATH\"][\"project\"], \"weather_2020_with_stations.parquet/\" )\n",
    "weather_2020 = spark.read.load(weather_path)"
   ]
  },
  {
   "cell_type": "code",
   "execution_count": 64,
   "metadata": {},
   "outputs": [
    {
     "name": "stdout",
     "output_type": "stream",
     "text": [
      "root\n",
      " |-- station_id: string (nullable = true)\n",
      " |-- measured: string (nullable = true)\n",
      " |-- v1: string (nullable = true)\n",
      " |-- date: integer (nullable = true)\n",
      "\n"
     ]
    }
   ],
   "source": [
    "weather_2020.printSchema()"
   ]
  },
  {
   "cell_type": "code",
   "execution_count": 65,
   "metadata": {},
   "outputs": [
    {
     "name": "stdout",
     "output_type": "stream",
     "text": [
      "CPU times: user 6.26 ms, sys: 3.53 ms, total: 9.79 ms\n",
      "Wall time: 43.4 s\n"
     ]
    },
    {
     "data": {
      "text/plain": [
       "25074507"
      ]
     },
     "execution_count": 65,
     "metadata": {},
     "output_type": "execute_result"
    }
   ],
   "source": [
    "%%time\n",
    "nb_weather_records = weather_2020.count()\n",
    "nb_weather_records"
   ]
  },
  {
   "cell_type": "code",
   "execution_count": 72,
   "metadata": {},
   "outputs": [],
   "source": [
    "all_elements = weather_2020.select(\"measured\").distinct().collect()"
   ]
  },
  {
   "cell_type": "code",
   "execution_count": 73,
   "metadata": {},
   "outputs": [
    {
     "data": {
      "text/plain": [
       "[Row(measured='WESD'),\n",
       " Row(measured='PGTM'),\n",
       " Row(measured='AWDR'),\n",
       " Row(measured='WT07'),\n",
       " Row(measured='SX33'),\n",
       " Row(measured='EVAP'),\n",
       " Row(measured='SN53'),\n",
       " Row(measured='WT10'),\n",
       " Row(measured='SN35'),\n",
       " Row(measured='TMIN'),\n",
       " Row(measured='MDPR'),\n",
       " Row(measured='WT09'),\n",
       " Row(measured='SX51'),\n",
       " Row(measured='WT05'),\n",
       " Row(measured='SN36'),\n",
       " Row(measured='SN32'),\n",
       " Row(measured='SN31'),\n",
       " Row(measured='SX52'),\n",
       " Row(measured='PSUN'),\n",
       " Row(measured='SX56'),\n",
       " Row(measured='WT06'),\n",
       " Row(measured='SN56'),\n",
       " Row(measured='WT04'),\n",
       " Row(measured='WT01'),\n",
       " Row(measured='MXPN'),\n",
       " Row(measured='WSFG'),\n",
       " Row(measured='WT11'),\n",
       " Row(measured='DAPR'),\n",
       " Row(measured='TOBS'),\n",
       " Row(measured='SX35'),\n",
       " Row(measured='SX31'),\n",
       " Row(measured='SX32'),\n",
       " Row(measured='SX55'),\n",
       " Row(measured='TMAX'),\n",
       " Row(measured='WDMV'),\n",
       " Row(measured='SNOW'),\n",
       " Row(measured='WDFG'),\n",
       " Row(measured='TSUN'),\n",
       " Row(measured='WSFI'),\n",
       " Row(measured='WESF'),\n",
       " Row(measured='WDF2'),\n",
       " Row(measured='WDF5'),\n",
       " Row(measured='WT02'),\n",
       " Row(measured='MNPN'),\n",
       " Row(measured='MDSF'),\n",
       " Row(measured='AWND'),\n",
       " Row(measured='WT03'),\n",
       " Row(measured='THIC'),\n",
       " Row(measured='SN55'),\n",
       " Row(measured='SN33'),\n",
       " Row(measured='WT08'),\n",
       " Row(measured='WSF5'),\n",
       " Row(measured='SX36'),\n",
       " Row(measured='WSF2'),\n",
       " Row(measured='SNWD'),\n",
       " Row(measured='TAVG'),\n",
       " Row(measured='DASF'),\n",
       " Row(measured='PRCP'),\n",
       " Row(measured='SN52'),\n",
       " Row(measured='SN51'),\n",
       " Row(measured='SX53')]"
      ]
     },
     "execution_count": 73,
     "metadata": {},
     "output_type": "execute_result"
    }
   ],
   "source": [
    "all_elements"
   ]
  },
  {
   "cell_type": "code",
   "execution_count": 74,
   "metadata": {},
   "outputs": [],
   "source": [
    "l_measurements= [\"SNOW\", \"SNWD\", \"PRCP\", \"TMAX\", \"TMIN\", \"TAVG\"]"
   ]
  },
  {
   "cell_type": "code",
   "execution_count": 76,
   "metadata": {},
   "outputs": [],
   "source": [
    "ndays_station_msr = weather_2020.groupBy(\"station_id\", \"measured\").agg( F.countDistinct(\"date\").alias(\"nb_days\") )"
   ]
  },
  {
   "cell_type": "markdown",
   "metadata": {},
   "source": [
    "keep only measurements for main elements"
   ]
  },
  {
   "cell_type": "code",
   "execution_count": 78,
   "metadata": {},
   "outputs": [],
   "source": [
    "ndays_station_msr_filterered = ndays_station_msr.filter( ndays_station_msr[\"measured\"].isin(l_measurements))"
   ]
  },
  {
   "cell_type": "code",
   "execution_count": null,
   "metadata": {},
   "outputs": [],
   "source": [
    "stations_msr_filtered2.selectdis"
   ]
  },
  {
   "cell_type": "code",
   "execution_count": 79,
   "metadata": {},
   "outputs": [
    {
     "name": "stdout",
     "output_type": "stream",
     "text": [
      "CPU times: user 39.1 ms, sys: 1.85 ms, total: 40.9 ms\n",
      "Wall time: 3min 11s\n"
     ]
    },
    {
     "data": {
      "text/plain": [
       "81991"
      ]
     },
     "execution_count": 79,
     "metadata": {},
     "output_type": "execute_result"
    }
   ],
   "source": [
    "%%time\n",
    "ndays_station_msr_filterered.count()"
   ]
  },
  {
   "cell_type": "markdown",
   "metadata": {},
   "source": [
    "Keep only (station, element) were nb of measures > 350 over the year (i.e. almost 1 measure per day)"
   ]
  },
  {
   "cell_type": "code",
   "execution_count": 80,
   "metadata": {},
   "outputs": [
    {
     "name": "stdout",
     "output_type": "stream",
     "text": [
      "CPU times: user 2.59 ms, sys: 399 µs, total: 2.99 ms\n",
      "Wall time: 132 ms\n"
     ]
    }
   ],
   "source": [
    "%%time\n",
    "stations_msr_filtered2 = ndays_station_msr_filterered.filter( ndays_station_msr[\"nb_days\"] > 350)"
   ]
  },
  {
   "cell_type": "code",
   "execution_count": 81,
   "metadata": {},
   "outputs": [
    {
     "name": "stdout",
     "output_type": "stream",
     "text": [
      "CPU times: user 45.1 ms, sys: 21.5 ms, total: 66.6 ms\n",
      "Wall time: 4min 50s\n"
     ]
    },
    {
     "data": {
      "text/plain": [
       "32738"
      ]
     },
     "execution_count": 81,
     "metadata": {},
     "output_type": "execute_result"
    }
   ],
   "source": [
    "%%time\n",
    "stations_msr_filtered2.count()"
   ]
  },
  {
   "cell_type": "markdown",
   "metadata": {},
   "source": [
    "Nb of stations with at least 1 main element measured most of the year"
   ]
  },
  {
   "cell_type": "code",
   "execution_count": 83,
   "metadata": {},
   "outputs": [
    {
     "name": "stdout",
     "output_type": "stream",
     "text": [
      "CPU times: user 41.8 ms, sys: 24.3 ms, total: 66.1 ms\n",
      "Wall time: 4min 48s\n"
     ]
    },
    {
     "data": {
      "text/plain": [
       "13318"
      ]
     },
     "execution_count": 83,
     "metadata": {},
     "output_type": "execute_result"
    }
   ],
   "source": [
    "%%time\n",
    "stations_msr_filtered2.select(\"station_id\").distinct().count()"
   ]
  },
  {
   "cell_type": "markdown",
   "metadata": {},
   "source": [
    "Nb of stations per measurement"
   ]
  },
  {
   "cell_type": "code",
   "execution_count": 86,
   "metadata": {},
   "outputs": [
    {
     "name": "stdout",
     "output_type": "stream",
     "text": [
      "CPU times: user 39.6 ms, sys: 22.5 ms, total: 62.2 ms\n",
      "Wall time: 3min 28s\n"
     ]
    },
    {
     "data": {
      "text/plain": [
       "[Row(measured='TMIN', count(DISTINCT station_id)=5668),\n",
       " Row(measured='TMAX', count(DISTINCT station_id)=5713),\n",
       " Row(measured='SNOW', count(DISTINCT station_id)=3505),\n",
       " Row(measured='SNWD', count(DISTINCT station_id)=3931),\n",
       " Row(measured='TAVG', count(DISTINCT station_id)=2222),\n",
       " Row(measured='PRCP', count(DISTINCT station_id)=11699)]"
      ]
     },
     "execution_count": 86,
     "metadata": {},
     "output_type": "execute_result"
    }
   ],
   "source": [
    "%%time \n",
    "stations_msr_filtered2.groupBy(\"measured\").agg( F.countDistinct(\"station_id\") ).collect()"
   ]
  },
  {
   "cell_type": "code",
   "execution_count": 89,
   "metadata": {},
   "outputs": [
    {
     "name": "stdout",
     "output_type": "stream",
     "text": [
      "CPU times: user 51.8 ms, sys: 78.9 ms, total: 131 ms\n",
      "Wall time: 4min 24s\n"
     ]
    },
    {
     "data": {
      "text/plain": [
       "[Row(n_elem_measured=6, count=181),\n",
       " Row(n_elem_measured=5, count=2563),\n",
       " Row(n_elem_measured=1, count=6265),\n",
       " Row(n_elem_measured=3, count=3250),\n",
       " Row(n_elem_measured=2, count=707),\n",
       " Row(n_elem_measured=4, count=352)]"
      ]
     },
     "execution_count": 89,
     "metadata": {},
     "output_type": "execute_result"
    }
   ],
   "source": [
    "%%time\n",
    "stations_msr_filtered2.groupBy(\"station_id\").agg( F.count(\"measured\").alias(\"n_elem_measured\"))\\\n",
    "                        .groupBy(\"n_elem_measured\").count().collect()"
   ]
  },
  {
   "cell_type": "code",
   "execution_count": 92,
   "metadata": {},
   "outputs": [
    {
     "ename": "AttributeError",
     "evalue": "'int' object has no attribute 'collect'",
     "output_type": "error",
     "traceback": [
      "\u001b[0;31m---------------------------------------------------------------------------\u001b[0m",
      "\u001b[0;31mAttributeError\u001b[0m                            Traceback (most recent call last)",
      "\u001b[0;32m<timed eval>\u001b[0m in \u001b[0;36m<module>\u001b[0;34m\u001b[0m\n",
      "\u001b[0;31mAttributeError\u001b[0m: 'int' object has no attribute 'collect'"
     ]
    }
   ],
   "source": [
    "%%time\n",
    "stations_msr_filtered2.filter( stations_msr_filtered2[\"measured\"].isin( [\"SNOW\", \"SNWD\"]))\\\n",
    "    .groupBy(\"station_id\")\\\n",
    "    .agg(F.count(\"measured\"))\\\n",
    "    .count().collect()"
   ]
  },
  {
   "cell_type": "code",
   "execution_count": null,
   "metadata": {},
   "outputs": [],
   "source": [
    "universal_stations = df_nb_days.filter( df_nb_days[\"nb_days\"] > 350) \\\n",
    "                                .groupBy(\"station_id\")\\\n",
    "                                .min(\"nb_days\")\\\n",
    "                                .count()"
   ]
  }
 ],
 "metadata": {
  "kernelspec": {
   "display_name": "pyspark",
   "language": "python",
   "name": "pyspark"
  },
  "language_info": {
   "codemirror_mode": {
    "name": "ipython",
    "version": 3
   },
   "file_extension": ".py",
   "mimetype": "text/x-python",
   "name": "python",
   "nbconvert_exporter": "python",
   "pygments_lexer": "ipython3",
   "version": "3.7.9"
  },
  "toc": {
   "base_numbering": 1,
   "nav_menu": {},
   "number_sections": true,
   "sideBar": true,
   "skip_h1_title": false,
   "title_cell": "Table of Contents",
   "title_sidebar": "Contents",
   "toc_cell": false,
   "toc_position": {},
   "toc_section_display": true,
   "toc_window_display": false
  },
  "varInspector": {
   "cols": {
    "lenName": 16,
    "lenType": 16,
    "lenVar": 40
   },
   "kernels_config": {
    "python": {
     "delete_cmd_postfix": "",
     "delete_cmd_prefix": "del ",
     "library": "var_list.py",
     "varRefreshCmd": "print(var_dic_list())"
    },
    "r": {
     "delete_cmd_postfix": ") ",
     "delete_cmd_prefix": "rm(",
     "library": "var_list.r",
     "varRefreshCmd": "cat(var_dic_list()) "
    }
   },
   "types_to_exclude": [
    "module",
    "function",
    "builtin_function_or_method",
    "instance",
    "_Feature"
   ],
   "window_display": false
  }
 },
 "nbformat": 4,
 "nbformat_minor": 4
}
