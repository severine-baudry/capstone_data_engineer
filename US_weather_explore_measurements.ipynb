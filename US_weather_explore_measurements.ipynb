{
 "cells": [
  {
   "cell_type": "code",
   "execution_count": 1,
   "metadata": {},
   "outputs": [],
   "source": [
    "import configparser\n",
    "import os\n",
    "import pyspark\n",
    "from pyspark import SparkConf\n",
    "from pyspark.sql import SparkSession\n",
    "import pyspark.sql.functions as F\n",
    "import pyspark.sql.types as T\n",
    "import pandas as pd\n",
    "import matplotlib.pyplot as plt\n",
    "from datetime import date, timedelta"
   ]
  },
  {
   "cell_type": "code",
   "execution_count": 2,
   "metadata": {},
   "outputs": [
    {
     "data": {
      "text/plain": [
       "['capstone.cfg']"
      ]
     },
     "execution_count": 2,
     "metadata": {},
     "output_type": "execute_result"
    }
   ],
   "source": [
    "config = configparser.ConfigParser()\n",
    "config.read(\"capstone.cfg\")"
   ]
  },
  {
   "cell_type": "code",
   "execution_count": 56,
   "metadata": {},
   "outputs": [],
   "source": [
    "project_path = config[\"PATH\"][\"project\"]\n",
    "os.chdir(project_path)"
   ]
  },
  {
   "cell_type": "markdown",
   "metadata": {},
   "source": [
    "Create spark session. Add driver postgress to enable to load from existing postgres DB\n"
   ]
  },
  {
   "cell_type": "code",
   "execution_count": 4,
   "metadata": {},
   "outputs": [],
   "source": [
    "# add driver postgress to enable to load from existing postgres DB\n",
    "spark = SparkSession \\\n",
    "    .builder \\\n",
    "    .appName(\"US_weather\") \\\n",
    "    .config(\"spark.jars\", \"postgresql-42.2.18.jar\")\\\n",
    "    .config( \"spark.driver.extraClassPath\", \"postgresql-42.2.18.jar\")\\\n",
    "    .getOrCreate()"
   ]
  },
  {
   "cell_type": "markdown",
   "metadata": {},
   "source": [
    "Connect to postgres; read stations table from postgres DB \"covid\""
   ]
  },
  {
   "cell_type": "markdown",
   "metadata": {},
   "source": [
    "# Load data"
   ]
  },
  {
   "cell_type": "markdown",
   "metadata": {},
   "source": [
    "## Load weather stations location data from postgres DB"
   ]
  },
  {
   "cell_type": "code",
   "execution_count": 5,
   "metadata": {},
   "outputs": [],
   "source": [
    "stations = spark.read.format(\"jdbc\")\\\n",
    "    .option(\"url\" , \"jdbc:postgresql://localhost:5432/covid\")\\\n",
    "    .option(\"dbtable\", \"stations\")\\\n",
    "    .option(\"user\",\"sb\")\\\n",
    "    .option(\"password\", \"sb\")\\\n",
    "    .load()"
   ]
  },
  {
   "cell_type": "code",
   "execution_count": 25,
   "metadata": {},
   "outputs": [
    {
     "name": "stdout",
     "output_type": "stream",
     "text": [
      "root\n",
      " |-- station_id: string (nullable = true)\n",
      " |-- latitude: double (nullable = true)\n",
      " |-- longitude: double (nullable = true)\n",
      " |-- elevation: double (nullable = true)\n",
      " |-- state: string (nullable = true)\n",
      " |-- station_name: string (nullable = true)\n",
      "\n"
     ]
    }
   ],
   "source": [
    "stations.printSchema()"
   ]
  },
  {
   "cell_type": "markdown",
   "metadata": {},
   "source": [
    "## Load world US weather (prefiltered)"
   ]
  },
  {
   "cell_type": "markdown",
   "metadata": {},
   "source": [
    "from raw 2020.csv, filter to keep only US stations, and remove failed measurements.\n",
    "See US_weather_exporation.ipynb"
   ]
  },
  {
   "cell_type": "code",
   "execution_count": 7,
   "metadata": {},
   "outputs": [
    {
     "name": "stdout",
     "output_type": "stream",
     "text": [
      "CPU times: user 6.1 ms, sys: 0 ns, total: 6.1 ms\n",
      "Wall time: 11.3 s\n"
     ]
    }
   ],
   "source": [
    "%%time\n",
    "weather_path = os.path.join(config[\"PATH\"][\"project\"], \"weather_2020_with_stations.parquet/\" )\n",
    "weather_2020 = spark.read.load(weather_path)"
   ]
  },
  {
   "cell_type": "code",
   "execution_count": 15,
   "metadata": {},
   "outputs": [
    {
     "name": "stdout",
     "output_type": "stream",
     "text": [
      "root\n",
      " |-- station_id: string (nullable = true)\n",
      " |-- measured: string (nullable = true)\n",
      " |-- v1: string (nullable = true)\n",
      " |-- date: integer (nullable = true)\n",
      "\n"
     ]
    }
   ],
   "source": [
    "weather_2020.printSchema()"
   ]
  },
  {
   "cell_type": "code",
   "execution_count": 8,
   "metadata": {},
   "outputs": [
    {
     "name": "stdout",
     "output_type": "stream",
     "text": [
      "CPU times: user 3.25 ms, sys: 16 ms, total: 19.3 ms\n",
      "Wall time: 1min\n"
     ]
    },
    {
     "data": {
      "text/plain": [
       "25074507"
      ]
     },
     "execution_count": 8,
     "metadata": {},
     "output_type": "execute_result"
    }
   ],
   "source": [
    "%%time\n",
    "nb_weather_records = weather_2020.count()\n",
    "nb_weather_records"
   ]
  },
  {
   "cell_type": "code",
   "execution_count": null,
   "metadata": {},
   "outputs": [],
   "source": [
    "all_elements = weather_2020.select(\"measured\").distinct().collect()"
   ]
  },
  {
   "cell_type": "code",
   "execution_count": null,
   "metadata": {},
   "outputs": [],
   "source": [
    "all_elements"
   ]
  },
  {
   "cell_type": "code",
   "execution_count": 19,
   "metadata": {},
   "outputs": [],
   "source": [
    "l_measurements= [\"SNOW\", \"SNWD\", \"PRCP\", \"TMAX\", \"TMIN\", \"TAVG\"]"
   ]
  },
  {
   "cell_type": "code",
   "execution_count": 10,
   "metadata": {},
   "outputs": [],
   "source": [
    "ndays_station_msr = weather_2020.groupBy(\"station_id\", \"measured\").agg( F.countDistinct(\"date\").alias(\"nb_days\") )"
   ]
  },
  {
   "cell_type": "markdown",
   "metadata": {},
   "source": [
    "keep only measurements for main elements"
   ]
  },
  {
   "cell_type": "code",
   "execution_count": 12,
   "metadata": {},
   "outputs": [],
   "source": [
    "ndays_station_msr_filterered = ndays_station_msr.filter( ndays_station_msr[\"measured\"].isin(l_measurements))"
   ]
  },
  {
   "cell_type": "code",
   "execution_count": null,
   "metadata": {},
   "outputs": [],
   "source": [
    "%%time\n",
    "ndays_station_msr_filterered.count()"
   ]
  },
  {
   "cell_type": "markdown",
   "metadata": {},
   "source": [
    "Keep only (station, element) were nb of measures > 350 over the year (i.e. almost 1 measure per day)"
   ]
  },
  {
   "cell_type": "code",
   "execution_count": 13,
   "metadata": {
    "scrolled": true
   },
   "outputs": [
    {
     "name": "stdout",
     "output_type": "stream",
     "text": [
      "CPU times: user 5.17 ms, sys: 0 ns, total: 5.17 ms\n",
      "Wall time: 61.5 ms\n"
     ]
    }
   ],
   "source": [
    "%%time\n",
    "stations_msr_filtered2 = ndays_station_msr_filterered.filter( ndays_station_msr[\"nb_days\"] > 350)"
   ]
  },
  {
   "cell_type": "code",
   "execution_count": 14,
   "metadata": {},
   "outputs": [
    {
     "name": "stdout",
     "output_type": "stream",
     "text": [
      "CPU times: user 519 ms, sys: 50.3 ms, total: 569 ms\n",
      "Wall time: 4min 17s\n"
     ]
    }
   ],
   "source": [
    "%%time\n",
    "df_filtered_stations = stations_msr_filtered2.toPandas()"
   ]
  },
  {
   "cell_type": "markdown",
   "metadata": {},
   "source": [
    "Nb of stations with at least 1 main element measured most of the year"
   ]
  },
  {
   "cell_type": "code",
   "execution_count": 16,
   "metadata": {},
   "outputs": [
    {
     "name": "stdout",
     "output_type": "stream",
     "text": [
      "CPU times: user 9.88 ms, sys: 295 µs, total: 10.2 ms\n",
      "Wall time: 13.1 ms\n"
     ]
    },
    {
     "data": {
      "text/plain": [
       "13318"
      ]
     },
     "execution_count": 16,
     "metadata": {},
     "output_type": "execute_result"
    }
   ],
   "source": [
    "%%time\n",
    "len(df_filtered_stations[\"station_id\"].unique())"
   ]
  },
  {
   "cell_type": "code",
   "execution_count": 71,
   "metadata": {},
   "outputs": [],
   "source": [
    "df_stations = stations.toPandas()"
   ]
  },
  {
   "cell_type": "code",
   "execution_count": 50,
   "metadata": {},
   "outputs": [],
   "source": [
    "def precompute_distance(l_ref):\n",
    "    ''' \n",
    "    convert latitude and longitude to radian, and compute cos(latitude),\n",
    "    which is necessary to compute the distance between any two GPS coordinates\n",
    "    '''\n",
    "    l_ref[\"latitude_degrees\"] = l_ref[\"latitude\"]\n",
    "    l_ref[\"longitude_degrees\"] = l_ref[\"longitude\"]\n",
    "    def degree_to_radian(x):\n",
    "        return  float(x)* np.pi / 180.\n",
    "    l_ref[\"latitude\"] = l_ref[\"latitude\"].apply( degree_to_radian) \n",
    "    l_ref[\"longitude\"] = l_ref[\"longitude\"].apply( degree_to_radian)\n",
    "    l_ref[\"cos_latitude\"] = np.cos(l_ref[\"latitude\"])            "
   ]
  },
  {
   "cell_type": "code",
   "execution_count": 72,
   "metadata": {},
   "outputs": [],
   "source": [
    "precompute_distance(df_stations)"
   ]
  },
  {
   "cell_type": "code",
   "execution_count": 73,
   "metadata": {},
   "outputs": [
    {
     "data": {
      "text/html": [
       "<div>\n",
       "<style scoped>\n",
       "    .dataframe tbody tr th:only-of-type {\n",
       "        vertical-align: middle;\n",
       "    }\n",
       "\n",
       "    .dataframe tbody tr th {\n",
       "        vertical-align: top;\n",
       "    }\n",
       "\n",
       "    .dataframe thead th {\n",
       "        text-align: right;\n",
       "    }\n",
       "</style>\n",
       "<table border=\"1\" class=\"dataframe\">\n",
       "  <thead>\n",
       "    <tr style=\"text-align: right;\">\n",
       "      <th></th>\n",
       "      <th>station_id</th>\n",
       "      <th>latitude</th>\n",
       "      <th>longitude</th>\n",
       "      <th>elevation</th>\n",
       "      <th>state</th>\n",
       "      <th>station_name</th>\n",
       "      <th>latitude_degrees</th>\n",
       "      <th>longitude_degrees</th>\n",
       "      <th>cos_latitude</th>\n",
       "    </tr>\n",
       "  </thead>\n",
       "  <tbody>\n",
       "    <tr>\n",
       "      <th>0</th>\n",
       "      <td>US009052008</td>\n",
       "      <td>0.763290</td>\n",
       "      <td>-1.686569</td>\n",
       "      <td>482.0</td>\n",
       "      <td>SD</td>\n",
       "      <td>SIOUX FALLS (ENVIRON. CANADA)</td>\n",
       "      <td>43.7333</td>\n",
       "      <td>-96.6333</td>\n",
       "      <td>0.722565</td>\n",
       "    </tr>\n",
       "    <tr>\n",
       "      <th>1</th>\n",
       "      <td>US10RMHS145</td>\n",
       "      <td>0.707326</td>\n",
       "      <td>-1.834538</td>\n",
       "      <td>1569.1</td>\n",
       "      <td>CO</td>\n",
       "      <td>RMHS 1.6 SSW</td>\n",
       "      <td>40.5268</td>\n",
       "      <td>-105.1113</td>\n",
       "      <td>0.760102</td>\n",
       "    </tr>\n",
       "    <tr>\n",
       "      <th>2</th>\n",
       "      <td>US10adam001</td>\n",
       "      <td>0.708045</td>\n",
       "      <td>-1.719270</td>\n",
       "      <td>598.0</td>\n",
       "      <td>NE</td>\n",
       "      <td>JUNIATA 1.5 S</td>\n",
       "      <td>40.5680</td>\n",
       "      <td>-98.5069</td>\n",
       "      <td>0.759635</td>\n",
       "    </tr>\n",
       "    <tr>\n",
       "      <th>3</th>\n",
       "      <td>US10adam002</td>\n",
       "      <td>0.707021</td>\n",
       "      <td>-1.720010</td>\n",
       "      <td>601.1</td>\n",
       "      <td>NE</td>\n",
       "      <td>JUNIATA 6.0 SSW</td>\n",
       "      <td>40.5093</td>\n",
       "      <td>-98.5493</td>\n",
       "      <td>0.760301</td>\n",
       "    </tr>\n",
       "    <tr>\n",
       "      <th>4</th>\n",
       "      <td>US10adam003</td>\n",
       "      <td>0.706270</td>\n",
       "      <td>-1.721832</td>\n",
       "      <td>615.1</td>\n",
       "      <td>NE</td>\n",
       "      <td>HOLSTEIN 0.1 NW</td>\n",
       "      <td>40.4663</td>\n",
       "      <td>-98.6537</td>\n",
       "      <td>0.760788</td>\n",
       "    </tr>\n",
       "    <tr>\n",
       "      <th>...</th>\n",
       "      <td>...</td>\n",
       "      <td>...</td>\n",
       "      <td>...</td>\n",
       "      <td>...</td>\n",
       "      <td>...</td>\n",
       "      <td>...</td>\n",
       "      <td>...</td>\n",
       "      <td>...</td>\n",
       "      <td>...</td>\n",
       "    </tr>\n",
       "    <tr>\n",
       "      <th>65165</th>\n",
       "      <td>USC00516231</td>\n",
       "      <td>0.382808</td>\n",
       "      <td>-2.784092</td>\n",
       "      <td>NaN</td>\n",
       "      <td>HI</td>\n",
       "      <td>MCBRYDES HOME</td>\n",
       "      <td>21.9333</td>\n",
       "      <td>-159.5167</td>\n",
       "      <td>0.927619</td>\n",
       "    </tr>\n",
       "    <tr>\n",
       "      <th>65166</th>\n",
       "      <td>USC00516271</td>\n",
       "      <td>0.492183</td>\n",
       "      <td>-3.095341</td>\n",
       "      <td>NaN</td>\n",
       "      <td>HI</td>\n",
       "      <td>MIDWAY ISLAND</td>\n",
       "      <td>28.2000</td>\n",
       "      <td>-177.3500</td>\n",
       "      <td>0.881303</td>\n",
       "    </tr>\n",
       "    <tr>\n",
       "      <th>65167</th>\n",
       "      <td>USC00516594</td>\n",
       "      <td>0.362737</td>\n",
       "      <td>-2.724167</td>\n",
       "      <td>NaN</td>\n",
       "      <td>HI</td>\n",
       "      <td>NAHIKU 1600 EL</td>\n",
       "      <td>20.7833</td>\n",
       "      <td>-156.0833</td>\n",
       "      <td>0.934929</td>\n",
       "    </tr>\n",
       "    <tr>\n",
       "      <th>65168</th>\n",
       "      <td>USC00517315</td>\n",
       "      <td>0.351539</td>\n",
       "      <td>-2.711879</td>\n",
       "      <td>NaN</td>\n",
       "      <td>HI</td>\n",
       "      <td>PAAUILO ROCK CRUSHER</td>\n",
       "      <td>20.1417</td>\n",
       "      <td>-155.3792</td>\n",
       "      <td>0.938844</td>\n",
       "    </tr>\n",
       "    <tr>\n",
       "      <th>65169</th>\n",
       "      <td>USW00014874</td>\n",
       "      <td>0.710640</td>\n",
       "      <td>-1.563815</td>\n",
       "      <td>NaN</td>\n",
       "      <td>IL</td>\n",
       "      <td>PEORIA CITY OFFICE</td>\n",
       "      <td>40.7167</td>\n",
       "      <td>-89.6000</td>\n",
       "      <td>0.757944</td>\n",
       "    </tr>\n",
       "  </tbody>\n",
       "</table>\n",
       "<p>65170 rows × 9 columns</p>\n",
       "</div>"
      ],
      "text/plain": [
       "        station_id  latitude  longitude  elevation state  \\\n",
       "0      US009052008  0.763290  -1.686569      482.0    SD   \n",
       "1      US10RMHS145  0.707326  -1.834538     1569.1    CO   \n",
       "2      US10adam001  0.708045  -1.719270      598.0    NE   \n",
       "3      US10adam002  0.707021  -1.720010      601.1    NE   \n",
       "4      US10adam003  0.706270  -1.721832      615.1    NE   \n",
       "...            ...       ...        ...        ...   ...   \n",
       "65165  USC00516231  0.382808  -2.784092        NaN    HI   \n",
       "65166  USC00516271  0.492183  -3.095341        NaN    HI   \n",
       "65167  USC00516594  0.362737  -2.724167        NaN    HI   \n",
       "65168  USC00517315  0.351539  -2.711879        NaN    HI   \n",
       "65169  USW00014874  0.710640  -1.563815        NaN    IL   \n",
       "\n",
       "                                       station_name  latitude_degrees  \\\n",
       "0      SIOUX FALLS (ENVIRON. CANADA)                          43.7333   \n",
       "1      RMHS 1.6 SSW                                           40.5268   \n",
       "2      JUNIATA 1.5 S                                          40.5680   \n",
       "3      JUNIATA 6.0 SSW                                        40.5093   \n",
       "4      HOLSTEIN 0.1 NW                                        40.4663   \n",
       "...                                             ...               ...   \n",
       "65165  MCBRYDES HOME                                          21.9333   \n",
       "65166  MIDWAY ISLAND                                          28.2000   \n",
       "65167  NAHIKU 1600 EL                                         20.7833   \n",
       "65168  PAAUILO ROCK CRUSHER                                   20.1417   \n",
       "65169  PEORIA CITY OFFICE                                     40.7167   \n",
       "\n",
       "       longitude_degrees  cos_latitude  \n",
       "0               -96.6333      0.722565  \n",
       "1              -105.1113      0.760102  \n",
       "2               -98.5069      0.759635  \n",
       "3               -98.5493      0.760301  \n",
       "4               -98.6537      0.760788  \n",
       "...                  ...           ...  \n",
       "65165          -159.5167      0.927619  \n",
       "65166          -177.3500      0.881303  \n",
       "65167          -156.0833      0.934929  \n",
       "65168          -155.3792      0.938844  \n",
       "65169           -89.6000      0.757944  \n",
       "\n",
       "[65170 rows x 9 columns]"
      ]
     },
     "execution_count": 73,
     "metadata": {},
     "output_type": "execute_result"
    }
   ],
   "source": [
    "df_stations"
   ]
  },
  {
   "cell_type": "markdown",
   "metadata": {},
   "source": [
    "For each element, list of the stations which give the element"
   ]
  },
  {
   "cell_type": "code",
   "execution_count": 74,
   "metadata": {},
   "outputs": [],
   "source": [
    "d_stations_per_element = {}\n",
    "for element in l_measurements:\n",
    "    d_stations_per_element[element] = pd.merge(\n",
    "        df_filtered_stations[ df_filtered_stations[\"measured\"] == element],\n",
    "        df_stations, on = \"station_id\")\\\n",
    "        [ [\"station_id\", \"latitude\", \"longitude\", \"cos_latitude\"]].drop_duplicates()"
   ]
  },
  {
   "cell_type": "code",
   "execution_count": 46,
   "metadata": {},
   "outputs": [
    {
     "name": "stdout",
     "output_type": "stream",
     "text": [
      "SNOW 3505\n",
      "SNWD 3931\n",
      "PRCP 11699\n",
      "TMAX 5713\n",
      "TMIN 5668\n",
      "TAVG 2222\n"
     ]
    }
   ],
   "source": [
    "for element, lst in d_stations_per_element.items():\n",
    "    print(element, len(lst))"
   ]
  },
  {
   "cell_type": "code",
   "execution_count": 75,
   "metadata": {
    "scrolled": true
   },
   "outputs": [
    {
     "data": {
      "text/html": [
       "<div>\n",
       "<style scoped>\n",
       "    .dataframe tbody tr th:only-of-type {\n",
       "        vertical-align: middle;\n",
       "    }\n",
       "\n",
       "    .dataframe tbody tr th {\n",
       "        vertical-align: top;\n",
       "    }\n",
       "\n",
       "    .dataframe thead th {\n",
       "        text-align: right;\n",
       "    }\n",
       "</style>\n",
       "<table border=\"1\" class=\"dataframe\">\n",
       "  <thead>\n",
       "    <tr style=\"text-align: right;\">\n",
       "      <th></th>\n",
       "      <th>station_id</th>\n",
       "      <th>latitude</th>\n",
       "      <th>longitude</th>\n",
       "      <th>cos_latitude</th>\n",
       "    </tr>\n",
       "  </thead>\n",
       "  <tbody>\n",
       "    <tr>\n",
       "      <th>0</th>\n",
       "      <td>USW00024048</td>\n",
       "      <td>0.776966</td>\n",
       "      <td>-1.886390</td>\n",
       "      <td>0.713044</td>\n",
       "    </tr>\n",
       "    <tr>\n",
       "      <th>1</th>\n",
       "      <td>USW00094274</td>\n",
       "      <td>0.824974</td>\n",
       "      <td>-2.139357</td>\n",
       "      <td>0.678576</td>\n",
       "    </tr>\n",
       "    <tr>\n",
       "      <th>2</th>\n",
       "      <td>USS0005K27S</td>\n",
       "      <td>0.692198</td>\n",
       "      <td>-1.842893</td>\n",
       "      <td>0.769845</td>\n",
       "    </tr>\n",
       "    <tr>\n",
       "      <th>3</th>\n",
       "      <td>USC00339220</td>\n",
       "      <td>0.688038</td>\n",
       "      <td>-1.462973</td>\n",
       "      <td>0.772493</td>\n",
       "    </tr>\n",
       "    <tr>\n",
       "      <th>4</th>\n",
       "      <td>USS0045L01S</td>\n",
       "      <td>1.056797</td>\n",
       "      <td>-2.543817</td>\n",
       "      <td>0.491664</td>\n",
       "    </tr>\n",
       "  </tbody>\n",
       "</table>\n",
       "</div>"
      ],
      "text/plain": [
       "    station_id  latitude  longitude  cos_latitude\n",
       "0  USW00024048  0.776966  -1.886390      0.713044\n",
       "1  USW00094274  0.824974  -2.139357      0.678576\n",
       "2  USS0005K27S  0.692198  -1.842893      0.769845\n",
       "3  USC00339220  0.688038  -1.462973      0.772493\n",
       "4  USS0045L01S  1.056797  -2.543817      0.491664"
      ]
     },
     "execution_count": 75,
     "metadata": {},
     "output_type": "execute_result"
    }
   ],
   "source": [
    "d_stations_per_element[\"TMAX\"].head()"
   ]
  },
  {
   "cell_type": "markdown",
   "metadata": {},
   "source": [
    "## US counties geographic info from Gazeeter"
   ]
  },
  {
   "cell_type": "code",
   "execution_count": 51,
   "metadata": {},
   "outputs": [],
   "source": [
    "def counties_lat_long_(name):\n",
    "    with open(name) as f :\n",
    "        headers = f.readline().split()\n",
    "        l_headers = len(headers)\n",
    "        print(\"len of headers : \", l_headers )\n",
    "        l_res = []\n",
    "        for line in f :\n",
    "            l_str = line.split()\n",
    "            state = l_str[0]\n",
    "            fips = l_str[1]\n",
    "            latitude = l_str[-2]\n",
    "            longitude = l_str[-1]\n",
    "            l = len(l_str)\n",
    "            n_words = l - l_headers + 1\n",
    "            county = \" \".join( l_str[3:3+n_words] )\n",
    "            #d_res.setdefault(state, []).append( [ state, county, fips, latitude, longitude ])\n",
    "            l_res.append( [state, county, fips, latitude, longitude ])\n",
    "        return l_res\n"
   ]
  },
  {
   "cell_type": "code",
   "execution_count": 53,
   "metadata": {},
   "outputs": [],
   "source": [
    "def counties_lat_long(name):\n",
    "    l_gazeeter = counties_lat_long_(name)\n",
    "    df_gazeeter = pd.DataFrame(l_gazeeter, columns = [\"state\", \"county\", \"fips\", \"latitude\", \"longitude\"])\n",
    "    return df_gazeeter"
   ]
  },
  {
   "cell_type": "code",
   "execution_count": 57,
   "metadata": {},
   "outputs": [],
   "source": [
    "data_root = os.path.join(project_path, 'DATA/')"
   ]
  },
  {
   "cell_type": "code",
   "execution_count": 58,
   "metadata": {},
   "outputs": [
    {
     "name": "stdout",
     "output_type": "stream",
     "text": [
      "len of headers :  10\n",
      "number of counties from Gazeeter :  3221\n"
     ]
    },
    {
     "data": {
      "text/html": [
       "<div>\n",
       "<style scoped>\n",
       "    .dataframe tbody tr th:only-of-type {\n",
       "        vertical-align: middle;\n",
       "    }\n",
       "\n",
       "    .dataframe tbody tr th {\n",
       "        vertical-align: top;\n",
       "    }\n",
       "\n",
       "    .dataframe thead th {\n",
       "        text-align: right;\n",
       "    }\n",
       "</style>\n",
       "<table border=\"1\" class=\"dataframe\">\n",
       "  <thead>\n",
       "    <tr style=\"text-align: right;\">\n",
       "      <th></th>\n",
       "      <th>state</th>\n",
       "      <th>county</th>\n",
       "      <th>fips</th>\n",
       "      <th>latitude</th>\n",
       "      <th>longitude</th>\n",
       "    </tr>\n",
       "  </thead>\n",
       "  <tbody>\n",
       "    <tr>\n",
       "      <th>0</th>\n",
       "      <td>AL</td>\n",
       "      <td>Autauga County</td>\n",
       "      <td>01001</td>\n",
       "      <td>32.532237</td>\n",
       "      <td>-86.64644</td>\n",
       "    </tr>\n",
       "    <tr>\n",
       "      <th>1</th>\n",
       "      <td>AL</td>\n",
       "      <td>Baldwin County</td>\n",
       "      <td>01003</td>\n",
       "      <td>30.659218</td>\n",
       "      <td>-87.746067</td>\n",
       "    </tr>\n",
       "    <tr>\n",
       "      <th>2</th>\n",
       "      <td>AL</td>\n",
       "      <td>Barbour County</td>\n",
       "      <td>01005</td>\n",
       "      <td>31.870253</td>\n",
       "      <td>-85.405104</td>\n",
       "    </tr>\n",
       "    <tr>\n",
       "      <th>3</th>\n",
       "      <td>AL</td>\n",
       "      <td>Bibb County</td>\n",
       "      <td>01007</td>\n",
       "      <td>33.015893</td>\n",
       "      <td>-87.127148</td>\n",
       "    </tr>\n",
       "    <tr>\n",
       "      <th>4</th>\n",
       "      <td>AL</td>\n",
       "      <td>Blount County</td>\n",
       "      <td>01009</td>\n",
       "      <td>33.977358</td>\n",
       "      <td>-86.56644</td>\n",
       "    </tr>\n",
       "  </tbody>\n",
       "</table>\n",
       "</div>"
      ],
      "text/plain": [
       "  state          county   fips   latitude   longitude\n",
       "0    AL  Autauga County  01001  32.532237   -86.64644\n",
       "1    AL  Baldwin County  01003  30.659218  -87.746067\n",
       "2    AL  Barbour County  01005  31.870253  -85.405104\n",
       "3    AL     Bibb County  01007  33.015893  -87.127148\n",
       "4    AL   Blount County  01009  33.977358   -86.56644"
      ]
     },
     "execution_count": 58,
     "metadata": {},
     "output_type": "execute_result"
    }
   ],
   "source": [
    "gazeeter_counties= counties_lat_long( os.path.join(data_root,\"2020_Gaz_counties_national.txt\"))\n",
    "print(\"number of counties from Gazeeter : \", len(gazeeter_counties))"
   ]
  },
  {
   "cell_type": "code",
   "execution_count": 59,
   "metadata": {},
   "outputs": [],
   "source": [
    "precompute_distance(gazeeter_counties)"
   ]
  },
  {
   "cell_type": "code",
   "execution_count": 61,
   "metadata": {},
   "outputs": [
    {
     "data": {
      "text/html": [
       "<div>\n",
       "<style scoped>\n",
       "    .dataframe tbody tr th:only-of-type {\n",
       "        vertical-align: middle;\n",
       "    }\n",
       "\n",
       "    .dataframe tbody tr th {\n",
       "        vertical-align: top;\n",
       "    }\n",
       "\n",
       "    .dataframe thead th {\n",
       "        text-align: right;\n",
       "    }\n",
       "</style>\n",
       "<table border=\"1\" class=\"dataframe\">\n",
       "  <thead>\n",
       "    <tr style=\"text-align: right;\">\n",
       "      <th></th>\n",
       "      <th>state</th>\n",
       "      <th>county</th>\n",
       "      <th>fips</th>\n",
       "      <th>latitude</th>\n",
       "      <th>longitude</th>\n",
       "      <th>latitude_degrees</th>\n",
       "      <th>longitude_degrees</th>\n",
       "      <th>cos_latitude</th>\n",
       "    </tr>\n",
       "  </thead>\n",
       "  <tbody>\n",
       "    <tr>\n",
       "      <th>0</th>\n",
       "      <td>AL</td>\n",
       "      <td>Autauga County</td>\n",
       "      <td>01001</td>\n",
       "      <td>0.567795</td>\n",
       "      <td>-1.512266</td>\n",
       "      <td>32.532237</td>\n",
       "      <td>-86.64644</td>\n",
       "      <td>0.843089</td>\n",
       "    </tr>\n",
       "    <tr>\n",
       "      <th>1</th>\n",
       "      <td>AL</td>\n",
       "      <td>Baldwin County</td>\n",
       "      <td>01003</td>\n",
       "      <td>0.535104</td>\n",
       "      <td>-1.531458</td>\n",
       "      <td>30.659218</td>\n",
       "      <td>-87.746067</td>\n",
       "      <td>0.860215</td>\n",
       "    </tr>\n",
       "    <tr>\n",
       "      <th>2</th>\n",
       "      <td>AL</td>\n",
       "      <td>Barbour County</td>\n",
       "      <td>01005</td>\n",
       "      <td>0.556241</td>\n",
       "      <td>-1.490600</td>\n",
       "      <td>31.870253</td>\n",
       "      <td>-85.405104</td>\n",
       "      <td>0.849246</td>\n",
       "    </tr>\n",
       "    <tr>\n",
       "      <th>3</th>\n",
       "      <td>AL</td>\n",
       "      <td>Bibb County</td>\n",
       "      <td>01007</td>\n",
       "      <td>0.576236</td>\n",
       "      <td>-1.520656</td>\n",
       "      <td>33.015893</td>\n",
       "      <td>-87.127148</td>\n",
       "      <td>0.838519</td>\n",
       "    </tr>\n",
       "    <tr>\n",
       "      <th>4</th>\n",
       "      <td>AL</td>\n",
       "      <td>Blount County</td>\n",
       "      <td>01009</td>\n",
       "      <td>0.593017</td>\n",
       "      <td>-1.510869</td>\n",
       "      <td>33.977358</td>\n",
       "      <td>-86.56644</td>\n",
       "      <td>0.829258</td>\n",
       "    </tr>\n",
       "  </tbody>\n",
       "</table>\n",
       "</div>"
      ],
      "text/plain": [
       "  state          county   fips  latitude  longitude latitude_degrees  \\\n",
       "0    AL  Autauga County  01001  0.567795  -1.512266        32.532237   \n",
       "1    AL  Baldwin County  01003  0.535104  -1.531458        30.659218   \n",
       "2    AL  Barbour County  01005  0.556241  -1.490600        31.870253   \n",
       "3    AL     Bibb County  01007  0.576236  -1.520656        33.015893   \n",
       "4    AL   Blount County  01009  0.593017  -1.510869        33.977358   \n",
       "\n",
       "  longitude_degrees  cos_latitude  \n",
       "0         -86.64644      0.843089  \n",
       "1        -87.746067      0.860215  \n",
       "2        -85.405104      0.849246  \n",
       "3        -87.127148      0.838519  \n",
       "4         -86.56644      0.829258  "
      ]
     },
     "execution_count": 61,
     "metadata": {},
     "output_type": "execute_result"
    }
   ],
   "source": [
    "gazeeter_counties.head()"
   ]
  },
  {
   "cell_type": "code",
   "execution_count": 92,
   "metadata": {},
   "outputs": [],
   "source": [
    "def closest_ref(l_ref, latitude, longitude, cos_latitude):\n",
    "        ''' computation of angular distance between 2 locations given by GPS coordinates\n",
    "        exact formulas (maybe overkill), taken from :\n",
    "        https://www.movable-type.co.uk/scripts/latlong.html\n",
    "        '''    \n",
    "        #print( f'latitude : {latitude}, longitude : {longitude}, cos(latitude) : {cos_lat}')\n",
    "        # Haversine formula\n",
    "        #print(l_ref.head())\n",
    "        l_ref[\"delta_lat_term\"] = ( np.sin( (l_ref[\"latitude\"] - latitude) * 0.5 ) )**2\n",
    "        l_ref[\"delta_long_term\"] = ( np.sin( (l_ref[\"longitude\"] - longitude) * 0.5) )**2\n",
    "        l_ref[\"a\"] = l_ref[\"delta_lat_term\"] + l_ref[\"delta_long_term\"] \\\n",
    "                        * cos_latitude * l_ref[\"cos_latitude\"]\n",
    "        l_ref[\"sqrt_a\"] = l_ref[\"a\"].apply( lambda x : np.sqrt(x) )\n",
    "        l_ref[\"sqrt_1_a\"] = l_ref[\"a\"].apply(lambda x : np.sqrt(1.- x) )\n",
    "        l_ref[\"angle\"] = np.arctan2( np.sqrt(l_ref[\"a\"]), np.sqrt( 1. - l_ref[\"a\"] ) )\n",
    "        closest = l_ref[\"angle\"].idxmin()\n",
    "        #print(closest)\n",
    "        return closest, l_ref.iloc[closest]"
   ]
  },
  {
   "cell_type": "code",
   "execution_count": 93,
   "metadata": {},
   "outputs": [],
   "source": [
    "import functools"
   ]
  },
  {
   "cell_type": "code",
   "execution_count": 96,
   "metadata": {},
   "outputs": [],
   "source": [
    "def func_closest_station( df_row, df_stations):\n",
    "    i, res = closest_ref( df_stations, df_row[\"latitude\"], df_row[\"longitude\"], df_row[\"cos_latitude\"] )\n",
    "    return res.loc[[\"station_id\", \"latitude\", \"longitude\", \"angle\"]]"
   ]
  },
  {
   "cell_type": "code",
   "execution_count": 97,
   "metadata": {},
   "outputs": [],
   "source": [
    "R_earth = 6371"
   ]
  },
  {
   "cell_type": "code",
   "execution_count": 103,
   "metadata": {},
   "outputs": [
    {
     "name": "stdout",
     "output_type": "stream",
     "text": [
      "CPU times: user 1min 27s, sys: 173 ms, total: 1min 27s\n",
      "Wall time: 1min 27s\n",
      "CPU times: user 1min 44s, sys: 151 ms, total: 1min 44s\n",
      "Wall time: 1min 44s\n",
      "CPU times: user 3min 13s, sys: 123 ms, total: 3min 13s\n",
      "Wall time: 3min 13s\n",
      "CPU times: user 1min 38s, sys: 99.7 ms, total: 1min 38s\n",
      "Wall time: 1min 38s\n",
      "CPU times: user 1min 39s, sys: 91.8 ms, total: 1min 40s\n",
      "Wall time: 1min 40s\n",
      "CPU times: user 51.8 s, sys: 31.9 ms, total: 51.8 s\n",
      "Wall time: 51.8 s\n"
     ]
    }
   ],
   "source": [
    "closeststation_per_element ={}\n",
    "for element in l_measurements:\n",
    "    element_function = functools.partial(func_closest_station, df_stations=d_stations_per_element[element])\n",
    "    %time res = gazeeter_counties.apply(element_function, axis = 1)\n",
    "    res[\"distance\"] = R_earth * res[\"angle\"]\n",
    "    closeststation_per_element[element] = pd.concat( [ res, gazeeter_counties[ [\"fips\", \"state\", \"county\"] ]], axis = 1)\n"
   ]
  },
  {
   "cell_type": "code",
   "execution_count": 108,
   "metadata": {},
   "outputs": [
    {
     "data": {
      "text/html": [
       "<div>\n",
       "<style scoped>\n",
       "    .dataframe tbody tr th:only-of-type {\n",
       "        vertical-align: middle;\n",
       "    }\n",
       "\n",
       "    .dataframe tbody tr th {\n",
       "        vertical-align: top;\n",
       "    }\n",
       "\n",
       "    .dataframe thead th {\n",
       "        text-align: right;\n",
       "    }\n",
       "</style>\n",
       "<table border=\"1\" class=\"dataframe\">\n",
       "  <thead>\n",
       "    <tr style=\"text-align: right;\">\n",
       "      <th></th>\n",
       "      <th>station_id</th>\n",
       "      <th>latitude</th>\n",
       "      <th>longitude</th>\n",
       "      <th>angle</th>\n",
       "      <th>distance</th>\n",
       "    </tr>\n",
       "  </thead>\n",
       "  <tbody>\n",
       "    <tr>\n",
       "      <th>0</th>\n",
       "      <td>USW00013895</td>\n",
       "      <td>0.563736</td>\n",
       "      <td>-1.508095</td>\n",
       "      <td>0.002686</td>\n",
       "      <td>17.114579</td>\n",
       "    </tr>\n",
       "    <tr>\n",
       "      <th>1</th>\n",
       "      <td>USR0000ABNS</td>\n",
       "      <td>0.528011</td>\n",
       "      <td>-1.532617</td>\n",
       "      <td>0.003582</td>\n",
       "      <td>22.819018</td>\n",
       "    </tr>\n",
       "    <tr>\n",
       "      <th>2</th>\n",
       "      <td>USW00013829</td>\n",
       "      <td>0.564614</td>\n",
       "      <td>-1.483530</td>\n",
       "      <td>0.005147</td>\n",
       "      <td>32.792927</td>\n",
       "    </tr>\n",
       "    <tr>\n",
       "      <th>3</th>\n",
       "      <td>USR0000AOKM</td>\n",
       "      <td>0.575212</td>\n",
       "      <td>-1.521414</td>\n",
       "      <td>0.000603</td>\n",
       "      <td>3.841172</td>\n",
       "    </tr>\n",
       "    <tr>\n",
       "      <th>4</th>\n",
       "      <td>USW00013876</td>\n",
       "      <td>0.585830</td>\n",
       "      <td>-1.513986</td>\n",
       "      <td>0.003820</td>\n",
       "      <td>24.334667</td>\n",
       "    </tr>\n",
       "  </tbody>\n",
       "</table>\n",
       "</div>"
      ],
      "text/plain": [
       "    station_id  latitude  longitude     angle   distance\n",
       "0  USW00013895  0.563736  -1.508095  0.002686  17.114579\n",
       "1  USR0000ABNS  0.528011  -1.532617  0.003582  22.819018\n",
       "2  USW00013829  0.564614  -1.483530  0.005147  32.792927\n",
       "3  USR0000AOKM  0.575212  -1.521414  0.000603   3.841172\n",
       "4  USW00013876  0.585830  -1.513986  0.003820  24.334667"
      ]
     },
     "execution_count": 108,
     "metadata": {},
     "output_type": "execute_result"
    }
   ],
   "source": [
    "res.head()"
   ]
  },
  {
   "cell_type": "code",
   "execution_count": 100,
   "metadata": {},
   "outputs": [
    {
     "data": {
      "text/plain": [
       "3221"
      ]
     },
     "execution_count": 100,
     "metadata": {},
     "output_type": "execute_result"
    }
   ],
   "source": [
    "len(res)"
   ]
  },
  {
   "cell_type": "code",
   "execution_count": 102,
   "metadata": {},
   "outputs": [
    {
     "data": {
      "text/plain": [
       "3221"
      ]
     },
     "execution_count": 102,
     "metadata": {},
     "output_type": "execute_result"
    }
   ],
   "source": [
    "len(gazeeter_counties)"
   ]
  },
  {
   "cell_type": "code",
   "execution_count": 104,
   "metadata": {},
   "outputs": [
    {
     "name": "stdout",
     "output_type": "stream",
     "text": [
      "SNOW 3221\n",
      "SNWD 3221\n",
      "PRCP 3221\n",
      "TMAX 3221\n",
      "TMIN 3221\n",
      "TAVG 3221\n"
     ]
    }
   ],
   "source": [
    "for e, l  in closeststation_per_element.items():\n",
    "    print(e, len(l))"
   ]
  },
  {
   "cell_type": "code",
   "execution_count": 105,
   "metadata": {},
   "outputs": [
    {
     "data": {
      "text/html": [
       "<div>\n",
       "<style scoped>\n",
       "    .dataframe tbody tr th:only-of-type {\n",
       "        vertical-align: middle;\n",
       "    }\n",
       "\n",
       "    .dataframe tbody tr th {\n",
       "        vertical-align: top;\n",
       "    }\n",
       "\n",
       "    .dataframe thead th {\n",
       "        text-align: right;\n",
       "    }\n",
       "</style>\n",
       "<table border=\"1\" class=\"dataframe\">\n",
       "  <thead>\n",
       "    <tr style=\"text-align: right;\">\n",
       "      <th></th>\n",
       "      <th>station_id</th>\n",
       "      <th>latitude</th>\n",
       "      <th>longitude</th>\n",
       "      <th>angle</th>\n",
       "      <th>distance</th>\n",
       "      <th>fips</th>\n",
       "      <th>state</th>\n",
       "      <th>county</th>\n",
       "    </tr>\n",
       "  </thead>\n",
       "  <tbody>\n",
       "    <tr>\n",
       "      <th>0</th>\n",
       "      <td>USC00010823</td>\n",
       "      <td>0.570068</td>\n",
       "      <td>-1.513626</td>\n",
       "      <td>0.001273</td>\n",
       "      <td>8.110800</td>\n",
       "      <td>01001</td>\n",
       "      <td>AL</td>\n",
       "      <td>Autauga County</td>\n",
       "    </tr>\n",
       "    <tr>\n",
       "      <th>1</th>\n",
       "      <td>US1ALBW0079</td>\n",
       "      <td>0.533589</td>\n",
       "      <td>-1.533174</td>\n",
       "      <td>0.001058</td>\n",
       "      <td>6.740569</td>\n",
       "      <td>01003</td>\n",
       "      <td>AL</td>\n",
       "      <td>Baldwin County</td>\n",
       "    </tr>\n",
       "    <tr>\n",
       "      <th>2</th>\n",
       "      <td>US1ALBR0006</td>\n",
       "      <td>0.556456</td>\n",
       "      <td>-1.493721</td>\n",
       "      <td>0.001329</td>\n",
       "      <td>8.469317</td>\n",
       "      <td>01005</td>\n",
       "      <td>AL</td>\n",
       "      <td>Barbour County</td>\n",
       "    </tr>\n",
       "    <tr>\n",
       "      <th>3</th>\n",
       "      <td>USC00011100</td>\n",
       "      <td>0.576618</td>\n",
       "      <td>-1.518475</td>\n",
       "      <td>0.000934</td>\n",
       "      <td>5.950284</td>\n",
       "      <td>01007</td>\n",
       "      <td>AL</td>\n",
       "      <td>Bibb County</td>\n",
       "    </tr>\n",
       "    <tr>\n",
       "      <th>4</th>\n",
       "      <td>USC00016121</td>\n",
       "      <td>0.592127</td>\n",
       "      <td>-1.508333</td>\n",
       "      <td>0.001142</td>\n",
       "      <td>7.277017</td>\n",
       "      <td>01009</td>\n",
       "      <td>AL</td>\n",
       "      <td>Blount County</td>\n",
       "    </tr>\n",
       "  </tbody>\n",
       "</table>\n",
       "</div>"
      ],
      "text/plain": [
       "    station_id  latitude  longitude     angle  distance   fips state  \\\n",
       "0  USC00010823  0.570068  -1.513626  0.001273  8.110800  01001    AL   \n",
       "1  US1ALBW0079  0.533589  -1.533174  0.001058  6.740569  01003    AL   \n",
       "2  US1ALBR0006  0.556456  -1.493721  0.001329  8.469317  01005    AL   \n",
       "3  USC00011100  0.576618  -1.518475  0.000934  5.950284  01007    AL   \n",
       "4  USC00016121  0.592127  -1.508333  0.001142  7.277017  01009    AL   \n",
       "\n",
       "           county  \n",
       "0  Autauga County  \n",
       "1  Baldwin County  \n",
       "2  Barbour County  \n",
       "3     Bibb County  \n",
       "4   Blount County  "
      ]
     },
     "execution_count": 105,
     "metadata": {},
     "output_type": "execute_result"
    }
   ],
   "source": [
    "closeststation_per_element[\"PRCP\"].head()"
   ]
  },
  {
   "cell_type": "code",
   "execution_count": 120,
   "metadata": {},
   "outputs": [
    {
     "data": {
      "text/html": [
       "<div>\n",
       "<style scoped>\n",
       "    .dataframe tbody tr th:only-of-type {\n",
       "        vertical-align: middle;\n",
       "    }\n",
       "\n",
       "    .dataframe tbody tr th {\n",
       "        vertical-align: top;\n",
       "    }\n",
       "\n",
       "    .dataframe thead th {\n",
       "        text-align: right;\n",
       "    }\n",
       "</style>\n",
       "<table border=\"1\" class=\"dataframe\">\n",
       "  <thead>\n",
       "    <tr style=\"text-align: right;\">\n",
       "      <th></th>\n",
       "      <th>fips</th>\n",
       "      <th>county</th>\n",
       "      <th>state_gazeeter</th>\n",
       "      <th>station_id</th>\n",
       "      <th>station_name</th>\n",
       "      <th>state_station</th>\n",
       "      <th>latitude_station</th>\n",
       "      <th>longitude_station</th>\n",
       "      <th>distance</th>\n",
       "    </tr>\n",
       "  </thead>\n",
       "  <tbody>\n",
       "    <tr>\n",
       "      <th>0</th>\n",
       "      <td>01001</td>\n",
       "      <td>Autauga County</td>\n",
       "      <td>AL</td>\n",
       "      <td>USC00010823</td>\n",
       "      <td>BILLINGSLEY</td>\n",
       "      <td>AL</td>\n",
       "      <td>32.6625</td>\n",
       "      <td>-86.7244</td>\n",
       "      <td>8.110800</td>\n",
       "    </tr>\n",
       "    <tr>\n",
       "      <th>1</th>\n",
       "      <td>01003</td>\n",
       "      <td>Baldwin County</td>\n",
       "      <td>AL</td>\n",
       "      <td>US1ALBW0079</td>\n",
       "      <td>DAPHNE 4.9 SE</td>\n",
       "      <td>AL</td>\n",
       "      <td>30.5724</td>\n",
       "      <td>-87.8444</td>\n",
       "      <td>6.740569</td>\n",
       "    </tr>\n",
       "    <tr>\n",
       "      <th>2</th>\n",
       "      <td>01005</td>\n",
       "      <td>Barbour County</td>\n",
       "      <td>AL</td>\n",
       "      <td>US1ALBR0006</td>\n",
       "      <td>CLAYTON 7.8 W</td>\n",
       "      <td>AL</td>\n",
       "      <td>31.8826</td>\n",
       "      <td>-85.5839</td>\n",
       "      <td>8.469317</td>\n",
       "    </tr>\n",
       "    <tr>\n",
       "      <th>3</th>\n",
       "      <td>01011</td>\n",
       "      <td>Bullock County</td>\n",
       "      <td>AL</td>\n",
       "      <td>US1ALBR0006</td>\n",
       "      <td>CLAYTON 7.8 W</td>\n",
       "      <td>AL</td>\n",
       "      <td>31.8826</td>\n",
       "      <td>-85.5839</td>\n",
       "      <td>13.711696</td>\n",
       "    </tr>\n",
       "    <tr>\n",
       "      <th>4</th>\n",
       "      <td>01109</td>\n",
       "      <td>Pike County</td>\n",
       "      <td>AL</td>\n",
       "      <td>US1ALBR0006</td>\n",
       "      <td>CLAYTON 7.8 W</td>\n",
       "      <td>AL</td>\n",
       "      <td>31.8826</td>\n",
       "      <td>-85.5839</td>\n",
       "      <td>17.527742</td>\n",
       "    </tr>\n",
       "    <tr>\n",
       "      <th>...</th>\n",
       "      <td>...</td>\n",
       "      <td>...</td>\n",
       "      <td>...</td>\n",
       "      <td>...</td>\n",
       "      <td>...</td>\n",
       "      <td>...</td>\n",
       "      <td>...</td>\n",
       "      <td>...</td>\n",
       "      <td>...</td>\n",
       "    </tr>\n",
       "    <tr>\n",
       "      <th>3216</th>\n",
       "      <td>72139</td>\n",
       "      <td>Trujillo Alto Municipio</td>\n",
       "      <td>PR</td>\n",
       "      <td>USC00081306</td>\n",
       "      <td>CAPE FLORIDA</td>\n",
       "      <td>FL</td>\n",
       "      <td>25.6719</td>\n",
       "      <td>-80.1567</td>\n",
       "      <td>834.956545</td>\n",
       "    </tr>\n",
       "    <tr>\n",
       "      <th>3217</th>\n",
       "      <td>72143</td>\n",
       "      <td>Vega Alta Municipio</td>\n",
       "      <td>PR</td>\n",
       "      <td>USC00081306</td>\n",
       "      <td>CAPE FLORIDA</td>\n",
       "      <td>FL</td>\n",
       "      <td>25.6719</td>\n",
       "      <td>-80.1567</td>\n",
       "      <td>817.090369</td>\n",
       "    </tr>\n",
       "    <tr>\n",
       "      <th>3218</th>\n",
       "      <td>72145</td>\n",
       "      <td>Vega Baja Municipio</td>\n",
       "      <td>PR</td>\n",
       "      <td>USC00081306</td>\n",
       "      <td>CAPE FLORIDA</td>\n",
       "      <td>FL</td>\n",
       "      <td>25.6719</td>\n",
       "      <td>-80.1567</td>\n",
       "      <td>813.783242</td>\n",
       "    </tr>\n",
       "    <tr>\n",
       "      <th>3219</th>\n",
       "      <td>72147</td>\n",
       "      <td>Vieques Municipio</td>\n",
       "      <td>PR</td>\n",
       "      <td>USC00081306</td>\n",
       "      <td>CAPE FLORIDA</td>\n",
       "      <td>FL</td>\n",
       "      <td>25.6719</td>\n",
       "      <td>-80.1567</td>\n",
       "      <td>866.766122</td>\n",
       "    </tr>\n",
       "    <tr>\n",
       "      <th>3220</th>\n",
       "      <td>72151</td>\n",
       "      <td>Yabucoa Municipio</td>\n",
       "      <td>PR</td>\n",
       "      <td>USC00081306</td>\n",
       "      <td>CAPE FLORIDA</td>\n",
       "      <td>FL</td>\n",
       "      <td>25.6719</td>\n",
       "      <td>-80.1567</td>\n",
       "      <td>849.529454</td>\n",
       "    </tr>\n",
       "  </tbody>\n",
       "</table>\n",
       "<p>3221 rows × 9 columns</p>\n",
       "</div>"
      ],
      "text/plain": [
       "       fips                   county state_gazeeter   station_id  \\\n",
       "0     01001           Autauga County             AL  USC00010823   \n",
       "1     01003           Baldwin County             AL  US1ALBW0079   \n",
       "2     01005           Barbour County             AL  US1ALBR0006   \n",
       "3     01011           Bullock County             AL  US1ALBR0006   \n",
       "4     01109              Pike County             AL  US1ALBR0006   \n",
       "...     ...                      ...            ...          ...   \n",
       "3216  72139  Trujillo Alto Municipio             PR  USC00081306   \n",
       "3217  72143      Vega Alta Municipio             PR  USC00081306   \n",
       "3218  72145      Vega Baja Municipio             PR  USC00081306   \n",
       "3219  72147        Vieques Municipio             PR  USC00081306   \n",
       "3220  72151        Yabucoa Municipio             PR  USC00081306   \n",
       "\n",
       "                                      station_name state_station  \\\n",
       "0     BILLINGSLEY                                             AL   \n",
       "1     DAPHNE 4.9 SE                                           AL   \n",
       "2     CLAYTON 7.8 W                                           AL   \n",
       "3     CLAYTON 7.8 W                                           AL   \n",
       "4     CLAYTON 7.8 W                                           AL   \n",
       "...                                            ...           ...   \n",
       "3216  CAPE FLORIDA                                            FL   \n",
       "3217  CAPE FLORIDA                                            FL   \n",
       "3218  CAPE FLORIDA                                            FL   \n",
       "3219  CAPE FLORIDA                                            FL   \n",
       "3220  CAPE FLORIDA                                            FL   \n",
       "\n",
       "      latitude_station  longitude_station    distance  \n",
       "0              32.6625           -86.7244    8.110800  \n",
       "1              30.5724           -87.8444    6.740569  \n",
       "2              31.8826           -85.5839    8.469317  \n",
       "3              31.8826           -85.5839   13.711696  \n",
       "4              31.8826           -85.5839   17.527742  \n",
       "...                ...                ...         ...  \n",
       "3216           25.6719           -80.1567  834.956545  \n",
       "3217           25.6719           -80.1567  817.090369  \n",
       "3218           25.6719           -80.1567  813.783242  \n",
       "3219           25.6719           -80.1567  866.766122  \n",
       "3220           25.6719           -80.1567  849.529454  \n",
       "\n",
       "[3221 rows x 9 columns]"
      ]
     },
     "execution_count": 120,
     "metadata": {},
     "output_type": "execute_result"
    }
   ],
   "source": [
    "pd.merge( closeststation_per_element[\"PRCP\"], df_stations, on = \"station_id\")\\\n",
    "    .rename(columns = { \"latitude_degrees\" : \"latitude_station\", \"longitude_degrees\" : \"longitude_station\", \n",
    "                      \"state_x\" : \"state_gazeeter\", \"state_y\" : \"state_station\"})\\\n",
    "    [ [\"fips\",  \"county\", \"state_gazeeter\", \n",
    "       \"station_id\", \"station_name\", \"state_station\", \"latitude_station\", \"longitude_station\", \"distance\" ] ]"
   ]
  },
  {
   "cell_type": "code",
   "execution_count": null,
   "metadata": {},
   "outputs": [],
   "source": []
  }
 ],
 "metadata": {
  "kernelspec": {
   "display_name": "pyspark",
   "language": "python",
   "name": "pyspark"
  },
  "language_info": {
   "codemirror_mode": {
    "name": "ipython",
    "version": 3
   },
   "file_extension": ".py",
   "mimetype": "text/x-python",
   "name": "python",
   "nbconvert_exporter": "python",
   "pygments_lexer": "ipython3",
   "version": "3.7.9"
  },
  "toc": {
   "base_numbering": 1,
   "nav_menu": {},
   "number_sections": true,
   "sideBar": true,
   "skip_h1_title": false,
   "title_cell": "Table of Contents",
   "title_sidebar": "Contents",
   "toc_cell": false,
   "toc_position": {},
   "toc_section_display": true,
   "toc_window_display": false
  },
  "varInspector": {
   "cols": {
    "lenName": 16,
    "lenType": 16,
    "lenVar": 40
   },
   "kernels_config": {
    "python": {
     "delete_cmd_postfix": "",
     "delete_cmd_prefix": "del ",
     "library": "var_list.py",
     "varRefreshCmd": "print(var_dic_list())"
    },
    "r": {
     "delete_cmd_postfix": ") ",
     "delete_cmd_prefix": "rm(",
     "library": "var_list.r",
     "varRefreshCmd": "cat(var_dic_list()) "
    }
   },
   "types_to_exclude": [
    "module",
    "function",
    "builtin_function_or_method",
    "instance",
    "_Feature"
   ],
   "window_display": false
  }
 },
 "nbformat": 4,
 "nbformat_minor": 4
}
