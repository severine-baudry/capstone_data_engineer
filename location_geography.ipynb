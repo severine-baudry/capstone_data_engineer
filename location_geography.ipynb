{
 "cells": [
  {
   "cell_type": "code",
   "execution_count": 1,
   "metadata": {},
   "outputs": [],
   "source": [
    "import configparser\n",
    "import os\n",
    "import pyspark\n",
    "from pyspark import SparkConf\n",
    "from pyspark.sql import SparkSession\n",
    "import pyspark.sql.functions as F\n",
    "import pyspark.sql.types as T\n",
    "from pyspark.sql.functions import udf, col, lit\n",
    "from pyspark.sql.types import MapType, StringType\n",
    "from collections import OrderedDict\n",
    "import pandas as pd\n",
    "import numpy as np"
   ]
  },
  {
   "cell_type": "code",
   "execution_count": 2,
   "metadata": {},
   "outputs": [],
   "source": [
    "config = configparser.ConfigParser()\n",
    "config.read(\"capstone.cfg\")\n",
    "\n",
    "input_data_dir = config[\"PATH\"][\"HDFS_DOWNLOAD_DIR\"]\n",
    "local_data_dir = config[\"PATH\"][\"LOCAL_DOWNLOAD_DIR\"]\n",
    "output_path =  config[\"PATH\"][\"STAGE_DATA_DIR\"]\n"
   ]
  },
  {
   "cell_type": "code",
   "execution_count": 3,
   "metadata": {},
   "outputs": [],
   "source": [
    "# !!! must use python3 kernel\n",
    "def create_spark_session():\n",
    "    spark = SparkSession \\\n",
    "        .builder \\\n",
    "        .appName(\"covid_DB\") \\\n",
    "        .getOrCreate()\n",
    "    \n",
    "    return spark"
   ]
  },
  {
   "cell_type": "code",
   "execution_count": 4,
   "metadata": {},
   "outputs": [],
   "source": [
    "@udf(MapType( StringType(), StringType()))\n",
    "def ParseGazetteerUDF(line):\n",
    "    l_str = line.split()\n",
    "    l = len(l_str)\n",
    "    l_headers = 10\n",
    "    n_words = l - l_headers + 1\n",
    "    county = \" \".join( l_str[3:3+n_words] )\n",
    "\n",
    "    return{\n",
    "        \"state\": l_str[0],\n",
    "        \"county\" : county ,        \n",
    "        \"fips\" : l_str[1], \n",
    "        \"latitude\" : l_str[-2], \n",
    "        \"longitude\" : l_str[-1] \n",
    "    }"
   ]
  },
  {
   "cell_type": "code",
   "execution_count": 5,
   "metadata": {},
   "outputs": [],
   "source": [
    "# def main():\n",
    "spark = create_spark_session()\n",
    "\n",
    "nyt_covid = \"us-counties.csv\"\n",
    "covid_daily_perfips = spark.read.csv( os.path.join(input_data_dir, \"COVID\",nyt_covid), header = True)\n",
    "#covid_daily_perfips.printSchema()\n",
    "\n",
    "# load gazetteer (geographic coordinates for all county fips)\n",
    "fields = OrderedDict( [\n",
    "    ( \"state\" , \"string\"),\n",
    "    (\"county\" , \"string\"),\n",
    "    (\"fips\" , \"int\"),\n",
    "    ( \"latitude\" , \"float\"), \n",
    "    (\"longitude\" , \"float\") \n",
    "] )\n",
    "\n",
    "exprs = [ f\"CAST(parsed['{field}'] AS {fld_type}) AS {field}\" for field, fld_type in fields.items() ]\n",
    "\n",
    "gazetteer = spark.read.csv(os.path.join(input_data_dir, \"2020_Gaz_counties_national.txt\"))\\\n",
    ".withColumn(\"parsed\", ParseGazetteerUDF(\"_c0\")).selectExpr( *exprs)\n",
    "\n",
    "#gazetteer.printSchema()\n"
   ]
  },
  {
   "cell_type": "code",
   "execution_count": 12,
   "metadata": {
    "scrolled": true
   },
   "outputs": [
    {
     "name": "stdout",
     "output_type": "stream",
     "text": [
      "+----+-----+\n",
      "|fips|count|\n",
      "+----+-----+\n",
      "|null|   56|\n",
      "+----+-----+\n",
      "\n"
     ]
    }
   ],
   "source": [
    "nyt_locations = covid_daily_perfips.select(\"state\", \"county\", \"fips\").distinct()\n",
    "fips_multi_locations = nyt_locations.groupby(\"fips\").count().where(\"count > 1\")\n",
    "fips_multi_locations.show(10)\n",
    "nyt_locations_with_fips = nyt_locations.where(col(\"fips\").isNotNull())"
   ]
  },
  {
   "cell_type": "code",
   "execution_count": 7,
   "metadata": {},
   "outputs": [
    {
     "data": {
      "text/plain": [
       "3218"
      ]
     },
     "execution_count": 7,
     "metadata": {},
     "output_type": "execute_result"
    }
   ],
   "source": [
    "nyt_locations_with_fips.count()"
   ]
  },
  {
   "cell_type": "code",
   "execution_count": 13,
   "metadata": {},
   "outputs": [],
   "source": [
    "nyt_locations_with_geography = nyt_locations_with_fips.alias(\"a\").join( gazetteer.alias(\"b\"), [\"fips\"])\\\n",
    "    .select(\"a.*\", \"b.latitude\", \"b.longitude\" )"
   ]
  },
  {
   "cell_type": "code",
   "execution_count": 14,
   "metadata": {},
   "outputs": [],
   "source": [
    "nyt_notmatched = nyt_locations.join(nyt_locations_with_geography, [\"fips\"], how = \"left_anti\")"
   ]
  },
  {
   "cell_type": "code",
   "execution_count": 17,
   "metadata": {
    "scrolled": true
   },
   "outputs": [],
   "source": [
    "df_nyt_notmatched = nyt_notmatched.toPandas()"
   ]
  },
  {
   "cell_type": "code",
   "execution_count": 15,
   "metadata": {},
   "outputs": [],
   "source": [
    "states_gps = pd.read_csv( os.path.join(local_data_dir, \"US_states_GPS.csv\"), sep = \",\")\n",
    "states_gps.columns = states_gps.columns.str.lower()\n",
    "states_gps.loc[states_gps[\"state\"] == \"Washington State\", \"state\"]= \"Washington\""
   ]
  },
  {
   "cell_type": "code",
   "execution_count": 18,
   "metadata": {},
   "outputs": [
    {
     "data": {
      "text/html": [
       "<div>\n",
       "<style scoped>\n",
       "    .dataframe tbody tr th:only-of-type {\n",
       "        vertical-align: middle;\n",
       "    }\n",
       "\n",
       "    .dataframe tbody tr th {\n",
       "        vertical-align: top;\n",
       "    }\n",
       "\n",
       "    .dataframe thead th {\n",
       "        text-align: right;\n",
       "    }\n",
       "</style>\n",
       "<table border=\"1\" class=\"dataframe\">\n",
       "  <thead>\n",
       "    <tr style=\"text-align: right;\">\n",
       "      <th></th>\n",
       "      <th>fips</th>\n",
       "      <th>state</th>\n",
       "      <th>county</th>\n",
       "      <th>latitude</th>\n",
       "      <th>longitude</th>\n",
       "    </tr>\n",
       "  </thead>\n",
       "  <tbody>\n",
       "    <tr>\n",
       "      <th>2</th>\n",
       "      <td>None</td>\n",
       "      <td>Guam</td>\n",
       "      <td>Unknown</td>\n",
       "      <td>NaN</td>\n",
       "      <td>NaN</td>\n",
       "    </tr>\n",
       "    <tr>\n",
       "      <th>13</th>\n",
       "      <td>None</td>\n",
       "      <td>Virgin Islands</td>\n",
       "      <td>Unknown</td>\n",
       "      <td>NaN</td>\n",
       "      <td>NaN</td>\n",
       "    </tr>\n",
       "    <tr>\n",
       "      <th>35</th>\n",
       "      <td>None</td>\n",
       "      <td>Puerto Rico</td>\n",
       "      <td>Unknown</td>\n",
       "      <td>NaN</td>\n",
       "      <td>NaN</td>\n",
       "    </tr>\n",
       "    <tr>\n",
       "      <th>38</th>\n",
       "      <td>None</td>\n",
       "      <td>Northern Mariana Islands</td>\n",
       "      <td>Unknown</td>\n",
       "      <td>NaN</td>\n",
       "      <td>NaN</td>\n",
       "    </tr>\n",
       "  </tbody>\n",
       "</table>\n",
       "</div>"
      ],
      "text/plain": [
       "    fips                     state   county  latitude  longitude\n",
       "2   None                      Guam  Unknown       NaN        NaN\n",
       "13  None            Virgin Islands  Unknown       NaN        NaN\n",
       "35  None               Puerto Rico  Unknown       NaN        NaN\n",
       "38  None  Northern Mariana Islands  Unknown       NaN        NaN"
      ]
     },
     "execution_count": 18,
     "metadata": {},
     "output_type": "execute_result"
    }
   ],
   "source": [
    "gps_no_county = df_nyt_notmatched.loc[df_nyt_notmatched[\"county\"] ==\"Unknown\"].merge( states_gps, how = \"left\", on = \"state\")\n",
    "gps_no_county[ gps_no_county[\"latitude\"].isna() | gps_no_county[\"longitude\"].isna()]"
   ]
  },
  {
   "cell_type": "code",
   "execution_count": 19,
   "metadata": {},
   "outputs": [],
   "source": [
    "gps_cities = df_nyt_notmatched[ df_nyt_notmatched[\"county\"] != \"Unknown\"].copy()"
   ]
  },
  {
   "cell_type": "code",
   "execution_count": 20,
   "metadata": {},
   "outputs": [],
   "source": [
    "# GPS of unincorporated territories\n",
    "gps_no_county.loc[ (gps_no_county[\"county\"] == \"Unknown\") & (gps_no_county[\"state\"]== \"Puerto Rico\") , \"latitude\"] = 18.2223\n",
    "gps_no_county.loc[ (gps_no_county[\"county\"] == \"Unknown\") & (gps_no_county[\"state\"]==\"Puerto Rico\"), \"longitude\"] = -66.4303\n",
    "gps_no_county.loc[ (gps_no_county[\"county\"] == \"Unknown\") & (gps_no_county[\"state\"]==\"Virgin Islands\"), \"latitude\"] = 18.34\n",
    "gps_no_county.loc[ (gps_no_county[\"county\"] == \"Unknown\") & (gps_no_county[\"state\"]==\"Virgin Islands\"), \"longitude\"] = -64.90\n",
    "gps_no_county.loc[ (gps_no_county[\"county\"] == \"Unknown\") & (gps_no_county[\"state\"]==\"Guam\"), \"latitude\"] = 13.4440\n",
    "gps_no_county.loc[ (gps_no_county[\"county\"] == \"Unknown\") & (gps_no_county[\"state\"]==\"Guam\"), \"longitude\"] = 144.7671\n",
    "# GPS coordinates of Saipan 15°11′N 145°45′E\n",
    "gps_no_county.loc[ (gps_no_county[\"county\"] == \"Unknown\") & (gps_no_county[\"state\"]==\"Northern Mariana Islands\"), \"latitude\"] = 15.16\n",
    "gps_no_county.loc[ (gps_no_county[\"county\"] == \"Unknown\") & (gps_no_county[\"state\"]==\"Northern Mariana Islands\"), \"longitude\"] = 145.7\n"
   ]
  },
  {
   "cell_type": "code",
   "execution_count": 21,
   "metadata": {},
   "outputs": [],
   "source": [
    "gps_cities[\"latitude\"] = np.nan\n",
    "gps_cities[\"longitude\"] = np.nan\n",
    "# Cities and metropolitan areas\n",
    "gps_cities.loc[ gps_cities[\"county\"] == \"New York City\", \"latitude\"] = 40.712740\n",
    "gps_cities.loc[ gps_cities[\"county\"] == \"New York City\", \"longitude\"] = -74.005974\n",
    "gps_cities.loc[ gps_cities[\"county\"] == \"Kansas City\", \"latitude\"] = 39.099724\n",
    "gps_cities.loc[ gps_cities[\"county\"] == \"Kansas City\", \"longitude\"] = -94.578331\n",
    "gps_cities.loc[ gps_cities[\"county\"] == \"Joplin\", \"latitude\"] = 37.0842\n",
    "gps_cities.loc[ gps_cities[\"county\"] == \"Joplin\", \"longitude\"] = -94.5133\n",
    "# FIPS unknown in Census Bureau gazetteer\n",
    "gps_cities.loc[ gps_cities[\"county\"] == \"St. Croix\", \"latitude\"] =17.73\n",
    "gps_cities.loc[ gps_cities[\"county\"] == \"St. Croix\", \"longitude\"] = -64.78\n",
    "# GPS for Cruz Bay (main city) 18.329936603847486, -64.79413842601294\n",
    "gps_cities.loc[ gps_cities[\"county\"] == \"St. John\", \"latitude\"] = 18.33\n",
    "gps_cities.loc[ gps_cities[\"county\"] == \"St. John\", \"longitude\"] = -64.794\n",
    "# GPS for Charlotte Amalie (main city) 18.341684050871354, -64.93175706594377\n",
    "gps_cities.loc[ gps_cities[\"county\"] == \"St. Thomas\", \"latitude\"] = 18.34\n",
    "gps_cities.loc[ gps_cities[\"county\"] == \"St. Thomas\", \"longitude\"] = -64.93\n",
    "gps_cities.loc[ gps_cities[\"county\"] == \"Valdez-Cordova Census Area\", \"latitude\"] = 61.129050\n",
    "# GPS of Valdez\n",
    "gps_cities.loc[ gps_cities[\"county\"] == \"Valdez-Cordova Census Area\", \"longitude\"] = -146.360130\n",
    "# Saipan 15.216501472234945, 145.72103373823464\n",
    "gps_cities.loc[ gps_cities[\"county\"] == \"Saipan\", \"latitude\"] = 15.27\n",
    "gps_cities.loc[ gps_cities[\"county\"] == \"Saipan\", \"longitude\"] = 145.72\n",
    "# Tinian 14.978910978711687, 145.63629283555494\n",
    "gps_cities.loc[ gps_cities[\"county\"] == \"Tinian\", \"latitude\"] = 14.98\n",
    "gps_cities.loc[ gps_cities[\"county\"] == \"Tinian\", \"longitude\"] = 145.636"
   ]
  },
  {
   "cell_type": "code",
   "execution_count": 22,
   "metadata": {},
   "outputs": [
    {
     "data": {
      "text/plain": [
       "64"
      ]
     },
     "execution_count": 22,
     "metadata": {},
     "output_type": "execute_result"
    }
   ],
   "source": [
    "df_fixed_gps = pd.concat( [gps_no_county, gps_cities] )\n",
    "len(df_fixed_gps)"
   ]
  },
  {
   "cell_type": "code",
   "execution_count": 23,
   "metadata": {},
   "outputs": [
    {
     "name": "stdout",
     "output_type": "stream",
     "text": [
      "root\n",
      " |-- fips: string (nullable = true)\n",
      " |-- state: string (nullable = true)\n",
      " |-- county: string (nullable = true)\n",
      " |-- latitude: double (nullable = true)\n",
      " |-- longitude: double (nullable = true)\n",
      "\n"
     ]
    }
   ],
   "source": [
    "fixed_gps = spark.createDataFrame(df_fixed_gps)\n",
    "fixed_gps.printSchema()"
   ]
  },
  {
   "cell_type": "code",
   "execution_count": 24,
   "metadata": {
    "scrolled": true
   },
   "outputs": [
    {
     "name": "stdout",
     "output_type": "stream",
     "text": [
      "root\n",
      " |-- fips: string (nullable = true)\n",
      " |-- state: string (nullable = true)\n",
      " |-- county: string (nullable = true)\n",
      " |-- latitude: float (nullable = true)\n",
      " |-- longitude: float (nullable = true)\n",
      "\n"
     ]
    }
   ],
   "source": [
    "nyt_locations_with_geography.printSchema()"
   ]
  },
  {
   "cell_type": "code",
   "execution_count": 25,
   "metadata": {},
   "outputs": [],
   "source": [
    "nyt_geography = nyt_locations_with_geography.union(fixed_gps)"
   ]
  },
  {
   "cell_type": "code",
   "execution_count": 26,
   "metadata": {},
   "outputs": [
    {
     "data": {
      "text/plain": [
       "3274"
      ]
     },
     "execution_count": 26,
     "metadata": {},
     "output_type": "execute_result"
    }
   ],
   "source": [
    "nyt_geography.count()"
   ]
  },
  {
   "cell_type": "code",
   "execution_count": 27,
   "metadata": {},
   "outputs": [],
   "source": [
    "nyt_geography = nyt_geography.where( ( ~ F.isnan(\"latitude\") ) | (~ F.isnan(\"longitude\")) )\n",
    "\n",
    "nyt_geography = nyt_geography.withColumn(\"location_id\", F.monotonically_increasing_id())"
   ]
  },
  {
   "cell_type": "code",
   "execution_count": 28,
   "metadata": {},
   "outputs": [
    {
     "data": {
      "text/plain": [
       "3272"
      ]
     },
     "execution_count": 28,
     "metadata": {},
     "output_type": "execute_result"
    }
   ],
   "source": [
    "nyt_geography.count()"
   ]
  },
  {
   "cell_type": "code",
   "execution_count": 29,
   "metadata": {},
   "outputs": [
    {
     "name": "stdout",
     "output_type": "stream",
     "text": [
      "root\n",
      " |-- fips: string (nullable = true)\n",
      " |-- state: string (nullable = true)\n",
      " |-- county: string (nullable = true)\n",
      " |-- latitude: double (nullable = true)\n",
      " |-- longitude: double (nullable = true)\n",
      " |-- location_id: long (nullable = false)\n",
      "\n"
     ]
    }
   ],
   "source": [
    "nyt_geography.printSchema()"
   ]
  },
  {
   "cell_type": "code",
   "execution_count": 24,
   "metadata": {},
   "outputs": [],
   "source": [
    "out_path = os.path.join(output_path, \"nyt_locations_geography\")\n",
    "nyt_geography.repartition(\"state\")\\\n",
    ".write.format(\"parquet\")\\\n",
    ".partitionBy(\"state\").mode(\"overwrite\").save(out_path)"
   ]
  }
 ],
 "metadata": {
  "kernelspec": {
   "display_name": "Python 3",
   "language": "python",
   "name": "python3"
  },
  "language_info": {
   "codemirror_mode": {
    "name": "ipython",
    "version": 3
   },
   "file_extension": ".py",
   "mimetype": "text/x-python",
   "name": "python",
   "nbconvert_exporter": "python",
   "pygments_lexer": "ipython3",
   "version": "3.7.9"
  }
 },
 "nbformat": 4,
 "nbformat_minor": 4
}
