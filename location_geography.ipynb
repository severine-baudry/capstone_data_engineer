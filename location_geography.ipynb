{
 "cells": [
  {
   "cell_type": "code",
   "execution_count": 1,
   "metadata": {},
   "outputs": [],
   "source": [
    "import configparser\n",
    "import os\n",
    "import pyspark\n",
    "from pyspark import SparkConf\n",
    "from pyspark.sql import SparkSession\n",
    "import pyspark.sql.functions as F\n",
    "import pyspark.sql.types as T\n",
    "from pyspark.sql.functions import udf, col, lit\n",
    "from pyspark.sql.types import MapType, StringType\n",
    "from collections import OrderedDict\n",
    "import pandas as pd"
   ]
  },
  {
   "cell_type": "code",
   "execution_count": 2,
   "metadata": {},
   "outputs": [],
   "source": [
    "config = configparser.ConfigParser()\n",
    "config.read(\"capstone.cfg\")\n",
    "\n",
    "os.chdir(config[\"PATH\"][\"project\"])\n",
    "project_path = config[\"PATH\"][\"project\"]\n"
   ]
  },
  {
   "cell_type": "code",
   "execution_count": 3,
   "metadata": {},
   "outputs": [],
   "source": [
    "def create_spark_session():\n",
    "    spark = SparkSession \\\n",
    "        .builder \\\n",
    "        .appName(\"covid_DB\") \\\n",
    "        .getOrCreate()\n",
    "    \n",
    "    return spark"
   ]
  },
  {
   "cell_type": "code",
   "execution_count": 4,
   "metadata": {},
   "outputs": [],
   "source": [
    "@udf(MapType( StringType(), StringType()))\n",
    "def ParseGazetteerUDF(line):\n",
    "    l_str = line.split()\n",
    "    l = len(l_str)\n",
    "    l_headers = 10\n",
    "    n_words = l - l_headers + 1\n",
    "    county = \" \".join( l_str[3:3+n_words] )\n",
    "\n",
    "    return{\n",
    "        \"state\": l_str[0],\n",
    "        \"county\" : county ,        \n",
    "        \"fips\" : l_str[1], \n",
    "        \"latitude\" : l_str[-2], \n",
    "        \"longitude\" : l_str[-1] \n",
    "    }"
   ]
  },
  {
   "cell_type": "code",
   "execution_count": 5,
   "metadata": {},
   "outputs": [],
   "source": [
    "# def main():\n",
    "spark = create_spark_session()\n",
    "\n",
    "nyt_covid = \"us-counties.csv\"\n",
    "covid_daily_perfips = spark.read.csv( os.path.join(project_path, \"DATA\", \"COVID\",nyt_covid), header = True)\n",
    "#covid_daily_perfips.printSchema()\n",
    "\n",
    "# load gazetteer (geographic coordinates for all county fips)\n",
    "fields = OrderedDict( [\n",
    "    ( \"state\" , \"string\"),\n",
    "    (\"county\" , \"string\"),\n",
    "    (\"fips\" , \"int\"),\n",
    "    ( \"latitude\" , \"float\"), \n",
    "    (\"longitude\" , \"float\") \n",
    "] )\n",
    "\n",
    "exprs = [ f\"CAST(parsed['{field}'] AS {fld_type}) AS {field}\" for field, fld_type in fields.items() ]\n",
    "\n",
    "gazetteer = spark.read.csv(os.path.join(project_path, \"DATA\", \"2020_Gaz_counties_national.txt\"))\\\n",
    ".withColumn(\"parsed\", ParseGazetteerUDF(\"_c0\")).selectExpr( *exprs)\n",
    "\n",
    "#gazetteer.printSchema()\n"
   ]
  },
  {
   "cell_type": "code",
   "execution_count": 6,
   "metadata": {},
   "outputs": [
    {
     "name": "stdout",
     "output_type": "stream",
     "text": [
      "+----+-----+\n",
      "|fips|count|\n",
      "+----+-----+\n",
      "|null|   56|\n",
      "+----+-----+\n",
      "\n"
     ]
    }
   ],
   "source": [
    "nyt_locations = covid_daily_perfips.select(\"state\", \"county\", \"fips\").distinct()\n",
    "fips_multi_locations = nyt_locations.groupby(\"fips\").count().where(\"count > 1\")\n",
    "fips_multi_locations.show(10)\n",
    "nyt_locations_with_fips = nyt_locations.where(col(\"fips\").isNotNull())"
   ]
  },
  {
   "cell_type": "code",
   "execution_count": 7,
   "metadata": {},
   "outputs": [
    {
     "data": {
      "text/plain": [
       "3218"
      ]
     },
     "execution_count": 7,
     "metadata": {},
     "output_type": "execute_result"
    }
   ],
   "source": [
    "nyt_locations_with_fips.count()"
   ]
  },
  {
   "cell_type": "code",
   "execution_count": 8,
   "metadata": {},
   "outputs": [],
   "source": [
    "nyt_locations_with_geography = nyt_locations_with_fips.join( gazetteer, [\"fips\"])"
   ]
  },
  {
   "cell_type": "code",
   "execution_count": 9,
   "metadata": {},
   "outputs": [
    {
     "name": "stdout",
     "output_type": "stream",
     "text": [
      "+-----+-------------+---------------+-----+---------------+---------+-----------+\n",
      "| fips|        state|         county|state|         county| latitude|  longitude|\n",
      "+-----+-------------+---------------+-----+---------------+---------+-----------+\n",
      "|12117|      Florida|       Seminole|   FL|Seminole County|28.690065|  -81.13197|\n",
      "|51510|     Virginia|Alexandria city|   VA|Alexandria city|38.819252|  -77.08367|\n",
      "|54055|West Virginia|         Mercer|   WV|  Mercer County|37.403446|  -81.10645|\n",
      "|13175|      Georgia|        Laurens|   GA| Laurens County| 32.39322| -82.926315|\n",
      "|21209|     Kentucky|          Scott|   KY|   Scott County| 38.28571|  -84.57834|\n",
      "|36063|     New York|        Niagara|   NY| Niagara County| 43.27267|  -78.81294|\n",
      "|29101|     Missouri|        Johnson|   MO| Johnson County|38.741528|  -93.81187|\n",
      "|13033|      Georgia|          Burke|   GA|   Burke County| 33.06018|  -82.00016|\n",
      "|35015|   New Mexico|           Eddy|   NM|    Eddy County|32.457836|-104.306435|\n",
      "|38051| North Dakota|       McIntosh|   ND|McIntosh County| 46.10868|  -99.41649|\n",
      "+-----+-------------+---------------+-----+---------------+---------+-----------+\n",
      "only showing top 10 rows\n",
      "\n"
     ]
    }
   ],
   "source": [
    "nyt_locations_with_geography.show(10)"
   ]
  },
  {
   "cell_type": "code",
   "execution_count": 10,
   "metadata": {},
   "outputs": [
    {
     "data": {
      "text/plain": [
       "3210"
      ]
     },
     "execution_count": 10,
     "metadata": {},
     "output_type": "execute_result"
    }
   ],
   "source": [
    "nyt_locations_with_geography.count()"
   ]
  },
  {
   "cell_type": "code",
   "execution_count": 11,
   "metadata": {},
   "outputs": [
    {
     "data": {
      "text/plain": [
       "3274"
      ]
     },
     "execution_count": 11,
     "metadata": {},
     "output_type": "execute_result"
    }
   ],
   "source": [
    "nyt_locations.count()"
   ]
  },
  {
   "cell_type": "code",
   "execution_count": 12,
   "metadata": {},
   "outputs": [],
   "source": [
    "nyt_notmatched = nyt_locations.join(nyt_locations_with_geography, [\"fips\"], how = \"left_anti\")"
   ]
  },
  {
   "cell_type": "code",
   "execution_count": null,
   "metadata": {},
   "outputs": [],
   "source": [
    "df_nyt_notmatched = nyt_notmatched.toPandas()\n",
    "df_nyt_notmatched"
   ]
  },
  {
   "cell_type": "code",
   "execution_count": 14,
   "metadata": {},
   "outputs": [],
   "source": [
    "nyt_notmatched =nyt_notmatched.withColumn(\"latitude\", lit(None).cast(StringType())).withColumn( \"longitude\", lit(None).cast(StringType()))"
   ]
  },
  {
   "cell_type": "code",
   "execution_count": 15,
   "metadata": {},
   "outputs": [
    {
     "name": "stdout",
     "output_type": "stream",
     "text": [
      "+-----+--------------+-----------+--------+---------+\n",
      "| fips|         state|     county|latitude|longitude|\n",
      "+-----+--------------+-----------+--------+---------+\n",
      "|78030|Virgin Islands| St. Thomas|    null|     null|\n",
      "| null| Massachusetts|    Unknown|    null|     null|\n",
      "| null|     Minnesota|    Unknown|    null|     null|\n",
      "| null|      Missouri|Kansas City|    null|     null|\n",
      "| null|          Guam|    Unknown|    null|     null|\n",
      "| null|      Maryland|    Unknown|    null|     null|\n",
      "| null|         Maine|    Unknown|    null|     null|\n",
      "| null|   Connecticut|    Unknown|    null|     null|\n",
      "| null|    New Jersey|    Unknown|    null|     null|\n",
      "| null|North Carolina|    Unknown|    null|     null|\n",
      "| null|      Colorado|    Unknown|    null|     null|\n",
      "| null|       Vermont|    Unknown|    null|     null|\n",
      "| null|      Oklahoma|    Unknown|    null|     null|\n",
      "| null|        Oregon|    Unknown|    null|     null|\n",
      "| null|  South Dakota|    Unknown|    null|     null|\n",
      "| null|Virgin Islands|    Unknown|    null|     null|\n",
      "| null|      Delaware|    Unknown|    null|     null|\n",
      "| null|        Nevada|    Unknown|    null|     null|\n",
      "| null|       Florida|    Unknown|    null|     null|\n",
      "| null|      Nebraska|    Unknown|    null|     null|\n",
      "+-----+--------------+-----------+--------+---------+\n",
      "only showing top 20 rows\n",
      "\n"
     ]
    }
   ],
   "source": [
    "nyt_notmatched.show()"
   ]
  },
  {
   "cell_type": "code",
   "execution_count": 16,
   "metadata": {},
   "outputs": [
    {
     "name": "stdout",
     "output_type": "stream",
     "text": [
      "root\n",
      " |-- fips: string (nullable = true)\n",
      " |-- state: string (nullable = true)\n",
      " |-- county: string (nullable = true)\n",
      " |-- latitude: string (nullable = true)\n",
      " |-- longitude: string (nullable = true)\n",
      "\n"
     ]
    }
   ],
   "source": [
    "nyt_notmatched.printSchema()"
   ]
  },
  {
   "cell_type": "code",
   "execution_count": 17,
   "metadata": {},
   "outputs": [],
   "source": [
    "states_gps = spark.read.csv( os.path.join(project_path, \"DATA\", \"US_states_GPS.csv\"), sep = \",\", header = True)#\\\n",
    "    #.rename(columns ={'Unnamed: 0': \"state\"})"
   ]
  },
  {
   "cell_type": "code",
   "execution_count": 18,
   "metadata": {},
   "outputs": [
    {
     "name": "stdout",
     "output_type": "stream",
     "text": [
      "+-------------+---------+-----------+\n",
      "|        State| Latitude|  Longitude|\n",
      "+-------------+---------+-----------+\n",
      "|    Wisconsin|     44.5|      -89.5|\n",
      "|West Virginia|       39|      -80.5|\n",
      "|      Vermont|       44| -72.699997|\n",
      "|        Texas|       31|       -100|\n",
      "| South Dakota|     44.5|       -100|\n",
      "| Rhode Island|41.700001|      -71.5|\n",
      "|       Oregon|       44|     -120.5|\n",
      "|     New York|       43|        -75|\n",
      "|New Hampshire|       44|      -71.5|\n",
      "|     Nebraska|     41.5|       -100|\n",
      "|       Kansas|     38.5|        -98|\n",
      "|  Mississippi|       33|        -90|\n",
      "|     Illinois|       40|        -89|\n",
      "|     Delaware|       39|      -75.5|\n",
      "|  Connecticut|41.599998| -72.699997|\n",
      "|     Arkansas|34.799999| -92.199997|\n",
      "|      Indiana|40.273502| -86.126976|\n",
      "|     Missouri|38.573936|  -92.60376|\n",
      "|      Florida|27.994402| -81.760254|\n",
      "|       Nevada|39.876019|-117.224121|\n",
      "+-------------+---------+-----------+\n",
      "only showing top 20 rows\n",
      "\n"
     ]
    }
   ],
   "source": [
    "states_gps.show()"
   ]
  },
  {
   "cell_type": "code",
   "execution_count": 19,
   "metadata": {},
   "outputs": [
    {
     "ename": "NameError",
     "evalue": "name 'toto' is not defined",
     "output_type": "error",
     "traceback": [
      "\u001b[0;31m---------------------------------------------------------------------------\u001b[0m",
      "\u001b[0;31mNameError\u001b[0m                                 Traceback (most recent call last)",
      "\u001b[0;32m<ipython-input-19-a0db3ace16eb>\u001b[0m in \u001b[0;36m<module>\u001b[0;34m\u001b[0m\n\u001b[0;32m----> 1\u001b[0;31m \u001b[0mnyt_notmatched\u001b[0m\u001b[0;34m.\u001b[0m\u001b[0mwhere\u001b[0m\u001b[0;34m(\u001b[0m\u001b[0mtoto\u001b[0m\u001b[0;34m.\u001b[0m\u001b[0mstate\u001b[0m\u001b[0;34m.\u001b[0m\u001b[0mcontains\u001b[0m\u001b[0;34m(\u001b[0m\u001b[0;34m\"ashington\"\u001b[0m\u001b[0;34m)\u001b[0m\u001b[0;34m)\u001b[0m\u001b[0;34m.\u001b[0m\u001b[0mshow\u001b[0m\u001b[0;34m(\u001b[0m\u001b[0;34m)\u001b[0m\u001b[0;34m\u001b[0m\u001b[0;34m\u001b[0m\u001b[0m\n\u001b[0m",
      "\u001b[0;31mNameError\u001b[0m: name 'toto' is not defined"
     ]
    }
   ],
   "source": [
    "nyt_notmatched.where(toto.state.contains(\"ashington\")).show()"
   ]
  },
  {
   "cell_type": "code",
   "execution_count": null,
   "metadata": {},
   "outputs": [],
   "source": [
    "states_gps.where(states_gps.State.contains(\"ashington\")).show()"
   ]
  },
  {
   "cell_type": "code",
   "execution_count": null,
   "metadata": {},
   "outputs": [],
   "source": [
    "fix_state = udf( lambda x : \"Washington\" if x == \"Washington State\" else x )\n",
    "states_gps = states_gps.withColumn(\"State\", fix_state(states_gps.State))"
   ]
  },
  {
   "cell_type": "code",
   "execution_count": null,
   "metadata": {},
   "outputs": [],
   "source": []
  },
  {
   "cell_type": "code",
   "execution_count": null,
   "metadata": {},
   "outputs": [],
   "source": [
    "nyt_notmatched_fix1 = nyt_notmatched.join(states_gps, (nyt_notmatched[\"state\"] == states_gps[\"State\"]) & (nyt_notmatched[\"county\"] == \"Unknown\"), \"left\") "
   ]
  },
  {
   "cell_type": "code",
   "execution_count": null,
   "metadata": {},
   "outputs": [],
   "source": [
    "nyt_notmatched_fix1.show()"
   ]
  },
  {
   "cell_type": "code",
   "execution_count": null,
   "metadata": {},
   "outputs": [],
   "source": [
    "nyt_notmatched_fix1.count()"
   ]
  },
  {
   "cell_type": "code",
   "execution_count": null,
   "metadata": {},
   "outputs": [],
   "source": []
  }
 ],
 "metadata": {
  "kernelspec": {
   "display_name": "Python [conda env:pyspark] *",
   "language": "python",
   "name": "conda-env-pyspark-py"
  },
  "language_info": {
   "codemirror_mode": {
    "name": "ipython",
    "version": 3
   },
   "file_extension": ".py",
   "mimetype": "text/x-python",
   "name": "python",
   "nbconvert_exporter": "python",
   "pygments_lexer": "ipython3",
   "version": "3.7.9"
  }
 },
 "nbformat": 4,
 "nbformat_minor": 4
}
