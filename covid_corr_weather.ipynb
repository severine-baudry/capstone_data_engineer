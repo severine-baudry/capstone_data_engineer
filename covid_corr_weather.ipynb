{
 "cells": [
  {
   "cell_type": "code",
   "execution_count": 7,
   "metadata": {},
   "outputs": [],
   "source": [
    "import configparser\n",
    "import os\n",
    "import pyspark\n",
    "from pyspark import SparkConf\n",
    "from pyspark.sql import SparkSession\n",
    "import pyspark.sql.functions as F\n",
    "import pyspark.sql.types as T\n",
    "import pandas as pd\n",
    "import matplotlib.pyplot as plt\n",
    "from datetime import date, timedelta\n",
    "import statsmodels\n",
    "from statsmodels.formula.api import ols"
   ]
  },
  {
   "cell_type": "code",
   "execution_count": 2,
   "metadata": {},
   "outputs": [
    {
     "data": {
      "text/plain": [
       "['capstone.cfg']"
      ]
     },
     "execution_count": 2,
     "metadata": {},
     "output_type": "execute_result"
    }
   ],
   "source": [
    "config = configparser.ConfigParser()\n",
    "config.read(\"capstone.cfg\")"
   ]
  },
  {
   "cell_type": "code",
   "execution_count": 3,
   "metadata": {},
   "outputs": [],
   "source": [
    "os.chdir(config[\"PATH\"][\"project\"])\n",
    "project_path = config[\"PATH\"][\"project\"]"
   ]
  },
  {
   "cell_type": "markdown",
   "metadata": {},
   "source": [
    "Create spark session. Add driver postgress to enable to load from existing postgres DB\n"
   ]
  },
  {
   "cell_type": "code",
   "execution_count": 4,
   "metadata": {},
   "outputs": [],
   "source": [
    "# add driver postgress to enable to load from existing postgres DB\n",
    "spark = SparkSession \\\n",
    "    .builder \\\n",
    "    .appName(\"covid_weather\") \\\n",
    "    .config(\"spark.jars\", \"postgresql-42.2.18.jar\")\\\n",
    "    .config( \"spark.driver.extraClassPath\", \"postgresql-42.2.18.jar\")\\\n",
    "    .getOrCreate()"
   ]
  },
  {
   "cell_type": "code",
   "execution_count": 5,
   "metadata": {},
   "outputs": [],
   "source": [
    "data_root = os.path.join(project_path, 'DATA/')"
   ]
  },
  {
   "cell_type": "code",
   "execution_count": 6,
   "metadata": {},
   "outputs": [
    {
     "data": {
      "text/html": [
       "<div>\n",
       "<style scoped>\n",
       "    .dataframe tbody tr th:only-of-type {\n",
       "        vertical-align: middle;\n",
       "    }\n",
       "\n",
       "    .dataframe tbody tr th {\n",
       "        vertical-align: top;\n",
       "    }\n",
       "\n",
       "    .dataframe thead th {\n",
       "        text-align: right;\n",
       "    }\n",
       "</style>\n",
       "<table border=\"1\" class=\"dataframe\">\n",
       "  <thead>\n",
       "    <tr style=\"text-align: right;\">\n",
       "      <th></th>\n",
       "      <th>date</th>\n",
       "      <th>county</th>\n",
       "      <th>state</th>\n",
       "      <th>fips</th>\n",
       "      <th>cases</th>\n",
       "      <th>deaths</th>\n",
       "    </tr>\n",
       "  </thead>\n",
       "  <tbody>\n",
       "    <tr>\n",
       "      <th>0</th>\n",
       "      <td>2020-01-21</td>\n",
       "      <td>Snohomish</td>\n",
       "      <td>Washington</td>\n",
       "      <td>53061</td>\n",
       "      <td>1</td>\n",
       "      <td>0</td>\n",
       "    </tr>\n",
       "    <tr>\n",
       "      <th>1</th>\n",
       "      <td>2020-01-22</td>\n",
       "      <td>Snohomish</td>\n",
       "      <td>Washington</td>\n",
       "      <td>53061</td>\n",
       "      <td>1</td>\n",
       "      <td>0</td>\n",
       "    </tr>\n",
       "    <tr>\n",
       "      <th>2</th>\n",
       "      <td>2020-01-23</td>\n",
       "      <td>Snohomish</td>\n",
       "      <td>Washington</td>\n",
       "      <td>53061</td>\n",
       "      <td>1</td>\n",
       "      <td>0</td>\n",
       "    </tr>\n",
       "    <tr>\n",
       "      <th>3</th>\n",
       "      <td>2020-01-24</td>\n",
       "      <td>Cook</td>\n",
       "      <td>Illinois</td>\n",
       "      <td>17031</td>\n",
       "      <td>1</td>\n",
       "      <td>0</td>\n",
       "    </tr>\n",
       "    <tr>\n",
       "      <th>4</th>\n",
       "      <td>2020-01-24</td>\n",
       "      <td>Snohomish</td>\n",
       "      <td>Washington</td>\n",
       "      <td>53061</td>\n",
       "      <td>1</td>\n",
       "      <td>0</td>\n",
       "    </tr>\n",
       "  </tbody>\n",
       "</table>\n",
       "</div>"
      ],
      "text/plain": [
       "         date     county       state   fips  cases  deaths\n",
       "0  2020-01-21  Snohomish  Washington  53061      1       0\n",
       "1  2020-01-22  Snohomish  Washington  53061      1       0\n",
       "2  2020-01-23  Snohomish  Washington  53061      1       0\n",
       "3  2020-01-24       Cook    Illinois  17031      1       0\n",
       "4  2020-01-24  Snohomish  Washington  53061      1       0"
      ]
     },
     "execution_count": 6,
     "metadata": {},
     "output_type": "execute_result"
    }
   ],
   "source": [
    "nyt = pd.read_csv( os.path.join(data_root, \"us-counties.txt\") )\n",
    "nyt = nyt.astype( {\"fips\" : 'Int64', \"deaths\": 'Int64'})\n",
    "nyt.head()"
   ]
  },
  {
   "cell_type": "code",
   "execution_count": 7,
   "metadata": {},
   "outputs": [
    {
     "data": {
      "text/plain": [
       "(1124916, 6)"
      ]
     },
     "execution_count": 7,
     "metadata": {},
     "output_type": "execute_result"
    }
   ],
   "source": [
    "nyt.shape"
   ]
  },
  {
   "cell_type": "markdown",
   "metadata": {},
   "source": [
    "## Daily cases\n",
    "\n",
    "From cumulated cases an deaths, get the daily cases"
   ]
  },
  {
   "cell_type": "code",
   "execution_count": 8,
   "metadata": {},
   "outputs": [],
   "source": [
    "nyt.sort_values([ \"state\", \"fips\",\"county\", \"date\"] , inplace = True)\n",
    "nyt.index = range(len(nyt))"
   ]
  },
  {
   "cell_type": "markdown",
   "metadata": {},
   "source": [
    "Check whether there are NaN values in cases or deaths"
   ]
  },
  {
   "cell_type": "code",
   "execution_count": 9,
   "metadata": {},
   "outputs": [
    {
     "data": {
      "text/html": [
       "<div>\n",
       "<style scoped>\n",
       "    .dataframe tbody tr th:only-of-type {\n",
       "        vertical-align: middle;\n",
       "    }\n",
       "\n",
       "    .dataframe tbody tr th {\n",
       "        vertical-align: top;\n",
       "    }\n",
       "\n",
       "    .dataframe thead th {\n",
       "        text-align: right;\n",
       "    }\n",
       "</style>\n",
       "<table border=\"1\" class=\"dataframe\">\n",
       "  <thead>\n",
       "    <tr style=\"text-align: right;\">\n",
       "      <th></th>\n",
       "      <th>date</th>\n",
       "      <th>county</th>\n",
       "      <th>state</th>\n",
       "      <th>fips</th>\n",
       "      <th>cases</th>\n",
       "      <th>deaths</th>\n",
       "    </tr>\n",
       "  </thead>\n",
       "  <tbody>\n",
       "  </tbody>\n",
       "</table>\n",
       "</div>"
      ],
      "text/plain": [
       "Empty DataFrame\n",
       "Columns: [date, county, state, fips, cases, deaths]\n",
       "Index: []"
      ]
     },
     "execution_count": 9,
     "metadata": {},
     "output_type": "execute_result"
    }
   ],
   "source": [
    "nyt[nyt[\"cases\"].isna()]"
   ]
  },
  {
   "cell_type": "code",
   "execution_count": 10,
   "metadata": {},
   "outputs": [
    {
     "data": {
      "text/html": [
       "<div>\n",
       "<style scoped>\n",
       "    .dataframe tbody tr th:only-of-type {\n",
       "        vertical-align: middle;\n",
       "    }\n",
       "\n",
       "    .dataframe tbody tr th {\n",
       "        vertical-align: top;\n",
       "    }\n",
       "\n",
       "    .dataframe thead th {\n",
       "        text-align: right;\n",
       "    }\n",
       "</style>\n",
       "<table border=\"1\" class=\"dataframe\">\n",
       "  <thead>\n",
       "    <tr style=\"text-align: right;\">\n",
       "      <th></th>\n",
       "      <th>date</th>\n",
       "      <th>county</th>\n",
       "      <th>state</th>\n",
       "      <th>fips</th>\n",
       "      <th>cases</th>\n",
       "      <th>deaths</th>\n",
       "    </tr>\n",
       "  </thead>\n",
       "  <tbody>\n",
       "    <tr>\n",
       "      <th>809610</th>\n",
       "      <td>2020-05-05</td>\n",
       "      <td>Adjuntas</td>\n",
       "      <td>Puerto Rico</td>\n",
       "      <td>72001</td>\n",
       "      <td>3</td>\n",
       "      <td>&lt;NA&gt;</td>\n",
       "    </tr>\n",
       "    <tr>\n",
       "      <th>809611</th>\n",
       "      <td>2020-05-06</td>\n",
       "      <td>Adjuntas</td>\n",
       "      <td>Puerto Rico</td>\n",
       "      <td>72001</td>\n",
       "      <td>3</td>\n",
       "      <td>&lt;NA&gt;</td>\n",
       "    </tr>\n",
       "    <tr>\n",
       "      <th>809612</th>\n",
       "      <td>2020-05-07</td>\n",
       "      <td>Adjuntas</td>\n",
       "      <td>Puerto Rico</td>\n",
       "      <td>72001</td>\n",
       "      <td>3</td>\n",
       "      <td>&lt;NA&gt;</td>\n",
       "    </tr>\n",
       "    <tr>\n",
       "      <th>809613</th>\n",
       "      <td>2020-05-08</td>\n",
       "      <td>Adjuntas</td>\n",
       "      <td>Puerto Rico</td>\n",
       "      <td>72001</td>\n",
       "      <td>3</td>\n",
       "      <td>&lt;NA&gt;</td>\n",
       "    </tr>\n",
       "    <tr>\n",
       "      <th>809614</th>\n",
       "      <td>2020-05-09</td>\n",
       "      <td>Adjuntas</td>\n",
       "      <td>Puerto Rico</td>\n",
       "      <td>72001</td>\n",
       "      <td>3</td>\n",
       "      <td>&lt;NA&gt;</td>\n",
       "    </tr>\n",
       "    <tr>\n",
       "      <th>...</th>\n",
       "      <td>...</td>\n",
       "      <td>...</td>\n",
       "      <td>...</td>\n",
       "      <td>...</td>\n",
       "      <td>...</td>\n",
       "      <td>...</td>\n",
       "    </tr>\n",
       "    <tr>\n",
       "      <th>834138</th>\n",
       "      <td>2021-03-11</td>\n",
       "      <td>Yauco</td>\n",
       "      <td>Puerto Rico</td>\n",
       "      <td>72153</td>\n",
       "      <td>1008</td>\n",
       "      <td>&lt;NA&gt;</td>\n",
       "    </tr>\n",
       "    <tr>\n",
       "      <th>834139</th>\n",
       "      <td>2021-03-12</td>\n",
       "      <td>Yauco</td>\n",
       "      <td>Puerto Rico</td>\n",
       "      <td>72153</td>\n",
       "      <td>1008</td>\n",
       "      <td>&lt;NA&gt;</td>\n",
       "    </tr>\n",
       "    <tr>\n",
       "      <th>834140</th>\n",
       "      <td>2021-03-13</td>\n",
       "      <td>Yauco</td>\n",
       "      <td>Puerto Rico</td>\n",
       "      <td>72153</td>\n",
       "      <td>1008</td>\n",
       "      <td>&lt;NA&gt;</td>\n",
       "    </tr>\n",
       "    <tr>\n",
       "      <th>834141</th>\n",
       "      <td>2021-03-14</td>\n",
       "      <td>Yauco</td>\n",
       "      <td>Puerto Rico</td>\n",
       "      <td>72153</td>\n",
       "      <td>1007</td>\n",
       "      <td>&lt;NA&gt;</td>\n",
       "    </tr>\n",
       "    <tr>\n",
       "      <th>834142</th>\n",
       "      <td>2021-03-15</td>\n",
       "      <td>Yauco</td>\n",
       "      <td>Puerto Rico</td>\n",
       "      <td>72153</td>\n",
       "      <td>1009</td>\n",
       "      <td>&lt;NA&gt;</td>\n",
       "    </tr>\n",
       "  </tbody>\n",
       "</table>\n",
       "<p>24533 rows × 6 columns</p>\n",
       "</div>"
      ],
      "text/plain": [
       "              date    county        state   fips  cases  deaths\n",
       "809610  2020-05-05  Adjuntas  Puerto Rico  72001      3    <NA>\n",
       "809611  2020-05-06  Adjuntas  Puerto Rico  72001      3    <NA>\n",
       "809612  2020-05-07  Adjuntas  Puerto Rico  72001      3    <NA>\n",
       "809613  2020-05-08  Adjuntas  Puerto Rico  72001      3    <NA>\n",
       "809614  2020-05-09  Adjuntas  Puerto Rico  72001      3    <NA>\n",
       "...            ...       ...          ...    ...    ...     ...\n",
       "834138  2021-03-11     Yauco  Puerto Rico  72153   1008    <NA>\n",
       "834139  2021-03-12     Yauco  Puerto Rico  72153   1008    <NA>\n",
       "834140  2021-03-13     Yauco  Puerto Rico  72153   1008    <NA>\n",
       "834141  2021-03-14     Yauco  Puerto Rico  72153   1007    <NA>\n",
       "834142  2021-03-15     Yauco  Puerto Rico  72153   1009    <NA>\n",
       "\n",
       "[24533 rows x 6 columns]"
      ]
     },
     "execution_count": 10,
     "metadata": {},
     "output_type": "execute_result"
    }
   ],
   "source": [
    "nyt[nyt[\"deaths\"].isna()]"
   ]
  },
  {
   "cell_type": "code",
   "execution_count": 11,
   "metadata": {},
   "outputs": [
    {
     "data": {
      "text/plain": [
       "Puerto Rico    24533\n",
       "Name: state, dtype: int64"
      ]
     },
     "execution_count": 11,
     "metadata": {},
     "output_type": "execute_result"
    }
   ],
   "source": [
    "nyt[nyt[\"deaths\"].isna()][\"state\"].value_counts()"
   ]
  },
  {
   "cell_type": "code",
   "execution_count": 12,
   "metadata": {},
   "outputs": [
    {
     "data": {
      "text/plain": [
       "24901"
      ]
     },
     "execution_count": 12,
     "metadata": {},
     "output_type": "execute_result"
    }
   ],
   "source": [
    "len(nyt[nyt[\"state\"] == \"Puerto Rico\"] )"
   ]
  },
  {
   "cell_type": "code",
   "execution_count": 13,
   "metadata": {},
   "outputs": [
    {
     "data": {
      "text/html": [
       "<div>\n",
       "<style scoped>\n",
       "    .dataframe tbody tr th:only-of-type {\n",
       "        vertical-align: middle;\n",
       "    }\n",
       "\n",
       "    .dataframe tbody tr th {\n",
       "        vertical-align: top;\n",
       "    }\n",
       "\n",
       "    .dataframe thead th {\n",
       "        text-align: right;\n",
       "    }\n",
       "</style>\n",
       "<table border=\"1\" class=\"dataframe\">\n",
       "  <thead>\n",
       "    <tr style=\"text-align: right;\">\n",
       "      <th></th>\n",
       "      <th>date</th>\n",
       "      <th>county</th>\n",
       "      <th>state</th>\n",
       "      <th>fips</th>\n",
       "      <th>cases</th>\n",
       "      <th>deaths</th>\n",
       "    </tr>\n",
       "  </thead>\n",
       "  <tbody>\n",
       "    <tr>\n",
       "      <th>834143</th>\n",
       "      <td>2020-03-13</td>\n",
       "      <td>Unknown</td>\n",
       "      <td>Puerto Rico</td>\n",
       "      <td>&lt;NA&gt;</td>\n",
       "      <td>3</td>\n",
       "      <td>0</td>\n",
       "    </tr>\n",
       "    <tr>\n",
       "      <th>834144</th>\n",
       "      <td>2020-03-14</td>\n",
       "      <td>Unknown</td>\n",
       "      <td>Puerto Rico</td>\n",
       "      <td>&lt;NA&gt;</td>\n",
       "      <td>4</td>\n",
       "      <td>0</td>\n",
       "    </tr>\n",
       "    <tr>\n",
       "      <th>834145</th>\n",
       "      <td>2020-03-15</td>\n",
       "      <td>Unknown</td>\n",
       "      <td>Puerto Rico</td>\n",
       "      <td>&lt;NA&gt;</td>\n",
       "      <td>5</td>\n",
       "      <td>0</td>\n",
       "    </tr>\n",
       "    <tr>\n",
       "      <th>834146</th>\n",
       "      <td>2020-03-16</td>\n",
       "      <td>Unknown</td>\n",
       "      <td>Puerto Rico</td>\n",
       "      <td>&lt;NA&gt;</td>\n",
       "      <td>5</td>\n",
       "      <td>0</td>\n",
       "    </tr>\n",
       "    <tr>\n",
       "      <th>834147</th>\n",
       "      <td>2020-03-17</td>\n",
       "      <td>Unknown</td>\n",
       "      <td>Puerto Rico</td>\n",
       "      <td>&lt;NA&gt;</td>\n",
       "      <td>5</td>\n",
       "      <td>0</td>\n",
       "    </tr>\n",
       "    <tr>\n",
       "      <th>...</th>\n",
       "      <td>...</td>\n",
       "      <td>...</td>\n",
       "      <td>...</td>\n",
       "      <td>...</td>\n",
       "      <td>...</td>\n",
       "      <td>...</td>\n",
       "    </tr>\n",
       "    <tr>\n",
       "      <th>834506</th>\n",
       "      <td>2021-03-11</td>\n",
       "      <td>Unknown</td>\n",
       "      <td>Puerto Rico</td>\n",
       "      <td>&lt;NA&gt;</td>\n",
       "      <td>4463</td>\n",
       "      <td>2073</td>\n",
       "    </tr>\n",
       "    <tr>\n",
       "      <th>834507</th>\n",
       "      <td>2021-03-12</td>\n",
       "      <td>Unknown</td>\n",
       "      <td>Puerto Rico</td>\n",
       "      <td>&lt;NA&gt;</td>\n",
       "      <td>4468</td>\n",
       "      <td>2077</td>\n",
       "    </tr>\n",
       "    <tr>\n",
       "      <th>834508</th>\n",
       "      <td>2021-03-13</td>\n",
       "      <td>Unknown</td>\n",
       "      <td>Puerto Rico</td>\n",
       "      <td>&lt;NA&gt;</td>\n",
       "      <td>4476</td>\n",
       "      <td>2077</td>\n",
       "    </tr>\n",
       "    <tr>\n",
       "      <th>834509</th>\n",
       "      <td>2021-03-14</td>\n",
       "      <td>Unknown</td>\n",
       "      <td>Puerto Rico</td>\n",
       "      <td>&lt;NA&gt;</td>\n",
       "      <td>4478</td>\n",
       "      <td>2080</td>\n",
       "    </tr>\n",
       "    <tr>\n",
       "      <th>834510</th>\n",
       "      <td>2021-03-15</td>\n",
       "      <td>Unknown</td>\n",
       "      <td>Puerto Rico</td>\n",
       "      <td>&lt;NA&gt;</td>\n",
       "      <td>4482</td>\n",
       "      <td>2081</td>\n",
       "    </tr>\n",
       "  </tbody>\n",
       "</table>\n",
       "<p>368 rows × 6 columns</p>\n",
       "</div>"
      ],
      "text/plain": [
       "              date   county        state  fips  cases  deaths\n",
       "834143  2020-03-13  Unknown  Puerto Rico  <NA>      3       0\n",
       "834144  2020-03-14  Unknown  Puerto Rico  <NA>      4       0\n",
       "834145  2020-03-15  Unknown  Puerto Rico  <NA>      5       0\n",
       "834146  2020-03-16  Unknown  Puerto Rico  <NA>      5       0\n",
       "834147  2020-03-17  Unknown  Puerto Rico  <NA>      5       0\n",
       "...            ...      ...          ...   ...    ...     ...\n",
       "834506  2021-03-11  Unknown  Puerto Rico  <NA>   4463    2073\n",
       "834507  2021-03-12  Unknown  Puerto Rico  <NA>   4468    2077\n",
       "834508  2021-03-13  Unknown  Puerto Rico  <NA>   4476    2077\n",
       "834509  2021-03-14  Unknown  Puerto Rico  <NA>   4478    2080\n",
       "834510  2021-03-15  Unknown  Puerto Rico  <NA>   4482    2081\n",
       "\n",
       "[368 rows x 6 columns]"
      ]
     },
     "execution_count": 13,
     "metadata": {},
     "output_type": "execute_result"
    }
   ],
   "source": [
    "nyt[ (~nyt[\"deaths\"].isna()) & (nyt[\"state\"] == \"Puerto Rico\")]"
   ]
  },
  {
   "cell_type": "markdown",
   "metadata": {},
   "source": [
    "In Puerto Rico, cases are reported by county but deaths are global for the territory"
   ]
  },
  {
   "cell_type": "code",
   "execution_count": 14,
   "metadata": {},
   "outputs": [],
   "source": [
    "group_nyt = nyt.groupby([\"county\", \"state\", \"fips\"], dropna = False)"
   ]
  },
  {
   "cell_type": "code",
   "execution_count": 15,
   "metadata": {},
   "outputs": [],
   "source": [
    "nyt[\"daily_cases\"] = group_nyt[\"cases\"].diff().fillna( nyt[\"cases\"])\n",
    "nyt[\"daily_deaths\"] = group_nyt[\"deaths\"].diff().fillna( nyt[\"deaths\"])"
   ]
  },
  {
   "cell_type": "code",
   "execution_count": 16,
   "metadata": {},
   "outputs": [
    {
     "data": {
      "text/plain": [
       "-512       1\n",
       "-299       1\n",
       "-275       1\n",
       "-234       1\n",
       "-206       1\n",
       "        ... \n",
       "-5        78\n",
       "-4       137\n",
       "-3       168\n",
       "-2       496\n",
       "-1      4041\n",
       "Name: daily_deaths, Length: 79, dtype: Int64"
      ]
     },
     "execution_count": 16,
     "metadata": {},
     "output_type": "execute_result"
    }
   ],
   "source": [
    "nyt[ nyt[\"daily_deaths\"]< 0][\"daily_deaths\"].value_counts().sort_index()"
   ]
  },
  {
   "cell_type": "code",
   "execution_count": 17,
   "metadata": {},
   "outputs": [
    {
     "data": {
      "text/html": [
       "<div>\n",
       "<style scoped>\n",
       "    .dataframe tbody tr th:only-of-type {\n",
       "        vertical-align: middle;\n",
       "    }\n",
       "\n",
       "    .dataframe tbody tr th {\n",
       "        vertical-align: top;\n",
       "    }\n",
       "\n",
       "    .dataframe thead th {\n",
       "        text-align: right;\n",
       "    }\n",
       "</style>\n",
       "<table border=\"1\" class=\"dataframe\">\n",
       "  <thead>\n",
       "    <tr style=\"text-align: right;\">\n",
       "      <th></th>\n",
       "      <th>date</th>\n",
       "      <th>county</th>\n",
       "      <th>state</th>\n",
       "      <th>fips</th>\n",
       "      <th>cases</th>\n",
       "      <th>deaths</th>\n",
       "      <th>daily_cases</th>\n",
       "      <th>daily_deaths</th>\n",
       "    </tr>\n",
       "  </thead>\n",
       "  <tbody>\n",
       "    <tr>\n",
       "      <th>650041</th>\n",
       "      <td>2020-08-06</td>\n",
       "      <td>Nassau</td>\n",
       "      <td>New York</td>\n",
       "      <td>36059</td>\n",
       "      <td>43534</td>\n",
       "      <td>2194</td>\n",
       "      <td>52.0</td>\n",
       "      <td>-512</td>\n",
       "    </tr>\n",
       "  </tbody>\n",
       "</table>\n",
       "</div>"
      ],
      "text/plain": [
       "              date  county     state   fips  cases  deaths  daily_cases  \\\n",
       "650041  2020-08-06  Nassau  New York  36059  43534    2194         52.0   \n",
       "\n",
       "        daily_deaths  \n",
       "650041          -512  "
      ]
     },
     "execution_count": 17,
     "metadata": {},
     "output_type": "execute_result"
    }
   ],
   "source": [
    "nyt[ nyt[\"daily_deaths\"] == -512]"
   ]
  },
  {
   "cell_type": "code",
   "execution_count": 18,
   "metadata": {},
   "outputs": [
    {
     "data": {
      "text/plain": [
       "<AxesSubplot:xlabel='date'>"
      ]
     },
     "execution_count": 18,
     "metadata": {},
     "output_type": "execute_result"
    },
    {
     "data": {
      "image/png": "[encoded data removed]",
      "text/plain": [
       "<Figure size 432x288 with 1 Axes>"
      ]
     },
     "metadata": {
      "needs_background": "light"
     },
     "output_type": "display_data"
    }
   ],
   "source": [
    "nyt[ nyt[\"fips\"] == 36059 ].plot( x = \"date\", y = \"daily_deaths\")"
   ]
  },
  {
   "cell_type": "code",
   "execution_count": 19,
   "metadata": {},
   "outputs": [
    {
     "data": {
      "text/html": [
       "<div>\n",
       "<style scoped>\n",
       "    .dataframe tbody tr th:only-of-type {\n",
       "        vertical-align: middle;\n",
       "    }\n",
       "\n",
       "    .dataframe tbody tr th {\n",
       "        vertical-align: top;\n",
       "    }\n",
       "\n",
       "    .dataframe thead th {\n",
       "        text-align: right;\n",
       "    }\n",
       "</style>\n",
       "<table border=\"1\" class=\"dataframe\">\n",
       "  <thead>\n",
       "    <tr style=\"text-align: right;\">\n",
       "      <th></th>\n",
       "      <th>state</th>\n",
       "      <th>fips</th>\n",
       "      <th>county</th>\n",
       "      <th>daily_deaths</th>\n",
       "    </tr>\n",
       "  </thead>\n",
       "  <tbody>\n",
       "    <tr>\n",
       "      <th>650041</th>\n",
       "      <td>New York</td>\n",
       "      <td>36059</td>\n",
       "      <td>Nassau</td>\n",
       "      <td>-512</td>\n",
       "    </tr>\n",
       "    <tr>\n",
       "      <th>661195</th>\n",
       "      <td>New York</td>\n",
       "      <td>&lt;NA&gt;</td>\n",
       "      <td>Unknown</td>\n",
       "      <td>-299</td>\n",
       "    </tr>\n",
       "    <tr>\n",
       "      <th>247341</th>\n",
       "      <td>Illinois</td>\n",
       "      <td>&lt;NA&gt;</td>\n",
       "      <td>Unknown</td>\n",
       "      <td>-275</td>\n",
       "    </tr>\n",
       "    <tr>\n",
       "      <th>414552</th>\n",
       "      <td>Louisiana</td>\n",
       "      <td>&lt;NA&gt;</td>\n",
       "      <td>Unknown</td>\n",
       "      <td>-234</td>\n",
       "    </tr>\n",
       "    <tr>\n",
       "      <th>836378</th>\n",
       "      <td>Rhode Island</td>\n",
       "      <td>&lt;NA&gt;</td>\n",
       "      <td>Unknown</td>\n",
       "      <td>-206</td>\n",
       "    </tr>\n",
       "    <tr>\n",
       "      <th>742274</th>\n",
       "      <td>Ohio</td>\n",
       "      <td>39153</td>\n",
       "      <td>Summit</td>\n",
       "      <td>-155</td>\n",
       "    </tr>\n",
       "    <tr>\n",
       "      <th>836354</th>\n",
       "      <td>Rhode Island</td>\n",
       "      <td>&lt;NA&gt;</td>\n",
       "      <td>Unknown</td>\n",
       "      <td>-148</td>\n",
       "    </tr>\n",
       "    <tr>\n",
       "      <th>659875</th>\n",
       "      <td>New York</td>\n",
       "      <td>36119</td>\n",
       "      <td>Westchester</td>\n",
       "      <td>-132</td>\n",
       "    </tr>\n",
       "    <tr>\n",
       "      <th>836651</th>\n",
       "      <td>Rhode Island</td>\n",
       "      <td>&lt;NA&gt;</td>\n",
       "      <td>Unknown</td>\n",
       "      <td>-124</td>\n",
       "    </tr>\n",
       "    <tr>\n",
       "      <th>836408</th>\n",
       "      <td>Rhode Island</td>\n",
       "      <td>&lt;NA&gt;</td>\n",
       "      <td>Unknown</td>\n",
       "      <td>-120</td>\n",
       "    </tr>\n",
       "    <tr>\n",
       "      <th>836390</th>\n",
       "      <td>Rhode Island</td>\n",
       "      <td>&lt;NA&gt;</td>\n",
       "      <td>Unknown</td>\n",
       "      <td>-118</td>\n",
       "    </tr>\n",
       "    <tr>\n",
       "      <th>836602</th>\n",
       "      <td>Rhode Island</td>\n",
       "      <td>&lt;NA&gt;</td>\n",
       "      <td>Unknown</td>\n",
       "      <td>-113</td>\n",
       "    </tr>\n",
       "  </tbody>\n",
       "</table>\n",
       "</div>"
      ],
      "text/plain": [
       "               state   fips       county  daily_deaths\n",
       "650041      New York  36059       Nassau          -512\n",
       "661195      New York   <NA>      Unknown          -299\n",
       "247341      Illinois   <NA>      Unknown          -275\n",
       "414552     Louisiana   <NA>      Unknown          -234\n",
       "836378  Rhode Island   <NA>      Unknown          -206\n",
       "742274          Ohio  39153       Summit          -155\n",
       "836354  Rhode Island   <NA>      Unknown          -148\n",
       "659875      New York  36119  Westchester          -132\n",
       "836651  Rhode Island   <NA>      Unknown          -124\n",
       "836408  Rhode Island   <NA>      Unknown          -120\n",
       "836390  Rhode Island   <NA>      Unknown          -118\n",
       "836602  Rhode Island   <NA>      Unknown          -113"
      ]
     },
     "execution_count": 19,
     "metadata": {},
     "output_type": "execute_result"
    }
   ],
   "source": [
    "deaths_anomalies = nyt[ nyt[\"daily_deaths\"] < -100][[\"state\", \"fips\", \"county\", \"daily_deaths\"]].sort_values(\"daily_deaths\")\n",
    "deaths_anomalies"
   ]
  },
  {
   "cell_type": "code",
   "execution_count": 20,
   "metadata": {},
   "outputs": [
    {
     "data": {
      "text/html": [
       "<div>\n",
       "<style scoped>\n",
       "    .dataframe tbody tr th:only-of-type {\n",
       "        vertical-align: middle;\n",
       "    }\n",
       "\n",
       "    .dataframe tbody tr th {\n",
       "        vertical-align: top;\n",
       "    }\n",
       "\n",
       "    .dataframe thead th {\n",
       "        text-align: right;\n",
       "    }\n",
       "</style>\n",
       "<table border=\"1\" class=\"dataframe\">\n",
       "  <thead>\n",
       "    <tr style=\"text-align: right;\">\n",
       "      <th></th>\n",
       "      <th>state</th>\n",
       "      <th>fips</th>\n",
       "      <th>county</th>\n",
       "    </tr>\n",
       "  </thead>\n",
       "  <tbody>\n",
       "    <tr>\n",
       "      <th>650041</th>\n",
       "      <td>New York</td>\n",
       "      <td>36059</td>\n",
       "      <td>Nassau</td>\n",
       "    </tr>\n",
       "    <tr>\n",
       "      <th>661195</th>\n",
       "      <td>New York</td>\n",
       "      <td>&lt;NA&gt;</td>\n",
       "      <td>Unknown</td>\n",
       "    </tr>\n",
       "    <tr>\n",
       "      <th>247341</th>\n",
       "      <td>Illinois</td>\n",
       "      <td>&lt;NA&gt;</td>\n",
       "      <td>Unknown</td>\n",
       "    </tr>\n",
       "    <tr>\n",
       "      <th>414552</th>\n",
       "      <td>Louisiana</td>\n",
       "      <td>&lt;NA&gt;</td>\n",
       "      <td>Unknown</td>\n",
       "    </tr>\n",
       "    <tr>\n",
       "      <th>836378</th>\n",
       "      <td>Rhode Island</td>\n",
       "      <td>&lt;NA&gt;</td>\n",
       "      <td>Unknown</td>\n",
       "    </tr>\n",
       "    <tr>\n",
       "      <th>742274</th>\n",
       "      <td>Ohio</td>\n",
       "      <td>39153</td>\n",
       "      <td>Summit</td>\n",
       "    </tr>\n",
       "    <tr>\n",
       "      <th>659875</th>\n",
       "      <td>New York</td>\n",
       "      <td>36119</td>\n",
       "      <td>Westchester</td>\n",
       "    </tr>\n",
       "  </tbody>\n",
       "</table>\n",
       "</div>"
      ],
      "text/plain": [
       "               state   fips       county\n",
       "650041      New York  36059       Nassau\n",
       "661195      New York   <NA>      Unknown\n",
       "247341      Illinois   <NA>      Unknown\n",
       "414552     Louisiana   <NA>      Unknown\n",
       "836378  Rhode Island   <NA>      Unknown\n",
       "742274          Ohio  39153       Summit\n",
       "659875      New York  36119  Westchester"
      ]
     },
     "execution_count": 20,
     "metadata": {},
     "output_type": "execute_result"
    }
   ],
   "source": [
    "deaths_anomalies_2 = deaths_anomalies[ deaths_anomalies.columns[0:-1]].drop_duplicates()\n",
    "deaths_anomalies_2"
   ]
  },
  {
   "cell_type": "code",
   "execution_count": 21,
   "metadata": {},
   "outputs": [
    {
     "data": {
      "image/png": "[encoded data removed]",
      "text/plain": [
       "<Figure size 432x288 with 1 Axes>"
      ]
     },
     "metadata": {
      "needs_background": "light"
     },
     "output_type": "display_data"
    },
    {
     "data": {
      "image/png": "[encoded data removed]",
      "text/plain": [
       "<Figure size 432x288 with 1 Axes>"
      ]
     },
     "metadata": {
      "needs_background": "light"
     },
     "output_type": "display_data"
    },
    {
     "data": {
      "image/png": "[encoded data removed]",
      "text/plain": [
       "<Figure size 432x288 with 1 Axes>"
      ]
     },
     "metadata": {
      "needs_background": "light"
     },
     "output_type": "display_data"
    },
    {
     "data": {
      "image/png": "[encoded data removed]",
      "text/plain": [
       "<Figure size 432x288 with 1 Axes>"
      ]
     },
     "metadata": {
      "needs_background": "light"
     },
     "output_type": "display_data"
    },
    {
     "data": {
      "image/png": "[encoded data removed]",
      "text/plain": [
       "<Figure size 432x288 with 1 Axes>"
      ]
     },
     "metadata": {
      "needs_background": "light"
     },
     "output_type": "display_data"
    },
    {
     "data": {
      "image/png": "[encoded data removed]",
      "text/plain": [
       "<Figure size 432x288 with 1 Axes>"
      ]
     },
     "metadata": {
      "needs_background": "light"
     },
     "output_type": "display_data"
    },
    {
     "data": {
      "image/png": "[encoded data removed]",
      "text/plain": [
       "<Figure size 432x288 with 1 Axes>"
      ]
     },
     "metadata": {
      "needs_background": "light"
     },
     "output_type": "display_data"
    }
   ],
   "source": [
    "for i in range( len(deaths_anomalies_2)):\n",
    "    df_merge = pd.merge( nyt, deaths_anomalies_2.iloc[i:i+1], on =[\"state\", \"fips\", \"county\"])\n",
    "    titel = deaths_anomalies_2.iloc[i:i+1].to_string(header = False, index = False)\n",
    "    df_merge.plot( x = \"date\", y = \"deaths\", title = titel)\n",
    "    plt.gcf().autofmt_xdate()"
   ]
  },
  {
   "cell_type": "code",
   "execution_count": 22,
   "metadata": {},
   "outputs": [
    {
     "data": {
      "image/png": "[encoded data removed]",
      "text/plain": [
       "<Figure size 432x288 with 1 Axes>"
      ]
     },
     "metadata": {
      "needs_background": "light"
     },
     "output_type": "display_data"
    },
    {
     "data": {
      "image/png": "[encoded data removed]",
      "text/plain": [
       "<Figure size 432x288 with 1 Axes>"
      ]
     },
     "metadata": {
      "needs_background": "light"
     },
     "output_type": "display_data"
    },
    {
     "data": {
      "image/png": "[encoded data removed]",
      "text/plain": [
       "<Figure size 432x288 with 1 Axes>"
      ]
     },
     "metadata": {
      "needs_background": "light"
     },
     "output_type": "display_data"
    },
    {
     "data": {
      "image/png": "[encoded data removed]",
      "text/plain": [
       "<Figure size 432x288 with 1 Axes>"
      ]
     },
     "metadata": {
      "needs_background": "light"
     },
     "output_type": "display_data"
    },
    {
     "data": {
      "image/png": "[encoded data removed]",
      "text/plain": [
       "<Figure size 432x288 with 1 Axes>"
      ]
     },
     "metadata": {
      "needs_background": "light"
     },
     "output_type": "display_data"
    },
    {
     "data": {
      "image/png": "[encoded data removed]",
      "text/plain": [
       "<Figure size 432x288 with 1 Axes>"
      ]
     },
     "metadata": {
      "needs_background": "light"
     },
     "output_type": "display_data"
    },
    {
     "data": {
      "image/png": "[encoded data removed]",
      "text/plain": [
       "<Figure size 432x288 with 1 Axes>"
      ]
     },
     "metadata": {
      "needs_background": "light"
     },
     "output_type": "display_data"
    }
   ],
   "source": [
    "for i in range( len(deaths_anomalies_2)):\n",
    "    df_merge = pd.merge( nyt, deaths_anomalies_2.iloc[i:i+1], on =[\"state\", \"fips\", \"county\"])\n",
    "    titel = deaths_anomalies_2.iloc[i:i+1].to_string(header = False, index = False)\n",
    "    df_merge.plot( x = \"date\", y = \"daily_deaths\", title = titel)\n",
    "    plt.gcf().autofmt_xdate()"
   ]
  },
  {
   "cell_type": "code",
   "execution_count": 23,
   "metadata": {},
   "outputs": [],
   "source": [
    "rhodeisland = nyt[nyt[\"state\"] == \"Rhode Island\"].groupby(\"date\", dropna = False)[[\"cases\", \"deaths\"]].sum()"
   ]
  },
  {
   "cell_type": "code",
   "execution_count": 24,
   "metadata": {},
   "outputs": [],
   "source": [
    "rhodeisland[\"daily_deaths\"] = rhodeisland[\"deaths\"] - rhodeisland[\"deaths\"].shift(fill_value = 0)\n",
    "rhodeisland[\"daily_cases\"] = rhodeisland[\"cases\"] - rhodeisland[\"cases\"].shift(fill_value = 0)"
   ]
  },
  {
   "cell_type": "code",
   "execution_count": 25,
   "metadata": {},
   "outputs": [
    {
     "name": "stdout",
     "output_type": "stream",
     "text": [
      "0\n",
      "-130\n"
     ]
    },
    {
     "data": {
      "image/png": "[encoded data removed]",
      "text/plain": [
       "<Figure size 432x288 with 1 Axes>"
      ]
     },
     "metadata": {
      "needs_background": "light"
     },
     "output_type": "display_data"
    }
   ],
   "source": [
    "print(rhodeisland[\"daily_deaths\"].min())\n",
    "print(rhodeisland[\"daily_cases\"].min())\n",
    "ax = rhodeisland[\"daily_deaths\"].plot()\n",
    "plt.gcf().autofmt_xdate()"
   ]
  },
  {
   "cell_type": "code",
   "execution_count": 26,
   "metadata": {},
   "outputs": [
    {
     "data": {
      "image/png": "[encoded data removed]",
      "text/plain": [
       "<Figure size 432x288 with 1 Axes>"
      ]
     },
     "metadata": {
      "needs_background": "light"
     },
     "output_type": "display_data"
    }
   ],
   "source": [
    "rhodeisland[\"deaths\"].plot()\n",
    "plt.gcf().autofmt_xdate()"
   ]
  },
  {
   "cell_type": "code",
   "execution_count": 27,
   "metadata": {},
   "outputs": [
    {
     "data": {
      "text/plain": [
       "DatetimeIndex(['2020-12-01', '2020-12-02', '2020-12-03', '2020-12-04',\n",
       "               '2020-12-05', '2020-12-06', '2020-12-07', '2020-12-08',\n",
       "               '2020-12-09', '2020-12-10', '2020-12-11', '2020-12-12',\n",
       "               '2020-12-13', '2020-12-14', '2020-12-15', '2020-12-16',\n",
       "               '2020-12-17', '2020-12-18', '2020-12-19', '2020-12-20',\n",
       "               '2020-12-21', '2020-12-22', '2020-12-23', '2020-12-24',\n",
       "               '2020-12-25', '2020-12-26', '2020-12-27', '2020-12-28',\n",
       "               '2020-12-29', '2020-12-30', '2020-12-31'],\n",
       "              dtype='datetime64[ns]', freq='D')"
      ]
     },
     "execution_count": 27,
     "metadata": {},
     "output_type": "execute_result"
    }
   ],
   "source": [
    "pd.date_range(\"2020-12-01\", \"2020-12-31\", freq = \"D\")"
   ]
  },
  {
   "cell_type": "code",
   "execution_count": 28,
   "metadata": {},
   "outputs": [],
   "source": [
    "new_index = pd.to_datetime(rhodeisland.index)\n",
    "rhodeisland.set_index( new_index, inplace = True)"
   ]
  },
  {
   "cell_type": "code",
   "execution_count": 29,
   "metadata": {},
   "outputs": [],
   "source": [
    "rhodeisland[\"dayofweek\"] = rhodeisland.index.dayofweek"
   ]
  },
  {
   "cell_type": "code",
   "execution_count": 30,
   "metadata": {
    "scrolled": true
   },
   "outputs": [
    {
     "data": {
      "text/html": [
       "<div>\n",
       "<style scoped>\n",
       "    .dataframe tbody tr th:only-of-type {\n",
       "        vertical-align: middle;\n",
       "    }\n",
       "\n",
       "    .dataframe tbody tr th {\n",
       "        vertical-align: top;\n",
       "    }\n",
       "\n",
       "    .dataframe thead th {\n",
       "        text-align: right;\n",
       "    }\n",
       "</style>\n",
       "<table border=\"1\" class=\"dataframe\">\n",
       "  <thead>\n",
       "    <tr style=\"text-align: right;\">\n",
       "      <th></th>\n",
       "      <th>daily_cases</th>\n",
       "      <th>dayofweek</th>\n",
       "    </tr>\n",
       "  </thead>\n",
       "  <tbody>\n",
       "    <tr>\n",
       "      <th>2020-12-01</th>\n",
       "      <td>1183</td>\n",
       "      <td>1</td>\n",
       "    </tr>\n",
       "    <tr>\n",
       "      <th>2020-12-02</th>\n",
       "      <td>1099</td>\n",
       "      <td>2</td>\n",
       "    </tr>\n",
       "    <tr>\n",
       "      <th>2020-12-03</th>\n",
       "      <td>1717</td>\n",
       "      <td>3</td>\n",
       "    </tr>\n",
       "    <tr>\n",
       "      <th>2020-12-04</th>\n",
       "      <td>1415</td>\n",
       "      <td>4</td>\n",
       "    </tr>\n",
       "    <tr>\n",
       "      <th>2020-12-05</th>\n",
       "      <td>0</td>\n",
       "      <td>5</td>\n",
       "    </tr>\n",
       "    <tr>\n",
       "      <th>2020-12-06</th>\n",
       "      <td>0</td>\n",
       "      <td>6</td>\n",
       "    </tr>\n",
       "    <tr>\n",
       "      <th>2020-12-07</th>\n",
       "      <td>3681</td>\n",
       "      <td>0</td>\n",
       "    </tr>\n",
       "    <tr>\n",
       "      <th>2020-12-08</th>\n",
       "      <td>1249</td>\n",
       "      <td>1</td>\n",
       "    </tr>\n",
       "    <tr>\n",
       "      <th>2020-12-09</th>\n",
       "      <td>1232</td>\n",
       "      <td>2</td>\n",
       "    </tr>\n",
       "    <tr>\n",
       "      <th>2020-12-10</th>\n",
       "      <td>948</td>\n",
       "      <td>3</td>\n",
       "    </tr>\n",
       "    <tr>\n",
       "      <th>2020-12-11</th>\n",
       "      <td>1571</td>\n",
       "      <td>4</td>\n",
       "    </tr>\n",
       "    <tr>\n",
       "      <th>2020-12-12</th>\n",
       "      <td>0</td>\n",
       "      <td>5</td>\n",
       "    </tr>\n",
       "    <tr>\n",
       "      <th>2020-12-13</th>\n",
       "      <td>0</td>\n",
       "      <td>6</td>\n",
       "    </tr>\n",
       "    <tr>\n",
       "      <th>2020-12-14</th>\n",
       "      <td>3253</td>\n",
       "      <td>0</td>\n",
       "    </tr>\n",
       "    <tr>\n",
       "      <th>2020-12-15</th>\n",
       "      <td>1166</td>\n",
       "      <td>1</td>\n",
       "    </tr>\n",
       "    <tr>\n",
       "      <th>2020-12-16</th>\n",
       "      <td>972</td>\n",
       "      <td>2</td>\n",
       "    </tr>\n",
       "    <tr>\n",
       "      <th>2020-12-17</th>\n",
       "      <td>1081</td>\n",
       "      <td>3</td>\n",
       "    </tr>\n",
       "    <tr>\n",
       "      <th>2020-12-18</th>\n",
       "      <td>522</td>\n",
       "      <td>4</td>\n",
       "    </tr>\n",
       "    <tr>\n",
       "      <th>2020-12-19</th>\n",
       "      <td>0</td>\n",
       "      <td>5</td>\n",
       "    </tr>\n",
       "    <tr>\n",
       "      <th>2020-12-20</th>\n",
       "      <td>0</td>\n",
       "      <td>6</td>\n",
       "    </tr>\n",
       "    <tr>\n",
       "      <th>2020-12-21</th>\n",
       "      <td>2419</td>\n",
       "      <td>0</td>\n",
       "    </tr>\n",
       "    <tr>\n",
       "      <th>2020-12-22</th>\n",
       "      <td>956</td>\n",
       "      <td>1</td>\n",
       "    </tr>\n",
       "    <tr>\n",
       "      <th>2020-12-23</th>\n",
       "      <td>879</td>\n",
       "      <td>2</td>\n",
       "    </tr>\n",
       "    <tr>\n",
       "      <th>2020-12-24</th>\n",
       "      <td>0</td>\n",
       "      <td>3</td>\n",
       "    </tr>\n",
       "    <tr>\n",
       "      <th>2020-12-25</th>\n",
       "      <td>0</td>\n",
       "      <td>4</td>\n",
       "    </tr>\n",
       "    <tr>\n",
       "      <th>2020-12-26</th>\n",
       "      <td>0</td>\n",
       "      <td>5</td>\n",
       "    </tr>\n",
       "    <tr>\n",
       "      <th>2020-12-27</th>\n",
       "      <td>0</td>\n",
       "      <td>6</td>\n",
       "    </tr>\n",
       "    <tr>\n",
       "      <th>2020-12-28</th>\n",
       "      <td>3536</td>\n",
       "      <td>0</td>\n",
       "    </tr>\n",
       "    <tr>\n",
       "      <th>2020-12-29</th>\n",
       "      <td>1187</td>\n",
       "      <td>1</td>\n",
       "    </tr>\n",
       "    <tr>\n",
       "      <th>2020-12-30</th>\n",
       "      <td>1160</td>\n",
       "      <td>2</td>\n",
       "    </tr>\n",
       "    <tr>\n",
       "      <th>2020-12-31</th>\n",
       "      <td>0</td>\n",
       "      <td>3</td>\n",
       "    </tr>\n",
       "  </tbody>\n",
       "</table>\n",
       "</div>"
      ],
      "text/plain": [
       "            daily_cases  dayofweek\n",
       "2020-12-01         1183          1\n",
       "2020-12-02         1099          2\n",
       "2020-12-03         1717          3\n",
       "2020-12-04         1415          4\n",
       "2020-12-05            0          5\n",
       "2020-12-06            0          6\n",
       "2020-12-07         3681          0\n",
       "2020-12-08         1249          1\n",
       "2020-12-09         1232          2\n",
       "2020-12-10          948          3\n",
       "2020-12-11         1571          4\n",
       "2020-12-12            0          5\n",
       "2020-12-13            0          6\n",
       "2020-12-14         3253          0\n",
       "2020-12-15         1166          1\n",
       "2020-12-16          972          2\n",
       "2020-12-17         1081          3\n",
       "2020-12-18          522          4\n",
       "2020-12-19            0          5\n",
       "2020-12-20            0          6\n",
       "2020-12-21         2419          0\n",
       "2020-12-22          956          1\n",
       "2020-12-23          879          2\n",
       "2020-12-24            0          3\n",
       "2020-12-25            0          4\n",
       "2020-12-26            0          5\n",
       "2020-12-27            0          6\n",
       "2020-12-28         3536          0\n",
       "2020-12-29         1187          1\n",
       "2020-12-30         1160          2\n",
       "2020-12-31            0          3"
      ]
     },
     "execution_count": 30,
     "metadata": {},
     "output_type": "execute_result"
    }
   ],
   "source": [
    "rhodeisland.loc[ pd.date_range(\"2020-12-01\", \"2020-12-31\", freq = \"D\"), [ \"daily_cases\", \"dayofweek\" ]]"
   ]
  },
  {
   "cell_type": "code",
   "execution_count": 31,
   "metadata": {},
   "outputs": [
    {
     "data": {
      "text/html": [
       "<div>\n",
       "<style scoped>\n",
       "    .dataframe tbody tr th:only-of-type {\n",
       "        vertical-align: middle;\n",
       "    }\n",
       "\n",
       "    .dataframe tbody tr th {\n",
       "        vertical-align: top;\n",
       "    }\n",
       "\n",
       "    .dataframe thead th {\n",
       "        text-align: right;\n",
       "    }\n",
       "</style>\n",
       "<table border=\"1\" class=\"dataframe\">\n",
       "  <thead>\n",
       "    <tr style=\"text-align: right;\">\n",
       "      <th></th>\n",
       "      <th>daily_deaths</th>\n",
       "      <th>dayofweek</th>\n",
       "    </tr>\n",
       "  </thead>\n",
       "  <tbody>\n",
       "    <tr>\n",
       "      <th>2020-12-01</th>\n",
       "      <td>7</td>\n",
       "      <td>1</td>\n",
       "    </tr>\n",
       "    <tr>\n",
       "      <th>2020-12-02</th>\n",
       "      <td>11</td>\n",
       "      <td>2</td>\n",
       "    </tr>\n",
       "    <tr>\n",
       "      <th>2020-12-03</th>\n",
       "      <td>9</td>\n",
       "      <td>3</td>\n",
       "    </tr>\n",
       "    <tr>\n",
       "      <th>2020-12-04</th>\n",
       "      <td>13</td>\n",
       "      <td>4</td>\n",
       "    </tr>\n",
       "    <tr>\n",
       "      <th>2020-12-05</th>\n",
       "      <td>0</td>\n",
       "      <td>5</td>\n",
       "    </tr>\n",
       "    <tr>\n",
       "      <th>2020-12-06</th>\n",
       "      <td>0</td>\n",
       "      <td>6</td>\n",
       "    </tr>\n",
       "    <tr>\n",
       "      <th>2020-12-07</th>\n",
       "      <td>35</td>\n",
       "      <td>0</td>\n",
       "    </tr>\n",
       "    <tr>\n",
       "      <th>2020-12-08</th>\n",
       "      <td>22</td>\n",
       "      <td>1</td>\n",
       "    </tr>\n",
       "    <tr>\n",
       "      <th>2020-12-09</th>\n",
       "      <td>14</td>\n",
       "      <td>2</td>\n",
       "    </tr>\n",
       "    <tr>\n",
       "      <th>2020-12-10</th>\n",
       "      <td>14</td>\n",
       "      <td>3</td>\n",
       "    </tr>\n",
       "    <tr>\n",
       "      <th>2020-12-11</th>\n",
       "      <td>11</td>\n",
       "      <td>4</td>\n",
       "    </tr>\n",
       "    <tr>\n",
       "      <th>2020-12-12</th>\n",
       "      <td>0</td>\n",
       "      <td>5</td>\n",
       "    </tr>\n",
       "    <tr>\n",
       "      <th>2020-12-13</th>\n",
       "      <td>0</td>\n",
       "      <td>6</td>\n",
       "    </tr>\n",
       "    <tr>\n",
       "      <th>2020-12-14</th>\n",
       "      <td>46</td>\n",
       "      <td>0</td>\n",
       "    </tr>\n",
       "    <tr>\n",
       "      <th>2020-12-15</th>\n",
       "      <td>15</td>\n",
       "      <td>1</td>\n",
       "    </tr>\n",
       "    <tr>\n",
       "      <th>2020-12-16</th>\n",
       "      <td>20</td>\n",
       "      <td>2</td>\n",
       "    </tr>\n",
       "    <tr>\n",
       "      <th>2020-12-17</th>\n",
       "      <td>12</td>\n",
       "      <td>3</td>\n",
       "    </tr>\n",
       "    <tr>\n",
       "      <th>2020-12-18</th>\n",
       "      <td>23</td>\n",
       "      <td>4</td>\n",
       "    </tr>\n",
       "    <tr>\n",
       "      <th>2020-12-19</th>\n",
       "      <td>0</td>\n",
       "      <td>5</td>\n",
       "    </tr>\n",
       "    <tr>\n",
       "      <th>2020-12-20</th>\n",
       "      <td>0</td>\n",
       "      <td>6</td>\n",
       "    </tr>\n",
       "    <tr>\n",
       "      <th>2020-12-21</th>\n",
       "      <td>45</td>\n",
       "      <td>0</td>\n",
       "    </tr>\n",
       "    <tr>\n",
       "      <th>2020-12-22</th>\n",
       "      <td>8</td>\n",
       "      <td>1</td>\n",
       "    </tr>\n",
       "    <tr>\n",
       "      <th>2020-12-23</th>\n",
       "      <td>26</td>\n",
       "      <td>2</td>\n",
       "    </tr>\n",
       "    <tr>\n",
       "      <th>2020-12-24</th>\n",
       "      <td>0</td>\n",
       "      <td>3</td>\n",
       "    </tr>\n",
       "    <tr>\n",
       "      <th>2020-12-25</th>\n",
       "      <td>0</td>\n",
       "      <td>4</td>\n",
       "    </tr>\n",
       "    <tr>\n",
       "      <th>2020-12-26</th>\n",
       "      <td>0</td>\n",
       "      <td>5</td>\n",
       "    </tr>\n",
       "    <tr>\n",
       "      <th>2020-12-27</th>\n",
       "      <td>0</td>\n",
       "      <td>6</td>\n",
       "    </tr>\n",
       "    <tr>\n",
       "      <th>2020-12-28</th>\n",
       "      <td>38</td>\n",
       "      <td>0</td>\n",
       "    </tr>\n",
       "    <tr>\n",
       "      <th>2020-12-29</th>\n",
       "      <td>18</td>\n",
       "      <td>1</td>\n",
       "    </tr>\n",
       "    <tr>\n",
       "      <th>2020-12-30</th>\n",
       "      <td>17</td>\n",
       "      <td>2</td>\n",
       "    </tr>\n",
       "    <tr>\n",
       "      <th>2020-12-31</th>\n",
       "      <td>0</td>\n",
       "      <td>3</td>\n",
       "    </tr>\n",
       "  </tbody>\n",
       "</table>\n",
       "</div>"
      ],
      "text/plain": [
       "            daily_deaths  dayofweek\n",
       "2020-12-01             7          1\n",
       "2020-12-02            11          2\n",
       "2020-12-03             9          3\n",
       "2020-12-04            13          4\n",
       "2020-12-05             0          5\n",
       "2020-12-06             0          6\n",
       "2020-12-07            35          0\n",
       "2020-12-08            22          1\n",
       "2020-12-09            14          2\n",
       "2020-12-10            14          3\n",
       "2020-12-11            11          4\n",
       "2020-12-12             0          5\n",
       "2020-12-13             0          6\n",
       "2020-12-14            46          0\n",
       "2020-12-15            15          1\n",
       "2020-12-16            20          2\n",
       "2020-12-17            12          3\n",
       "2020-12-18            23          4\n",
       "2020-12-19             0          5\n",
       "2020-12-20             0          6\n",
       "2020-12-21            45          0\n",
       "2020-12-22             8          1\n",
       "2020-12-23            26          2\n",
       "2020-12-24             0          3\n",
       "2020-12-25             0          4\n",
       "2020-12-26             0          5\n",
       "2020-12-27             0          6\n",
       "2020-12-28            38          0\n",
       "2020-12-29            18          1\n",
       "2020-12-30            17          2\n",
       "2020-12-31             0          3"
      ]
     },
     "execution_count": 31,
     "metadata": {},
     "output_type": "execute_result"
    }
   ],
   "source": [
    "rhodeisland.loc[ pd.date_range(\"2020-12-01\", \"2020-12-31\", freq = \"D\"), [ \"daily_deaths\", \"dayofweek\" ]]"
   ]
  },
  {
   "cell_type": "code",
   "execution_count": 32,
   "metadata": {},
   "outputs": [
    {
     "data": {
      "text/plain": [
       "Unknown       380\n",
       "Providence    356\n",
       "Washington    356\n",
       "Bristol       356\n",
       "Kent          356\n",
       "Newport       356\n",
       "Name: county, dtype: int64"
      ]
     },
     "execution_count": 32,
     "metadata": {},
     "output_type": "execute_result"
    }
   ],
   "source": [
    "nyt[nyt[\"state\"] == \"Rhode Island\"][ \"county\"].value_counts(dropna = False)"
   ]
  },
  {
   "cell_type": "code",
   "execution_count": 33,
   "metadata": {},
   "outputs": [
    {
     "data": {
      "text/plain": [
       "NaN      380\n",
       "44001    356\n",
       "44003    356\n",
       "44005    356\n",
       "44007    356\n",
       "44009    356\n",
       "Name: fips, dtype: Int64"
      ]
     },
     "execution_count": 33,
     "metadata": {},
     "output_type": "execute_result"
    }
   ],
   "source": [
    "nyt[nyt[\"state\"] == \"Rhode Island\"][ \"fips\"].value_counts(dropna = False)"
   ]
  },
  {
   "cell_type": "code",
   "execution_count": 34,
   "metadata": {},
   "outputs": [],
   "source": [
    "unknown_rhodeisland = nyt[ (nyt[\"state\"] == \"Rhode Island\") & (nyt[\"county\"] == \"Unknown\") ].copy()\n",
    "unknown_rhodeisland[\"date\"] = pd.to_datetime( unknown_rhodeisland[\"date\"])\n",
    "unknown_rhodeisland[\"dayofweek\"] = unknown_rhodeisland[\"date\"].dt.dayofweek"
   ]
  },
  {
   "cell_type": "code",
   "execution_count": 35,
   "metadata": {},
   "outputs": [
    {
     "data": {
      "text/plain": [
       "<AxesSubplot:xlabel='date'>"
      ]
     },
     "execution_count": 35,
     "metadata": {},
     "output_type": "execute_result"
    },
    {
     "data": {
      "image/png": "[encoded data removed]",
      "text/plain": [
       "<Figure size 432x288 with 1 Axes>"
      ]
     },
     "metadata": {
      "needs_background": "light"
     },
     "output_type": "display_data"
    }
   ],
   "source": [
    "unknown_rhodeisland.plot( y = \"daily_deaths\", x = \"date\")"
   ]
  },
  {
   "cell_type": "code",
   "execution_count": 36,
   "metadata": {},
   "outputs": [
    {
     "data": {
      "text/html": [
       "<div>\n",
       "<style scoped>\n",
       "    .dataframe tbody tr th:only-of-type {\n",
       "        vertical-align: middle;\n",
       "    }\n",
       "\n",
       "    .dataframe tbody tr th {\n",
       "        vertical-align: top;\n",
       "    }\n",
       "\n",
       "    .dataframe thead th {\n",
       "        text-align: right;\n",
       "    }\n",
       "</style>\n",
       "<table border=\"1\" class=\"dataframe\">\n",
       "  <thead>\n",
       "    <tr style=\"text-align: right;\">\n",
       "      <th></th>\n",
       "      <th>date</th>\n",
       "      <th>county</th>\n",
       "      <th>state</th>\n",
       "      <th>fips</th>\n",
       "      <th>cases</th>\n",
       "      <th>deaths</th>\n",
       "      <th>daily_cases</th>\n",
       "      <th>daily_deaths</th>\n",
       "      <th>dayofweek</th>\n",
       "    </tr>\n",
       "  </thead>\n",
       "  <tbody>\n",
       "    <tr>\n",
       "      <th>836597</th>\n",
       "      <td>2021-01-01</td>\n",
       "      <td>Unknown</td>\n",
       "      <td>Rhode Island</td>\n",
       "      <td>&lt;NA&gt;</td>\n",
       "      <td>9622</td>\n",
       "      <td>60</td>\n",
       "      <td>0.0</td>\n",
       "      <td>0</td>\n",
       "      <td>4</td>\n",
       "    </tr>\n",
       "    <tr>\n",
       "      <th>836598</th>\n",
       "      <td>2021-01-02</td>\n",
       "      <td>Unknown</td>\n",
       "      <td>Rhode Island</td>\n",
       "      <td>&lt;NA&gt;</td>\n",
       "      <td>9622</td>\n",
       "      <td>60</td>\n",
       "      <td>0.0</td>\n",
       "      <td>0</td>\n",
       "      <td>5</td>\n",
       "    </tr>\n",
       "    <tr>\n",
       "      <th>836599</th>\n",
       "      <td>2021-01-03</td>\n",
       "      <td>Unknown</td>\n",
       "      <td>Rhode Island</td>\n",
       "      <td>&lt;NA&gt;</td>\n",
       "      <td>9622</td>\n",
       "      <td>60</td>\n",
       "      <td>0.0</td>\n",
       "      <td>0</td>\n",
       "      <td>6</td>\n",
       "    </tr>\n",
       "    <tr>\n",
       "      <th>836600</th>\n",
       "      <td>2021-01-04</td>\n",
       "      <td>Unknown</td>\n",
       "      <td>Rhode Island</td>\n",
       "      <td>&lt;NA&gt;</td>\n",
       "      <td>14381</td>\n",
       "      <td>138</td>\n",
       "      <td>4759.0</td>\n",
       "      <td>78</td>\n",
       "      <td>0</td>\n",
       "    </tr>\n",
       "    <tr>\n",
       "      <th>836601</th>\n",
       "      <td>2021-01-05</td>\n",
       "      <td>Unknown</td>\n",
       "      <td>Rhode Island</td>\n",
       "      <td>&lt;NA&gt;</td>\n",
       "      <td>15525</td>\n",
       "      <td>153</td>\n",
       "      <td>1144.0</td>\n",
       "      <td>15</td>\n",
       "      <td>1</td>\n",
       "    </tr>\n",
       "    <tr>\n",
       "      <th>836602</th>\n",
       "      <td>2021-01-06</td>\n",
       "      <td>Unknown</td>\n",
       "      <td>Rhode Island</td>\n",
       "      <td>&lt;NA&gt;</td>\n",
       "      <td>10937</td>\n",
       "      <td>40</td>\n",
       "      <td>-4588.0</td>\n",
       "      <td>-113</td>\n",
       "      <td>2</td>\n",
       "    </tr>\n",
       "    <tr>\n",
       "      <th>836603</th>\n",
       "      <td>2021-01-07</td>\n",
       "      <td>Unknown</td>\n",
       "      <td>Rhode Island</td>\n",
       "      <td>&lt;NA&gt;</td>\n",
       "      <td>12065</td>\n",
       "      <td>60</td>\n",
       "      <td>1128.0</td>\n",
       "      <td>20</td>\n",
       "      <td>3</td>\n",
       "    </tr>\n",
       "    <tr>\n",
       "      <th>836604</th>\n",
       "      <td>2021-01-08</td>\n",
       "      <td>Unknown</td>\n",
       "      <td>Rhode Island</td>\n",
       "      <td>&lt;NA&gt;</td>\n",
       "      <td>13088</td>\n",
       "      <td>66</td>\n",
       "      <td>1023.0</td>\n",
       "      <td>6</td>\n",
       "      <td>4</td>\n",
       "    </tr>\n",
       "    <tr>\n",
       "      <th>836605</th>\n",
       "      <td>2021-01-09</td>\n",
       "      <td>Unknown</td>\n",
       "      <td>Rhode Island</td>\n",
       "      <td>&lt;NA&gt;</td>\n",
       "      <td>13088</td>\n",
       "      <td>66</td>\n",
       "      <td>0.0</td>\n",
       "      <td>0</td>\n",
       "      <td>5</td>\n",
       "    </tr>\n",
       "    <tr>\n",
       "      <th>836606</th>\n",
       "      <td>2021-01-10</td>\n",
       "      <td>Unknown</td>\n",
       "      <td>Rhode Island</td>\n",
       "      <td>&lt;NA&gt;</td>\n",
       "      <td>13088</td>\n",
       "      <td>66</td>\n",
       "      <td>0.0</td>\n",
       "      <td>0</td>\n",
       "      <td>6</td>\n",
       "    </tr>\n",
       "    <tr>\n",
       "      <th>836607</th>\n",
       "      <td>2021-01-11</td>\n",
       "      <td>Unknown</td>\n",
       "      <td>Rhode Island</td>\n",
       "      <td>&lt;NA&gt;</td>\n",
       "      <td>16081</td>\n",
       "      <td>97</td>\n",
       "      <td>2993.0</td>\n",
       "      <td>31</td>\n",
       "      <td>0</td>\n",
       "    </tr>\n",
       "    <tr>\n",
       "      <th>836608</th>\n",
       "      <td>2021-01-12</td>\n",
       "      <td>Unknown</td>\n",
       "      <td>Rhode Island</td>\n",
       "      <td>&lt;NA&gt;</td>\n",
       "      <td>16867</td>\n",
       "      <td>120</td>\n",
       "      <td>786.0</td>\n",
       "      <td>23</td>\n",
       "      <td>1</td>\n",
       "    </tr>\n",
       "    <tr>\n",
       "      <th>836609</th>\n",
       "      <td>2021-01-13</td>\n",
       "      <td>Unknown</td>\n",
       "      <td>Rhode Island</td>\n",
       "      <td>&lt;NA&gt;</td>\n",
       "      <td>10807</td>\n",
       "      <td>66</td>\n",
       "      <td>-6060.0</td>\n",
       "      <td>-54</td>\n",
       "      <td>2</td>\n",
       "    </tr>\n",
       "    <tr>\n",
       "      <th>836610</th>\n",
       "      <td>2021-01-14</td>\n",
       "      <td>Unknown</td>\n",
       "      <td>Rhode Island</td>\n",
       "      <td>&lt;NA&gt;</td>\n",
       "      <td>11708</td>\n",
       "      <td>75</td>\n",
       "      <td>901.0</td>\n",
       "      <td>9</td>\n",
       "      <td>3</td>\n",
       "    </tr>\n",
       "    <tr>\n",
       "      <th>836611</th>\n",
       "      <td>2021-01-15</td>\n",
       "      <td>Unknown</td>\n",
       "      <td>Rhode Island</td>\n",
       "      <td>&lt;NA&gt;</td>\n",
       "      <td>12765</td>\n",
       "      <td>84</td>\n",
       "      <td>1057.0</td>\n",
       "      <td>9</td>\n",
       "      <td>4</td>\n",
       "    </tr>\n",
       "    <tr>\n",
       "      <th>836612</th>\n",
       "      <td>2021-01-16</td>\n",
       "      <td>Unknown</td>\n",
       "      <td>Rhode Island</td>\n",
       "      <td>&lt;NA&gt;</td>\n",
       "      <td>12765</td>\n",
       "      <td>84</td>\n",
       "      <td>0.0</td>\n",
       "      <td>0</td>\n",
       "      <td>5</td>\n",
       "    </tr>\n",
       "    <tr>\n",
       "      <th>836613</th>\n",
       "      <td>2021-01-17</td>\n",
       "      <td>Unknown</td>\n",
       "      <td>Rhode Island</td>\n",
       "      <td>&lt;NA&gt;</td>\n",
       "      <td>12765</td>\n",
       "      <td>84</td>\n",
       "      <td>0.0</td>\n",
       "      <td>0</td>\n",
       "      <td>6</td>\n",
       "    </tr>\n",
       "    <tr>\n",
       "      <th>836614</th>\n",
       "      <td>2021-01-18</td>\n",
       "      <td>Unknown</td>\n",
       "      <td>Rhode Island</td>\n",
       "      <td>&lt;NA&gt;</td>\n",
       "      <td>12765</td>\n",
       "      <td>84</td>\n",
       "      <td>0.0</td>\n",
       "      <td>0</td>\n",
       "      <td>0</td>\n",
       "    </tr>\n",
       "    <tr>\n",
       "      <th>836615</th>\n",
       "      <td>2021-01-19</td>\n",
       "      <td>Unknown</td>\n",
       "      <td>Rhode Island</td>\n",
       "      <td>&lt;NA&gt;</td>\n",
       "      <td>15388</td>\n",
       "      <td>124</td>\n",
       "      <td>2623.0</td>\n",
       "      <td>40</td>\n",
       "      <td>1</td>\n",
       "    </tr>\n",
       "    <tr>\n",
       "      <th>836616</th>\n",
       "      <td>2021-01-20</td>\n",
       "      <td>Unknown</td>\n",
       "      <td>Rhode Island</td>\n",
       "      <td>&lt;NA&gt;</td>\n",
       "      <td>10674</td>\n",
       "      <td>49</td>\n",
       "      <td>-4714.0</td>\n",
       "      <td>-75</td>\n",
       "      <td>2</td>\n",
       "    </tr>\n",
       "    <tr>\n",
       "      <th>836617</th>\n",
       "      <td>2021-01-21</td>\n",
       "      <td>Unknown</td>\n",
       "      <td>Rhode Island</td>\n",
       "      <td>&lt;NA&gt;</td>\n",
       "      <td>11584</td>\n",
       "      <td>67</td>\n",
       "      <td>910.0</td>\n",
       "      <td>18</td>\n",
       "      <td>3</td>\n",
       "    </tr>\n",
       "    <tr>\n",
       "      <th>836618</th>\n",
       "      <td>2021-01-22</td>\n",
       "      <td>Unknown</td>\n",
       "      <td>Rhode Island</td>\n",
       "      <td>&lt;NA&gt;</td>\n",
       "      <td>12533</td>\n",
       "      <td>74</td>\n",
       "      <td>949.0</td>\n",
       "      <td>7</td>\n",
       "      <td>4</td>\n",
       "    </tr>\n",
       "    <tr>\n",
       "      <th>836619</th>\n",
       "      <td>2021-01-23</td>\n",
       "      <td>Unknown</td>\n",
       "      <td>Rhode Island</td>\n",
       "      <td>&lt;NA&gt;</td>\n",
       "      <td>12533</td>\n",
       "      <td>74</td>\n",
       "      <td>0.0</td>\n",
       "      <td>0</td>\n",
       "      <td>5</td>\n",
       "    </tr>\n",
       "    <tr>\n",
       "      <th>836620</th>\n",
       "      <td>2021-01-24</td>\n",
       "      <td>Unknown</td>\n",
       "      <td>Rhode Island</td>\n",
       "      <td>&lt;NA&gt;</td>\n",
       "      <td>12533</td>\n",
       "      <td>74</td>\n",
       "      <td>0.0</td>\n",
       "      <td>0</td>\n",
       "      <td>6</td>\n",
       "    </tr>\n",
       "    <tr>\n",
       "      <th>836621</th>\n",
       "      <td>2021-01-25</td>\n",
       "      <td>Unknown</td>\n",
       "      <td>Rhode Island</td>\n",
       "      <td>&lt;NA&gt;</td>\n",
       "      <td>14552</td>\n",
       "      <td>101</td>\n",
       "      <td>2019.0</td>\n",
       "      <td>27</td>\n",
       "      <td>0</td>\n",
       "    </tr>\n",
       "    <tr>\n",
       "      <th>836622</th>\n",
       "      <td>2021-01-26</td>\n",
       "      <td>Unknown</td>\n",
       "      <td>Rhode Island</td>\n",
       "      <td>&lt;NA&gt;</td>\n",
       "      <td>15194</td>\n",
       "      <td>117</td>\n",
       "      <td>642.0</td>\n",
       "      <td>16</td>\n",
       "      <td>1</td>\n",
       "    </tr>\n",
       "    <tr>\n",
       "      <th>836623</th>\n",
       "      <td>2021-01-27</td>\n",
       "      <td>Unknown</td>\n",
       "      <td>Rhode Island</td>\n",
       "      <td>&lt;NA&gt;</td>\n",
       "      <td>10963</td>\n",
       "      <td>54</td>\n",
       "      <td>-4231.0</td>\n",
       "      <td>-63</td>\n",
       "      <td>2</td>\n",
       "    </tr>\n",
       "    <tr>\n",
       "      <th>836624</th>\n",
       "      <td>2021-01-28</td>\n",
       "      <td>Unknown</td>\n",
       "      <td>Rhode Island</td>\n",
       "      <td>&lt;NA&gt;</td>\n",
       "      <td>11708</td>\n",
       "      <td>63</td>\n",
       "      <td>745.0</td>\n",
       "      <td>9</td>\n",
       "      <td>3</td>\n",
       "    </tr>\n",
       "    <tr>\n",
       "      <th>836625</th>\n",
       "      <td>2021-01-29</td>\n",
       "      <td>Unknown</td>\n",
       "      <td>Rhode Island</td>\n",
       "      <td>&lt;NA&gt;</td>\n",
       "      <td>12392</td>\n",
       "      <td>73</td>\n",
       "      <td>684.0</td>\n",
       "      <td>10</td>\n",
       "      <td>4</td>\n",
       "    </tr>\n",
       "    <tr>\n",
       "      <th>836626</th>\n",
       "      <td>2021-01-30</td>\n",
       "      <td>Unknown</td>\n",
       "      <td>Rhode Island</td>\n",
       "      <td>&lt;NA&gt;</td>\n",
       "      <td>12392</td>\n",
       "      <td>73</td>\n",
       "      <td>0.0</td>\n",
       "      <td>0</td>\n",
       "      <td>5</td>\n",
       "    </tr>\n",
       "    <tr>\n",
       "      <th>836627</th>\n",
       "      <td>2021-01-31</td>\n",
       "      <td>Unknown</td>\n",
       "      <td>Rhode Island</td>\n",
       "      <td>&lt;NA&gt;</td>\n",
       "      <td>12392</td>\n",
       "      <td>73</td>\n",
       "      <td>0.0</td>\n",
       "      <td>0</td>\n",
       "      <td>6</td>\n",
       "    </tr>\n",
       "  </tbody>\n",
       "</table>\n",
       "</div>"
      ],
      "text/plain": [
       "             date   county         state  fips  cases  deaths  daily_cases  \\\n",
       "836597 2021-01-01  Unknown  Rhode Island  <NA>   9622      60          0.0   \n",
       "836598 2021-01-02  Unknown  Rhode Island  <NA>   9622      60          0.0   \n",
       "836599 2021-01-03  Unknown  Rhode Island  <NA>   9622      60          0.0   \n",
       "836600 2021-01-04  Unknown  Rhode Island  <NA>  14381     138       4759.0   \n",
       "836601 2021-01-05  Unknown  Rhode Island  <NA>  15525     153       1144.0   \n",
       "836602 2021-01-06  Unknown  Rhode Island  <NA>  10937      40      -4588.0   \n",
       "836603 2021-01-07  Unknown  Rhode Island  <NA>  12065      60       1128.0   \n",
       "836604 2021-01-08  Unknown  Rhode Island  <NA>  13088      66       1023.0   \n",
       "836605 2021-01-09  Unknown  Rhode Island  <NA>  13088      66          0.0   \n",
       "836606 2021-01-10  Unknown  Rhode Island  <NA>  13088      66          0.0   \n",
       "836607 2021-01-11  Unknown  Rhode Island  <NA>  16081      97       2993.0   \n",
       "836608 2021-01-12  Unknown  Rhode Island  <NA>  16867     120        786.0   \n",
       "836609 2021-01-13  Unknown  Rhode Island  <NA>  10807      66      -6060.0   \n",
       "836610 2021-01-14  Unknown  Rhode Island  <NA>  11708      75        901.0   \n",
       "836611 2021-01-15  Unknown  Rhode Island  <NA>  12765      84       1057.0   \n",
       "836612 2021-01-16  Unknown  Rhode Island  <NA>  12765      84          0.0   \n",
       "836613 2021-01-17  Unknown  Rhode Island  <NA>  12765      84          0.0   \n",
       "836614 2021-01-18  Unknown  Rhode Island  <NA>  12765      84          0.0   \n",
       "836615 2021-01-19  Unknown  Rhode Island  <NA>  15388     124       2623.0   \n",
       "836616 2021-01-20  Unknown  Rhode Island  <NA>  10674      49      -4714.0   \n",
       "836617 2021-01-21  Unknown  Rhode Island  <NA>  11584      67        910.0   \n",
       "836618 2021-01-22  Unknown  Rhode Island  <NA>  12533      74        949.0   \n",
       "836619 2021-01-23  Unknown  Rhode Island  <NA>  12533      74          0.0   \n",
       "836620 2021-01-24  Unknown  Rhode Island  <NA>  12533      74          0.0   \n",
       "836621 2021-01-25  Unknown  Rhode Island  <NA>  14552     101       2019.0   \n",
       "836622 2021-01-26  Unknown  Rhode Island  <NA>  15194     117        642.0   \n",
       "836623 2021-01-27  Unknown  Rhode Island  <NA>  10963      54      -4231.0   \n",
       "836624 2021-01-28  Unknown  Rhode Island  <NA>  11708      63        745.0   \n",
       "836625 2021-01-29  Unknown  Rhode Island  <NA>  12392      73        684.0   \n",
       "836626 2021-01-30  Unknown  Rhode Island  <NA>  12392      73          0.0   \n",
       "836627 2021-01-31  Unknown  Rhode Island  <NA>  12392      73          0.0   \n",
       "\n",
       "        daily_deaths  dayofweek  \n",
       "836597             0          4  \n",
       "836598             0          5  \n",
       "836599             0          6  \n",
       "836600            78          0  \n",
       "836601            15          1  \n",
       "836602          -113          2  \n",
       "836603            20          3  \n",
       "836604             6          4  \n",
       "836605             0          5  \n",
       "836606             0          6  \n",
       "836607            31          0  \n",
       "836608            23          1  \n",
       "836609           -54          2  \n",
       "836610             9          3  \n",
       "836611             9          4  \n",
       "836612             0          5  \n",
       "836613             0          6  \n",
       "836614             0          0  \n",
       "836615            40          1  \n",
       "836616           -75          2  \n",
       "836617            18          3  \n",
       "836618             7          4  \n",
       "836619             0          5  \n",
       "836620             0          6  \n",
       "836621            27          0  \n",
       "836622            16          1  \n",
       "836623           -63          2  \n",
       "836624             9          3  \n",
       "836625            10          4  \n",
       "836626             0          5  \n",
       "836627             0          6  "
      ]
     },
     "execution_count": 36,
     "metadata": {},
     "output_type": "execute_result"
    }
   ],
   "source": [
    "unknown_rhodeisland[ unknown_rhodeisland[\"date\"].isin( pd.date_range(\"2021-01-01\", \"2021-01-31\") )]"
   ]
  },
  {
   "cell_type": "code",
   "execution_count": 37,
   "metadata": {},
   "outputs": [
    {
     "data": {
      "text/html": [
       "<div>\n",
       "<style scoped>\n",
       "    .dataframe tbody tr th:only-of-type {\n",
       "        vertical-align: middle;\n",
       "    }\n",
       "\n",
       "    .dataframe tbody tr th {\n",
       "        vertical-align: top;\n",
       "    }\n",
       "\n",
       "    .dataframe thead th {\n",
       "        text-align: right;\n",
       "    }\n",
       "</style>\n",
       "<table border=\"1\" class=\"dataframe\">\n",
       "  <thead>\n",
       "    <tr style=\"text-align: right;\">\n",
       "      <th></th>\n",
       "      <th>fips</th>\n",
       "      <th>cases</th>\n",
       "      <th>deaths</th>\n",
       "      <th>daily_cases</th>\n",
       "      <th>daily_deaths</th>\n",
       "    </tr>\n",
       "    <tr>\n",
       "      <th>dayofweek</th>\n",
       "      <th></th>\n",
       "      <th></th>\n",
       "      <th></th>\n",
       "      <th></th>\n",
       "      <th></th>\n",
       "    </tr>\n",
       "  </thead>\n",
       "  <tbody>\n",
       "    <tr>\n",
       "      <th>0</th>\n",
       "      <td>0</td>\n",
       "      <td>303859</td>\n",
       "      <td>3029</td>\n",
       "      <td>43066.0</td>\n",
       "      <td>531</td>\n",
       "    </tr>\n",
       "    <tr>\n",
       "      <th>1</th>\n",
       "      <td>0</td>\n",
       "      <td>309459</td>\n",
       "      <td>3444</td>\n",
       "      <td>18990.0</td>\n",
       "      <td>457</td>\n",
       "    </tr>\n",
       "    <tr>\n",
       "      <th>2</th>\n",
       "      <td>0</td>\n",
       "      <td>225360</td>\n",
       "      <td>1971</td>\n",
       "      <td>-84099.0</td>\n",
       "      <td>-1473</td>\n",
       "    </tr>\n",
       "    <tr>\n",
       "      <th>3</th>\n",
       "      <td>0</td>\n",
       "      <td>242549</td>\n",
       "      <td>2345</td>\n",
       "      <td>17189.0</td>\n",
       "      <td>374</td>\n",
       "    </tr>\n",
       "    <tr>\n",
       "      <th>4</th>\n",
       "      <td>0</td>\n",
       "      <td>259437</td>\n",
       "      <td>2543</td>\n",
       "      <td>16888.0</td>\n",
       "      <td>198</td>\n",
       "    </tr>\n",
       "    <tr>\n",
       "      <th>5</th>\n",
       "      <td>0</td>\n",
       "      <td>260104</td>\n",
       "      <td>2570</td>\n",
       "      <td>667.0</td>\n",
       "      <td>27</td>\n",
       "    </tr>\n",
       "    <tr>\n",
       "      <th>6</th>\n",
       "      <td>0</td>\n",
       "      <td>260793</td>\n",
       "      <td>2498</td>\n",
       "      <td>689.0</td>\n",
       "      <td>-72</td>\n",
       "    </tr>\n",
       "  </tbody>\n",
       "</table>\n",
       "</div>"
      ],
      "text/plain": [
       "           fips   cases  deaths  daily_cases  daily_deaths\n",
       "dayofweek                                                 \n",
       "0             0  303859    3029      43066.0           531\n",
       "1             0  309459    3444      18990.0           457\n",
       "2             0  225360    1971     -84099.0         -1473\n",
       "3             0  242549    2345      17189.0           374\n",
       "4             0  259437    2543      16888.0           198\n",
       "5             0  260104    2570        667.0            27\n",
       "6             0  260793    2498        689.0           -72"
      ]
     },
     "execution_count": 37,
     "metadata": {},
     "output_type": "execute_result"
    }
   ],
   "source": [
    "unknown_rhodeisland.groupby(\"dayofweek\").sum()"
   ]
  },
  {
   "cell_type": "markdown",
   "metadata": {},
   "source": [
    "Negative daily values are mainly reported on wednesdays (and sometimes on sundays). Few deaths are reported on weekends. "
   ]
  },
  {
   "cell_type": "markdown",
   "metadata": {},
   "source": [
    "# Correlation between cases and deaths"
   ]
  },
  {
   "cell_type": "code",
   "execution_count": 38,
   "metadata": {},
   "outputs": [
    {
     "data": {
      "text/html": [
       "<div>\n",
       "<style scoped>\n",
       "    .dataframe tbody tr th:only-of-type {\n",
       "        vertical-align: middle;\n",
       "    }\n",
       "\n",
       "    .dataframe tbody tr th {\n",
       "        vertical-align: top;\n",
       "    }\n",
       "\n",
       "    .dataframe thead th {\n",
       "        text-align: right;\n",
       "    }\n",
       "</style>\n",
       "<table border=\"1\" class=\"dataframe\">\n",
       "  <thead>\n",
       "    <tr style=\"text-align: right;\">\n",
       "      <th></th>\n",
       "      <th>county</th>\n",
       "      <th>state</th>\n",
       "      <th>fips</th>\n",
       "      <th>cases</th>\n",
       "      <th>deaths</th>\n",
       "      <th>daily_cases</th>\n",
       "      <th>daily_deaths</th>\n",
       "    </tr>\n",
       "    <tr>\n",
       "      <th>date</th>\n",
       "      <th></th>\n",
       "      <th></th>\n",
       "      <th></th>\n",
       "      <th></th>\n",
       "      <th></th>\n",
       "      <th></th>\n",
       "      <th></th>\n",
       "    </tr>\n",
       "  </thead>\n",
       "  <tbody>\n",
       "    <tr>\n",
       "      <th>2020-03-01</th>\n",
       "      <td>New York City</td>\n",
       "      <td>New York</td>\n",
       "      <td>&lt;NA&gt;</td>\n",
       "      <td>1</td>\n",
       "      <td>0</td>\n",
       "      <td>1.0</td>\n",
       "      <td>0</td>\n",
       "    </tr>\n",
       "    <tr>\n",
       "      <th>2020-03-02</th>\n",
       "      <td>New York City</td>\n",
       "      <td>New York</td>\n",
       "      <td>&lt;NA&gt;</td>\n",
       "      <td>1</td>\n",
       "      <td>0</td>\n",
       "      <td>0.0</td>\n",
       "      <td>0</td>\n",
       "    </tr>\n",
       "    <tr>\n",
       "      <th>2020-03-03</th>\n",
       "      <td>New York City</td>\n",
       "      <td>New York</td>\n",
       "      <td>&lt;NA&gt;</td>\n",
       "      <td>2</td>\n",
       "      <td>0</td>\n",
       "      <td>1.0</td>\n",
       "      <td>0</td>\n",
       "    </tr>\n",
       "    <tr>\n",
       "      <th>2020-03-04</th>\n",
       "      <td>New York City</td>\n",
       "      <td>New York</td>\n",
       "      <td>&lt;NA&gt;</td>\n",
       "      <td>2</td>\n",
       "      <td>0</td>\n",
       "      <td>0.0</td>\n",
       "      <td>0</td>\n",
       "    </tr>\n",
       "    <tr>\n",
       "      <th>2020-03-05</th>\n",
       "      <td>New York City</td>\n",
       "      <td>New York</td>\n",
       "      <td>&lt;NA&gt;</td>\n",
       "      <td>4</td>\n",
       "      <td>0</td>\n",
       "      <td>2.0</td>\n",
       "      <td>0</td>\n",
       "    </tr>\n",
       "    <tr>\n",
       "      <th>...</th>\n",
       "      <td>...</td>\n",
       "      <td>...</td>\n",
       "      <td>...</td>\n",
       "      <td>...</td>\n",
       "      <td>...</td>\n",
       "      <td>...</td>\n",
       "      <td>...</td>\n",
       "    </tr>\n",
       "    <tr>\n",
       "      <th>2021-03-11</th>\n",
       "      <td>New York City</td>\n",
       "      <td>New York</td>\n",
       "      <td>&lt;NA&gt;</td>\n",
       "      <td>766428</td>\n",
       "      <td>30068</td>\n",
       "      <td>3970.0</td>\n",
       "      <td>85</td>\n",
       "    </tr>\n",
       "    <tr>\n",
       "      <th>2021-03-12</th>\n",
       "      <td>New York City</td>\n",
       "      <td>New York</td>\n",
       "      <td>&lt;NA&gt;</td>\n",
       "      <td>770654</td>\n",
       "      <td>30116</td>\n",
       "      <td>4226.0</td>\n",
       "      <td>48</td>\n",
       "    </tr>\n",
       "    <tr>\n",
       "      <th>2021-03-13</th>\n",
       "      <td>New York City</td>\n",
       "      <td>New York</td>\n",
       "      <td>&lt;NA&gt;</td>\n",
       "      <td>773540</td>\n",
       "      <td>30174</td>\n",
       "      <td>2886.0</td>\n",
       "      <td>58</td>\n",
       "    </tr>\n",
       "    <tr>\n",
       "      <th>2021-03-14</th>\n",
       "      <td>New York City</td>\n",
       "      <td>New York</td>\n",
       "      <td>&lt;NA&gt;</td>\n",
       "      <td>777418</td>\n",
       "      <td>30258</td>\n",
       "      <td>3878.0</td>\n",
       "      <td>84</td>\n",
       "    </tr>\n",
       "    <tr>\n",
       "      <th>2021-03-15</th>\n",
       "      <td>New York City</td>\n",
       "      <td>New York</td>\n",
       "      <td>&lt;NA&gt;</td>\n",
       "      <td>781734</td>\n",
       "      <td>30303</td>\n",
       "      <td>4316.0</td>\n",
       "      <td>45</td>\n",
       "    </tr>\n",
       "  </tbody>\n",
       "</table>\n",
       "<p>380 rows × 7 columns</p>\n",
       "</div>"
      ],
      "text/plain": [
       "                   county     state  fips   cases  deaths  daily_cases  \\\n",
       "date                                                                     \n",
       "2020-03-01  New York City  New York  <NA>       1       0          1.0   \n",
       "2020-03-02  New York City  New York  <NA>       1       0          0.0   \n",
       "2020-03-03  New York City  New York  <NA>       2       0          1.0   \n",
       "2020-03-04  New York City  New York  <NA>       2       0          0.0   \n",
       "2020-03-05  New York City  New York  <NA>       4       0          2.0   \n",
       "...                   ...       ...   ...     ...     ...          ...   \n",
       "2021-03-11  New York City  New York  <NA>  766428   30068       3970.0   \n",
       "2021-03-12  New York City  New York  <NA>  770654   30116       4226.0   \n",
       "2021-03-13  New York City  New York  <NA>  773540   30174       2886.0   \n",
       "2021-03-14  New York City  New York  <NA>  777418   30258       3878.0   \n",
       "2021-03-15  New York City  New York  <NA>  781734   30303       4316.0   \n",
       "\n",
       "            daily_deaths  \n",
       "date                      \n",
       "2020-03-01             0  \n",
       "2020-03-02             0  \n",
       "2020-03-03             0  \n",
       "2020-03-04             0  \n",
       "2020-03-05             0  \n",
       "...                  ...  \n",
       "2021-03-11            85  \n",
       "2021-03-12            48  \n",
       "2021-03-13            58  \n",
       "2021-03-14            84  \n",
       "2021-03-15            45  \n",
       "\n",
       "[380 rows x 7 columns]"
      ]
     },
     "execution_count": 38,
     "metadata": {},
     "output_type": "execute_result"
    }
   ],
   "source": [
    "nyc = nyt[ nyt[\"county\"] == \"New York City\"]\n",
    "nyc.set_index(\"date\", inplace = True)\n",
    "nyc"
   ]
  },
  {
   "cell_type": "code",
   "execution_count": 39,
   "metadata": {},
   "outputs": [
    {
     "data": {
      "text/plain": [
       "380"
      ]
     },
     "execution_count": 39,
     "metadata": {},
     "output_type": "execute_result"
    }
   ],
   "source": [
    "l = len(nyc)\n",
    "l"
   ]
  },
  {
   "cell_type": "code",
   "execution_count": 41,
   "metadata": {},
   "outputs": [],
   "source": [
    "def intercorrelation(serie1, serie2, lag_range):\n",
    "    '''\n",
    "    computing the intercorrelation btw serie1 and serie2, with shifts in lag range\n",
    "    return a Series indexed by the lag\n",
    "    '''\n",
    "    return pd.Series( [serie1.astype(\"float64\").corr(serie2.astype(\"float64\").shift(lag)) for lag in lag_range], index = lag_range)"
   ]
  },
  {
   "cell_type": "code",
   "execution_count": 71,
   "metadata": {},
   "outputs": [
    {
     "data": {
      "text/plain": [
       "<AxesSubplot:>"
      ]
     },
     "execution_count": 71,
     "metadata": {},
     "output_type": "execute_result"
    },
    {
     "data": {
      "image/png": "[encoded data removed]",
      "text/plain": [
       "<Figure size 432x288 with 1 Axes>"
      ]
     },
     "metadata": {
      "needs_background": "light"
     },
     "output_type": "display_data"
    }
   ],
   "source": [
    "toto = intercorrelation(nyc[\"daily_deaths\"], nyc[\"daily_cases\"], range(-100,150))\n",
    "toto.plot()"
   ]
  },
  {
   "cell_type": "code",
   "execution_count": 43,
   "metadata": {},
   "outputs": [
    {
     "data": {
      "image/png": "[encoded data removed]",
      "text/plain": [
       "<Figure size 432x288 with 2 Axes>"
      ]
     },
     "metadata": {
      "needs_background": "light"
     },
     "output_type": "display_data"
    }
   ],
   "source": [
    "nyc[\"daily_deaths\"].plot()\n",
    "nyc[ \"daily_cases\"].plot(secondary_y = True)\n",
    "plt.gcf().autofmt_xdate()"
   ]
  },
  {
   "cell_type": "code",
   "execution_count": 78,
   "metadata": {},
   "outputs": [
    {
     "data": {
      "text/plain": [
       "state          county          fips \n",
       "New York       New York City   NaN      30303\n",
       "California     Los Angeles     6037     22476\n",
       "Illinois       Cook            17031    10077\n",
       "Arizona        Maricopa        4013      9437\n",
       "Florida        Miami-Dade      12086     5669\n",
       "Texas          Harris          48201     5490\n",
       "California     Orange          6059      4486\n",
       "Michigan       Wayne           26163     4196\n",
       "Nevada         Clark           32003     4007\n",
       "California     San Bernardino  6071      3996\n",
       "               Riverside       6065      3984\n",
       "Texas          Dallas          48113     3688\n",
       "Massachusetts  Middlesex       25017     3540\n",
       "California     San Diego       6073      3452\n",
       "Pennsylvania   Philadelphia    42101     3208\n",
       "New York       Suffolk         36103     3162\n",
       "Texas          Tarrant         48439     3132\n",
       "               Bexar           48029     3131\n",
       "New York       Nassau          36059     2987\n",
       "New Jersey     Essex           34013     2726\n",
       "Name: deaths, dtype: Int64"
      ]
     },
     "execution_count": 78,
     "metadata": {},
     "output_type": "execute_result"
    }
   ],
   "source": [
    "nyt.groupby([\"state\", \"county\", \"fips\"], dropna = False)[\"deaths\"].max().sort_values(ascending = False).head(20)"
   ]
  },
  {
   "cell_type": "code",
   "execution_count": 81,
   "metadata": {},
   "outputs": [
    {
     "data": {
      "image/png": "[encoded data removed]",
      "text/plain": [
       "<Figure size 432x288 with 2 Axes>"
      ]
     },
     "metadata": {
      "needs_background": "light"
     },
     "output_type": "display_data"
    }
   ],
   "source": [
    "#fips = 6037\n",
    "#fips = 17031\n",
    "fips = 4013\n",
    "fips = 12086\n",
    "fips = 48201\n",
    "fips = 6059\n",
    "group_fips = nyt[nyt[\"fips\"] == fips].set_index(\"date\")\n",
    "group_fips[ \"daily_deaths\"].plot( label  = \"deaths\")\n",
    "group_fips[ \"daily_cases\"].plot(secondary_y = True, label = \"cases\")\n",
    "plt.legend()\n",
    "plt.gcf().autofmt_xdate()"
   ]
  },
  {
   "cell_type": "code",
   "execution_count": 82,
   "metadata": {},
   "outputs": [
    {
     "data": {
      "text/plain": [
       "<AxesSubplot:>"
      ]
     },
     "execution_count": 82,
     "metadata": {},
     "output_type": "execute_result"
    },
    {
     "data": {
      "image/png": "[encoded data removed]",
      "text/plain": [
       "<Figure size 432x288 with 1 Axes>"
      ]
     },
     "metadata": {
      "needs_background": "light"
     },
     "output_type": "display_data"
    }
   ],
   "source": [
    "# peak deaths appear approximately 20 days after case detection\n",
    "intercorrelation(group_fips[\"daily_deaths\"], group_fips[\"daily_cases\"], range ( -60, 60) ).plot()"
   ]
  },
  {
   "cell_type": "markdown",
   "metadata": {},
   "source": [
    "# Correlation between cases and weather"
   ]
  },
  {
   "cell_type": "code",
   "execution_count": 6,
   "metadata": {},
   "outputs": [],
   "source": [
    "prcp = pd.read_csv( os.path.join(project_path, \"OUT_DATA\", \"weather_covid_PRCP.csv\"))\n",
    "prcp = prcp.astype( {\"fips\" : 'Int64', \"deaths\": 'Int64'})"
   ]
  },
  {
   "cell_type": "code",
   "execution_count": 13,
   "metadata": {},
   "outputs": [
    {
     "data": {
      "text/html": [
       "<div>\n",
       "<style scoped>\n",
       "    .dataframe tbody tr th:only-of-type {\n",
       "        vertical-align: middle;\n",
       "    }\n",
       "\n",
       "    .dataframe tbody tr th {\n",
       "        vertical-align: top;\n",
       "    }\n",
       "\n",
       "    .dataframe thead th {\n",
       "        text-align: right;\n",
       "    }\n",
       "</style>\n",
       "<table border=\"1\" class=\"dataframe\">\n",
       "  <thead>\n",
       "    <tr style=\"text-align: right;\">\n",
       "      <th></th>\n",
       "      <th>Unnamed: 0</th>\n",
       "      <th>date</th>\n",
       "      <th>county</th>\n",
       "      <th>state</th>\n",
       "      <th>fips</th>\n",
       "      <th>cases</th>\n",
       "      <th>deaths</th>\n",
       "      <th>state_gazeeter</th>\n",
       "      <th>station_id</th>\n",
       "      <th>v1</th>\n",
       "    </tr>\n",
       "  </thead>\n",
       "  <tbody>\n",
       "    <tr>\n",
       "      <th>884732</th>\n",
       "      <td>3240</td>\n",
       "      <td>2020-12-31</td>\n",
       "      <td>Montgomery</td>\n",
       "      <td>Kentucky</td>\n",
       "      <td>21173</td>\n",
       "      <td>1378</td>\n",
       "      <td>12</td>\n",
       "      <td>Kentucky</td>\n",
       "      <td>USC00155640</td>\n",
       "      <td>157.0</td>\n",
       "    </tr>\n",
       "    <tr>\n",
       "      <th>884733</th>\n",
       "      <td>3241</td>\n",
       "      <td>2020-12-31</td>\n",
       "      <td>Meade</td>\n",
       "      <td>Kentucky</td>\n",
       "      <td>21163</td>\n",
       "      <td>1133</td>\n",
       "      <td>4</td>\n",
       "      <td>Kentucky</td>\n",
       "      <td>US1KYMD0002</td>\n",
       "      <td>353.0</td>\n",
       "    </tr>\n",
       "    <tr>\n",
       "      <th>884734</th>\n",
       "      <td>3242</td>\n",
       "      <td>2020-12-31</td>\n",
       "      <td>McLean</td>\n",
       "      <td>Kentucky</td>\n",
       "      <td>21149</td>\n",
       "      <td>549</td>\n",
       "      <td>21</td>\n",
       "      <td>NaN</td>\n",
       "      <td>NaN</td>\n",
       "      <td>NaN</td>\n",
       "    </tr>\n",
       "    <tr>\n",
       "      <th>884735</th>\n",
       "      <td>3243</td>\n",
       "      <td>2020-12-31</td>\n",
       "      <td>Lewis</td>\n",
       "      <td>Kentucky</td>\n",
       "      <td>21135</td>\n",
       "      <td>775</td>\n",
       "      <td>23</td>\n",
       "      <td>Kentucky</td>\n",
       "      <td>US1KYLW0003</td>\n",
       "      <td>145.0</td>\n",
       "    </tr>\n",
       "    <tr>\n",
       "      <th>884736</th>\n",
       "      <td>3244</td>\n",
       "      <td>2020-12-31</td>\n",
       "      <td>Menifee</td>\n",
       "      <td>Kentucky</td>\n",
       "      <td>21165</td>\n",
       "      <td>215</td>\n",
       "      <td>1</td>\n",
       "      <td>Kentucky</td>\n",
       "      <td>USC00152791</td>\n",
       "      <td>122.0</td>\n",
       "    </tr>\n",
       "  </tbody>\n",
       "</table>\n",
       "</div>"
      ],
      "text/plain": [
       "        Unnamed: 0        date      county     state   fips  cases  deaths  \\\n",
       "884732        3240  2020-12-31  Montgomery  Kentucky  21173   1378      12   \n",
       "884733        3241  2020-12-31       Meade  Kentucky  21163   1133       4   \n",
       "884734        3242  2020-12-31      McLean  Kentucky  21149    549      21   \n",
       "884735        3243  2020-12-31       Lewis  Kentucky  21135    775      23   \n",
       "884736        3244  2020-12-31     Menifee  Kentucky  21165    215       1   \n",
       "\n",
       "       state_gazeeter   station_id     v1  \n",
       "884732       Kentucky  USC00155640  157.0  \n",
       "884733       Kentucky  US1KYMD0002  353.0  \n",
       "884734            NaN          NaN    NaN  \n",
       "884735       Kentucky  US1KYLW0003  145.0  \n",
       "884736       Kentucky  USC00152791  122.0  "
      ]
     },
     "execution_count": 13,
     "metadata": {},
     "output_type": "execute_result"
    }
   ],
   "source": [
    "prcp.tail()"
   ]
  },
  {
   "cell_type": "code",
   "execution_count": 14,
   "metadata": {},
   "outputs": [],
   "source": [
    "prcp.sort_values([ \"state\", \"fips\",\"county\", \"date\"] , inplace = True)\n",
    "prcp.index = range(len(prcp))"
   ]
  },
  {
   "cell_type": "code",
   "execution_count": 15,
   "metadata": {},
   "outputs": [],
   "source": [
    "group_prcp = prcp.groupby([\"county\", \"state\", \"fips\"], dropna = False)"
   ]
  },
  {
   "cell_type": "code",
   "execution_count": 17,
   "metadata": {},
   "outputs": [],
   "source": [
    "prcp[\"daily_cases\"] = group_prcp[\"cases\"].diff().fillna( prcp[\"cases\"])\n",
    "prcp[\"daily_deaths\"] = group_prcp[\"deaths\"].diff().fillna( prcp[\"deaths\"])"
   ]
  },
  {
   "cell_type": "code",
   "execution_count": 18,
   "metadata": {},
   "outputs": [
    {
     "data": {
      "text/html": [
       "<div>\n",
       "<style scoped>\n",
       "    .dataframe tbody tr th:only-of-type {\n",
       "        vertical-align: middle;\n",
       "    }\n",
       "\n",
       "    .dataframe tbody tr th {\n",
       "        vertical-align: top;\n",
       "    }\n",
       "\n",
       "    .dataframe thead th {\n",
       "        text-align: right;\n",
       "    }\n",
       "</style>\n",
       "<table border=\"1\" class=\"dataframe\">\n",
       "  <thead>\n",
       "    <tr style=\"text-align: right;\">\n",
       "      <th></th>\n",
       "      <th>Unnamed: 0</th>\n",
       "      <th>date</th>\n",
       "      <th>county</th>\n",
       "      <th>state</th>\n",
       "      <th>fips</th>\n",
       "      <th>cases</th>\n",
       "      <th>deaths</th>\n",
       "      <th>state_gazeeter</th>\n",
       "      <th>station_id</th>\n",
       "      <th>v1</th>\n",
       "      <th>daily_cases</th>\n",
       "      <th>daily_deaths</th>\n",
       "    </tr>\n",
       "  </thead>\n",
       "  <tbody>\n",
       "    <tr>\n",
       "      <th>0</th>\n",
       "      <td>906</td>\n",
       "      <td>2020-03-24</td>\n",
       "      <td>Autauga</td>\n",
       "      <td>Alabama</td>\n",
       "      <td>1001</td>\n",
       "      <td>1</td>\n",
       "      <td>0</td>\n",
       "      <td>Alabama</td>\n",
       "      <td>USC00010823</td>\n",
       "      <td>0.0</td>\n",
       "      <td>1.0</td>\n",
       "      <td>0</td>\n",
       "    </tr>\n",
       "    <tr>\n",
       "      <th>1</th>\n",
       "      <td>1025</td>\n",
       "      <td>2020-03-25</td>\n",
       "      <td>Autauga</td>\n",
       "      <td>Alabama</td>\n",
       "      <td>1001</td>\n",
       "      <td>4</td>\n",
       "      <td>0</td>\n",
       "      <td>Alabama</td>\n",
       "      <td>USC00010823</td>\n",
       "      <td>0.0</td>\n",
       "      <td>3.0</td>\n",
       "      <td>0</td>\n",
       "    </tr>\n",
       "    <tr>\n",
       "      <th>2</th>\n",
       "      <td>1109</td>\n",
       "      <td>2020-03-26</td>\n",
       "      <td>Autauga</td>\n",
       "      <td>Alabama</td>\n",
       "      <td>1001</td>\n",
       "      <td>6</td>\n",
       "      <td>0</td>\n",
       "      <td>Alabama</td>\n",
       "      <td>USC00010823</td>\n",
       "      <td>0.0</td>\n",
       "      <td>2.0</td>\n",
       "      <td>0</td>\n",
       "    </tr>\n",
       "    <tr>\n",
       "      <th>3</th>\n",
       "      <td>1190</td>\n",
       "      <td>2020-03-27</td>\n",
       "      <td>Autauga</td>\n",
       "      <td>Alabama</td>\n",
       "      <td>1001</td>\n",
       "      <td>6</td>\n",
       "      <td>0</td>\n",
       "      <td>Alabama</td>\n",
       "      <td>USC00010823</td>\n",
       "      <td>0.0</td>\n",
       "      <td>0.0</td>\n",
       "      <td>0</td>\n",
       "    </tr>\n",
       "    <tr>\n",
       "      <th>4</th>\n",
       "      <td>1260</td>\n",
       "      <td>2020-03-28</td>\n",
       "      <td>Autauga</td>\n",
       "      <td>Alabama</td>\n",
       "      <td>1001</td>\n",
       "      <td>6</td>\n",
       "      <td>0</td>\n",
       "      <td>Alabama</td>\n",
       "      <td>USC00010823</td>\n",
       "      <td>0.0</td>\n",
       "      <td>0.0</td>\n",
       "      <td>0</td>\n",
       "    </tr>\n",
       "  </tbody>\n",
       "</table>\n",
       "</div>"
      ],
      "text/plain": [
       "   Unnamed: 0        date   county    state  fips  cases  deaths  \\\n",
       "0         906  2020-03-24  Autauga  Alabama  1001      1       0   \n",
       "1        1025  2020-03-25  Autauga  Alabama  1001      4       0   \n",
       "2        1109  2020-03-26  Autauga  Alabama  1001      6       0   \n",
       "3        1190  2020-03-27  Autauga  Alabama  1001      6       0   \n",
       "4        1260  2020-03-28  Autauga  Alabama  1001      6       0   \n",
       "\n",
       "  state_gazeeter   station_id   v1  daily_cases  daily_deaths  \n",
       "0        Alabama  USC00010823  0.0          1.0             0  \n",
       "1        Alabama  USC00010823  0.0          3.0             0  \n",
       "2        Alabama  USC00010823  0.0          2.0             0  \n",
       "3        Alabama  USC00010823  0.0          0.0             0  \n",
       "4        Alabama  USC00010823  0.0          0.0             0  "
      ]
     },
     "execution_count": 18,
     "metadata": {},
     "output_type": "execute_result"
    }
   ],
   "source": [
    "prcp.head()"
   ]
  },
  {
   "cell_type": "code",
   "execution_count": 19,
   "metadata": {},
   "outputs": [],
   "source": [
    "model_pcp = ols(\"daily_cases ~ v1\", data = prcp)\n",
    "res_pcp = model_pcp.fit()"
   ]
  },
  {
   "cell_type": "code",
   "execution_count": 20,
   "metadata": {},
   "outputs": [
    {
     "data": {
      "text/html": [
       "<table class=\"simpletable\">\n",
       "<caption>OLS Regression Results</caption>\n",
       "<tr>\n",
       "  <th>Dep. Variable:</th>       <td>daily_cases</td>   <th>  R-squared:         </th>  <td>   0.000</td>  \n",
       "</tr>\n",
       "<tr>\n",
       "  <th>Model:</th>                   <td>OLS</td>       <th>  Adj. R-squared:    </th>  <td>   0.000</td>  \n",
       "</tr>\n",
       "<tr>\n",
       "  <th>Method:</th>             <td>Least Squares</td>  <th>  F-statistic:       </th>  <td>   35.31</td>  \n",
       "</tr>\n",
       "<tr>\n",
       "  <th>Date:</th>             <td>Mon, 22 Mar 2021</td> <th>  Prob (F-statistic):</th>  <td>2.81e-09</td>  \n",
       "</tr>\n",
       "<tr>\n",
       "  <th>Time:</th>                 <td>10:44:23</td>     <th>  Log-Likelihood:    </th> <td>-5.5283e+06</td>\n",
       "</tr>\n",
       "<tr>\n",
       "  <th>No. Observations:</th>      <td>875641</td>      <th>  AIC:               </th>  <td>1.106e+07</td> \n",
       "</tr>\n",
       "<tr>\n",
       "  <th>Df Residuals:</th>          <td>875639</td>      <th>  BIC:               </th>  <td>1.106e+07</td> \n",
       "</tr>\n",
       "<tr>\n",
       "  <th>Df Model:</th>              <td>     1</td>      <th>                     </th>      <td> </td>     \n",
       "</tr>\n",
       "<tr>\n",
       "  <th>Covariance Type:</th>      <td>nonrobust</td>    <th>                     </th>      <td> </td>     \n",
       "</tr>\n",
       "</table>\n",
       "<table class=\"simpletable\">\n",
       "<tr>\n",
       "      <td></td>         <th>coef</th>     <th>std err</th>      <th>t</th>      <th>P>|t|</th>  <th>[0.025</th>    <th>0.975]</th>  \n",
       "</tr>\n",
       "<tr>\n",
       "  <th>Intercept</th> <td>   22.8113</td> <td>    0.150</td> <td>  152.144</td> <td> 0.000</td> <td>   22.517</td> <td>   23.105</td>\n",
       "</tr>\n",
       "<tr>\n",
       "  <th>v1</th>        <td>   -0.0090</td> <td>    0.002</td> <td>   -5.942</td> <td> 0.000</td> <td>   -0.012</td> <td>   -0.006</td>\n",
       "</tr>\n",
       "</table>\n",
       "<table class=\"simpletable\">\n",
       "<tr>\n",
       "  <th>Omnibus:</th>       <td>2508770.152</td> <th>  Durbin-Watson:     </th>     <td>   0.444</td>    \n",
       "</tr>\n",
       "<tr>\n",
       "  <th>Prob(Omnibus):</th>   <td> 0.000</td>    <th>  Jarque-Bera (JB):  </th> <td>400416560870.125</td>\n",
       "</tr>\n",
       "<tr>\n",
       "  <th>Skew:</th>            <td>38.354</td>    <th>  Prob(JB):          </th>     <td>    0.00</td>    \n",
       "</tr>\n",
       "<tr>\n",
       "  <th>Kurtosis:</th>       <td>3314.938</td>   <th>  Cond. No.          </th>     <td>    104.</td>    \n",
       "</tr>\n",
       "</table><br/><br/>Notes:<br/>[1] Standard Errors assume that the covariance matrix of the errors is correctly specified."
      ],
      "text/plain": [
       "<class 'statsmodels.iolib.summary.Summary'>\n",
       "\"\"\"\n",
       "                            OLS Regression Results                            \n",
       "==============================================================================\n",
       "Dep. Variable:            daily_cases   R-squared:                       0.000\n",
       "Model:                            OLS   Adj. R-squared:                  0.000\n",
       "Method:                 Least Squares   F-statistic:                     35.31\n",
       "Date:                Mon, 22 Mar 2021   Prob (F-statistic):           2.81e-09\n",
       "Time:                        10:44:23   Log-Likelihood:            -5.5283e+06\n",
       "No. Observations:              875641   AIC:                         1.106e+07\n",
       "Df Residuals:                  875639   BIC:                         1.106e+07\n",
       "Df Model:                           1                                         \n",
       "Covariance Type:            nonrobust                                         \n",
       "==============================================================================\n",
       "                 coef    std err          t      P>|t|      [0.025      0.975]\n",
       "------------------------------------------------------------------------------\n",
       "Intercept     22.8113      0.150    152.144      0.000      22.517      23.105\n",
       "v1            -0.0090      0.002     -5.942      0.000      -0.012      -0.006\n",
       "==============================================================================\n",
       "Omnibus:                  2508770.152   Durbin-Watson:                   0.444\n",
       "Prob(Omnibus):                  0.000   Jarque-Bera (JB):     400416560870.125\n",
       "Skew:                          38.354   Prob(JB):                         0.00\n",
       "Kurtosis:                    3314.938   Cond. No.                         104.\n",
       "==============================================================================\n",
       "\n",
       "Notes:\n",
       "[1] Standard Errors assume that the covariance matrix of the errors is correctly specified.\n",
       "\"\"\""
      ]
     },
     "execution_count": 20,
     "metadata": {},
     "output_type": "execute_result"
    }
   ],
   "source": [
    "res_pcp.summary()"
   ]
  },
  {
   "cell_type": "code",
   "execution_count": 22,
   "metadata": {},
   "outputs": [
    {
     "data": {
      "text/plain": [
       "-0.006350167099650646"
      ]
     },
     "execution_count": 22,
     "metadata": {},
     "output_type": "execute_result"
    }
   ],
   "source": [
    "prcp[\"daily_cases\"].corr( prcp[\"v1\"])"
   ]
  },
  {
   "cell_type": "code",
   "execution_count": 23,
   "metadata": {},
   "outputs": [],
   "source": [
    "tmin = pd.read_csv( os.path.join(project_path, \"OUT_DATA\", \"weather_covid_TMIN.csv\"))\n",
    "tmin = tmin.astype( {\"fips\" : 'Int64', \"deaths\": 'Int64'})\n",
    "\n",
    "tmin.sort_values([ \"state\", \"fips\",\"county\", \"date\"] , inplace = True)\n",
    "tmin.index = range(len(tmin))\n",
    "\n",
    "group_tmin = tmin.groupby([\"county\", \"state\", \"fips\"], dropna = False)\n",
    "\n",
    "tmin[\"daily_cases\"] = group_tmin[\"cases\"].diff().fillna( tmin[\"cases\"])\n",
    "tmin[\"daily_deaths\"] = group_tmin[\"deaths\"].diff().fillna( tmin[\"deaths\"])"
   ]
  },
  {
   "cell_type": "code",
   "execution_count": 24,
   "metadata": {},
   "outputs": [
    {
     "data": {
      "text/html": [
       "<table class=\"simpletable\">\n",
       "<caption>OLS Regression Results</caption>\n",
       "<tr>\n",
       "  <th>Dep. Variable:</th>       <td>daily_cases</td>   <th>  R-squared:         </th>  <td>   0.001</td>  \n",
       "</tr>\n",
       "<tr>\n",
       "  <th>Model:</th>                   <td>OLS</td>       <th>  Adj. R-squared:    </th>  <td>   0.001</td>  \n",
       "</tr>\n",
       "<tr>\n",
       "  <th>Method:</th>             <td>Least Squares</td>  <th>  F-statistic:       </th>  <td>   1257.</td>  \n",
       "</tr>\n",
       "<tr>\n",
       "  <th>Date:</th>             <td>Mon, 22 Mar 2021</td> <th>  Prob (F-statistic):</th>  <td>4.38e-275</td> \n",
       "</tr>\n",
       "<tr>\n",
       "  <th>Time:</th>                 <td>10:53:12</td>     <th>  Log-Likelihood:    </th> <td>-5.5792e+06</td>\n",
       "</tr>\n",
       "<tr>\n",
       "  <th>No. Observations:</th>      <td>876720</td>      <th>  AIC:               </th>  <td>1.116e+07</td> \n",
       "</tr>\n",
       "<tr>\n",
       "  <th>Df Residuals:</th>          <td>876718</td>      <th>  BIC:               </th>  <td>1.116e+07</td> \n",
       "</tr>\n",
       "<tr>\n",
       "  <th>Df Model:</th>              <td>     1</td>      <th>                     </th>      <td> </td>     \n",
       "</tr>\n",
       "<tr>\n",
       "  <th>Covariance Type:</th>      <td>nonrobust</td>    <th>                     </th>      <td> </td>     \n",
       "</tr>\n",
       "</table>\n",
       "<table class=\"simpletable\">\n",
       "<tr>\n",
       "      <td></td>         <th>coef</th>     <th>std err</th>      <th>t</th>      <th>P>|t|</th>  <th>[0.025</th>    <th>0.975]</th>  \n",
       "</tr>\n",
       "<tr>\n",
       "  <th>Intercept</th> <td>   28.3213</td> <td>    0.219</td> <td>  129.250</td> <td> 0.000</td> <td>   27.892</td> <td>   28.751</td>\n",
       "</tr>\n",
       "<tr>\n",
       "  <th>v1</th>        <td>   -0.0562</td> <td>    0.002</td> <td>  -35.451</td> <td> 0.000</td> <td>   -0.059</td> <td>   -0.053</td>\n",
       "</tr>\n",
       "</table>\n",
       "<table class=\"simpletable\">\n",
       "<tr>\n",
       "  <th>Omnibus:</th>       <td>2719382.190</td> <th>  Durbin-Watson:     </th>     <td>   0.479</td>     \n",
       "</tr>\n",
       "<tr>\n",
       "  <th>Prob(Omnibus):</th>   <td> 0.000</td>    <th>  Jarque-Bera (JB):  </th> <td>1005510044322.649</td>\n",
       "</tr>\n",
       "<tr>\n",
       "  <th>Skew:</th>            <td>47.623</td>    <th>  Prob(JB):          </th>     <td>    0.00</td>     \n",
       "</tr>\n",
       "<tr>\n",
       "  <th>Kurtosis:</th>       <td>5248.620</td>   <th>  Cond. No.          </th>     <td>    202.</td>     \n",
       "</tr>\n",
       "</table><br/><br/>Notes:<br/>[1] Standard Errors assume that the covariance matrix of the errors is correctly specified."
      ],
      "text/plain": [
       "<class 'statsmodels.iolib.summary.Summary'>\n",
       "\"\"\"\n",
       "                            OLS Regression Results                            \n",
       "==============================================================================\n",
       "Dep. Variable:            daily_cases   R-squared:                       0.001\n",
       "Model:                            OLS   Adj. R-squared:                  0.001\n",
       "Method:                 Least Squares   F-statistic:                     1257.\n",
       "Date:                Mon, 22 Mar 2021   Prob (F-statistic):          4.38e-275\n",
       "Time:                        10:53:12   Log-Likelihood:            -5.5792e+06\n",
       "No. Observations:              876720   AIC:                         1.116e+07\n",
       "Df Residuals:                  876718   BIC:                         1.116e+07\n",
       "Df Model:                           1                                         \n",
       "Covariance Type:            nonrobust                                         \n",
       "==============================================================================\n",
       "                 coef    std err          t      P>|t|      [0.025      0.975]\n",
       "------------------------------------------------------------------------------\n",
       "Intercept     28.3213      0.219    129.250      0.000      27.892      28.751\n",
       "v1            -0.0562      0.002    -35.451      0.000      -0.059      -0.053\n",
       "==============================================================================\n",
       "Omnibus:                  2719382.190   Durbin-Watson:                   0.479\n",
       "Prob(Omnibus):                  0.000   Jarque-Bera (JB):    1005510044322.649\n",
       "Skew:                          47.623   Prob(JB):                         0.00\n",
       "Kurtosis:                    5248.620   Cond. No.                         202.\n",
       "==============================================================================\n",
       "\n",
       "Notes:\n",
       "[1] Standard Errors assume that the covariance matrix of the errors is correctly specified.\n",
       "\"\"\""
      ]
     },
     "execution_count": 24,
     "metadata": {},
     "output_type": "execute_result"
    }
   ],
   "source": [
    "model_tmin = ols(\"daily_cases ~ v1\", data = tmin)\n",
    "res_tmin = model_tmin.fit()\n",
    "\n",
    "res_tmin.summary()"
   ]
  },
  {
   "cell_type": "code",
   "execution_count": null,
   "metadata": {},
   "outputs": [],
   "source": []
  }
 ],
 "metadata": {
  "kernelspec": {
   "display_name": "pyspark",
   "language": "python",
   "name": "pyspark"
  },
  "language_info": {
   "codemirror_mode": {
    "name": "ipython",
    "version": 3
   },
   "file_extension": ".py",
   "mimetype": "text/x-python",
   "name": "python",
   "nbconvert_exporter": "python",
   "pygments_lexer": "ipython3",
   "version": "3.7.9"
  },
  "toc": {
   "base_numbering": 1,
   "nav_menu": {},
   "number_sections": true,
   "sideBar": true,
   "skip_h1_title": false,
   "title_cell": "Table of Contents",
   "title_sidebar": "Contents",
   "toc_cell": false,
   "toc_position": {},
   "toc_section_display": true,
   "toc_window_display": true
  },
  "varInspector": {
   "cols": {
    "lenName": 16,
    "lenType": 16,
    "lenVar": 40
   },
   "kernels_config": {
    "python": {
     "delete_cmd_postfix": "",
     "delete_cmd_prefix": "del ",
     "library": "var_list.py",
     "varRefreshCmd": "print(var_dic_list())"
    },
    "r": {
     "delete_cmd_postfix": ") ",
     "delete_cmd_prefix": "rm(",
     "library": "var_list.r",
     "varRefreshCmd": "cat(var_dic_list()) "
    }
   },
   "types_to_exclude": [
    "module",
    "function",
    "builtin_function_or_method",
    "instance",
    "_Feature"
   ],
   "window_display": false
  }
 },
 "nbformat": 4,
 "nbformat_minor": 4
}
