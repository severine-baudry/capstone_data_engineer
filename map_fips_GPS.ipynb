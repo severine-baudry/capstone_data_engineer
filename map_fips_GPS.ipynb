{
 "cells": [
  {
   "cell_type": "code",
   "execution_count": 1,
   "metadata": {},
   "outputs": [],
   "source": [
    "# mapping of covid locations (fips + GPS) to the closest weather station"
   ]
  },
  {
   "cell_type": "code",
   "execution_count": 59,
   "metadata": {},
   "outputs": [],
   "source": [
    "import configparser\n",
    "import os\n",
    "import pyspark\n",
    "from pyspark import SparkConf\n",
    "from pyspark.sql import SparkSession\n",
    "import pyspark.sql.functions as F\n",
    "import pyspark.sql.types as T\n",
    "from pyspark.sql.functions import udf, col, lit\n",
    "from pyspark.sql.types import MapType, StringType, FloatType\n",
    "from pyspark.sql import DataFrame, Window\n",
    "from collections import OrderedDict\n",
    "import pandas as pd\n",
    "import numpy as np\n"
   ]
  },
  {
   "cell_type": "code",
   "execution_count": 3,
   "metadata": {},
   "outputs": [],
   "source": [
    "config = configparser.ConfigParser()\n",
    "config.read(\"capstone.cfg\")\n",
    "\n",
    "local_data_dir = config[\"PATH\"][\"LOCAL_DATA_DIR\"]\n",
    "output_path =  config[\"PATH\"][\"STAGE_DATA_DIR\"]\n",
    "\n",
    "os.environ['AWS_ACCESS_KEY_ID']=config['AWS']['ACCESS_KEY_ID']\n",
    "os.environ['AWS_SECRET_ACCESS_KEY']=config['AWS']['SECRET_ACCESS_KEY']"
   ]
  },
  {
   "cell_type": "code",
   "execution_count": 4,
   "metadata": {},
   "outputs": [],
   "source": [
    "def create_spark_session():\n",
    "    spark = SparkSession \\\n",
    "        .builder \\\n",
    "        .appName(\"covid_DB\") \\\n",
    "        .config(\"spark.jars.packages\", \"org.apache.hadoop:hadoop-aws:2.7.0\")\\\n",
    "        .config(\"fs.s3a.access.key\", config['AWS']['ACCESS_KEY_ID'])\\\n",
    "        .config(\"fs.s3a.secret.key\", config['AWS']['SECRET_ACCESS_KEY'])\\\n",
    "        .getOrCreate()\n",
    "    \n",
    "    return spark"
   ]
  },
  {
   "cell_type": "code",
   "execution_count": 5,
   "metadata": {},
   "outputs": [],
   "source": [
    "spark = create_spark_session()"
   ]
  },
  {
   "cell_type": "code",
   "execution_count": 6,
   "metadata": {},
   "outputs": [],
   "source": [
    "# Load relevant stations with weather element\n",
    "path = os.path.join(output_path, \"filtered_stations\")\n",
    "selected_stations = spark.read.parquet(path)"
   ]
  },
  {
   "cell_type": "code",
   "execution_count": 7,
   "metadata": {},
   "outputs": [
    {
     "name": "stdout",
     "output_type": "stream",
     "text": [
      "root\n",
      " |-- station_id: string (nullable = true)\n",
      " |-- measured: string (nullable = true)\n",
      "\n"
     ]
    }
   ],
   "source": [
    "selected_stations.printSchema()"
   ]
  },
  {
   "cell_type": "code",
   "execution_count": 8,
   "metadata": {},
   "outputs": [
    {
     "name": "stdout",
     "output_type": "stream",
     "text": [
      "+--------+\n",
      "|measured|\n",
      "+--------+\n",
      "|    TMIN|\n",
      "|    SNOW|\n",
      "|    AWND|\n",
      "|    PRCP|\n",
      "+--------+\n",
      "\n"
     ]
    }
   ],
   "source": [
    "selected_stations.select(\"measured\").distinct().show()"
   ]
  },
  {
   "cell_type": "code",
   "execution_count": 9,
   "metadata": {},
   "outputs": [],
   "source": [
    "# load all stations, with GPS location\n",
    "raw_stations = spark.read.csv( os.path.join(local_data_dir, \"WEATHER\", \"ghcnd-stations.txt\"))"
   ]
  },
  {
   "cell_type": "code",
   "execution_count": 10,
   "metadata": {},
   "outputs": [],
   "source": [
    "# parse raw stations into columns\n",
    "@udf(MapType( StringType(), StringType()))\n",
    "def ParseStationsUDF(line):\n",
    "    return{\n",
    "        \"station_id\": line[0:11],\n",
    "        \"latitude\" : line[13:20], \n",
    "        \"longitude\" : line[21:30], \n",
    "        \"elevation\" : line[31:38], \n",
    "        \"state\" : line[38:40], \n",
    "        \"station_name\" : line[41:]\n",
    "        \n",
    "    }\n",
    "\n",
    "fields = OrderedDict( [\n",
    "        ( \"station_id\" , \"string\"),\n",
    "        ( \"latitude\" , \"float\"), \n",
    "        (\"longitude\" , \"float\"), \n",
    "        (\"elevation\" , \"float\"),\n",
    "        (\"state\" , \"string\"), \n",
    "        (\"station_name\" , \"string\")\n",
    "] )\n",
    "\n",
    "#exprs = [ f\"parsed['{field}'].cast({fld_type}) as {field}\" for field, fld_type in fields.items() ]\n",
    "exprs = [ f\"CAST(parsed['{field}'] AS {fld_type}) AS {field}\" for field, fld_type in fields.items() ]\n",
    "\n",
    "stations = raw_stations.withColumn(\"parsed\", ParseStationsUDF(\"_c0\")).selectExpr( *exprs)"
   ]
  },
  {
   "cell_type": "code",
   "execution_count": 11,
   "metadata": {},
   "outputs": [
    {
     "name": "stdout",
     "output_type": "stream",
     "text": [
      "root\n",
      " |-- station_id: string (nullable = true)\n",
      " |-- latitude: float (nullable = true)\n",
      " |-- longitude: float (nullable = true)\n",
      " |-- elevation: float (nullable = true)\n",
      " |-- state: string (nullable = true)\n",
      " |-- station_name: string (nullable = true)\n",
      "\n"
     ]
    }
   ],
   "source": [
    "stations.printSchema()"
   ]
  },
  {
   "cell_type": "code",
   "execution_count": 12,
   "metadata": {},
   "outputs": [],
   "source": [
    "df_stations = stations.join(selected_stations, [\"station_id\"])"
   ]
  },
  {
   "cell_type": "code",
   "execution_count": 13,
   "metadata": {},
   "outputs": [
    {
     "data": {
      "text/plain": [
       "23556"
      ]
     },
     "execution_count": 13,
     "metadata": {},
     "output_type": "execute_result"
    }
   ],
   "source": [
    "df_stations.count()"
   ]
  },
  {
   "cell_type": "code",
   "execution_count": 14,
   "metadata": {},
   "outputs": [],
   "source": [
    "#selected_stations.count()"
   ]
  },
  {
   "cell_type": "code",
   "execution_count": 15,
   "metadata": {},
   "outputs": [],
   "source": [
    "#raw_stations.count()"
   ]
  },
  {
   "cell_type": "code",
   "execution_count": 16,
   "metadata": {},
   "outputs": [],
   "source": [
    "# some stations have identical latitude and longitude => keep only one within a GPS group\n",
    "w = Window.partitionBy(\"latitude\", \"longitude\").orderBy(\"elevation\", \"station_id\")\n",
    "df_stations_dedup = df_stations.withColumn(\"rank_elevation\", F.rank().over(w))\\\n",
    "    .where( col(\"rank_elevation\") == 1)\\\n",
    "    .drop(\"rank_elevation\")\\\n",
    "    .cache()"
   ]
  },
  {
   "cell_type": "code",
   "execution_count": 17,
   "metadata": {},
   "outputs": [
    {
     "name": "stdout",
     "output_type": "stream",
     "text": [
      "root\n",
      " |-- station_id: string (nullable = true)\n",
      " |-- latitude: float (nullable = true)\n",
      " |-- longitude: float (nullable = true)\n",
      " |-- elevation: float (nullable = true)\n",
      " |-- state: string (nullable = true)\n",
      " |-- station_name: string (nullable = true)\n",
      " |-- measured: string (nullable = true)\n",
      "\n"
     ]
    }
   ],
   "source": [
    "df_stations_dedup.printSchema()"
   ]
  },
  {
   "cell_type": "code",
   "execution_count": 18,
   "metadata": {},
   "outputs": [
    {
     "data": {
      "text/plain": [
       "23531"
      ]
     },
     "execution_count": 18,
     "metadata": {},
     "output_type": "execute_result"
    }
   ],
   "source": [
    "df_stations_dedup.count()"
   ]
  },
  {
   "cell_type": "code",
   "execution_count": 19,
   "metadata": {},
   "outputs": [],
   "source": [
    "w = Window.partitionBy(\"station_id\").orderBy(\"measured\")\n",
    "unique_stations = df_stations_dedup.withColumn(\"dummy\", F.rank().over(w) )\\\n",
    "    .where(col(\"dummy\") == 1) \\\n",
    "    .drop(\"dummy\")\n"
   ]
  },
  {
   "cell_type": "code",
   "execution_count": 20,
   "metadata": {},
   "outputs": [
    {
     "data": {
      "text/plain": [
       "14006"
      ]
     },
     "execution_count": 20,
     "metadata": {},
     "output_type": "execute_result"
    }
   ],
   "source": [
    "unique_stations.count()"
   ]
  },
  {
   "cell_type": "code",
   "execution_count": 21,
   "metadata": {},
   "outputs": [],
   "source": [
    "# Load NYT locations (FIPS + GPS)\n",
    "path = os.path.join(output_path, \"nyt_locations_geography\")\n",
    "df_locations = spark.read.parquet(path)\n",
    "df_locations = df_locations.where( ( ~ F.isnan(\"latitude\") ) | (~ F.isnan(\"longitude\")) )\n",
    "df_locations = df_locations.withColumn(\"location_id\", F.monotonically_increasing_id())"
   ]
  },
  {
   "cell_type": "code",
   "execution_count": 22,
   "metadata": {},
   "outputs": [
    {
     "name": "stdout",
     "output_type": "stream",
     "text": [
      "root\n",
      " |-- fips: string (nullable = true)\n",
      " |-- county: string (nullable = true)\n",
      " |-- latitude: double (nullable = true)\n",
      " |-- longitude: double (nullable = true)\n",
      " |-- location_id: long (nullable = false)\n",
      " |-- state: string (nullable = true)\n",
      "\n"
     ]
    }
   ],
   "source": [
    "df_locations.printSchema()"
   ]
  },
  {
   "cell_type": "code",
   "execution_count": 23,
   "metadata": {},
   "outputs": [
    {
     "data": {
      "text/plain": [
       "3272"
      ]
     },
     "execution_count": 23,
     "metadata": {},
     "output_type": "execute_result"
    }
   ],
   "source": [
    "df_locations.count()"
   ]
  },
  {
   "cell_type": "code",
   "execution_count": 24,
   "metadata": {},
   "outputs": [],
   "source": [
    "def precompute_distance(l_ref : DataFrame) -> DataFrame:\n",
    "    l_ref = l_ref.withColumnRenamed(\"latitude\", \"latitude_degrees\")\n",
    "    l_ref = l_ref.withColumnRenamed( \"longitude\", \"longitude_degrees\") \n",
    "    @udf( FloatType())\n",
    "    def degree_to_radian(x):\n",
    "        return  x* np.pi / 180.\n",
    "    l_ref = l_ref.withColumn(\"latitude\", degree_to_radian(\"latitude_degrees\") )\n",
    "    l_ref = l_ref.withColumn(\"longitude\", degree_to_radian(\"longitude_degrees\") )\n",
    "    l_ref = l_ref.withColumn(\"cos_latitude\", F.cos(\"latitude\") )  \n",
    "    print(type(l_ref))\n",
    "    return l_ref"
   ]
  },
  {
   "cell_type": "code",
   "execution_count": 25,
   "metadata": {},
   "outputs": [
    {
     "name": "stdout",
     "output_type": "stream",
     "text": [
      "<class 'pyspark.sql.dataframe.DataFrame'>\n"
     ]
    }
   ],
   "source": [
    "df_stations_precompute =precompute_distance(df_stations_dedup)"
   ]
  },
  {
   "cell_type": "code",
   "execution_count": 26,
   "metadata": {},
   "outputs": [
    {
     "name": "stdout",
     "output_type": "stream",
     "text": [
      "<class 'pyspark.sql.dataframe.DataFrame'>\n"
     ]
    }
   ],
   "source": [
    "df_locations_precompute = precompute_distance(df_locations)"
   ]
  },
  {
   "cell_type": "code",
   "execution_count": 27,
   "metadata": {},
   "outputs": [
    {
     "name": "stdout",
     "output_type": "stream",
     "text": [
      "+----------+----------------+-----------------+---------+-----+------------+--------+--------+---------+------------+\n",
      "|station_id|latitude_degrees|longitude_degrees|elevation|state|station_name|measured|latitude|longitude|cos_latitude|\n",
      "+----------+----------------+-----------------+---------+-----+------------+--------+--------+---------+------------+\n",
      "+----------+----------------+-----------------+---------+-----+------------+--------+--------+---------+------------+\n",
      "\n"
     ]
    }
   ],
   "source": [
    "df_stations_precompute.where(F.isnan(\"cos_latitude\") ).show()"
   ]
  },
  {
   "cell_type": "markdown",
   "metadata": {},
   "source": [
    "# closest station for all fips"
   ]
  },
  {
   "cell_type": "code",
   "execution_count": 28,
   "metadata": {},
   "outputs": [],
   "source": [
    "sub_fips = df_locations_precompute\\\n",
    "    .select(\"location_id\", \"fips\", \"county\", \"state\", \"latitude\", \"longitude\", \"cos_latitude\")\\\n",
    "    .withColumnRenamed(\"latitude\", \"latitude_fips\")\\\n",
    "    .withColumnRenamed(\"longitude\", \"longitude_fips\")\\\n",
    "    .withColumnRenamed(\"cos_latitude\", \"cos_latitude_fips\")"
   ]
  },
  {
   "cell_type": "code",
   "execution_count": 29,
   "metadata": {},
   "outputs": [],
   "source": [
    "sub_stations = df_stations_precompute\\\n",
    "    .select(\"station_id\", \"measured\",\"latitude\", \"longitude\", \"cos_latitude\")\\\n",
    "    .withColumnRenamed(\"latitude\", \"latitude_station\")\\\n",
    "    .withColumnRenamed(\"longitude\", \"longitude_station\")\\\n",
    "    .withColumnRenamed(\"cos_latitude\", \"cos_latitude_station\")"
   ]
  },
  {
   "cell_type": "code",
   "execution_count": 30,
   "metadata": {},
   "outputs": [],
   "source": [
    "fips_cross_stations = sub_fips.crossJoin(sub_stations)"
   ]
  },
  {
   "cell_type": "code",
   "execution_count": 31,
   "metadata": {},
   "outputs": [
    {
     "data": {
      "text/plain": [
       "76993432"
      ]
     },
     "execution_count": 31,
     "metadata": {},
     "output_type": "execute_result"
    }
   ],
   "source": [
    "#%%time\n",
    "fips_cross_stations.count()\n",
    "#76993432"
   ]
  },
  {
   "cell_type": "code",
   "execution_count": 32,
   "metadata": {},
   "outputs": [
    {
     "name": "stdout",
     "output_type": "stream",
     "text": [
      "root\n",
      " |-- location_id: long (nullable = false)\n",
      " |-- fips: string (nullable = true)\n",
      " |-- county: string (nullable = true)\n",
      " |-- state: string (nullable = true)\n",
      " |-- latitude_fips: float (nullable = true)\n",
      " |-- longitude_fips: float (nullable = true)\n",
      " |-- cos_latitude_fips: double (nullable = true)\n",
      " |-- station_id: string (nullable = true)\n",
      " |-- measured: string (nullable = true)\n",
      " |-- latitude_station: float (nullable = true)\n",
      " |-- longitude_station: float (nullable = true)\n",
      " |-- cos_latitude_station: double (nullable = true)\n",
      "\n"
     ]
    }
   ],
   "source": [
    "fips_cross_stations.printSchema()"
   ]
  },
  {
   "cell_type": "code",
   "execution_count": 33,
   "metadata": {},
   "outputs": [],
   "source": [
    "def delta_coord(col1, col2):\n",
    "    return F.pow( F.sin(0.5* (col1 - col2 ) ), 2 )"
   ]
  },
  {
   "cell_type": "code",
   "execution_count": 34,
   "metadata": {},
   "outputs": [],
   "source": [
    "def haversine( lat1, long1, cos_lat1, lat2, long2, cos_lat2):\n",
    "    ''' computation of angular distance between 2 locations given by GPS coordinates,\n",
    "    using haversine formula.\n",
    "    exact formulas (maybe overkill), taken from :\n",
    "    https://www.movable-type.co.uk/scripts/latlong.html\n",
    "    '''    \n",
    "    delta_lat = delta_coord(lat1, lat2)\n",
    "    delta_long = delta_coord(long1, long2)\n",
    "    a = delta_lat + delta_long * cos_lat1 * cos_lat2\n",
    "    return  F.atan2( F.sqrt(a), F.sqrt( 1.-a ) )"
   ]
  },
  {
   "cell_type": "code",
   "execution_count": 35,
   "metadata": {},
   "outputs": [],
   "source": [
    "# compute all pair-wise distances btw fips and weather stations\n",
    "dist_col = \"angle\"\n",
    "df_cross_distance = fips_cross_stations.withColumn(dist_col,                                  \n",
    "        haversine(col(\"latitude_fips\"), col(\"longitude_fips\"),col(\"cos_latitude_fips\"), \n",
    "                    col(\"latitude_station\"), col(\"longitude_station\"), col(\"cos_latitude_station\")) )"
   ]
  },
  {
   "cell_type": "code",
   "execution_count": 36,
   "metadata": {},
   "outputs": [],
   "source": [
    "# for each measurement and fips, keep only the station with the smallest distance (e.g. smallest angle)\n",
    "window = Window.partitionBy(\"measured\", \"location_id\")\n",
    "df_min_distance = df_cross_distance.withColumn(\"min_angle\", F.min(dist_col).over(window))\\\n",
    "            .filter( col(dist_col) == col(\"min_angle\") ) #\\\n",
    "           # .drop(\"min_angle\")"
   ]
  },
  {
   "cell_type": "code",
   "execution_count": 37,
   "metadata": {},
   "outputs": [],
   "source": [
    "R_earth = 6371"
   ]
  },
  {
   "cell_type": "code",
   "execution_count": 38,
   "metadata": {},
   "outputs": [
    {
     "data": {
      "text/plain": [
       "76993432"
      ]
     },
     "execution_count": 38,
     "metadata": {},
     "output_type": "execute_result"
    }
   ],
   "source": [
    "df_cross_distance.count()"
   ]
  },
  {
   "cell_type": "code",
   "execution_count": 39,
   "metadata": {},
   "outputs": [
    {
     "data": {
      "text/plain": [
       "3272"
      ]
     },
     "execution_count": 39,
     "metadata": {},
     "output_type": "execute_result"
    }
   ],
   "source": [
    "df_locations_precompute.count()"
   ]
  },
  {
   "cell_type": "code",
   "execution_count": 40,
   "metadata": {},
   "outputs": [
    {
     "data": {
      "text/plain": [
       "13096"
      ]
     },
     "execution_count": 40,
     "metadata": {},
     "output_type": "execute_result"
    }
   ],
   "source": [
    "3274*4"
   ]
  },
  {
   "cell_type": "code",
   "execution_count": 41,
   "metadata": {},
   "outputs": [],
   "source": [
    "# compute distance from angle\n",
    "df_min_distance = df_min_distance.withColumn(\"distance\", R_earth * col(\"angle\"))"
   ]
  },
  {
   "cell_type": "code",
   "execution_count": 42,
   "metadata": {},
   "outputs": [
    {
     "data": {
      "text/plain": [
       "13088"
      ]
     },
     "execution_count": 42,
     "metadata": {},
     "output_type": "execute_result"
    }
   ],
   "source": [
    "#%%time\n",
    "# must be 13088 \n",
    "df_min_distance.count()"
   ]
  },
  {
   "cell_type": "code",
   "execution_count": 43,
   "metadata": {},
   "outputs": [],
   "source": [
    "# join with fips and stations DB to get all relevant data\n",
    "res_detailed = df_min_distance.alias(\"closest\").join( df_locations.alias(\"fips\"), [\"location_id\"]) \\\n",
    "        .join(unique_stations.alias(\"station\"), \"station_id\")"
   ]
  },
  {
   "cell_type": "code",
   "execution_count": 44,
   "metadata": {},
   "outputs": [
    {
     "data": {
      "text/plain": [
       "13088"
      ]
     },
     "execution_count": 44,
     "metadata": {},
     "output_type": "execute_result"
    }
   ],
   "source": [
    "#%%time\n",
    "res_detailed.count()"
   ]
  },
  {
   "cell_type": "code",
   "execution_count": 45,
   "metadata": {},
   "outputs": [],
   "source": [
    "res_short = res_detailed.select(\"closest.measured\", \"location_id\", \"fips.fips\", \"fips.county\", col(\"fips.state\").alias(\"fips_state\"),\n",
    "                    \"station_id\", \"station_name\", col(\"station.state\").alias(\"station_state\"),\n",
    "                      \"angle\", \"distance\"        )\n"
   ]
  },
  {
   "cell_type": "code",
   "execution_count": 46,
   "metadata": {},
   "outputs": [
    {
     "name": "stdout",
     "output_type": "stream",
     "text": [
      "root\n",
      " |-- measured: string (nullable = true)\n",
      " |-- location_id: long (nullable = false)\n",
      " |-- fips: string (nullable = true)\n",
      " |-- county: string (nullable = true)\n",
      " |-- fips_state: string (nullable = true)\n",
      " |-- station_id: string (nullable = true)\n",
      " |-- station_name: string (nullable = true)\n",
      " |-- station_state: string (nullable = true)\n",
      " |-- angle: double (nullable = true)\n",
      " |-- distance: double (nullable = true)\n",
      "\n"
     ]
    }
   ],
   "source": [
    "res_short.printSchema()"
   ]
  },
  {
   "cell_type": "code",
   "execution_count": 47,
   "metadata": {},
   "outputs": [
    {
     "name": "stdout",
     "output_type": "stream",
     "text": [
      "+--------+------------+-----+--------------------+--------------------+-----------+--------------------+-------------+--------------------+------------------+\n",
      "|measured| location_id| fips|              county|          fips_state| station_id|        station_name|station_state|               angle|          distance|\n",
      "+--------+------------+-----+--------------------+--------------------+-----------+--------------------+-------------+--------------------+------------------+\n",
      "|    SNOW|695784701974| null|             Unknown|              Hawaii|US1CASM0007|HALF MOON BAY 0.5...|           CA| 0.29661576550557106|1889.7390420359932|\n",
      "|    SNOW|618475290632|15009|                Maui|              Hawaii|US1CASM0007|HALF MOON BAY 0.5...|           CA|  0.2955648047390893| 1883.043370992738|\n",
      "|    SNOW|377957122061|15001|              Hawaii|              Hawaii|US1CASM0007|HALF MOON BAY 0.5...|           CA| 0.29521110773626774|1880.7899673877619|\n",
      "|    SNOW|266287972361|15005|             Kalawao|              Hawaii|USC00502587|DUTCH HARBOR     ...|           AK|   0.292156590936852| 1861.329640858684|\n",
      "|    SNOW|163208757271|15003|            Honolulu|              Hawaii|USC00502587|DUTCH HARBOR     ...|           AK| 0.28840022620019945|1837.3978411214707|\n",
      "|    SNOW|506806140934|15007|               Kauai|              Hawaii|USC00502587|DUTCH HARBOR     ...|           AK|  0.2818878515192989|1795.9075020294533|\n",
      "|    SNOW|           4|02016|Aleutians West Ce...|              Alaska|USC00502587|DUTCH HARBOR     ...|           AK| 0.08113718466737903| 516.9250035158718|\n",
      "|    AWND|           4|02016|Aleutians West Ce...|              Alaska|USW00025628|ST GEORGE ISLAND ...|           AK| 0.07358402081070335|468.80379658499106|\n",
      "|    TMIN|           4|02016|Aleutians West Ce...|              Alaska|USW00025711|ST. PAUL 4 NE    ...|           AK| 0.07342385501982006| 467.7833803312736|\n",
      "|    PRCP|           4|02016|Aleutians West Ce...|              Alaska|USW00025711|ST. PAUL 4 NE    ...|           AK| 0.07342385501982006| 467.7833803312736|\n",
      "|    SNOW|  8589934593|02180|    Nome Census Area|              Alaska|USW00026529|TANANA CALHOUN ME...|           AK|0.044655138385076606| 284.4978866513231|\n",
      "|    SNOW|          19|02158|Kusilvak Census Area|              Alaska|USC00507570|PORT ALSWORTH    ...|           AK| 0.04139524665957286|263.72911646813867|\n",
      "|    SNOW|           9|02188|Northwest Arctic ...|              Alaska|USW00026533|BETTLES AP       ...|           AK| 0.02905934760830695|185.13710361252356|\n",
      "|    SNOW|          14|02013|Aleutians East Bo...|              Alaska|USC00502587|DUTCH HARBOR     ...|           AK| 0.02583219373143992|164.57690626300374|\n",
      "|    SNOW|          31|02050|  Bethel Census Area|              Alaska|USC00507570|PORT ALSWORTH    ...|           AK|0.025806864359043818|164.41553283146817|\n",
      "|    SNOW|          16|02150|Kodiak Island Bor...|              Alaska|USC00503672|HOMER 8 NW       ...|           AK| 0.02058766103147572|131.16398843153183|\n",
      "|    SNOW|          13|02070|Dillingham Census...|              Alaska|USC00507570|PORT ALSWORTH    ...|           AK| 0.01823492952381693|116.17473599623767|\n",
      "|    SNOW|661424963602|69110|              Saipan|Northern Mariana ...|GQW00041415|GUAM INTL AP     ...|           GU| 0.01743604722177902|111.08505684995413|\n",
      "|    SNOW|704374636568| null|             Unknown|Northern Mariana ...|GQW00041415|GUAM INTL AP     ...|           GU|0.016505314910039582|105.15536129186218|\n",
      "|    SNOW|678604832770|28029|              Copiah|         Mississippi|USC00221738|CLEVELAND        ...|           MS|0.016460393854111525|104.86916924454452|\n",
      "|    SNOW|274877906957|28127|             Simpson|         Mississippi|USW00013894|MOBILE           ...|           AL|0.016446758618230636|104.78229915674738|\n",
      "|    AWND|197568495628|72097|            Mayaguez|         Puerto Rico|RQW00011641|SAN JUAN L M MARI...|           PR|0.015838012126043098|100.90397525502058|\n",
      "|    SNOW|197568495628|72097|            Mayaguez|         Puerto Rico|RQW00011641|SAN JUAN L M MARI...|           PR|0.015838012126043098|100.90397525502058|\n",
      "|    SNOW|137438953492|28063|           Jefferson|         Mississippi|USC00166584|NATCHITOCHES #2  ...|           LA|0.015163266150950013| 96.60516864770253|\n",
      "|    SNOW|506806140955|28129|               Smith|         Mississippi|USW00013894|MOBILE           ...|           AL|0.014972063129778754| 95.38701419982044|\n",
      "|    SNOW|566935683080|28021|           Claiborne|         Mississippi|USC00034708|MCGEHEE 1 NE     ...|           AR|0.014904882773554005| 94.95900815031257|\n",
      "|    AWND|          23|02185| North Slope Borough|              Alaska|USS0049T01S|Imnaviat Creek   ...|           AK|0.014900112936952667| 94.92861952132544|\n",
      "|    SNOW|661424963601|69120|              Tinian|Northern Mariana ...|GQW00041415|GUAM INTL AP     ...|           GU| 0.01486595461708853| 94.71099686547103|\n",
      "|    SNOW|274877906961|28085|             Lincoln|         Mississippi|USC00166130|CHALMETTE        ...|           LA|0.014283925858003425| 91.00289164133982|\n",
      "|    AWND|          19|02158|Kusilvak Census Area|              Alaska|USW00026615|BETHEL AP        ...|           AK| 0.01424949109581257| 90.78350777142188|\n",
      "+--------+------------+-----+--------------------+--------------------+-----------+--------------------+-------------+--------------------+------------------+\n",
      "only showing top 30 rows\n",
      "\n"
     ]
    }
   ],
   "source": [
    "#%%time\n",
    "# find fips and measurement with \n",
    "res_short.sort(\"distance\", ascending = False).show(30)"
   ]
  },
  {
   "cell_type": "code",
   "execution_count": 48,
   "metadata": {},
   "outputs": [],
   "source": [
    "#out_path = os.path.join(project_path, \"OUT_DATA\", \"stations_per_fips\")\n",
    "#res_short.write.partitionBy(\"measured\").format(\"parquet\").mode(\"overwrite\").save(out_path)"
   ]
  },
  {
   "cell_type": "markdown",
   "metadata": {},
   "source": [
    "## Outliers"
   ]
  },
  {
   "cell_type": "code",
   "execution_count": 49,
   "metadata": {},
   "outputs": [],
   "source": [
    "outliers = res_short.where(col(\"distance\")>100).cache()"
   ]
  },
  {
   "cell_type": "code",
   "execution_count": 50,
   "metadata": {},
   "outputs": [
    {
     "data": {
      "text/plain": [
       "23"
      ]
     },
     "execution_count": 50,
     "metadata": {},
     "output_type": "execute_result"
    }
   ],
   "source": [
    "#%%time\n",
    "outliers.count()"
   ]
  },
  {
   "cell_type": "code",
   "execution_count": 51,
   "metadata": {},
   "outputs": [
    {
     "name": "stdout",
     "output_type": "stream",
     "text": [
      "+--------+-----+\n",
      "|measured|count|\n",
      "+--------+-----+\n",
      "|    TMIN|    1|\n",
      "|    SNOW|   19|\n",
      "|    AWND|    2|\n",
      "|    PRCP|    1|\n",
      "+--------+-----+\n",
      "\n"
     ]
    }
   ],
   "source": [
    "outliers.groupBy(\"measured\").count().show()"
   ]
  },
  {
   "cell_type": "code",
   "execution_count": 52,
   "metadata": {},
   "outputs": [],
   "source": [
    "#%%time\n",
    "pd_outliers = outliers.toPandas()"
   ]
  },
  {
   "cell_type": "code",
   "execution_count": 53,
   "metadata": {},
   "outputs": [
    {
     "data": {
      "text/html": [
       "<div>\n",
       "<style scoped>\n",
       "    .dataframe tbody tr th:only-of-type {\n",
       "        vertical-align: middle;\n",
       "    }\n",
       "\n",
       "    .dataframe tbody tr th {\n",
       "        vertical-align: top;\n",
       "    }\n",
       "\n",
       "    .dataframe thead th {\n",
       "        text-align: right;\n",
       "    }\n",
       "</style>\n",
       "<table border=\"1\" class=\"dataframe\">\n",
       "  <thead>\n",
       "    <tr style=\"text-align: right;\">\n",
       "      <th></th>\n",
       "      <th>measured</th>\n",
       "      <th>location_id</th>\n",
       "      <th>fips</th>\n",
       "      <th>county</th>\n",
       "      <th>fips_state</th>\n",
       "      <th>station_id</th>\n",
       "      <th>station_name</th>\n",
       "      <th>station_state</th>\n",
       "      <th>angle</th>\n",
       "      <th>distance</th>\n",
       "    </tr>\n",
       "  </thead>\n",
       "  <tbody>\n",
       "    <tr>\n",
       "      <th>18</th>\n",
       "      <td>SNOW</td>\n",
       "      <td>695784701974</td>\n",
       "      <td>None</td>\n",
       "      <td>Unknown</td>\n",
       "      <td>Hawaii</td>\n",
       "      <td>US1CASM0007</td>\n",
       "      <td>HALF MOON BAY 0.5 SSW</td>\n",
       "      <td>CA</td>\n",
       "      <td>0.296616</td>\n",
       "      <td>1889.739042</td>\n",
       "    </tr>\n",
       "    <tr>\n",
       "      <th>15</th>\n",
       "      <td>SNOW</td>\n",
       "      <td>618475290632</td>\n",
       "      <td>15009</td>\n",
       "      <td>Maui</td>\n",
       "      <td>Hawaii</td>\n",
       "      <td>US1CASM0007</td>\n",
       "      <td>HALF MOON BAY 0.5 SSW</td>\n",
       "      <td>CA</td>\n",
       "      <td>0.295565</td>\n",
       "      <td>1883.043371</td>\n",
       "    </tr>\n",
       "    <tr>\n",
       "      <th>12</th>\n",
       "      <td>SNOW</td>\n",
       "      <td>377957122061</td>\n",
       "      <td>15001</td>\n",
       "      <td>Hawaii</td>\n",
       "      <td>Hawaii</td>\n",
       "      <td>US1CASM0007</td>\n",
       "      <td>HALF MOON BAY 0.5 SSW</td>\n",
       "      <td>CA</td>\n",
       "      <td>0.295211</td>\n",
       "      <td>1880.789967</td>\n",
       "    </tr>\n",
       "    <tr>\n",
       "      <th>1</th>\n",
       "      <td>SNOW</td>\n",
       "      <td>266287972361</td>\n",
       "      <td>15005</td>\n",
       "      <td>Kalawao</td>\n",
       "      <td>Hawaii</td>\n",
       "      <td>USC00502587</td>\n",
       "      <td>DUTCH HARBOR</td>\n",
       "      <td>AK</td>\n",
       "      <td>0.292157</td>\n",
       "      <td>1861.329641</td>\n",
       "    </tr>\n",
       "    <tr>\n",
       "      <th>14</th>\n",
       "      <td>SNOW</td>\n",
       "      <td>163208757271</td>\n",
       "      <td>15003</td>\n",
       "      <td>Honolulu</td>\n",
       "      <td>Hawaii</td>\n",
       "      <td>USC00502587</td>\n",
       "      <td>DUTCH HARBOR</td>\n",
       "      <td>AK</td>\n",
       "      <td>0.288400</td>\n",
       "      <td>1837.397841</td>\n",
       "    </tr>\n",
       "    <tr>\n",
       "      <th>10</th>\n",
       "      <td>SNOW</td>\n",
       "      <td>506806140934</td>\n",
       "      <td>15007</td>\n",
       "      <td>Kauai</td>\n",
       "      <td>Hawaii</td>\n",
       "      <td>USC00502587</td>\n",
       "      <td>DUTCH HARBOR</td>\n",
       "      <td>AK</td>\n",
       "      <td>0.281888</td>\n",
       "      <td>1795.907502</td>\n",
       "    </tr>\n",
       "    <tr>\n",
       "      <th>6</th>\n",
       "      <td>SNOW</td>\n",
       "      <td>4</td>\n",
       "      <td>02016</td>\n",
       "      <td>Aleutians West Census Area</td>\n",
       "      <td>Alaska</td>\n",
       "      <td>USC00502587</td>\n",
       "      <td>DUTCH HARBOR</td>\n",
       "      <td>AK</td>\n",
       "      <td>0.081137</td>\n",
       "      <td>516.925004</td>\n",
       "    </tr>\n",
       "    <tr>\n",
       "      <th>19</th>\n",
       "      <td>AWND</td>\n",
       "      <td>4</td>\n",
       "      <td>02016</td>\n",
       "      <td>Aleutians West Census Area</td>\n",
       "      <td>Alaska</td>\n",
       "      <td>USW00025628</td>\n",
       "      <td>ST GEORGE ISLAND AP</td>\n",
       "      <td>AK</td>\n",
       "      <td>0.073584</td>\n",
       "      <td>468.803797</td>\n",
       "    </tr>\n",
       "    <tr>\n",
       "      <th>2</th>\n",
       "      <td>PRCP</td>\n",
       "      <td>4</td>\n",
       "      <td>02016</td>\n",
       "      <td>Aleutians West Census Area</td>\n",
       "      <td>Alaska</td>\n",
       "      <td>USW00025711</td>\n",
       "      <td>ST. PAUL 4 NE                          70309</td>\n",
       "      <td>AK</td>\n",
       "      <td>0.073424</td>\n",
       "      <td>467.783380</td>\n",
       "    </tr>\n",
       "    <tr>\n",
       "      <th>7</th>\n",
       "      <td>TMIN</td>\n",
       "      <td>4</td>\n",
       "      <td>02016</td>\n",
       "      <td>Aleutians West Census Area</td>\n",
       "      <td>Alaska</td>\n",
       "      <td>USW00025711</td>\n",
       "      <td>ST. PAUL 4 NE                          70309</td>\n",
       "      <td>AK</td>\n",
       "      <td>0.073424</td>\n",
       "      <td>467.783380</td>\n",
       "    </tr>\n",
       "    <tr>\n",
       "      <th>0</th>\n",
       "      <td>SNOW</td>\n",
       "      <td>8589934593</td>\n",
       "      <td>02180</td>\n",
       "      <td>Nome Census Area</td>\n",
       "      <td>Alaska</td>\n",
       "      <td>USW00026529</td>\n",
       "      <td>TANANA CALHOUN MEM AP                  70178</td>\n",
       "      <td>AK</td>\n",
       "      <td>0.044655</td>\n",
       "      <td>284.497887</td>\n",
       "    </tr>\n",
       "    <tr>\n",
       "      <th>20</th>\n",
       "      <td>SNOW</td>\n",
       "      <td>19</td>\n",
       "      <td>02158</td>\n",
       "      <td>Kusilvak Census Area</td>\n",
       "      <td>Alaska</td>\n",
       "      <td>USC00507570</td>\n",
       "      <td>PORT ALSWORTH</td>\n",
       "      <td>AK</td>\n",
       "      <td>0.041395</td>\n",
       "      <td>263.729116</td>\n",
       "    </tr>\n",
       "    <tr>\n",
       "      <th>13</th>\n",
       "      <td>SNOW</td>\n",
       "      <td>9</td>\n",
       "      <td>02188</td>\n",
       "      <td>Northwest Arctic Borough</td>\n",
       "      <td>Alaska</td>\n",
       "      <td>USW00026533</td>\n",
       "      <td>BETTLES AP                             70174</td>\n",
       "      <td>AK</td>\n",
       "      <td>0.029059</td>\n",
       "      <td>185.137104</td>\n",
       "    </tr>\n",
       "    <tr>\n",
       "      <th>9</th>\n",
       "      <td>SNOW</td>\n",
       "      <td>14</td>\n",
       "      <td>02013</td>\n",
       "      <td>Aleutians East Borough</td>\n",
       "      <td>Alaska</td>\n",
       "      <td>USC00502587</td>\n",
       "      <td>DUTCH HARBOR</td>\n",
       "      <td>AK</td>\n",
       "      <td>0.025832</td>\n",
       "      <td>164.576906</td>\n",
       "    </tr>\n",
       "    <tr>\n",
       "      <th>5</th>\n",
       "      <td>SNOW</td>\n",
       "      <td>31</td>\n",
       "      <td>02050</td>\n",
       "      <td>Bethel Census Area</td>\n",
       "      <td>Alaska</td>\n",
       "      <td>USC00507570</td>\n",
       "      <td>PORT ALSWORTH</td>\n",
       "      <td>AK</td>\n",
       "      <td>0.025807</td>\n",
       "      <td>164.415533</td>\n",
       "    </tr>\n",
       "    <tr>\n",
       "      <th>11</th>\n",
       "      <td>SNOW</td>\n",
       "      <td>16</td>\n",
       "      <td>02150</td>\n",
       "      <td>Kodiak Island Borough</td>\n",
       "      <td>Alaska</td>\n",
       "      <td>USC00503672</td>\n",
       "      <td>HOMER 8 NW</td>\n",
       "      <td>AK</td>\n",
       "      <td>0.020588</td>\n",
       "      <td>131.163988</td>\n",
       "    </tr>\n",
       "    <tr>\n",
       "      <th>21</th>\n",
       "      <td>SNOW</td>\n",
       "      <td>13</td>\n",
       "      <td>02070</td>\n",
       "      <td>Dillingham Census Area</td>\n",
       "      <td>Alaska</td>\n",
       "      <td>USC00507570</td>\n",
       "      <td>PORT ALSWORTH</td>\n",
       "      <td>AK</td>\n",
       "      <td>0.018235</td>\n",
       "      <td>116.174736</td>\n",
       "    </tr>\n",
       "    <tr>\n",
       "      <th>4</th>\n",
       "      <td>SNOW</td>\n",
       "      <td>661424963602</td>\n",
       "      <td>69110</td>\n",
       "      <td>Saipan</td>\n",
       "      <td>Northern Mariana Islands</td>\n",
       "      <td>GQW00041415</td>\n",
       "      <td>GUAM INTL AP                   GSN     91212</td>\n",
       "      <td>GU</td>\n",
       "      <td>0.017436</td>\n",
       "      <td>111.085057</td>\n",
       "    </tr>\n",
       "    <tr>\n",
       "      <th>8</th>\n",
       "      <td>SNOW</td>\n",
       "      <td>704374636568</td>\n",
       "      <td>None</td>\n",
       "      <td>Unknown</td>\n",
       "      <td>Northern Mariana Islands</td>\n",
       "      <td>GQW00041415</td>\n",
       "      <td>GUAM INTL AP                   GSN     91212</td>\n",
       "      <td>GU</td>\n",
       "      <td>0.016505</td>\n",
       "      <td>105.155361</td>\n",
       "    </tr>\n",
       "    <tr>\n",
       "      <th>17</th>\n",
       "      <td>SNOW</td>\n",
       "      <td>678604832770</td>\n",
       "      <td>28029</td>\n",
       "      <td>Copiah</td>\n",
       "      <td>Mississippi</td>\n",
       "      <td>USC00221738</td>\n",
       "      <td>CLEVELAND</td>\n",
       "      <td>MS</td>\n",
       "      <td>0.016460</td>\n",
       "      <td>104.869169</td>\n",
       "    </tr>\n",
       "    <tr>\n",
       "      <th>3</th>\n",
       "      <td>SNOW</td>\n",
       "      <td>274877906957</td>\n",
       "      <td>28127</td>\n",
       "      <td>Simpson</td>\n",
       "      <td>Mississippi</td>\n",
       "      <td>USW00013894</td>\n",
       "      <td>MOBILE                                 72223</td>\n",
       "      <td>AL</td>\n",
       "      <td>0.016447</td>\n",
       "      <td>104.782299</td>\n",
       "    </tr>\n",
       "    <tr>\n",
       "      <th>16</th>\n",
       "      <td>AWND</td>\n",
       "      <td>197568495628</td>\n",
       "      <td>72097</td>\n",
       "      <td>Mayaguez</td>\n",
       "      <td>Puerto Rico</td>\n",
       "      <td>RQW00011641</td>\n",
       "      <td>SAN JUAN L M MARIN AP          GSN     78526</td>\n",
       "      <td>PR</td>\n",
       "      <td>0.015838</td>\n",
       "      <td>100.903975</td>\n",
       "    </tr>\n",
       "    <tr>\n",
       "      <th>22</th>\n",
       "      <td>SNOW</td>\n",
       "      <td>197568495628</td>\n",
       "      <td>72097</td>\n",
       "      <td>Mayaguez</td>\n",
       "      <td>Puerto Rico</td>\n",
       "      <td>RQW00011641</td>\n",
       "      <td>SAN JUAN L M MARIN AP          GSN     78526</td>\n",
       "      <td>PR</td>\n",
       "      <td>0.015838</td>\n",
       "      <td>100.903975</td>\n",
       "    </tr>\n",
       "  </tbody>\n",
       "</table>\n",
       "</div>"
      ],
      "text/plain": [
       "   measured   location_id   fips                      county  \\\n",
       "18     SNOW  695784701974   None                     Unknown   \n",
       "15     SNOW  618475290632  15009                        Maui   \n",
       "12     SNOW  377957122061  15001                      Hawaii   \n",
       "1      SNOW  266287972361  15005                     Kalawao   \n",
       "14     SNOW  163208757271  15003                    Honolulu   \n",
       "10     SNOW  506806140934  15007                       Kauai   \n",
       "6      SNOW             4  02016  Aleutians West Census Area   \n",
       "19     AWND             4  02016  Aleutians West Census Area   \n",
       "2      PRCP             4  02016  Aleutians West Census Area   \n",
       "7      TMIN             4  02016  Aleutians West Census Area   \n",
       "0      SNOW    8589934593  02180            Nome Census Area   \n",
       "20     SNOW            19  02158        Kusilvak Census Area   \n",
       "13     SNOW             9  02188    Northwest Arctic Borough   \n",
       "9      SNOW            14  02013      Aleutians East Borough   \n",
       "5      SNOW            31  02050          Bethel Census Area   \n",
       "11     SNOW            16  02150       Kodiak Island Borough   \n",
       "21     SNOW            13  02070      Dillingham Census Area   \n",
       "4      SNOW  661424963602  69110                      Saipan   \n",
       "8      SNOW  704374636568   None                     Unknown   \n",
       "17     SNOW  678604832770  28029                      Copiah   \n",
       "3      SNOW  274877906957  28127                     Simpson   \n",
       "16     AWND  197568495628  72097                    Mayaguez   \n",
       "22     SNOW  197568495628  72097                    Mayaguez   \n",
       "\n",
       "                  fips_state   station_id  \\\n",
       "18                    Hawaii  US1CASM0007   \n",
       "15                    Hawaii  US1CASM0007   \n",
       "12                    Hawaii  US1CASM0007   \n",
       "1                     Hawaii  USC00502587   \n",
       "14                    Hawaii  USC00502587   \n",
       "10                    Hawaii  USC00502587   \n",
       "6                     Alaska  USC00502587   \n",
       "19                    Alaska  USW00025628   \n",
       "2                     Alaska  USW00025711   \n",
       "7                     Alaska  USW00025711   \n",
       "0                     Alaska  USW00026529   \n",
       "20                    Alaska  USC00507570   \n",
       "13                    Alaska  USW00026533   \n",
       "9                     Alaska  USC00502587   \n",
       "5                     Alaska  USC00507570   \n",
       "11                    Alaska  USC00503672   \n",
       "21                    Alaska  USC00507570   \n",
       "4   Northern Mariana Islands  GQW00041415   \n",
       "8   Northern Mariana Islands  GQW00041415   \n",
       "17               Mississippi  USC00221738   \n",
       "3                Mississippi  USW00013894   \n",
       "16               Puerto Rico  RQW00011641   \n",
       "22               Puerto Rico  RQW00011641   \n",
       "\n",
       "                                    station_name station_state     angle  \\\n",
       "18  HALF MOON BAY 0.5 SSW                                   CA  0.296616   \n",
       "15  HALF MOON BAY 0.5 SSW                                   CA  0.295565   \n",
       "12  HALF MOON BAY 0.5 SSW                                   CA  0.295211   \n",
       "1   DUTCH HARBOR                                            AK  0.292157   \n",
       "14  DUTCH HARBOR                                            AK  0.288400   \n",
       "10  DUTCH HARBOR                                            AK  0.281888   \n",
       "6   DUTCH HARBOR                                            AK  0.081137   \n",
       "19  ST GEORGE ISLAND AP                                     AK  0.073584   \n",
       "2   ST. PAUL 4 NE                          70309            AK  0.073424   \n",
       "7   ST. PAUL 4 NE                          70309            AK  0.073424   \n",
       "0   TANANA CALHOUN MEM AP                  70178            AK  0.044655   \n",
       "20  PORT ALSWORTH                                           AK  0.041395   \n",
       "13  BETTLES AP                             70174            AK  0.029059   \n",
       "9   DUTCH HARBOR                                            AK  0.025832   \n",
       "5   PORT ALSWORTH                                           AK  0.025807   \n",
       "11  HOMER 8 NW                                              AK  0.020588   \n",
       "21  PORT ALSWORTH                                           AK  0.018235   \n",
       "4   GUAM INTL AP                   GSN     91212            GU  0.017436   \n",
       "8   GUAM INTL AP                   GSN     91212            GU  0.016505   \n",
       "17  CLEVELAND                                               MS  0.016460   \n",
       "3   MOBILE                                 72223            AL  0.016447   \n",
       "16  SAN JUAN L M MARIN AP          GSN     78526            PR  0.015838   \n",
       "22  SAN JUAN L M MARIN AP          GSN     78526            PR  0.015838   \n",
       "\n",
       "       distance  \n",
       "18  1889.739042  \n",
       "15  1883.043371  \n",
       "12  1880.789967  \n",
       "1   1861.329641  \n",
       "14  1837.397841  \n",
       "10  1795.907502  \n",
       "6    516.925004  \n",
       "19   468.803797  \n",
       "2    467.783380  \n",
       "7    467.783380  \n",
       "0    284.497887  \n",
       "20   263.729116  \n",
       "13   185.137104  \n",
       "9    164.576906  \n",
       "5    164.415533  \n",
       "11   131.163988  \n",
       "21   116.174736  \n",
       "4    111.085057  \n",
       "8    105.155361  \n",
       "17   104.869169  \n",
       "3    104.782299  \n",
       "16   100.903975  \n",
       "22   100.903975  "
      ]
     },
     "execution_count": 53,
     "metadata": {},
     "output_type": "execute_result"
    }
   ],
   "source": [
    "pd_outliers.sort_values(\"distance\", ascending = False)"
   ]
  },
  {
   "cell_type": "code",
   "execution_count": 54,
   "metadata": {},
   "outputs": [],
   "source": [
    "# remove mappings where distance from fips to station is more than 600 km\n",
    "res_short = res_short.where( col(\"distance\") < 600)"
   ]
  },
  {
   "cell_type": "code",
   "execution_count": 55,
   "metadata": {},
   "outputs": [
    {
     "data": {
      "text/plain": [
       "13082"
      ]
     },
     "execution_count": 55,
     "metadata": {},
     "output_type": "execute_result"
    }
   ],
   "source": [
    "res_short.count()"
   ]
  },
  {
   "cell_type": "code",
   "execution_count": 56,
   "metadata": {},
   "outputs": [],
   "source": [
    "map_location_stations = res_short.select(\"location_id\", \"measured\", \"station_id\", \"distance\")"
   ]
  },
  {
   "cell_type": "code",
   "execution_count": 61,
   "metadata": {},
   "outputs": [],
   "source": [
    "out_path = os.path.join(output_path, \"map_locations_stations\" )\n",
    "map_location_stations\\\n",
    "    .write\\\n",
    "    .partitionBy(\"measured\")\\\n",
    "    .format(\"parquet\")\\\n",
    "    .mode(\"overwrite\")\\\n",
    "    .save(out_path)"
   ]
  },
  {
   "cell_type": "markdown",
   "metadata": {},
   "source": [
    "# Output selected stations"
   ]
  },
  {
   "cell_type": "code",
   "execution_count": 69,
   "metadata": {},
   "outputs": [],
   "source": [
    "# keep only selected weather data\n",
    "col_stations = stations.columns\n",
    "selected_stations = stations.join(map_location_stations, on = [\"station_id\"])\\\n",
    "    .select(*col_stations)\\\n",
    "    .distinct()"
   ]
  },
  {
   "cell_type": "code",
   "execution_count": 71,
   "metadata": {},
   "outputs": [
    {
     "name": "stdout",
     "output_type": "stream",
     "text": [
      "root\n",
      " |-- station_id: string (nullable = true)\n",
      " |-- latitude: float (nullable = true)\n",
      " |-- longitude: float (nullable = true)\n",
      " |-- elevation: float (nullable = true)\n",
      " |-- state: string (nullable = true)\n",
      " |-- station_name: string (nullable = true)\n",
      "\n"
     ]
    }
   ],
   "source": [
    "selected_stations.printSchema()"
   ]
  },
  {
   "cell_type": "code",
   "execution_count": 72,
   "metadata": {},
   "outputs": [],
   "source": [
    "out_path = os.path.join(output_path, \"weather_stations\" )\n",
    "selected_stations.write\\\n",
    "    .format(\"parquet\")\\\n",
    "    .mode(\"overwrite\")\\\n",
    "    .save(out_path)    "
   ]
  },
  {
   "cell_type": "markdown",
   "metadata": {},
   "source": [
    "## Output weather data"
   ]
  },
  {
   "cell_type": "code",
   "execution_count": 74,
   "metadata": {},
   "outputs": [],
   "source": [
    "path = os.path.join(local_data_dir, \"WEATHER\", \"2020.csv.gz\")\n",
    "weather = spark.read.csv(path,  \n",
    "                         schema = \"station_id string, date string, measured string, value string, measurement_flag string, quality_flag string, source_flag string, hour string\")"
   ]
  },
  {
   "cell_type": "code",
   "execution_count": 75,
   "metadata": {},
   "outputs": [],
   "source": [
    "unique_stations = map_location_stations\\\n",
    "                .select(\"measured\", \"station_id\")\\\n",
    "                .distinct()"
   ]
  },
  {
   "cell_type": "code",
   "execution_count": 76,
   "metadata": {},
   "outputs": [],
   "source": [
    "selected_weather = weather.filter(weather[\"quality_flag\"].isNull())\\\n",
    "    .join( unique_stations, on = [\"station_id\", \"measured\"])\\\n",
    "    .select(\"measured\", \"station_id\", \"date\", \"value\")"
   ]
  },
  {
   "cell_type": "code",
   "execution_count": 77,
   "metadata": {},
   "outputs": [
    {
     "ename": "KeyboardInterrupt",
     "evalue": "",
     "output_type": "error",
     "traceback": [
      "\u001b[0;31m---------------------------------------------------------------------------\u001b[0m",
      "\u001b[0;31mKeyboardInterrupt\u001b[0m                         Traceback (most recent call last)",
      "\u001b[0;32m<ipython-input-77-c2184064a3ec>\u001b[0m in \u001b[0;36m<module>\u001b[0;34m\u001b[0m\n\u001b[1;32m      5\u001b[0m     \u001b[0;34m.\u001b[0m\u001b[0moption\u001b[0m\u001b[0;34m(\u001b[0m\u001b[0;34m\"dbtable\"\u001b[0m\u001b[0;34m,\u001b[0m \u001b[0mtable_name\u001b[0m\u001b[0;34m)\u001b[0m\u001b[0;31m\\\u001b[0m\u001b[0;34m\u001b[0m\u001b[0;34m\u001b[0m\u001b[0m\n\u001b[1;32m      6\u001b[0m     \u001b[0;34m.\u001b[0m\u001b[0moption\u001b[0m\u001b[0;34m(\u001b[0m\u001b[0;34m\"user\"\u001b[0m\u001b[0;34m,\u001b[0m\u001b[0muser\u001b[0m\u001b[0;34m)\u001b[0m\u001b[0;31m\\\u001b[0m\u001b[0;34m\u001b[0m\u001b[0;34m\u001b[0m\u001b[0m\n\u001b[0;32m----> 7\u001b[0;31m     \u001b[0;34m.\u001b[0m\u001b[0moption\u001b[0m\u001b[0;34m(\u001b[0m\u001b[0;34m\"password\"\u001b[0m\u001b[0;34m,\u001b[0m \u001b[0mpassword\u001b[0m\u001b[0;34m)\u001b[0m\u001b[0;31m\\\u001b[0m\u001b[0;34m\u001b[0m\u001b[0;34m\u001b[0m\u001b[0m\n\u001b[0m\u001b[1;32m      8\u001b[0m     \u001b[0;34m.\u001b[0m\u001b[0msave\u001b[0m\u001b[0;34m(\u001b[0m\u001b[0;34m)\u001b[0m\u001b[0;34m\u001b[0m\u001b[0;34m\u001b[0m\u001b[0m\n",
      "\u001b[0;32m~/anaconda3/envs/airflow/lib/python3.7/site-packages/pyspark/sql/readwriter.py\u001b[0m in \u001b[0;36msave\u001b[0;34m(self, path, format, mode, partitionBy, **options)\u001b[0m\n\u001b[1;32m    732\u001b[0m             \u001b[0mself\u001b[0m\u001b[0;34m.\u001b[0m\u001b[0mformat\u001b[0m\u001b[0;34m(\u001b[0m\u001b[0mformat\u001b[0m\u001b[0;34m)\u001b[0m\u001b[0;34m\u001b[0m\u001b[0;34m\u001b[0m\u001b[0m\n\u001b[1;32m    733\u001b[0m         \u001b[0;32mif\u001b[0m \u001b[0mpath\u001b[0m \u001b[0;32mis\u001b[0m \u001b[0;32mNone\u001b[0m\u001b[0;34m:\u001b[0m\u001b[0;34m\u001b[0m\u001b[0;34m\u001b[0m\u001b[0m\n\u001b[0;32m--> 734\u001b[0;31m             \u001b[0mself\u001b[0m\u001b[0;34m.\u001b[0m\u001b[0m_jwrite\u001b[0m\u001b[0;34m.\u001b[0m\u001b[0msave\u001b[0m\u001b[0;34m(\u001b[0m\u001b[0;34m)\u001b[0m\u001b[0;34m\u001b[0m\u001b[0;34m\u001b[0m\u001b[0m\n\u001b[0m\u001b[1;32m    735\u001b[0m         \u001b[0;32melse\u001b[0m\u001b[0;34m:\u001b[0m\u001b[0;34m\u001b[0m\u001b[0;34m\u001b[0m\u001b[0m\n\u001b[1;32m    736\u001b[0m             \u001b[0mself\u001b[0m\u001b[0;34m.\u001b[0m\u001b[0m_jwrite\u001b[0m\u001b[0;34m.\u001b[0m\u001b[0msave\u001b[0m\u001b[0;34m(\u001b[0m\u001b[0mpath\u001b[0m\u001b[0;34m)\u001b[0m\u001b[0;34m\u001b[0m\u001b[0;34m\u001b[0m\u001b[0m\n",
      "\u001b[0;32m~/anaconda3/envs/airflow/lib/python3.7/site-packages/py4j/java_gateway.py\u001b[0m in \u001b[0;36m__call__\u001b[0;34m(self, *args)\u001b[0m\n\u001b[1;32m   1253\u001b[0m             \u001b[0mproto\u001b[0m\u001b[0;34m.\u001b[0m\u001b[0mEND_COMMAND_PART\u001b[0m\u001b[0;34m\u001b[0m\u001b[0;34m\u001b[0m\u001b[0m\n\u001b[1;32m   1254\u001b[0m \u001b[0;34m\u001b[0m\u001b[0m\n\u001b[0;32m-> 1255\u001b[0;31m         \u001b[0manswer\u001b[0m \u001b[0;34m=\u001b[0m \u001b[0mself\u001b[0m\u001b[0;34m.\u001b[0m\u001b[0mgateway_client\u001b[0m\u001b[0;34m.\u001b[0m\u001b[0msend_command\u001b[0m\u001b[0;34m(\u001b[0m\u001b[0mcommand\u001b[0m\u001b[0;34m)\u001b[0m\u001b[0;34m\u001b[0m\u001b[0;34m\u001b[0m\u001b[0m\n\u001b[0m\u001b[1;32m   1256\u001b[0m         return_value = get_return_value(\n\u001b[1;32m   1257\u001b[0m             answer, self.gateway_client, self.target_id, self.name)\n",
      "\u001b[0;32m~/anaconda3/envs/airflow/lib/python3.7/site-packages/py4j/java_gateway.py\u001b[0m in \u001b[0;36msend_command\u001b[0;34m(self, command, retry, binary)\u001b[0m\n\u001b[1;32m    983\u001b[0m         \u001b[0mconnection\u001b[0m \u001b[0;34m=\u001b[0m \u001b[0mself\u001b[0m\u001b[0;34m.\u001b[0m\u001b[0m_get_connection\u001b[0m\u001b[0;34m(\u001b[0m\u001b[0;34m)\u001b[0m\u001b[0;34m\u001b[0m\u001b[0;34m\u001b[0m\u001b[0m\n\u001b[1;32m    984\u001b[0m         \u001b[0;32mtry\u001b[0m\u001b[0;34m:\u001b[0m\u001b[0;34m\u001b[0m\u001b[0;34m\u001b[0m\u001b[0m\n\u001b[0;32m--> 985\u001b[0;31m             \u001b[0mresponse\u001b[0m \u001b[0;34m=\u001b[0m \u001b[0mconnection\u001b[0m\u001b[0;34m.\u001b[0m\u001b[0msend_command\u001b[0m\u001b[0;34m(\u001b[0m\u001b[0mcommand\u001b[0m\u001b[0;34m)\u001b[0m\u001b[0;34m\u001b[0m\u001b[0;34m\u001b[0m\u001b[0m\n\u001b[0m\u001b[1;32m    986\u001b[0m             \u001b[0;32mif\u001b[0m \u001b[0mbinary\u001b[0m\u001b[0;34m:\u001b[0m\u001b[0;34m\u001b[0m\u001b[0;34m\u001b[0m\u001b[0m\n\u001b[1;32m    987\u001b[0m                 \u001b[0;32mreturn\u001b[0m \u001b[0mresponse\u001b[0m\u001b[0;34m,\u001b[0m \u001b[0mself\u001b[0m\u001b[0;34m.\u001b[0m\u001b[0m_create_connection_guard\u001b[0m\u001b[0;34m(\u001b[0m\u001b[0mconnection\u001b[0m\u001b[0;34m)\u001b[0m\u001b[0;34m\u001b[0m\u001b[0;34m\u001b[0m\u001b[0m\n",
      "\u001b[0;32m~/anaconda3/envs/airflow/lib/python3.7/site-packages/py4j/java_gateway.py\u001b[0m in \u001b[0;36msend_command\u001b[0;34m(self, command)\u001b[0m\n\u001b[1;32m   1150\u001b[0m \u001b[0;34m\u001b[0m\u001b[0m\n\u001b[1;32m   1151\u001b[0m         \u001b[0;32mtry\u001b[0m\u001b[0;34m:\u001b[0m\u001b[0;34m\u001b[0m\u001b[0;34m\u001b[0m\u001b[0m\n\u001b[0;32m-> 1152\u001b[0;31m             \u001b[0manswer\u001b[0m \u001b[0;34m=\u001b[0m \u001b[0msmart_decode\u001b[0m\u001b[0;34m(\u001b[0m\u001b[0mself\u001b[0m\u001b[0;34m.\u001b[0m\u001b[0mstream\u001b[0m\u001b[0;34m.\u001b[0m\u001b[0mreadline\u001b[0m\u001b[0;34m(\u001b[0m\u001b[0;34m)\u001b[0m\u001b[0;34m[\u001b[0m\u001b[0;34m:\u001b[0m\u001b[0;34m-\u001b[0m\u001b[0;36m1\u001b[0m\u001b[0;34m]\u001b[0m\u001b[0;34m)\u001b[0m\u001b[0;34m\u001b[0m\u001b[0;34m\u001b[0m\u001b[0m\n\u001b[0m\u001b[1;32m   1153\u001b[0m             \u001b[0mlogger\u001b[0m\u001b[0;34m.\u001b[0m\u001b[0mdebug\u001b[0m\u001b[0;34m(\u001b[0m\u001b[0;34m\"Answer received: {0}\"\u001b[0m\u001b[0;34m.\u001b[0m\u001b[0mformat\u001b[0m\u001b[0;34m(\u001b[0m\u001b[0manswer\u001b[0m\u001b[0;34m)\u001b[0m\u001b[0;34m)\u001b[0m\u001b[0;34m\u001b[0m\u001b[0;34m\u001b[0m\u001b[0m\n\u001b[1;32m   1154\u001b[0m             \u001b[0;32mif\u001b[0m \u001b[0manswer\u001b[0m\u001b[0;34m.\u001b[0m\u001b[0mstartswith\u001b[0m\u001b[0;34m(\u001b[0m\u001b[0mproto\u001b[0m\u001b[0;34m.\u001b[0m\u001b[0mRETURN_MESSAGE\u001b[0m\u001b[0;34m)\u001b[0m\u001b[0;34m:\u001b[0m\u001b[0;34m\u001b[0m\u001b[0;34m\u001b[0m\u001b[0m\n",
      "\u001b[0;32m~/anaconda3/envs/airflow/lib/python3.7/socket.py\u001b[0m in \u001b[0;36mreadinto\u001b[0;34m(self, b)\u001b[0m\n\u001b[1;32m    587\u001b[0m         \u001b[0;32mwhile\u001b[0m \u001b[0;32mTrue\u001b[0m\u001b[0;34m:\u001b[0m\u001b[0;34m\u001b[0m\u001b[0;34m\u001b[0m\u001b[0m\n\u001b[1;32m    588\u001b[0m             \u001b[0;32mtry\u001b[0m\u001b[0;34m:\u001b[0m\u001b[0;34m\u001b[0m\u001b[0;34m\u001b[0m\u001b[0m\n\u001b[0;32m--> 589\u001b[0;31m                 \u001b[0;32mreturn\u001b[0m \u001b[0mself\u001b[0m\u001b[0;34m.\u001b[0m\u001b[0m_sock\u001b[0m\u001b[0;34m.\u001b[0m\u001b[0mrecv_into\u001b[0m\u001b[0;34m(\u001b[0m\u001b[0mb\u001b[0m\u001b[0;34m)\u001b[0m\u001b[0;34m\u001b[0m\u001b[0;34m\u001b[0m\u001b[0m\n\u001b[0m\u001b[1;32m    590\u001b[0m             \u001b[0;32mexcept\u001b[0m \u001b[0mtimeout\u001b[0m\u001b[0;34m:\u001b[0m\u001b[0;34m\u001b[0m\u001b[0;34m\u001b[0m\u001b[0m\n\u001b[1;32m    591\u001b[0m                 \u001b[0mself\u001b[0m\u001b[0;34m.\u001b[0m\u001b[0m_timeout_occurred\u001b[0m \u001b[0;34m=\u001b[0m \u001b[0;32mTrue\u001b[0m\u001b[0;34m\u001b[0m\u001b[0;34m\u001b[0m\u001b[0m\n",
      "\u001b[0;31mKeyboardInterrupt\u001b[0m: "
     ]
    }
   ],
   "source": [
    "out_path = os.path.join(output_path, \"weather_records\")\n",
    "selected_weather.write\\\n",
    "    .partitionBy(\"measured\", \"date\")\\\n",
    "    .format(\"parquet\")\\\n",
    "    .mode(\"overwrite\")\\\n",
    "    .save(out_path)"
   ]
  },
  {
   "cell_type": "code",
   "execution_count": null,
   "metadata": {},
   "outputs": [],
   "source": []
  }
 ],
 "metadata": {
  "kernelspec": {
   "display_name": "Python 3",
   "language": "python",
   "name": "python3"
  },
  "language_info": {
   "codemirror_mode": {
    "name": "ipython",
    "version": 3
   },
   "file_extension": ".py",
   "mimetype": "text/x-python",
   "name": "python",
   "nbconvert_exporter": "python",
   "pygments_lexer": "ipython3",
   "version": "3.7.9"
  }
 },
 "nbformat": 4,
 "nbformat_minor": 4
}
