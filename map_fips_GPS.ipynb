{
 "cells": [
  {
   "cell_type": "code",
   "execution_count": 1,
   "metadata": {},
   "outputs": [],
   "source": [
    "# mapping of covid locations (fips + GPS) to the closest weather station"
   ]
  },
  {
   "cell_type": "code",
   "execution_count": 37,
   "metadata": {},
   "outputs": [],
   "source": [
    "import configparser\n",
    "import os\n",
    "import pyspark\n",
    "from pyspark import SparkConf\n",
    "from pyspark.sql import SparkSession\n",
    "import pyspark.sql.functions as F\n",
    "import pyspark.sql.types as T\n",
    "from pyspark.sql.functions import udf, col, lit\n",
    "from pyspark.sql.types import MapType, StringType, FloatType\n",
    "from pyspark.sql import DataFrame, Window\n",
    "from collections import OrderedDict\n",
    "import pandas as pd\n",
    "import numpy as np"
   ]
  },
  {
   "cell_type": "code",
   "execution_count": 3,
   "metadata": {},
   "outputs": [],
   "source": [
    "config = configparser.ConfigParser()\n",
    "config.read(\"capstone.cfg\")\n",
    "\n",
    "os.chdir(config[\"PATH\"][\"project\"])\n",
    "project_path = config[\"PATH\"][\"project\"]\n"
   ]
  },
  {
   "cell_type": "code",
   "execution_count": 4,
   "metadata": {},
   "outputs": [],
   "source": [
    "def create_spark_session():\n",
    "    spark = SparkSession \\\n",
    "        .builder \\\n",
    "        .appName(\"covid_DB\") \\\n",
    "        .getOrCreate()\n",
    "    \n",
    "    return spark"
   ]
  },
  {
   "cell_type": "code",
   "execution_count": 5,
   "metadata": {},
   "outputs": [],
   "source": [
    "spark = create_spark_session()"
   ]
  },
  {
   "cell_type": "code",
   "execution_count": 6,
   "metadata": {},
   "outputs": [],
   "source": [
    "# Load relevant stations with weather element\n",
    "path = os.path.join(project_path, \"OUT_DATA\", \"filtered_stations\")\n",
    "selected_stations = spark.read.parquet(path)"
   ]
  },
  {
   "cell_type": "code",
   "execution_count": 7,
   "metadata": {},
   "outputs": [
    {
     "name": "stdout",
     "output_type": "stream",
     "text": [
      "root\n",
      " |-- station_id: string (nullable = true)\n",
      " |-- measured: string (nullable = true)\n",
      "\n"
     ]
    }
   ],
   "source": [
    "selected_stations.printSchema()"
   ]
  },
  {
   "cell_type": "code",
   "execution_count": 8,
   "metadata": {},
   "outputs": [
    {
     "name": "stdout",
     "output_type": "stream",
     "text": [
      "+--------+\n",
      "|measured|\n",
      "+--------+\n",
      "|    TMIN|\n",
      "|    SNOW|\n",
      "|    AWND|\n",
      "|    PRCP|\n",
      "+--------+\n",
      "\n"
     ]
    }
   ],
   "source": [
    "selected_stations.select(\"measured\").distinct().show()"
   ]
  },
  {
   "cell_type": "code",
   "execution_count": 9,
   "metadata": {},
   "outputs": [],
   "source": [
    "# load all stations, with GPS location\n",
    "raw_stations = spark.read.csv( os.path.join(project_path, \"DATA\", \"WEATHER\", \"ghcnd-stations.txt\"))"
   ]
  },
  {
   "cell_type": "code",
   "execution_count": 10,
   "metadata": {},
   "outputs": [],
   "source": [
    "# parse raw stations into columns\n",
    "@udf(MapType( StringType(), StringType()))\n",
    "def ParseStationsUDF(line):\n",
    "    return{\n",
    "        \"station_id\": line[0:11],\n",
    "        \"latitude\" : line[13:20], \n",
    "        \"longitude\" : line[21:30], \n",
    "        \"elevation\" : line[31:38], \n",
    "        \"state\" : line[38:40], \n",
    "        \"station_name\" : line[41:]\n",
    "        \n",
    "    }\n",
    "\n",
    "fields = OrderedDict( [\n",
    "        ( \"station_id\" , \"string\"),\n",
    "        ( \"latitude\" , \"float\"), \n",
    "        (\"longitude\" , \"float\"), \n",
    "        (\"elevation\" , \"float\"),\n",
    "        (\"state\" , \"string\"), \n",
    "        (\"station_name\" , \"string\")\n",
    "] )\n",
    "\n",
    "#exprs = [ f\"parsed['{field}'].cast({fld_type}) as {field}\" for field, fld_type in fields.items() ]\n",
    "exprs = [ f\"CAST(parsed['{field}'] AS {fld_type}) AS {field}\" for field, fld_type in fields.items() ]\n",
    "\n",
    "df_stations = raw_stations.withColumn(\"parsed\", ParseStationsUDF(\"_c0\")).selectExpr( *exprs)"
   ]
  },
  {
   "cell_type": "code",
   "execution_count": 11,
   "metadata": {},
   "outputs": [
    {
     "name": "stdout",
     "output_type": "stream",
     "text": [
      "root\n",
      " |-- station_id: string (nullable = true)\n",
      " |-- latitude: float (nullable = true)\n",
      " |-- longitude: float (nullable = true)\n",
      " |-- elevation: float (nullable = true)\n",
      " |-- state: string (nullable = true)\n",
      " |-- station_name: string (nullable = true)\n",
      "\n"
     ]
    }
   ],
   "source": [
    "df_stations.printSchema()"
   ]
  },
  {
   "cell_type": "code",
   "execution_count": 12,
   "metadata": {},
   "outputs": [],
   "source": [
    "df_stations = df_stations.join(selected_stations, [\"station_id\"])"
   ]
  },
  {
   "cell_type": "code",
   "execution_count": 13,
   "metadata": {},
   "outputs": [
    {
     "data": {
      "text/plain": [
       "23556"
      ]
     },
     "execution_count": 13,
     "metadata": {},
     "output_type": "execute_result"
    }
   ],
   "source": [
    "df_stations.count()"
   ]
  },
  {
   "cell_type": "code",
   "execution_count": 14,
   "metadata": {},
   "outputs": [
    {
     "name": "stdout",
     "output_type": "stream",
     "text": [
      "root\n",
      " |-- station_id: string (nullable = true)\n",
      " |-- latitude: float (nullable = true)\n",
      " |-- longitude: float (nullable = true)\n",
      " |-- elevation: float (nullable = true)\n",
      " |-- state: string (nullable = true)\n",
      " |-- station_name: string (nullable = true)\n",
      " |-- measured: string (nullable = true)\n",
      "\n"
     ]
    }
   ],
   "source": [
    "df_stations.printSchema()"
   ]
  },
  {
   "cell_type": "code",
   "execution_count": 15,
   "metadata": {},
   "outputs": [
    {
     "name": "stdout",
     "output_type": "stream",
     "text": [
      "+-----------+--------+---------+---------+-----+--------------------+--------+\n",
      "| station_id|latitude|longitude|elevation|state|        station_name|measured|\n",
      "+-----------+--------+---------+---------+-----+--------------------+--------+\n",
      "|AQC00914000| 14.3167|-170.7667|    408.4|   AS|AASUFOU          ...|    PRCP|\n",
      "|AQC00914141| 14.2667|-170.6167|      4.6|   AS|FAGAITUA         ...|    PRCP|\n",
      "|AQC00914594| 14.3333|-170.7667|     42.4|   AS|MALAELOA         ...|    PRCP|\n",
      "|AQW00061705| 14.3306|-170.7136|      3.7|   AS|PAGO PAGO WSO AP ...|    AWND|\n",
      "|AQW00061705| 14.3306|-170.7136|      3.7|   AS|PAGO PAGO WSO AP ...|    TMIN|\n",
      "|AQW00061705| 14.3306|-170.7136|      3.7|   AS|PAGO PAGO WSO AP ...|    PRCP|\n",
      "|CQC00914080| 15.2136| 145.7497|    252.1|   MP|CAPITOL HILL 1   ...|    TMIN|\n",
      "|CQC00914080| 15.2136| 145.7497|    252.1|   MP|CAPITOL HILL 1   ...|    PRCP|\n",
      "|CQC00914801| 14.1717| 145.2428|    179.2|   MP|ROTA AP          ...|    TMIN|\n",
      "|CQC00914801| 14.1717| 145.2428|    179.2|   MP|ROTA AP          ...|    PRCP|\n",
      "+-----------+--------+---------+---------+-----+--------------------+--------+\n",
      "only showing top 10 rows\n",
      "\n"
     ]
    }
   ],
   "source": [
    "df_stations.show(10)"
   ]
  },
  {
   "cell_type": "code",
   "execution_count": 16,
   "metadata": {},
   "outputs": [],
   "source": [
    "# Load NYT locations (FIPS + GPS)\n",
    "path = os.path.join(project_path, \"OUT_DATA\", \"nyt_locations_geography\")\n",
    "df_locations = spark.read.parquet(path)"
   ]
  },
  {
   "cell_type": "code",
   "execution_count": 17,
   "metadata": {},
   "outputs": [],
   "source": [
    "df_locations = df_locations.where( ( ~ F.isnan(\"latitude\") ) | (~ F.isnan(\"longitude\")) )"
   ]
  },
  {
   "cell_type": "code",
   "execution_count": 18,
   "metadata": {},
   "outputs": [
    {
     "name": "stdout",
     "output_type": "stream",
     "text": [
      "root\n",
      " |-- fips: string (nullable = true)\n",
      " |-- county: string (nullable = true)\n",
      " |-- latitude: double (nullable = true)\n",
      " |-- longitude: double (nullable = true)\n",
      " |-- state: string (nullable = true)\n",
      "\n"
     ]
    }
   ],
   "source": [
    "df_locations.printSchema()"
   ]
  },
  {
   "cell_type": "code",
   "execution_count": 19,
   "metadata": {},
   "outputs": [],
   "source": [
    "def precompute_distance(l_ref : DataFrame) -> DataFrame:\n",
    "    l_ref = l_ref.withColumnRenamed(\"latitude\", \"latitude_degrees\")\n",
    "    l_ref = l_ref.withColumnRenamed( \"longitude\", \"longitude_degrees\") \n",
    "    @udf( FloatType())\n",
    "    def degree_to_radian(x):\n",
    "        return  x* np.pi / 180.\n",
    "    l_ref = l_ref.withColumn(\"latitude\", degree_to_radian(\"latitude_degrees\") )\n",
    "    l_ref = l_ref.withColumn(\"longitude\", degree_to_radian(\"longitude_degrees\") )\n",
    "    l_ref = l_ref.withColumn(\"cos_latitude\", F.cos(\"latitude\") )  \n",
    "    print(type(l_ref))\n",
    "    return l_ref"
   ]
  },
  {
   "cell_type": "code",
   "execution_count": 20,
   "metadata": {},
   "outputs": [
    {
     "name": "stdout",
     "output_type": "stream",
     "text": [
      "<class 'pyspark.sql.dataframe.DataFrame'>\n"
     ]
    }
   ],
   "source": [
    "df_stations_precompute =precompute_distance(df_stations)"
   ]
  },
  {
   "cell_type": "code",
   "execution_count": 21,
   "metadata": {},
   "outputs": [
    {
     "data": {
      "text/plain": [
       "23556"
      ]
     },
     "execution_count": 21,
     "metadata": {},
     "output_type": "execute_result"
    }
   ],
   "source": [
    "df_stations_precompute.count()"
   ]
  },
  {
   "cell_type": "code",
   "execution_count": 22,
   "metadata": {},
   "outputs": [
    {
     "name": "stdout",
     "output_type": "stream",
     "text": [
      "root\n",
      " |-- station_id: string (nullable = true)\n",
      " |-- latitude_degrees: float (nullable = true)\n",
      " |-- longitude_degrees: float (nullable = true)\n",
      " |-- elevation: float (nullable = true)\n",
      " |-- state: string (nullable = true)\n",
      " |-- station_name: string (nullable = true)\n",
      " |-- measured: string (nullable = true)\n",
      " |-- latitude: float (nullable = true)\n",
      " |-- longitude: float (nullable = true)\n",
      " |-- cos_latitude: double (nullable = true)\n",
      "\n"
     ]
    }
   ],
   "source": [
    "df_stations_precompute.printSchema()"
   ]
  },
  {
   "cell_type": "code",
   "execution_count": 23,
   "metadata": {},
   "outputs": [
    {
     "data": {
      "text/plain": [
       "[Row(min(longitude_degrees)=-170.76669311523438, min(latitude_degrees)=13.389399528503418, min(latitude)=0.2336890995502472, min(longitude)=-2.980441093444824)]"
      ]
     },
     "execution_count": 23,
     "metadata": {},
     "output_type": "execute_result"
    }
   ],
   "source": [
    "df_stations_precompute.agg({\"latitude\" : \"min\", \"longitude\" : \"min\", \"latitude_degrees\" : \"min\", \"longitude_degrees\" : \"min\" } ).collect()"
   ]
  },
  {
   "cell_type": "code",
   "execution_count": 24,
   "metadata": {},
   "outputs": [
    {
     "data": {
      "text/plain": [
       "[Row(max(longitude_degrees)=145.74969482421875, max(latitude_degrees)=71.32140350341797, max(latitude)=1.2447932958602905, max(longitude)=2.5438120365142822)]"
      ]
     },
     "execution_count": 24,
     "metadata": {},
     "output_type": "execute_result"
    }
   ],
   "source": [
    "df_stations_precompute.agg({\"latitude\" : \"max\", \"longitude\" : \"max\", \"latitude_degrees\" : \"max\", \"longitude_degrees\" : \"max\" } ).collect()"
   ]
  },
  {
   "cell_type": "code",
   "execution_count": 25,
   "metadata": {},
   "outputs": [
    {
     "name": "stdout",
     "output_type": "stream",
     "text": [
      "<class 'pyspark.sql.dataframe.DataFrame'>\n"
     ]
    }
   ],
   "source": [
    "df_locations_precompute = precompute_distance(df_locations)"
   ]
  },
  {
   "cell_type": "code",
   "execution_count": 26,
   "metadata": {},
   "outputs": [
    {
     "data": {
      "text/plain": [
       "[Row(min(longitude_degrees)=-164.1889190673828, min(latitude_degrees)=13.444, min(latitude)=0.23464205861091614, min(longitude)=-2.8656373023986816)]"
      ]
     },
     "execution_count": 26,
     "metadata": {},
     "output_type": "execute_result"
    }
   ],
   "source": [
    "df_locations_precompute.agg({\"latitude\" : \"min\", \"longitude\" : \"min\", \"latitude_degrees\" : \"min\", \"longitude_degrees\" : \"min\" } ).collect()"
   ]
  },
  {
   "cell_type": "code",
   "execution_count": 27,
   "metadata": {},
   "outputs": [
    {
     "data": {
      "text/plain": [
       "[Row(max(longitude_degrees)=178.33880615234375, max(latitude_degrees)=69.4493408203125, max(latitude)=1.212119698524475, max(longitude)=3.1125993728637695)]"
      ]
     },
     "execution_count": 27,
     "metadata": {},
     "output_type": "execute_result"
    }
   ],
   "source": [
    "df_locations_precompute.agg({\"latitude\" : \"max\", \"longitude\" : \"max\", \"latitude_degrees\" : \"max\", \"longitude_degrees\" : \"max\" } ).collect()"
   ]
  },
  {
   "cell_type": "markdown",
   "metadata": {},
   "source": [
    "# closest station for all fips"
   ]
  },
  {
   "cell_type": "code",
   "execution_count": 48,
   "metadata": {},
   "outputs": [],
   "source": [
    "sub_fips = df_locations_precompute\\\n",
    "    .select(\"fips\", \"latitude\", \"longitude\", \"cos_latitude\")\\\n",
    "    .withColumnRenamed(\"latitude\", \"latitude_fips\")\\\n",
    "    .withColumnRenamed(\"longitude\", \"longitude_fips\")\\\n",
    "    .withColumnRenamed(\"cos_latitude\", \"cos_latitude_fips\")"
   ]
  },
  {
   "cell_type": "code",
   "execution_count": 49,
   "metadata": {},
   "outputs": [],
   "source": [
    "sub_stations = df_stations_precompute\\\n",
    "    .select(\"station_id\", \"measured\",\"latitude\", \"longitude\", \"cos_latitude\")\\\n",
    "    .withColumnRenamed(\"latitude\", \"latitude_station\")\\\n",
    "    .withColumnRenamed(\"longitude\", \"longitude_station\")\\\n",
    "    .withColumnRenamed(\"cos_latitude\", \"cos_latitude_station\")"
   ]
  },
  {
   "cell_type": "code",
   "execution_count": 50,
   "metadata": {},
   "outputs": [],
   "source": [
    "fips_cross_stations = sub_fips.crossJoin(sub_stations)"
   ]
  },
  {
   "cell_type": "code",
   "execution_count": 31,
   "metadata": {},
   "outputs": [
    {
     "data": {
      "text/plain": [
       "10000"
      ]
     },
     "execution_count": 31,
     "metadata": {},
     "output_type": "execute_result"
    }
   ],
   "source": [
    "%%time\n",
    "fips_cross_stations.count()"
   ]
  },
  {
   "cell_type": "code",
   "execution_count": 51,
   "metadata": {},
   "outputs": [
    {
     "name": "stdout",
     "output_type": "stream",
     "text": [
      "root\n",
      " |-- fips: string (nullable = true)\n",
      " |-- latitude_fips: float (nullable = true)\n",
      " |-- longitude_fips: float (nullable = true)\n",
      " |-- cos_latitude_fips: double (nullable = true)\n",
      " |-- station_id: string (nullable = true)\n",
      " |-- measured: string (nullable = true)\n",
      " |-- latitude_station: float (nullable = true)\n",
      " |-- longitude_station: float (nullable = true)\n",
      " |-- cos_latitude_station: double (nullable = true)\n",
      "\n"
     ]
    }
   ],
   "source": [
    "fips_cross_stations.printSchema()"
   ]
  },
  {
   "cell_type": "code",
   "execution_count": 73,
   "metadata": {},
   "outputs": [],
   "source": [
    "def delta_coord(col1, col2):\n",
    "    return F.pow( F.sin(0.5* (col1 - col2 ) ), 2 )"
   ]
  },
  {
   "cell_type": "code",
   "execution_count": 74,
   "metadata": {},
   "outputs": [],
   "source": [
    "def haversine( lat1, long1, cos_lat1, lat2, long2, cos_lat2):\n",
    "    ''' computation of angular distance between 2 locations given by GPS coordinates,\n",
    "    using haversine formula.\n",
    "    exact formulas (maybe overkill), taken from :\n",
    "    https://www.movable-type.co.uk/scripts/latlong.html\n",
    "    '''    \n",
    "    delta_lat = delta_coord(lat1, lat2)\n",
    "    delta_long = delta_coord(long1, long2)\n",
    "    a = delta_lat + delta_long * cos_lat1 * cos_lat2\n",
    "    return  F.atan2( F.sqrt(a), F.sqrt( 1.-a ) )"
   ]
  },
  {
   "cell_type": "code",
   "execution_count": 75,
   "metadata": {},
   "outputs": [],
   "source": [
    "#dist_col = \"toto\"\n",
    "dist_col = \"angle\"\n",
    "df_cross_distance = fips_cross_stations.withColumn(dist_col,                                  \n",
    "        haversine(col(\"latitude_fips\"), col(\"longitude_fips\"),col(\"cos_latitude_fips\"), \n",
    "                    col(\"latitude_station\"), col(\"longitude_station\"), col(\"cos_latitude_station\")) )"
   ]
  },
  {
   "cell_type": "code",
   "execution_count": 40,
   "metadata": {},
   "outputs": [
    {
     "name": "stdout",
     "output_type": "stream",
     "text": [
      "+-----+-------------+--------------+-------------------+-----------+--------+----------------+-----------------+--------------------+------------------+\n",
      "| fips|latitude_fips|longitude_fips|  cos_latitude_fips| station_id|measured|latitude_station|longitude_station|cos_latitude_station|              toto|\n",
      "+-----+-------------+--------------+-------------------+-----------+--------+----------------+-----------------+--------------------+------------------+\n",
      "|02198|    0.9718477|     -2.324122| 0.5637744149985534|AQC00914000|    PRCP|      0.24987355|        -2.980441|  0.9689436985050108| 0.853762920078671|\n",
      "|02240|    1.1146545|    -2.4996367|0.44048764879312186|AQC00914000|    PRCP|      0.24987355|        -2.980441|  0.9689436985050108|0.7929826951260189|\n",
      "|02261|    1.0669032|    -2.5544662| 0.4828384076125879|AQC00914000|    PRCP|      0.24987355|        -2.980441|  0.9689436985050108|0.8234070924966638|\n",
      "|02090|    1.1288098|    -2.5577478| 0.4277359281117351|AQC00914000|    PRCP|      0.24987355|        -2.980441|  0.9689436985050108|0.7885132992967837|\n",
      "|02016|    0.9068634|     3.1125994| 0.6162190905393273|AQC00914000|    PRCP|      0.24987355|        -2.980441|  0.9689436985050108|0.9062882494246504|\n",
      "|02275|   0.98053956|    -2.3043022| 0.5565743622809582|AQC00914000|    PRCP|      0.24987355|        -2.980441|  0.9689436985050108|0.8465522056138768|\n",
      "|02170|    1.0867401|     -2.609337|0.46537318743888084|AQC00914000|    PRCP|      0.24987355|        -2.980441|  0.9689436985050108|0.8150801537482685|\n",
      "|02130|   0.96778405|    -2.2882433| 0.5671260495947752|AQC00914000|    PRCP|      0.24987355|        -2.980441|  0.9689436985050108|0.8510317840689153|\n",
      "|02290|    1.1410216|    -2.6455326|0.41666601776548706|AQC00914000|    PRCP|      0.24987355|        -2.980441|  0.9689436985050108|0.7854174781817181|\n",
      "|02188|     1.169459|    -2.7928948| 0.3906497667678488|AQC00914000|    PRCP|      0.24987355|        -2.980441|  0.9689436985050108|0.7718479386127227|\n",
      "+-----+-------------+--------------+-------------------+-----------+--------+----------------+-----------------+--------------------+------------------+\n",
      "only showing top 10 rows\n",
      "\n"
     ]
    }
   ],
   "source": [
    "df_cross_distance.show(10)"
   ]
  },
  {
   "cell_type": "code",
   "execution_count": 76,
   "metadata": {},
   "outputs": [],
   "source": [
    "window = Window.partitionBy(\"measured\", \"fips\")"
   ]
  },
  {
   "cell_type": "code",
   "execution_count": 77,
   "metadata": {},
   "outputs": [],
   "source": [
    "df_min_distance = df_cross_distance.withColumn(\"min_angle\", F.min(dist_col).over(window))\\\n",
    "            .filter(col(dist_col) == col(\"min_angle\"))\\\n",
    "            .drop(\"min_angle\")"
   ]
  },
  {
   "cell_type": "code",
   "execution_count": 57,
   "metadata": {},
   "outputs": [
    {
     "name": "stdout",
     "output_type": "stream",
     "text": [
      "+-----+-------------+--------------+------------------+-----------+--------+----------------+-----------------+--------------------+-------------------+\n",
      "| fips|latitude_fips|longitude_fips| cos_latitude_fips| station_id|measured|latitude_station|longitude_station|cos_latitude_station|              angle|\n",
      "+-----+-------------+--------------+------------------+-----------+--------+----------------+-----------------+--------------------+-------------------+\n",
      "|01109|    0.5549912|     -1.499964|0.8499050848915212|GQW00041415|    AWND|       0.2353332|        2.5271688|  0.9724367030704606| 0.1302571691123501|\n",
      "|08107|   0.70657325|    -1.8672876|0.7605910917793964|VQW00011640|    AWND|      0.31997293|       -1.1338828|  0.9492439323158217|0.17312217958096277|\n",
      "|13165|    0.5723731|     -1.430673|0.8406180091627147|GQW00041415|    AWND|       0.2353332|        2.5271688|  0.9724367030704606|0.10449719309773617|\n",
      "|16021|    0.8512517|     -2.033739|0.6590422353506066|VQW00011640|    AWND|      0.31997293|       -1.1338828|  0.9492439323158217|0.14063339196441174|\n",
      "|20077|   0.64905626|    -1.7115849|0.7966545850968502|GQW00041415|    AWND|       0.2353332|        2.5271688|  0.9724367030704606|0.23050423124100347|\n",
      "|22081|   0.56027186|    -1.6292483|0.8471106718676262|GQW00041415|    AWND|       0.2353332|        2.5271688|  0.9724367030704606|0.18705576037599372|\n",
      "|23025|   0.79418844|    -1.2209644|0.7008638786203483|CQC00914855|    AWND|      0.26383618|        2.5432363|  0.9653966637101626|0.13363524401551774|\n",
      "|27163|   0.78606015|    -1.6212384|0.7066385279284122|CQC00914855|    AWND|      0.26383618|        2.5432363|  0.9653966637101626| 0.2182364130664216|\n",
      "|28005|    0.5446114|    -1.5846812| 0.855328686377563|GQW00041415|    AWND|       0.2353332|        2.5271688|  0.9724367030704606| 0.1663508954268876|\n",
      "|30075|   0.79253525|    -1.8422883| 0.702042135731135|VQW00011640|    AWND|      0.31997293|       -1.1338828|  0.9492439323158217|0.18959470955090665|\n",
      "+-----+-------------+--------------+------------------+-----------+--------+----------------+-----------------+--------------------+-------------------+\n",
      "only showing top 10 rows\n",
      "\n",
      "CPU times: user 13.5 ms, sys: 12.6 ms, total: 26.1 ms\n",
      "Wall time: 1min 16s\n"
     ]
    }
   ],
   "source": [
    "%%time\n",
    "df_min_distance.show(10)"
   ]
  },
  {
   "cell_type": "code",
   "execution_count": 78,
   "metadata": {},
   "outputs": [],
   "source": [
    "R_earth = 6371"
   ]
  },
  {
   "cell_type": "code",
   "execution_count": 79,
   "metadata": {},
   "outputs": [],
   "source": [
    "df_min_distance = df_min_distance.withColumn(\"distance\", R_earth * col(\"angle\"))"
   ]
  },
  {
   "cell_type": "code",
   "execution_count": 61,
   "metadata": {},
   "outputs": [
    {
     "name": "stdout",
     "output_type": "stream",
     "text": [
      "+-----+-------------+--------------+------------------+-----------+--------+----------------+-----------------+--------------------+-------------------+------------------+\n",
      "| fips|latitude_fips|longitude_fips| cos_latitude_fips| station_id|measured|latitude_station|longitude_station|cos_latitude_station|              angle|          distance|\n",
      "+-----+-------------+--------------+------------------+-----------+--------+----------------+-----------------+--------------------+-------------------+------------------+\n",
      "|01109|    0.5549912|     -1.499964|0.8499050848915212|GQW00041415|    AWND|       0.2353332|        2.5271688|  0.9724367030704606| 0.1302571691123501| 829.8684244147826|\n",
      "|08107|   0.70657325|    -1.8672876|0.7605910917793964|VQW00011640|    AWND|      0.31997293|       -1.1338828|  0.9492439323158217|0.17312217958096277|1102.9614061103139|\n",
      "|13165|    0.5723731|     -1.430673|0.8406180091627147|GQW00041415|    AWND|       0.2353332|        2.5271688|  0.9724367030704606|0.10449719309773617| 665.7516172256771|\n",
      "|16021|    0.8512517|     -2.033739|0.6590422353506066|VQW00011640|    AWND|      0.31997293|       -1.1338828|  0.9492439323158217|0.14063339196441174| 895.9753402052672|\n",
      "|20077|   0.64905626|    -1.7115849|0.7966545850968502|GQW00041415|    AWND|       0.2353332|        2.5271688|  0.9724367030704606|0.23050423124100347|1468.5424572364332|\n",
      "|22081|   0.56027186|    -1.6292483|0.8471106718676262|GQW00041415|    AWND|       0.2353332|        2.5271688|  0.9724367030704606|0.18705576037599372| 1191.732249355456|\n",
      "|23025|   0.79418844|    -1.2209644|0.7008638786203483|CQC00914855|    AWND|      0.26383618|        2.5432363|  0.9653966637101626|0.13363524401551774| 851.3901396228636|\n",
      "|27163|   0.78606015|    -1.6212384|0.7066385279284122|CQC00914855|    AWND|      0.26383618|        2.5432363|  0.9653966637101626| 0.2182364130664216| 1390.384187646172|\n",
      "|28005|    0.5446114|    -1.5846812| 0.855328686377563|GQW00041415|    AWND|       0.2353332|        2.5271688|  0.9724367030704606| 0.1663508954268876| 1059.821554764701|\n",
      "|30075|   0.79253525|    -1.8422883| 0.702042135731135|VQW00011640|    AWND|      0.31997293|       -1.1338828|  0.9492439323158217|0.18959470955090665|1207.9078945488263|\n",
      "+-----+-------------+--------------+------------------+-----------+--------+----------------+-----------------+--------------------+-------------------+------------------+\n",
      "only showing top 10 rows\n",
      "\n",
      "CPU times: user 21.6 ms, sys: 4.86 ms, total: 26.4 ms\n",
      "Wall time: 1min 17s\n"
     ]
    }
   ],
   "source": [
    "%%time\n",
    "df_min_distance.show(10)"
   ]
  },
  {
   "cell_type": "code",
   "execution_count": 63,
   "metadata": {},
   "outputs": [
    {
     "name": "stdout",
     "output_type": "stream",
     "text": [
      "CPU times: user 52.9 ms, sys: 12.3 ms, total: 65.2 ms\n",
      "Wall time: 1min 48s\n"
     ]
    },
    {
     "data": {
      "text/plain": [
       "12868"
      ]
     },
     "execution_count": 63,
     "metadata": {},
     "output_type": "execute_result"
    }
   ],
   "source": [
    "%%time\n",
    "df_min_distance.count()"
   ]
  },
  {
   "cell_type": "code",
   "execution_count": 80,
   "metadata": {},
   "outputs": [
    {
     "name": "stdout",
     "output_type": "stream",
     "text": [
      "root\n",
      " |-- fips: string (nullable = true)\n",
      " |-- latitude_fips: float (nullable = true)\n",
      " |-- longitude_fips: float (nullable = true)\n",
      " |-- cos_latitude_fips: double (nullable = true)\n",
      " |-- station_id: string (nullable = true)\n",
      " |-- measured: string (nullable = true)\n",
      " |-- latitude_station: float (nullable = true)\n",
      " |-- longitude_station: float (nullable = true)\n",
      " |-- cos_latitude_station: double (nullable = true)\n",
      " |-- angle: double (nullable = true)\n",
      " |-- distance: double (nullable = true)\n",
      "\n"
     ]
    }
   ],
   "source": [
    "df_min_distance.printSchema()"
   ]
  },
  {
   "cell_type": "code",
   "execution_count": 81,
   "metadata": {},
   "outputs": [
    {
     "name": "stdout",
     "output_type": "stream",
     "text": [
      "root\n",
      " |-- fips: string (nullable = true)\n",
      " |-- county: string (nullable = true)\n",
      " |-- latitude: double (nullable = true)\n",
      " |-- longitude: double (nullable = true)\n",
      " |-- state: string (nullable = true)\n",
      "\n"
     ]
    }
   ],
   "source": [
    "df_locations.printSchema()"
   ]
  },
  {
   "cell_type": "code",
   "execution_count": 82,
   "metadata": {},
   "outputs": [
    {
     "name": "stdout",
     "output_type": "stream",
     "text": [
      "root\n",
      " |-- station_id: string (nullable = true)\n",
      " |-- latitude: float (nullable = true)\n",
      " |-- longitude: float (nullable = true)\n",
      " |-- elevation: float (nullable = true)\n",
      " |-- state: string (nullable = true)\n",
      " |-- station_name: string (nullable = true)\n",
      " |-- measured: string (nullable = true)\n",
      "\n"
     ]
    }
   ],
   "source": [
    "df_stations.printSchema()"
   ]
  },
  {
   "cell_type": "code",
   "execution_count": 105,
   "metadata": {},
   "outputs": [],
   "source": [
    "res = df_min_distance.alias(\"d\").join( \n",
    "        df_stations.withColumnRenamed(\"state\", \"station_state\").alias(\"st\"), \n",
    "        \"station_id\" )\\\n",
    "    .join( df_locations.withColumnRenamed(\"state\", \"fips_state\").alias(\"loc\"), [\"fips\"])\\\n",
    "    .select( \"fips\", \"county\", \"fips_state\", \"st.*\",\"angle\", \"distance\")\n"
   ]
  },
  {
   "cell_type": "code",
   "execution_count": 108,
   "metadata": {},
   "outputs": [
    {
     "name": "stdout",
     "output_type": "stream",
     "text": [
      "+-----+--------+--------------+--------+---------+---------+-------------+--------------------+--------+--------------------+------------------+\n",
      "| fips|  county|    fips_state|latitude|longitude|elevation|station_state|        station_name|measured|               angle|          distance|\n",
      "+-----+--------+--------------+--------+---------+---------+-------------+--------------------+--------+--------------------+------------------+\n",
      "|05055|  Greene|      Arkansas| 36.2086| -90.5347|    102.7|           AR|LAFE 1.8 W       ...|    PRCP|7.996087882014496E-4| 5.094307589631435|\n",
      "|04013|Maricopa|       Arizona| 33.4066|-112.4485|    276.1|           AZ|GOODYEAR 5.9 WSW ...|    PRCP|6.499267869547607E-4| 4.140683559688781|\n",
      "|20137|  Norton|        Kansas| 39.8163| -99.8978|    690.7|           KS|NORTON 1.3 SSW   ...|    SNOW| 2.83199104122919E-4|1.8042614923671167|\n",
      "|20137|  Norton|        Kansas| 39.8163| -99.8978|    690.7|           KS|NORTON 1.3 SSW   ...|    PRCP| 2.83199104122919E-4|1.8042614923671167|\n",
      "|20137|  Norton|        Kansas| 39.8163| -99.8978|    690.7|           KS|NORTON 1.3 SSW   ...|    SNOW| 2.83199104122919E-4|1.8042614923671167|\n",
      "|20137|  Norton|        Kansas| 39.8163| -99.8978|    690.7|           KS|NORTON 1.3 SSW   ...|    PRCP| 2.83199104122919E-4|1.8042614923671167|\n",
      "|27039|   Dodge|     Minnesota| 44.0365| -92.9493|    394.4|           MN|CLAREMONT 2.5 ESE...|    PRCP|5.202555004689344E-4| 3.314547793487581|\n",
      "|37043|    Clay|North Carolina|  35.054|  -83.728|    714.1|           NC|HAYESVILLE 5.2 E ...|    PRCP|1.735824494172163...|1.1058937852370854|\n",
      "|47157|  Shelby|     Tennessee| 35.2239| -89.8148|     95.1|           TN|BARTLETT 1.3 ENE ...|    PRCP|6.647080076597002E-4|  4.23485471679995|\n",
      "|48319|   Mason|         Texas| 30.7496|  -99.238|    479.1|           TX|MASON 0.4 W      ...|    PRCP|3.986992521315833E-4|2.5401129353303173|\n",
      "+-----+--------+--------------+--------+---------+---------+-------------+--------------------+--------+--------------------+------------------+\n",
      "only showing top 10 rows\n",
      "\n",
      "CPU times: user 48.4 ms, sys: 12.9 ms, total: 61.3 ms\n",
      "Wall time: 1min 56s\n"
     ]
    }
   ],
   "source": [
    "%%time\n",
    "res.show(10)"
   ]
  },
  {
   "cell_type": "code",
   "execution_count": 106,
   "metadata": {},
   "outputs": [
    {
     "name": "stdout",
     "output_type": "stream",
     "text": [
      "root\n",
      " |-- fips: string (nullable = true)\n",
      " |-- county: string (nullable = true)\n",
      " |-- fips_state: string (nullable = true)\n",
      " |-- latitude: float (nullable = true)\n",
      " |-- longitude: float (nullable = true)\n",
      " |-- elevation: float (nullable = true)\n",
      " |-- station_state: string (nullable = true)\n",
      " |-- station_name: string (nullable = true)\n",
      " |-- measured: string (nullable = true)\n",
      " |-- angle: double (nullable = true)\n",
      " |-- distance: double (nullable = true)\n",
      "\n"
     ]
    }
   ],
   "source": [
    "res.printSchema()"
   ]
  },
  {
   "cell_type": "code",
   "execution_count": null,
   "metadata": {},
   "outputs": [],
   "source": [
    "out_path = os.path.join(project_path, \"OUT_DATA\", \"stations_per_fips\")\n",
    "res.write.partitionBy(\"measured\").format(\"parquet\").save(out_path)"
   ]
  },
  {
   "cell_type": "code",
   "execution_count": null,
   "metadata": {},
   "outputs": [],
   "source": []
  }
 ],
 "metadata": {
  "kernelspec": {
   "display_name": "Python 3",
   "language": "python",
   "name": "python3"
  },
  "language_info": {
   "codemirror_mode": {
    "name": "ipython",
    "version": 3
   },
   "file_extension": ".py",
   "mimetype": "text/x-python",
   "name": "python",
   "nbconvert_exporter": "python",
   "pygments_lexer": "ipython3",
   "version": "3.7.9"
  }
 },
 "nbformat": 4,
 "nbformat_minor": 4
}
