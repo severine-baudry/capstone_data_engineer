{
 "cells": [
  {
   "cell_type": "code",
   "execution_count": 1,
   "metadata": {},
   "outputs": [],
   "source": [
    "import configparser\n",
    "import os\n",
    "import pyspark\n",
    "from pyspark import SparkConf\n",
    "from pyspark.sql import SparkSession\n",
    "import pyspark.sql.functions as F\n",
    "import pyspark.sql.types as T\n",
    "from pyspark.sql.functions import udf, col, lit\n",
    "from pyspark.sql.types import MapType, StringType\n",
    "from collections import OrderedDict\n",
    "import pandas as pd\n"
   ]
  },
  {
   "cell_type": "code",
   "execution_count": 2,
   "metadata": {},
   "outputs": [
    {
     "data": {
      "text/plain": [
       "['capstone.cfg']"
      ]
     },
     "execution_count": 2,
     "metadata": {},
     "output_type": "execute_result"
    }
   ],
   "source": [
    "config = configparser.ConfigParser()\n",
    "config.read(\"capstone.cfg\")"
   ]
  },
  {
   "cell_type": "code",
   "execution_count": 3,
   "metadata": {},
   "outputs": [],
   "source": [
    "os.chdir(config[\"PATH\"][\"project\"])\n",
    "project_path = config[\"PATH\"][\"project\"]"
   ]
  },
  {
   "cell_type": "markdown",
   "metadata": {},
   "source": [
    "Create spark session. Add driver postgress to enable to load from existing postgres DB\n"
   ]
  },
  {
   "cell_type": "code",
   "execution_count": 4,
   "metadata": {},
   "outputs": [],
   "source": [
    "# add driver postgress to enable to load from existing postgres DB\n",
    "spark = SparkSession \\\n",
    "    .builder \\\n",
    "    .appName(\"preprocess_weather\") \\\n",
    "    .config(\"spark.jars\", \"postgresql-42.2.18.jar\")\\\n",
    "    .config( \"spark.driver.extraClassPath\", \"postgresql-42.2.18.jar\")\\\n",
    "    .getOrCreate()"
   ]
  },
  {
   "cell_type": "code",
   "execution_count": 5,
   "metadata": {},
   "outputs": [],
   "source": [
    "path = os.path.join(project_path, \"DATA\", \"WEATHER\", \"2020.csv.gz\")\n",
    "weather = spark.read.csv(path,  \n",
    "                         schema = \"station_id string, date string, measured string, value string, measurement_flag string, quality_flag string, source_flag string, hour string\")"
   ]
  },
  {
   "cell_type": "code",
   "execution_count": 6,
   "metadata": {},
   "outputs": [
    {
     "name": "stdout",
     "output_type": "stream",
     "text": [
      "root\n",
      " |-- station_id: string (nullable = true)\n",
      " |-- date: string (nullable = true)\n",
      " |-- measured: string (nullable = true)\n",
      " |-- value: string (nullable = true)\n",
      " |-- measurement_flag: string (nullable = true)\n",
      " |-- quality_flag: string (nullable = true)\n",
      " |-- source_flag: string (nullable = true)\n",
      " |-- hour: string (nullable = true)\n",
      "\n"
     ]
    }
   ],
   "source": [
    "weather.printSchema()"
   ]
  },
  {
   "cell_type": "code",
   "execution_count": 7,
   "metadata": {},
   "outputs": [
    {
     "name": "stdout",
     "output_type": "stream",
     "text": [
      "+-----------+--------+--------+-----+----------------+------------+-----------+----+\n",
      "| station_id|    date|measured|value|measurement_flag|quality_flag|source_flag|hour|\n",
      "+-----------+--------+--------+-----+----------------+------------+-----------+----+\n",
      "|AE000041196|20200101|    TMIN|  168|            null|        null|          S|null|\n",
      "|AE000041196|20200101|    PRCP|    0|               D|        null|          S|null|\n",
      "|AE000041196|20200101|    TAVG|  211|               H|        null|          S|null|\n",
      "|AEM00041194|20200101|    PRCP|    0|            null|        null|          S|null|\n",
      "|AEM00041194|20200101|    TAVG|  217|               H|        null|          S|null|\n",
      "|AEM00041217|20200101|    TAVG|  205|               H|        null|          S|null|\n",
      "|AEM00041218|20200101|    TMIN|  148|            null|        null|          S|null|\n",
      "|AEM00041218|20200101|    TAVG|  199|               H|        null|          S|null|\n",
      "|AFM00040938|20200101|    PRCP|   23|            null|        null|          S|null|\n",
      "|AFM00040938|20200101|    TAVG|   54|               H|        null|          S|null|\n",
      "+-----------+--------+--------+-----+----------------+------------+-----------+----+\n",
      "only showing top 10 rows\n",
      "\n"
     ]
    }
   ],
   "source": [
    "weather.show(10)"
   ]
  },
  {
   "cell_type": "code",
   "execution_count": 8,
   "metadata": {},
   "outputs": [],
   "source": [
    "# keep only rows with quality_flag = NULL (no quality check failed)\n",
    "weather = weather.filter(weather[\"quality_flag\"].isNull())"
   ]
  },
  {
   "cell_type": "code",
   "execution_count": 9,
   "metadata": {},
   "outputs": [
    {
     "data": {
      "text/plain": [
       "34532211"
      ]
     },
     "execution_count": 9,
     "metadata": {},
     "output_type": "execute_result"
    }
   ],
   "source": [
    "weather.count()"
   ]
  },
  {
   "cell_type": "code",
   "execution_count": 10,
   "metadata": {},
   "outputs": [],
   "source": [
    "# keep only stations in USA and unincorporated territories\n",
    "# AQ : American Samoa\n",
    "# CQ : Northern Mariana Islands\n",
    "# GQ : Guam\n",
    "# RQ : Puerto Rico\n",
    "# VQ : Virgin Islands\n",
    "l_states = [\"US\", \"CQ\", \"GQ\", \"AQ\", \"RQ\", \"VQ\"]\n",
    "from functools import reduce\n",
    "state_in_us = reduce(\n",
    "        lambda x,y : x| y, \n",
    "        [col(\"station_id\").startswith(state) for state in l_states],\n",
    "        lit(False))\n",
    "weather = weather.filter( state_in_us)"
   ]
  },
  {
   "cell_type": "code",
   "execution_count": 11,
   "metadata": {},
   "outputs": [
    {
     "data": {
      "text/plain": [
       "25336215"
      ]
     },
     "execution_count": 11,
     "metadata": {},
     "output_type": "execute_result"
    }
   ],
   "source": [
    "weather.count()"
   ]
  },
  {
   "cell_type": "code",
   "execution_count": 12,
   "metadata": {},
   "outputs": [],
   "source": [
    "# select only measurements of interest (precipitation, temperature, snow, wind)\n",
    "l_measurements = [\"TMIN\", \"PRCP\", \"SNOW\", \"AWND\"]\n",
    "weather = weather.filter(weather[\"measured\"].isin(l_measurements))"
   ]
  },
  {
   "cell_type": "code",
   "execution_count": 13,
   "metadata": {},
   "outputs": [
    {
     "data": {
      "text/plain": [
       "14716418"
      ]
     },
     "execution_count": 13,
     "metadata": {},
     "output_type": "execute_result"
    }
   ],
   "source": [
    "weather.count()\n"
   ]
  },
  {
   "cell_type": "code",
   "execution_count": 14,
   "metadata": {},
   "outputs": [],
   "source": [
    "# group by stations and measurement, then count number of values measured in a year\n",
    "weather_per_stations_per_measurement = weather.groupby(\"station_id\", \"measured\").count()"
   ]
  },
  {
   "cell_type": "code",
   "execution_count": 15,
   "metadata": {},
   "outputs": [
    {
     "data": {
      "text/plain": [
       "58620"
      ]
     },
     "execution_count": 15,
     "metadata": {},
     "output_type": "execute_result"
    }
   ],
   "source": [
    "weather_per_stations_per_measurement.count()"
   ]
  },
  {
   "cell_type": "code",
   "execution_count": 16,
   "metadata": {},
   "outputs": [
    {
     "name": "stdout",
     "output_type": "stream",
     "text": [
      "+-----------+--------+-----+\n",
      "| station_id|measured|count|\n",
      "+-----------+--------+-----+\n",
      "|US1ALBW0001|    SNOW|   24|\n",
      "|US1ALMB0001|    PRCP|  365|\n",
      "|US1AZPM0138|    SNOW|  302|\n",
      "|US1AZPM0156|    PRCP|  366|\n",
      "|US1CASD0060|    PRCP|  267|\n",
      "|US1CASD0186|    PRCP|  204|\n",
      "|US1CASR0034|    PRCP|  314|\n",
      "|US1COBO0477|    PRCP|  338|\n",
      "|US1CODG0229|    SNOW|   99|\n",
      "|US1CODN0016|    PRCP|  364|\n",
      "+-----------+--------+-----+\n",
      "only showing top 10 rows\n",
      "\n"
     ]
    }
   ],
   "source": [
    "weather_per_stations_per_measurement.show(10)"
   ]
  },
  {
   "cell_type": "code",
   "execution_count": 17,
   "metadata": {},
   "outputs": [],
   "source": [
    "min_nb_days = 350\n",
    "weather_per_stations_per_measurement = weather_per_stations_per_measurement.filter(weather_per_stations_per_measurement[\"count\"] > min_nb_days)"
   ]
  },
  {
   "cell_type": "code",
   "execution_count": 18,
   "metadata": {},
   "outputs": [
    {
     "data": {
      "text/plain": [
       "23556"
      ]
     },
     "execution_count": 18,
     "metadata": {},
     "output_type": "execute_result"
    }
   ],
   "source": [
    "weather_per_stations_per_measurement.count()"
   ]
  },
  {
   "cell_type": "code",
   "execution_count": 19,
   "metadata": {},
   "outputs": [
    {
     "data": {
      "text/plain": [
       "14017"
      ]
     },
     "execution_count": 19,
     "metadata": {},
     "output_type": "execute_result"
    }
   ],
   "source": [
    "significant_stations = weather_per_stations_per_measurement.select(\"station_id\").distinct()\n",
    "significant_stations.count()"
   ]
  },
  {
   "cell_type": "code",
   "execution_count": 20,
   "metadata": {},
   "outputs": [
    {
     "name": "stdout",
     "output_type": "stream",
     "text": [
      "root\n",
      " |-- station_id: string (nullable = true)\n",
      " |-- measured: string (nullable = true)\n",
      " |-- count: long (nullable = false)\n",
      "\n"
     ]
    }
   ],
   "source": [
    "weather_per_stations_per_measurement.printSchema()"
   ]
  },
  {
   "cell_type": "code",
   "execution_count": 21,
   "metadata": {},
   "outputs": [],
   "source": [
    "# output : list of relevant stations per element\n",
    "out_path = os.path.join(project_path, \"OUT_DATA\", \"filtered_stations\")\n",
    "weather_per_stations_per_measurement.select(\"measured\", \"station_id\")\\\n",
    "    .write.partitionBy(\"measured\").format(\"parquet\").save(out_path)"
   ]
  }
 ],
 "metadata": {
  "kernelspec": {
   "display_name": "Python 3",
   "language": "python",
   "name": "python3"
  },
  "language_info": {
   "codemirror_mode": {
    "name": "ipython",
    "version": 3
   },
   "file_extension": ".py",
   "mimetype": "text/x-python",
   "name": "python",
   "nbconvert_exporter": "python",
   "pygments_lexer": "ipython3",
   "version": "3.7.9"
  }
 },
 "nbformat": 4,
 "nbformat_minor": 4
}
