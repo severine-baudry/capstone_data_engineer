{
 "cells": [
  {
   "cell_type": "markdown",
   "metadata": {},
   "source": [
    "Load covid cases per population group from CDC (https://data.cdc.gov/Case-Surveillance/COVID-19-Case-Surveillance-Public-Use-Data/vbim-akqf)\n",
    "The data list all individual cases (deidentified), with information on sex, age group, race and identity, and date of case, plus some additional information (hospitalisation, intensive care, death ...).\n",
    "As the dataset is huge (20.6 Mrows at mid-march), and since their are many identical rows (because of deidentification), we query the data through the api, grouped by the categories we're interested in. Thus, the downloaded dataset remains relatively small."
   ]
  },
  {
   "cell_type": "code",
   "execution_count": 1,
   "metadata": {},
   "outputs": [
    {
     "name": "stdout",
     "output_type": "stream",
     "text": [
      "Requirement already satisfied: sodapy in /home/user/anaconda3/envs/airflow/lib/python3.7/site-packages (2.1.0)\n",
      "Requirement already satisfied: requests>=2.20.0 in /home/user/anaconda3/envs/airflow/lib/python3.7/site-packages (from sodapy) (2.25.1)\n",
      "Requirement already satisfied: urllib3<1.27,>=1.21.1 in /home/user/anaconda3/envs/airflow/lib/python3.7/site-packages (from requests>=2.20.0->sodapy) (1.25.11)\n",
      "Requirement already satisfied: chardet<5,>=3.0.2 in /home/user/anaconda3/envs/airflow/lib/python3.7/site-packages (from requests>=2.20.0->sodapy) (3.0.4)\n",
      "Requirement already satisfied: certifi>=2017.4.17 in /home/user/anaconda3/envs/airflow/lib/python3.7/site-packages (from requests>=2.20.0->sodapy) (2020.12.5)\n",
      "Requirement already satisfied: idna<3,>=2.5 in /home/user/anaconda3/envs/airflow/lib/python3.7/site-packages (from requests>=2.20.0->sodapy) (2.10)\n",
      "\u001b[33mWARNING: You are using pip version 20.2.4; however, version 21.1.1 is available.\n",
      "You should consider upgrading via the '/home/user/anaconda3/envs/airflow/bin/python -m pip install --upgrade pip' command.\u001b[0m\n"
     ]
    }
   ],
   "source": [
    "#!pip install sodapy"
   ]
  },
  {
   "cell_type": "code",
   "execution_count": 1,
   "metadata": {},
   "outputs": [],
   "source": [
    "import pandas as pd\n",
    "from sodapy import Socrata\n",
    "import configparser\n",
    "import json\n",
    "import os\n",
    "from datetime import datetime"
   ]
  },
  {
   "cell_type": "markdown",
   "metadata": {},
   "source": [
    "Without an application token, the size of the downloaded data is limited (see https://dev.socrata.com/docs/app-tokens.html). \n",
    "\n",
    "CDC uses the [Socrata Open Data API](https://dev.socrata.com/) to manage access to its data. To increase download capabilities, you have to create an AppToken.\n",
    "\n",
    "First, [create a Socrata account](https://data.cdc.gov/signup). \n",
    "\n",
    "Then, [sign in](https://data.cdc.gov/login) to Socrata, using the Socrata ID field. Go to 'My Profile', then 'Edit profile', then tab 'Developer settings' (https://data.cdc.gov/profile/edit/developer_settings). Create an AppToken by following [this guide](https://support.socrata.com/hc/en-us/articles/210138558-Generating-an-App-Token).\n",
    "\n",
    "Then store the AppToken into the config file `capstone.cfg` :\n",
    "```\n",
    "[CDC]\n",
    "APPTOKEN=<MyAppToken>\n",
    "```\n"
   ]
  },
  {
   "cell_type": "markdown",
   "metadata": {},
   "source": [
    "## Connect to cdc data server"
   ]
  },
  {
   "cell_type": "code",
   "execution_count": 2,
   "metadata": {},
   "outputs": [
    {
     "data": {
      "text/plain": [
       "['capstone.cfg']"
      ]
     },
     "execution_count": 2,
     "metadata": {},
     "output_type": "execute_result"
    }
   ],
   "source": [
    "config = configparser.ConfigParser()\n",
    "config.read(\"capstone.cfg\")\n",
    "local_data_dir = config[\"PATH\"][\"LOCAL_DATA_DIR\"]"
   ]
  },
  {
   "cell_type": "code",
   "execution_count": 3,
   "metadata": {},
   "outputs": [],
   "source": [
    "# Connect to CDC using AppToken for Socrata API\n",
    "# set timeout to 100, since the query of such large dataset may take longer time tat default timeout\n",
    "app_token = config[\"CDC\"][\"APPTOKEN\"]\n",
    "client = Socrata(\"data.cdc.gov\",\n",
    "                 app_token,\n",
    "                timeout = 100)"
   ]
  },
  {
   "cell_type": "code",
   "execution_count": 4,
   "metadata": {},
   "outputs": [],
   "source": [
    "# identifier of CDC dataset with covid case surveillance (https://data.cdc.gov/Case-Surveillance/COVID-19-Case-Surveillance-Public-Use-Data/vbim-akqf)\n",
    "cdc_dataset_identifier = \"vbim-akqf\""
   ]
  },
  {
   "cell_type": "markdown",
   "metadata": {},
   "source": [
    "Column names of the data set. We will use only sex, age, ethnicity and date."
   ]
  },
  {
   "cell_type": "code",
   "execution_count": 5,
   "metadata": {},
   "outputs": [
    {
     "data": {
      "text/plain": [
       "['cdc_case_earliest_dt ',\n",
       " 'cdc_report_dt',\n",
       " 'pos_spec_dt',\n",
       " 'onset_dt',\n",
       " 'current_status',\n",
       " 'sex',\n",
       " 'age_group',\n",
       " 'race_ethnicity_combined',\n",
       " 'hosp_yn',\n",
       " 'icu_yn',\n",
       " 'death_yn',\n",
       " 'medcond_yn']"
      ]
     },
     "execution_count": 5,
     "metadata": {},
     "output_type": "execute_result"
    }
   ],
   "source": [
    "metadata = client.get_metadata(cdc_dataset_identifier)\n",
    "[x['name'] for x in metadata['columns']]"
   ]
  },
  {
   "cell_type": "markdown",
   "metadata": {},
   "source": [
    "documentation about Socrata API is available [here](https://dev.socrata.com/docs/queries/). Some exemple uses of the python client library  [sodapy](https://github.com/xmunoz/sodapy) can be found [here](https://github.com/xmunoz/sodapy/blob/master/examples/soql_queries.ipynb)"
   ]
  },
  {
   "cell_type": "markdown",
   "metadata": {},
   "source": [
    "## Download data : cases per date, sex, age and race"
   ]
  },
  {
   "cell_type": "code",
   "execution_count": 9,
   "metadata": {},
   "outputs": [],
   "source": [
    "# by default, max number of records returned is 1000. We have to set it to 200000 to get the full results\n",
    "res_sex_age_race_date = client.get(cdc_dataset_identifier, \n",
    "                     group = \"cdc_case_earliest_dt, sex, age_group, race_ethnicity_combined\",\n",
    "                     select = \"cdc_case_earliest_dt, sex, age_group, race_ethnicity_combined, count(*)\",\n",
    "                                  limit = 200000)"
   ]
  },
  {
   "cell_type": "code",
   "execution_count": 51,
   "metadata": {},
   "outputs": [
    {
     "name": "stdout",
     "output_type": "stream",
     "text": [
      "103590\n"
     ]
    },
    {
     "data": {
      "text/plain": [
       "24441351"
      ]
     },
     "execution_count": 51,
     "metadata": {},
     "output_type": "execute_result"
    }
   ],
   "source": [
    "# number of different groups, and corresponding total number of rows (must match the total number of rows of the whole file)\n",
    "nb_rows = len(res_sex_age_race_date)\n",
    "total_cases = sum( [ int(row[\"count\"]) for row in res_sex_age_race_date])\n",
    "print( f\"nb rows : {nb_rows}\")\n",
    "print( f\"total cases : {total_cases}\")"
   ]
  },
  {
   "cell_type": "code",
   "execution_count": 10,
   "metadata": {},
   "outputs": [],
   "source": [
    "# output it to json for further use\n",
    "with open(os.path.join(local_data_dir, \"covid_by_pop_group.json\"), \"w\") as fs :\n",
    "    json.dump(res_sex_age_race_date, fs, indent = 2)"
   ]
  },
  {
   "cell_type": "markdown",
   "metadata": {},
   "source": [
    "## Death status per sex, age, race and ethnicity"
   ]
  },
  {
   "cell_type": "code",
   "execution_count": 28,
   "metadata": {},
   "outputs": [],
   "source": [
    "res_sex_age_ethnicity_death =client.get(cdc_dataset_identifier, \n",
    "                     group = \"sex, age_group, race_ethnicity_combined, death_yn\",\n",
    "                     select = \"sex, age_group, race_ethnicity_combined, death_yn, count(*)\",\n",
    "                                  limit = 200000)"
   ]
  },
  {
   "cell_type": "code",
   "execution_count": 29,
   "metadata": {},
   "outputs": [
    {
     "name": "stdout",
     "output_type": "stream",
     "text": [
      "1327\n"
     ]
    },
    {
     "data": {
      "text/plain": [
       "22507139"
      ]
     },
     "execution_count": 29,
     "metadata": {},
     "output_type": "execute_result"
    }
   ],
   "source": [
    "nb_rows = len(res_sex_age_ethnicity_death)\n",
    "total_deaths = sum( [ int(row[\"count\"]) for row in res_sex_age_ethnicity_death])\n",
    "print( f\"nb rows : {nb_rows}\")\n",
    "print( f\"total deaths : {total_deaths}\")"
   ]
  },
  {
   "cell_type": "code",
   "execution_count": 10,
   "metadata": {},
   "outputs": [],
   "source": [
    "with open(os.path.join(local_data_dir, \"covid_death_by_pop_group.json\"), \"w\") as fs :\n",
    "    json.dump(res_sex_age_ethnicity_death, fs)\n",
    "    "
   ]
  },
  {
   "cell_type": "code",
   "execution_count": null,
   "metadata": {},
   "outputs": [],
   "source": []
  }
 ],
 "metadata": {
  "kernelspec": {
   "display_name": "Python 3",
   "language": "python",
   "name": "python3"
  },
  "language_info": {
   "codemirror_mode": {
    "name": "ipython",
    "version": 3
   },
   "file_extension": ".py",
   "mimetype": "text/x-python",
   "name": "python",
   "nbconvert_exporter": "python",
   "pygments_lexer": "ipython3",
   "version": "3.7.9"
  },
  "toc": {
   "base_numbering": 1,
   "nav_menu": {},
   "number_sections": true,
   "sideBar": true,
   "skip_h1_title": false,
   "title_cell": "Table of Contents",
   "title_sidebar": "Contents",
   "toc_cell": false,
   "toc_position": {},
   "toc_section_display": true,
   "toc_window_display": false
  },
  "varInspector": {
   "cols": {
    "lenName": 16,
    "lenType": 16,
    "lenVar": 40
   },
   "kernels_config": {
    "python": {
     "delete_cmd_postfix": "",
     "delete_cmd_prefix": "del ",
     "library": "var_list.py",
     "varRefreshCmd": "print(var_dic_list())"
    },
    "r": {
     "delete_cmd_postfix": ") ",
     "delete_cmd_prefix": "rm(",
     "library": "var_list.r",
     "varRefreshCmd": "cat(var_dic_list()) "
    }
   },
   "types_to_exclude": [
    "module",
    "function",
    "builtin_function_or_method",
    "instance",
    "_Feature"
   ],
   "window_display": false
  }
 },
 "nbformat": 4,
 "nbformat_minor": 4
}
