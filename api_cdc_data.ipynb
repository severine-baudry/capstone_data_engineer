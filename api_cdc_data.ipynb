{
 "cells": [
  {
   "cell_type": "code",
   "execution_count": 68,
   "metadata": {},
   "outputs": [],
   "source": [
    "import pandas as pd\n",
    "from sodapy import Socrata\n",
    "import configparser\n",
    "import json\n",
    "import os"
   ]
  },
  {
   "cell_type": "code",
   "execution_count": 27,
   "metadata": {},
   "outputs": [
    {
     "data": {
      "text/plain": [
       "['capstone.cfg']"
      ]
     },
     "execution_count": 27,
     "metadata": {},
     "output_type": "execute_result"
    }
   ],
   "source": [
    "config = configparser.ConfigParser()\n",
    "config.read(\"capstone.cfg\")"
   ]
  },
  {
   "cell_type": "code",
   "execution_count": 28,
   "metadata": {},
   "outputs": [],
   "source": [
    "app_token = config[\"CDC\"][\"APPTOKEN\"]"
   ]
  },
  {
   "cell_type": "code",
   "execution_count": 29,
   "metadata": {},
   "outputs": [],
   "source": [
    "client = Socrata(\"data.cdc.gov\",\n",
    "                 app_token)\n"
   ]
  },
  {
   "cell_type": "code",
   "execution_count": 30,
   "metadata": {},
   "outputs": [],
   "source": [
    "\n",
    "results = client.get(\"vbim-akqf\",\n",
    "                    limit = 10000)\n"
   ]
  },
  {
   "cell_type": "code",
   "execution_count": 31,
   "metadata": {},
   "outputs": [],
   "source": [
    "case_surveillance = pd.DataFrame.from_records(results)"
   ]
  },
  {
   "cell_type": "code",
   "execution_count": 32,
   "metadata": {},
   "outputs": [
    {
     "name": "stdout",
     "output_type": "stream",
     "text": [
      "<class 'pandas.core.frame.DataFrame'>\n",
      "RangeIndex: 10000 entries, 0 to 9999\n",
      "Data columns (total 12 columns):\n",
      " #   Column                   Non-Null Count  Dtype \n",
      "---  ------                   --------------  ----- \n",
      " 0   cdc_case_earliest_dt     10000 non-null  object\n",
      " 1   cdc_report_dt            10000 non-null  object\n",
      " 2   pos_spec_dt              10000 non-null  object\n",
      " 3   current_status           10000 non-null  object\n",
      " 4   sex                      10000 non-null  object\n",
      " 5   age_group                10000 non-null  object\n",
      " 6   race_ethnicity_combined  10000 non-null  object\n",
      " 7   hosp_yn                  10000 non-null  object\n",
      " 8   icu_yn                   10000 non-null  object\n",
      " 9   death_yn                 10000 non-null  object\n",
      " 10  medcond_yn               10000 non-null  object\n",
      " 11  onset_dt                 3720 non-null   object\n",
      "dtypes: object(12)\n",
      "memory usage: 937.6+ KB\n"
     ]
    }
   ],
   "source": [
    "case_surveillance.info()"
   ]
  },
  {
   "cell_type": "code",
   "execution_count": 34,
   "metadata": {},
   "outputs": [
    {
     "data": {
      "text/plain": [
       "{'id': 'vbim-akqf',\n",
       " 'name': 'COVID-19 Case Surveillance Public Use Data',\n",
       " 'assetType': 'dataset',\n",
       " 'attribution': 'CDC Case Surveillance Task Force',\n",
       " 'attributionLink': 'https://www.cdc.gov/coronavirus/2019-ncov/cases-updates/index.html',\n",
       " 'averageRating': 0,\n",
       " 'category': 'Case Surveillance',\n",
       " 'createdAt': 1589578317,\n",
       " 'description': 'Currently, CDC provides the public with COVID-19 case surveillance data in two ways: an 12 data element public use dataset of the line-listed dataset of all COVID-19 cases shared with CDC and a 32 data element <a href=\"https://data.cdc.gov/Case-Surveillance/COVID-19-Case-Surveillance-Restricted-Access-Detai/mbd7-r32t\">restricted access dataset</a> of the line-listed dataset of all COVID-19 cases shared with CDC.\\n\\nThe following are true for both the public use dataset and the restricted access dataset:\\n\\n- Data elements can be found on the COVID-19 case report form located at <a href=\"https://www.cdc.gov/coronavirus/2019-ncov/downloads/pui-form.pdf\">https://www.cdc.gov/coronavirus/2019-ncov/downloads/pui-form.pdf</a>.\\n\\n- Data are considered provisional by CDC and are subject to change until the data are reconciled and verified with the state and territorial data providers.\\n\\n- Data are suppressed to protect individual privacy.\\n\\n- The datasets include all cases with an initial report date of case to CDC at least 14 days prior to the creation of the previously updated datasets. This 14-day lag will allow case reporting to be stabilized and ensure that time-dependent outcome data are accurately captured.\\n\\n- Datasets are updated monthly. \\n\\n- Both datasets are created using CDC’s operational Policy on Public Health Research and Nonresearch Data Management and Access and include protections designed to protect individual privacy.\\n\\n- For more information about data collection and reporting, please see <a href=\"https://wwwn.cdc.gov/nndss/data-collection.html\">https://wwwn.cdc.gov/nndss/data-collection.html</a>\\n\\n- For more information about the COVID-19 case surveillance data, please see <a href=\"https://www.cdc.gov/coronavirus/2019-ncov/covid-data/faq-surveillance.html\">https://www.cdc.gov/coronavirus/2019-ncov/covid-data/faq-surveillance.html</a>\\n\\nOverview\\n\\nThe COVID-19 case surveillance system database includes individual-level data reported to U.S. states and autonomous reporting entities, including New York City and the District of Columbia (D.C.), as well as U.S. territories and states. On April 5, 2020, COVID-19 was added to the Nationally Notifiable Condition List and classified as “immediately notifiable, urgent (within 24 hours)” by a Council of State and Territorial Epidemiologists (CSTE) Interim Position Statement (Interim-20-ID-01). CSTE updated the position statement on August 5, 2020 to clarify the interpretation of antigen detection tests and serologic test results within the case classification. The statement also recommended that all states and territories enact laws to make COVID-19 reportable in their jurisdiction, and that jurisdictions conducting surveillance should submit case notifications to CDC. COVID-19 case surveillance data are collected by jurisdictions and shared voluntarily with CDC. \\n\\nFor more information:\\n\\n<a href=\"https://wwwn.cdc.gov/nndss/conditions/coronavirus-disease-2019-covid-19/case-definition/2020/08/05/\">https://wwwn.cdc.gov/nndss/conditions/coronavirus-disease-2019-covid-19/case-definition/2020/08/05/</a> \\n\\nThe deidentified data in the public use dataset include demographic characteristics, exposure history, disease severity indicators and outcomes, clinical data, laboratory diagnostic test results, and comorbidities. All data elements can be found on the COVID-19 case report form located at <a href=\"https://www.cdc.gov/coronavirus/2019-ncov/downloads/pui-form.pdf\">https://www.cdc.gov/coronavirus/2019-ncov/downloads/pui-form.pdf</a>.\\n\\nThe Case Surveillance Task Force and Surveillance Review and Response Group (SRRG) within CDC’s COVID-19 Response provide stewardship for datasets that support the public’s access to COVID-19 data while protecting individual privacy.\\n\\nCOVID-19 Case Reports \\n\\nCOVID-19 case reports have been routinely submitted using standardized case reporting forms. On April 5, 2020, CSTE released an Interim Position Statement with national surveillance case definitions for COVID-19 included. Current versions of these case definitions are available here: <a href=\"https://wwwn.cdc.gov/nndss/conditions/coronavirus-disease-2019-covid-19/\">https://wwwn.cdc.gov/nndss/conditions/coronavirus-disease-2019-covid-19/</a>. \\nAll cases reported on or after were requested to be shared by public health departments to CDC using the standardized case definitions for lab-confirmed or probable cases. On May 5, 2020, the standardized case reporting form was revised. Implementation of case reporting using this new form is ongoing among U.S. states and territories.\\n\\nData are Considered Provisional\\n\\n- The COVID-19 case surveillance data are dynamic; case reports can be modified at any time by the jurisdictions sharing COVID-19 data with CDC.\\n\\n- CDC may update prior cases shared with CDC based on any updated information from jurisdictions.\\n\\n- National case surveillance data are constantly changing. For instance, as new information is gathered about previously reported cases, health departments provide updated data to CDC. As more information and data become available, analyses might find changes in surveillance data and trends during a previously reported time window. Data may also be shared late with CDC due to the volume of COVID-19 cases.\\n\\n- Annual finalized data: To create the final NNDSS data used in the annual tables, CDC works carefully with the reporting jurisdictions to reconcile the data received during the year until each state or territorial epidemiologist confirms that the data from their area are correct.\\n\\nData Limitations \\n\\nTo learn more about the limitations in using case surveillance data, visit <a href=\"https://www.cdc.gov/coronavirus/2019-ncov/covid-data/faq-surveillance.html\">FAQ: COVID-19 Data and Surveillance</a>.\\n\\nData Quality Assurance Procedures\\n\\nCDC’s Case Surveillance Section routinely performs data quality assurance procedures (i.e., ongoing corrections and logic checks to address data errors). To date, the following data cleaning steps have been implemented:\\n\\n- Questions that have been left unanswered (blank) on the case report form are re-classified to a Missing value, if applicable to the question. For example, in the question “Was the individual hospitalized?,” where the possible answer choices include “Yes,” “No,” or “Unknown,” the missing value is re-coded to Missing if the respondent did not answer the question.\\n\\n- Logic checks are performed for date data. If an illogical date has been provided, CDC reviews the data with the reporting jurisdiction. For example, if a symptom onset date that is in the future is reported to CDC, this value is set to null until the reporting jurisdiction updates this information appropriately.\\n\\n- The initial report date of the case to CDC is intended to be completed by the reporting jurisdiction when data are submitted. If blank, this variable is completed using the date the data file was first submitted to CDC.\\n\\n- Additional data quality processing to recode free text data are ongoing. Data on symptoms, race and ethnicity, and healthcare worker status have been prioritized.\\n\\nData Suppression for the 12 data element dataset\\n\\n To prevent release of data that could be used to identify people, data cells are suppressed for low frequency (<5) records and indirect identifiers (date of first positive specimen). Suppression includes uncommon combinations of demographic characteristics (sex, age group, race/ethnicity). Suppressed values are re-coded to the NA answer option.\\n\\nRestricted Access Dataset\\n\\nA restricted access, detailed version of the line-listed dataset of all COVID-19 cases shared with CDC is available for public use. The restricted access dataset includes 31 data elements, including state of residence and county of residence, with data suppression to ensure protection of individuals’ privacy. This dataset may be most suitable for researchers and others with specific analytic questions. \\n\\nFor more information on the restricted access dataset including the data elements, registration information, and data use restrictions, please see LINK TO THE DOCUMENTS For questions, please contact ASK SRRG (<a href=\"mailto:eocevent394@cdc.gov\">eocevent394@cdc.gov</a>).\\n\\nAdditional COVID-19 Data\\n\\nCOVID-19 data are available to the public as summary or aggregate count files, including total counts of cases and deaths by state and by county. These and other data on COVID-19 are available from multiple public locations: <br/><a href=\"https://www.cdc.gov/coronavirus/2019-ncov/cases-updates/cases-in-us.html\">https://www.cdc.gov/coronavirus/2019-ncov/cases-updates/cases-in-us.html</a>\\n<br/><a href=\"https://www.cdc.gov/covid-data-tracker/index.html\">https://www.cdc.gov/covid-data-tracker/index.html</a>\\n <br/><a href=\"https://www.cdc.gov/coronavirus/2019-ncov/covid-data/covidview/index.html\">https://www.cdc.gov/coronavirus/2019-ncov/covid-data/covidview/index.html</a>\\n <br/><a href=\"https://www.cdc.gov/coronavirus/2019-ncov/php/open-america/surveillance-data-analytics.html\">https://www.cdc.gov/coronavirus/2019-ncov/php/open-america/surveillance-data-analytics.html</a>',\n",
       " 'displayType': 'table',\n",
       " 'downloadCount': 35599,\n",
       " 'hideFromCatalog': False,\n",
       " 'hideFromDataJson': False,\n",
       " 'licenseId': 'USGOV_WORKS',\n",
       " 'newBackend': True,\n",
       " 'numberOfComments': 0,\n",
       " 'oid': 36107724,\n",
       " 'provenance': 'official',\n",
       " 'publicationAppendEnabled': False,\n",
       " 'publicationDate': 1609432632,\n",
       " 'publicationGroup': 17124972,\n",
       " 'publicationStage': 'published',\n",
       " 'rowsUpdatedAt': 1614533339,\n",
       " 'rowsUpdatedBy': 'afdw-2ibf',\n",
       " 'tableId': 17902295,\n",
       " 'totalTimesRated': 0,\n",
       " 'viewCount': 739466,\n",
       " 'viewLastModified': 1615994315,\n",
       " 'viewType': 'tabular',\n",
       " 'approvals': [{'reviewedAt': 1589921654,\n",
       "   'reviewedAutomatically': True,\n",
       "   'state': 'approved',\n",
       "   'submissionId': 3079081,\n",
       "   'submissionObject': 'public_audience_request',\n",
       "   'submissionOutcome': 'change_audience',\n",
       "   'submittedAt': 1589921654,\n",
       "   'workflowId': 2100,\n",
       "   'submissionDetails': {'permissionType': 'READ'},\n",
       "   'submissionOutcomeApplication': {'endedAt': 1589921654,\n",
       "    'failureCount': 0,\n",
       "    'startedAt': 1589921654,\n",
       "    'status': 'success'},\n",
       "   'submitter': {'id': 'aa26-iwd8',\n",
       "    'displayName': 'Data.CDC.gov Administrator'}}],\n",
       " 'columns': [{'id': 516898157,\n",
       "   'name': 'cdc_case_earliest_dt ',\n",
       "   'dataTypeName': 'calendar_date',\n",
       "   'description': 'Calculated date--the earliest available date for the record, taken from either the available set of clinical dates (date related to the illness or specimen collection) or the calculated date representing initial date case was received by CDC.  This variable is optimized for completeness and may change for a given record from time to time as new information is submitted about a case.',\n",
       "   'fieldName': 'cdc_case_earliest_dt',\n",
       "   'position': 1,\n",
       "   'renderTypeName': 'calendar_date',\n",
       "   'tableColumnId': 126640579,\n",
       "   'cachedContents': {'non_null': '20565345',\n",
       "    'largest': '2021-02-13T00:00:00.000',\n",
       "    'null': '0',\n",
       "    'top': [{'item': '2020-12-31T00:00:00.000', 'count': '277049'},\n",
       "     {'item': '2020-12-08T00:00:00.000', 'count': '253679'},\n",
       "     {'item': '2021-01-04T00:00:00.000', 'count': '201617'},\n",
       "     {'item': '2021-01-06T00:00:00.000', 'count': '197247'},\n",
       "     {'item': '2020-12-30T00:00:00.000', 'count': '195229'},\n",
       "     {'item': '2021-01-05T00:00:00.000', 'count': '193984'},\n",
       "     {'item': '2020-12-29T00:00:00.000', 'count': '192138'},\n",
       "     {'item': '2020-12-28T00:00:00.000', 'count': '190275'},\n",
       "     {'item': '2020-11-24T00:00:00.000', 'count': '188843'},\n",
       "     {'item': '2021-01-08T00:00:00.000', 'count': '186161'},\n",
       "     {'item': '2020-12-01T00:00:00.000', 'count': '184178'},\n",
       "     {'item': '2021-01-07T00:00:00.000', 'count': '172812'},\n",
       "     {'item': '2020-11-30T00:00:00.000', 'count': '172069'},\n",
       "     {'item': '2020-12-07T00:00:00.000', 'count': '170119'},\n",
       "     {'item': '2020-12-14T00:00:00.000', 'count': '169409'},\n",
       "     {'item': '2020-12-09T00:00:00.000', 'count': '163670'},\n",
       "     {'item': '2021-01-11T00:00:00.000', 'count': '161930'},\n",
       "     {'item': '2020-12-15T00:00:00.000', 'count': '161913'},\n",
       "     {'item': '2020-12-22T00:00:00.000', 'count': '160042'},\n",
       "     {'item': '2020-12-11T00:00:00.000', 'count': '159611'}],\n",
       "    'smallest': '2020-01-01T00:00:00.000',\n",
       "    'cardinality': '410'},\n",
       "   'format': {'view': 'date_ymd'}},\n",
       "  {'id': 516898146,\n",
       "   'name': 'cdc_report_dt',\n",
       "   'dataTypeName': 'calendar_date',\n",
       "   'description': 'Calculated date representing initial date case was reported to CDC.  Depreciated;  CDC recommends researchers use cdc_case_earliest_dt in time series and other time-based analyses.',\n",
       "   'fieldName': 'cdc_report_dt',\n",
       "   'position': 2,\n",
       "   'renderTypeName': 'calendar_date',\n",
       "   'tableColumnId': 102155697,\n",
       "   'cachedContents': {'non_null': '18233264',\n",
       "    'largest': '2021-02-27T00:00:00.000',\n",
       "    'null': '2332081',\n",
       "    'top': [{'item': '2020-12-31T00:00:00.000', 'count': '256387'},\n",
       "     {'item': '2020-12-08T00:00:00.000', 'count': '230069'},\n",
       "     {'item': '2020-11-24T00:00:00.000', 'count': '190977'},\n",
       "     {'item': '2021-01-06T00:00:00.000', 'count': '186451'},\n",
       "     {'item': '2020-12-22T00:00:00.000', 'count': '175668'},\n",
       "     {'item': '2021-01-19T00:00:00.000', 'count': '170674'},\n",
       "     {'item': '2021-01-08T00:00:00.000', 'count': '164771'},\n",
       "     {'item': '2021-01-29T00:00:00.000', 'count': '161666'},\n",
       "     {'item': '2021-01-21T00:00:00.000', 'count': '158762'},\n",
       "     {'item': '2020-06-24T00:00:00.000', 'count': '155311'},\n",
       "     {'item': '2021-01-05T00:00:00.000', 'count': '154096'},\n",
       "     {'item': '2020-12-30T00:00:00.000', 'count': '152859'},\n",
       "     {'item': '2020-12-01T00:00:00.000', 'count': '152078'},\n",
       "     {'item': '2021-01-11T00:00:00.000', 'count': '151876'},\n",
       "     {'item': '2021-01-27T00:00:00.000', 'count': '146793'},\n",
       "     {'item': '2021-01-07T00:00:00.000', 'count': '144686'},\n",
       "     {'item': '2021-01-26T00:00:00.000', 'count': '144177'},\n",
       "     {'item': '2021-01-22T00:00:00.000', 'count': '139224'},\n",
       "     {'item': '2020-06-10T00:00:00.000', 'count': '138973'},\n",
       "     {'item': '2021-01-15T00:00:00.000', 'count': '137497'}],\n",
       "    'smallest': '2020-01-01T00:00:00.000',\n",
       "    'cardinality': '424'},\n",
       "   'format': {'view': 'date_ymd'}},\n",
       "  {'id': 516898147,\n",
       "   'name': 'pos_spec_dt',\n",
       "   'dataTypeName': 'calendar_date',\n",
       "   'description': 'Date of first positive specimen collection',\n",
       "   'fieldName': 'pos_spec_dt',\n",
       "   'position': 3,\n",
       "   'renderTypeName': 'calendar_date',\n",
       "   'tableColumnId': 102155690,\n",
       "   'cachedContents': {'non_null': '5933794',\n",
       "    'largest': '2021-02-26T00:00:00.000',\n",
       "    'null': '14631551',\n",
       "    'top': [{'item': '2021-01-04T00:00:00.000', 'count': '70590'},\n",
       "     {'item': '2020-11-30T00:00:00.000', 'count': '66067'},\n",
       "     {'item': '2020-12-28T00:00:00.000', 'count': '63146'},\n",
       "     {'item': '2021-01-05T00:00:00.000', 'count': '59763'},\n",
       "     {'item': '2020-12-07T00:00:00.000', 'count': '59003'},\n",
       "     {'item': '2020-12-29T00:00:00.000', 'count': '56863'},\n",
       "     {'item': '2020-12-14T00:00:00.000', 'count': '56427'},\n",
       "     {'item': '2020-11-23T00:00:00.000', 'count': '55997'},\n",
       "     {'item': '2020-12-01T00:00:00.000', 'count': '54957'},\n",
       "     {'item': '2020-12-21T00:00:00.000', 'count': '54425'},\n",
       "     {'item': '2020-12-30T00:00:00.000', 'count': '52966'},\n",
       "     {'item': '2020-11-16T00:00:00.000', 'count': '52296'},\n",
       "     {'item': '2020-12-02T00:00:00.000', 'count': '51147'},\n",
       "     {'item': '2021-01-06T00:00:00.000', 'count': '50429'},\n",
       "     {'item': '2021-01-11T00:00:00.000', 'count': '49778'},\n",
       "     {'item': '2020-12-08T00:00:00.000', 'count': '49541'},\n",
       "     {'item': '2020-12-15T00:00:00.000', 'count': '49127'},\n",
       "     {'item': '2020-12-03T00:00:00.000', 'count': '49041'},\n",
       "     {'item': '2021-01-07T00:00:00.000', 'count': '47755'},\n",
       "     {'item': '2020-11-24T00:00:00.000', 'count': '47133'}],\n",
       "    'smallest': '2020-01-01T00:00:00.000',\n",
       "    'cardinality': '418'},\n",
       "   'format': {'view': 'date_ymd'}},\n",
       "  {'id': 516898148,\n",
       "   'name': 'onset_dt',\n",
       "   'dataTypeName': 'calendar_date',\n",
       "   'description': 'Symptom onset date, if symptomatic',\n",
       "   'fieldName': 'onset_dt',\n",
       "   'position': 4,\n",
       "   'renderTypeName': 'calendar_date',\n",
       "   'tableColumnId': 103373168,\n",
       "   'cachedContents': {'non_null': '9278464',\n",
       "    'largest': '2021-02-27T00:00:00.000',\n",
       "    'null': '11286881',\n",
       "    'top': [{'item': '2020-11-30T00:00:00.000', 'count': '76115'},\n",
       "     {'item': '2020-12-01T00:00:00.000', 'count': '72302'},\n",
       "     {'item': '2021-01-04T00:00:00.000', 'count': '72057'},\n",
       "     {'item': '2020-12-07T00:00:00.000', 'count': '71229'},\n",
       "     {'item': '2020-12-28T00:00:00.000', 'count': '70835'},\n",
       "     {'item': '2020-11-09T00:00:00.000', 'count': '66924'},\n",
       "     {'item': '2020-11-10T00:00:00.000', 'count': '65311'},\n",
       "     {'item': '2020-12-14T00:00:00.000', 'count': '65028'},\n",
       "     {'item': '2020-12-02T00:00:00.000', 'count': '64759'},\n",
       "     {'item': '2020-12-08T00:00:00.000', 'count': '64483'},\n",
       "     {'item': '2020-11-16T00:00:00.000', 'count': '63439'},\n",
       "     {'item': '2020-11-23T00:00:00.000', 'count': '63185'},\n",
       "     {'item': '2020-12-04T00:00:00.000', 'count': '62703'},\n",
       "     {'item': '2021-01-05T00:00:00.000', 'count': '62276'},\n",
       "     {'item': '2020-12-29T00:00:00.000', 'count': '60849'},\n",
       "     {'item': '2020-11-02T00:00:00.000', 'count': '60766'},\n",
       "     {'item': '2021-01-01T00:00:00.000', 'count': '60534'},\n",
       "     {'item': '2020-12-03T00:00:00.000', 'count': '60317'},\n",
       "     {'item': '2020-12-09T00:00:00.000', 'count': '60312'},\n",
       "     {'item': '2020-11-11T00:00:00.000', 'count': '59942'}],\n",
       "    'smallest': '2020-01-01T00:00:00.000',\n",
       "    'cardinality': '424'},\n",
       "   'format': {'view': 'date_ymd'}},\n",
       "  {'id': 516898149,\n",
       "   'name': 'current_status',\n",
       "   'dataTypeName': 'text',\n",
       "   'description': 'Case Status: Laboratory-confirmed case; Probable case',\n",
       "   'fieldName': 'current_status',\n",
       "   'position': 5,\n",
       "   'renderTypeName': 'text',\n",
       "   'tableColumnId': 102155698,\n",
       "   'cachedContents': {'non_null': '20565345',\n",
       "    'largest': 'Probable Case',\n",
       "    'null': '0',\n",
       "    'top': [{'item': 'Laboratory-confirmed case', 'count': '18856641'},\n",
       "     {'item': 'Probable Case', 'count': '1708704'}],\n",
       "    'smallest': 'Laboratory-confirmed case',\n",
       "    'cardinality': '2'},\n",
       "   'format': {}},\n",
       "  {'id': 516898150,\n",
       "   'name': 'sex',\n",
       "   'dataTypeName': 'text',\n",
       "   'description': 'Sex: Male; Female; Unknown; Other',\n",
       "   'fieldName': 'sex',\n",
       "   'position': 6,\n",
       "   'renderTypeName': 'text',\n",
       "   'tableColumnId': 102155696,\n",
       "   'cachedContents': {'non_null': '20565345',\n",
       "    'largest': 'Unknown',\n",
       "    'null': '0',\n",
       "    'top': [{'item': 'Female', 'count': '10621441'},\n",
       "     {'item': 'Male', 'count': '9694883'},\n",
       "     {'item': 'Unknown', 'count': '197866'},\n",
       "     {'item': 'Missing', 'count': '50731'},\n",
       "     {'item': 'Other', 'count': '409'},\n",
       "     {'item': 'NA', 'count': '15'}],\n",
       "    'smallest': 'Female',\n",
       "    'cardinality': '6'},\n",
       "   'format': {}},\n",
       "  {'id': 516898151,\n",
       "   'name': 'age_group',\n",
       "   'dataTypeName': 'text',\n",
       "   'description': 'Age Group: 0 - 9 Years; 10 - 19 Years; 20 - 39 Years; 40 - 49 Years; 50 - 59 Years; 60 - 69 Years; 70 - 79 Years; 80 + Years',\n",
       "   'fieldName': 'age_group',\n",
       "   'position': 7,\n",
       "   'renderTypeName': 'text',\n",
       "   'tableColumnId': 102155695,\n",
       "   'cachedContents': {'non_null': '20565345',\n",
       "    'largest': 'NA',\n",
       "    'null': '0',\n",
       "    'top': [{'item': '20 - 29 Years', 'count': '3835094'},\n",
       "     {'item': '30 - 39 Years', 'count': '3338670'},\n",
       "     {'item': '40 - 49 Years', 'count': '3051110'},\n",
       "     {'item': '50 - 59 Years', 'count': '2973923'},\n",
       "     {'item': '10 - 19 Years', 'count': '2172213'},\n",
       "     {'item': '60 - 69 Years', 'count': '2113504'},\n",
       "     {'item': '70 - 79 Years', 'count': '1172490'},\n",
       "     {'item': '0 - 9 Years', 'count': '897435'},\n",
       "     {'item': '80+ Years', 'count': '848845'},\n",
       "     {'item': 'Missing', 'count': '161984'},\n",
       "     {'item': 'NA', 'count': '77'}],\n",
       "    'smallest': '0 - 9 Years',\n",
       "    'cardinality': '11'},\n",
       "   'format': {}},\n",
       "  {'id': 516898152,\n",
       "   'name': 'race_ethnicity_combined',\n",
       "   'dataTypeName': 'text',\n",
       "   'description': 'Race and ethnicity (combined): Hispanic/Latino; American Indian / Alaska Native, Non-Hispanic; Asian, Non-Hispanic; Black, Non-Hispanic; Native Hawaiian / Other Pacific Islander, Non-Hispanic; White, Non-Hispanic; Multiple/Other, Non-Hispanic',\n",
       "   'fieldName': 'race_ethnicity_combined',\n",
       "   'position': 8,\n",
       "   'renderTypeName': 'text',\n",
       "   'tableColumnId': 106552466,\n",
       "   'cachedContents': {'non_null': '20565345',\n",
       "    'largest': 'White, Non-Hispanic',\n",
       "    'null': '0',\n",
       "    'top': [{'item': 'Unknown', 'count': '8112749'},\n",
       "     {'item': 'White, Non-Hispanic', 'count': '6526945'},\n",
       "     {'item': 'Hispanic/Latino', 'count': '2260925'},\n",
       "     {'item': 'Black, Non-Hispanic', 'count': '1429558'},\n",
       "     {'item': 'Multiple/Other, Non-Hispanic', 'count': '831878'},\n",
       "     {'item': 'Missing', 'count': '793617'},\n",
       "     {'item': 'Asian, Non-Hispanic', 'count': '429253'},\n",
       "     {'item': 'American Indian/Alaska Native, Non-Hispanic',\n",
       "      'count': '141665'},\n",
       "     {'item': 'Native Hawaiian/Other Pacific Islander, Non-Hispanic',\n",
       "      'count': '38747'},\n",
       "     {'item': 'NA', 'count': '8'}],\n",
       "    'smallest': 'American Indian/Alaska Native, Non-Hispanic',\n",
       "    'cardinality': '10'},\n",
       "   'format': {}},\n",
       "  {'id': 516898153,\n",
       "   'name': 'hosp_yn',\n",
       "   'dataTypeName': 'text',\n",
       "   'description': 'Hospitalization status',\n",
       "   'fieldName': 'hosp_yn',\n",
       "   'position': 9,\n",
       "   'renderTypeName': 'text',\n",
       "   'tableColumnId': 102155694,\n",
       "   'cachedContents': {'non_null': '20565345',\n",
       "    'largest': 'Yes',\n",
       "    'null': '0',\n",
       "    'top': [{'item': 'Missing', 'count': '9047578'},\n",
       "     {'item': 'No', 'count': '7146931'},\n",
       "     {'item': 'Unknown', 'count': '3382652'},\n",
       "     {'item': 'Yes', 'count': '986947'},\n",
       "     {'item': 'OTH', 'count': '1236'},\n",
       "     {'item': 'nul', 'count': '1'}],\n",
       "    'smallest': 'Missing',\n",
       "    'cardinality': '6'},\n",
       "   'format': {}},\n",
       "  {'id': 516898154,\n",
       "   'name': 'icu_yn',\n",
       "   'dataTypeName': 'text',\n",
       "   'description': 'ICU admission status',\n",
       "   'fieldName': 'icu_yn',\n",
       "   'position': 10,\n",
       "   'renderTypeName': 'text',\n",
       "   'tableColumnId': 102155693,\n",
       "   'cachedContents': {'non_null': '20565345',\n",
       "    'largest': 'Yes',\n",
       "    'null': '0',\n",
       "    'top': [{'item': 'Missing', 'count': '16696875'},\n",
       "     {'item': 'Unknown', 'count': '2530657'},\n",
       "     {'item': 'No', 'count': '1242962'},\n",
       "     {'item': 'Yes', 'count': '94851'}],\n",
       "    'smallest': 'Missing',\n",
       "    'cardinality': '4'},\n",
       "   'format': {}},\n",
       "  {'id': 516898155,\n",
       "   'name': 'death_yn',\n",
       "   'dataTypeName': 'text',\n",
       "   'description': 'Death status',\n",
       "   'fieldName': 'death_yn',\n",
       "   'position': 11,\n",
       "   'renderTypeName': 'text',\n",
       "   'tableColumnId': 102155692,\n",
       "   'cachedContents': {'non_null': '20565345',\n",
       "    'largest': 'Yes',\n",
       "    'null': '0',\n",
       "    'top': [{'item': 'No', 'count': '10517575'},\n",
       "     {'item': 'Missing', 'count': '7525439'},\n",
       "     {'item': 'Unknown', 'count': '2149753'},\n",
       "     {'item': 'Yes', 'count': '372578'}],\n",
       "    'smallest': 'Missing',\n",
       "    'cardinality': '4'},\n",
       "   'format': {}},\n",
       "  {'id': 516898156,\n",
       "   'name': 'medcond_yn',\n",
       "   'dataTypeName': 'text',\n",
       "   'description': 'Presence of underlying comorbidity or disease',\n",
       "   'fieldName': 'medcond_yn',\n",
       "   'position': 12,\n",
       "   'renderTypeName': 'text',\n",
       "   'tableColumnId': 102155691,\n",
       "   'cachedContents': {'non_null': '20565345',\n",
       "    'largest': 'Yes',\n",
       "    'null': '0',\n",
       "    'top': [{'item': 'Missing', 'count': '16097975'},\n",
       "     {'item': 'Unknown', 'count': '2082746'},\n",
       "     {'item': 'Yes', 'count': '1212890'},\n",
       "     {'item': 'No', 'count': '1171734'}],\n",
       "    'smallest': 'Missing',\n",
       "    'cardinality': '4'},\n",
       "   'format': {}}],\n",
       " 'grants': [{'inherited': False, 'type': 'viewer', 'flags': ['public']}],\n",
       " 'license': {'name': 'Public Domain U.S. Government',\n",
       "  'termsLink': 'https://www.usa.gov/government-works'},\n",
       " 'metadata': {'custom_fields': {'Data Quality': {'Update Frequency': 'Monthly',\n",
       "    'Temporal Applicability': '2020-01-01/2021-02-13',\n",
       "    'Geographic Coverage': 'US'},\n",
       "   'Common Core': {'Contact Email': 'eocevent394@cdc.gov',\n",
       "    'Suggested Citation': 'Centers for Disease Control and Prevention, COVID-19 Response. COVID-19 Case Surveillance Public Data Access, Summary, and Limitations (version date: February 28, 2021).',\n",
       "    'Contact Name': 'Surveillance Review and Response Group',\n",
       "    'Program Code': '009:020',\n",
       "    'Publisher': 'CDC',\n",
       "    'Bureau Code': '009:20'}},\n",
       "  'rowLabel': 'Deidentified Patient',\n",
       "  'availableDisplayTypes': ['table', 'fatrow', 'page']},\n",
       " 'owner': {'id': 'aa26-iwd8',\n",
       "  'displayName': 'Data.CDC.gov Administrator',\n",
       "  'profileImageUrlLarge': '/api/users/aa26-iwd8/profile_images/LARGE',\n",
       "  'profileImageUrlMedium': '/api/users/aa26-iwd8/profile_images/THUMB',\n",
       "  'profileImageUrlSmall': '/api/users/aa26-iwd8/profile_images/TINY',\n",
       "  'screenName': 'Data.CDC.gov Administrator',\n",
       "  'type': 'interactive',\n",
       "  'flags': ['acceptedEula', 'mayBeStoriesCoOwner']},\n",
       " 'query': {},\n",
       " 'rights': ['read'],\n",
       " 'tableAuthor': {'id': 'aa26-iwd8',\n",
       "  'displayName': 'Data.CDC.gov Administrator',\n",
       "  'profileImageUrlLarge': '/api/users/aa26-iwd8/profile_images/LARGE',\n",
       "  'profileImageUrlMedium': '/api/users/aa26-iwd8/profile_images/THUMB',\n",
       "  'profileImageUrlSmall': '/api/users/aa26-iwd8/profile_images/TINY',\n",
       "  'screenName': 'Data.CDC.gov Administrator',\n",
       "  'type': 'interactive',\n",
       "  'flags': ['acceptedEula', 'mayBeStoriesCoOwner']},\n",
       " 'tags': ['covid-19',\n",
       "  'cases',\n",
       "  'surveillance',\n",
       "  'covid',\n",
       "  'covid19',\n",
       "  'coronavirus'],\n",
       " 'flags': ['default',\n",
       "  'ownerMayBeContacted',\n",
       "  'restorable',\n",
       "  'restorePossibleForType']}"
      ]
     },
     "execution_count": 34,
     "metadata": {},
     "output_type": "execute_result"
    }
   ],
   "source": [
    "metadata = client.get_metadata(\"vbim-akqf\")\n",
    "metadata"
   ]
  },
  {
   "cell_type": "code",
   "execution_count": 37,
   "metadata": {},
   "outputs": [],
   "source": [
    "res2 = client.get(\"vbim-akqf\", \n",
    "                  group = \"sex\",\n",
    "                 select = \"sex, count(age_group)\")"
   ]
  },
  {
   "cell_type": "code",
   "execution_count": 40,
   "metadata": {},
   "outputs": [
    {
     "data": {
      "text/plain": [
       "[{'sex': 'Female', 'count_age_group': '10621441'},\n",
       " {'sex': 'Male', 'count_age_group': '9694883'},\n",
       " {'sex': 'Missing', 'count_age_group': '50731'},\n",
       " {'sex': 'NA', 'count_age_group': '15'},\n",
       " {'sex': 'Other', 'count_age_group': '409'},\n",
       " {'sex': 'Unknown', 'count_age_group': '197866'}]"
      ]
     },
     "execution_count": 40,
     "metadata": {},
     "output_type": "execute_result"
    }
   ],
   "source": [
    "res2"
   ]
  },
  {
   "cell_type": "code",
   "execution_count": 53,
   "metadata": {},
   "outputs": [],
   "source": [
    "res_sex = res2"
   ]
  },
  {
   "cell_type": "code",
   "execution_count": 41,
   "metadata": {},
   "outputs": [
    {
     "data": {
      "text/plain": [
       "20565345"
      ]
     },
     "execution_count": 41,
     "metadata": {},
     "output_type": "execute_result"
    }
   ],
   "source": [
    "sum( [ int(row[\"count_age_group\"]) for row in res2])"
   ]
  },
  {
   "cell_type": "code",
   "execution_count": 42,
   "metadata": {},
   "outputs": [
    {
     "name": "stdout",
     "output_type": "stream",
     "text": [
      "  20565346  110440471 2416501618 /home/severine/Downloads/COVID-19_Case_Surveillance_Public_Use_Data.csv\r\n"
     ]
    }
   ],
   "source": [
    "!wc ~/Downloads/COVID-19_Case_Surveillance_Public_Use_Data.csv"
   ]
  },
  {
   "cell_type": "code",
   "execution_count": 43,
   "metadata": {},
   "outputs": [],
   "source": [
    "res3 = client.get(\"vbim-akqf\", \n",
    "            group = \"sex, age_group, race_ethnicity_combined, cdc_case_earliest_dt\",\n",
    "            select = \"sex, age_group, race_ethnicity_combined, cdc_case_earliest_dt, count(*)\"\n",
    "                 )"
   ]
  },
  {
   "cell_type": "code",
   "execution_count": 46,
   "metadata": {},
   "outputs": [],
   "source": [
    "res_age = client.get(\"vbim-akqf\", \n",
    "                     group = \"age_group\",\n",
    "                     select = \"age_group, count(*)\")"
   ]
  },
  {
   "cell_type": "code",
   "execution_count": 50,
   "metadata": {},
   "outputs": [
    {
     "name": "stdout",
     "output_type": "stream",
     "text": [
      "11\n"
     ]
    },
    {
     "data": {
      "text/plain": [
       "[{'age_group': '0 - 9 Years', 'count': '897435'},\n",
       " {'age_group': '10 - 19 Years', 'count': '2172213'},\n",
       " {'age_group': '20 - 29 Years', 'count': '3835094'},\n",
       " {'age_group': '30 - 39 Years', 'count': '3338670'},\n",
       " {'age_group': '40 - 49 Years', 'count': '3051110'},\n",
       " {'age_group': '50 - 59 Years', 'count': '2973923'},\n",
       " {'age_group': '60 - 69 Years', 'count': '2113504'},\n",
       " {'age_group': '70 - 79 Years', 'count': '1172490'},\n",
       " {'age_group': '80+ Years', 'count': '848845'},\n",
       " {'age_group': 'Missing', 'count': '161984'},\n",
       " {'age_group': 'NA', 'count': '77'}]"
      ]
     },
     "execution_count": 50,
     "metadata": {},
     "output_type": "execute_result"
    }
   ],
   "source": [
    "print(len(res_age))\n",
    "res_age"
   ]
  },
  {
   "cell_type": "code",
   "execution_count": 48,
   "metadata": {},
   "outputs": [
    {
     "data": {
      "text/plain": [
       "20565345"
      ]
     },
     "execution_count": 48,
     "metadata": {},
     "output_type": "execute_result"
    }
   ],
   "source": [
    "sum( [ int(row[\"count\"]) for row in res_age])"
   ]
  },
  {
   "cell_type": "code",
   "execution_count": 51,
   "metadata": {},
   "outputs": [],
   "source": [
    "res_sex_age = client.get(\"vbim-akqf\", \n",
    "                     group = \"sex, age_group\",\n",
    "                     select = \"sex, age_group, count(*)\")"
   ]
  },
  {
   "cell_type": "code",
   "execution_count": 54,
   "metadata": {},
   "outputs": [
    {
     "name": "stdout",
     "output_type": "stream",
     "text": [
      "54\n"
     ]
    },
    {
     "data": {
      "text/plain": [
       "[{'sex': 'Female', 'age_group': '0 - 9 Years', 'count': '429732'},\n",
       " {'sex': 'Female', 'age_group': '10 - 19 Years', 'count': '1106527'},\n",
       " {'sex': 'Female', 'age_group': '20 - 29 Years', 'count': '2002871'},\n",
       " {'sex': 'Female', 'age_group': '30 - 39 Years', 'count': '1709989'},\n",
       " {'sex': 'Female', 'age_group': '40 - 49 Years', 'count': '1579131'},\n",
       " {'sex': 'Female', 'age_group': '50 - 59 Years', 'count': '1521003'},\n",
       " {'sex': 'Female', 'age_group': '60 - 69 Years', 'count': '1067638'},\n",
       " {'sex': 'Female', 'age_group': '70 - 79 Years', 'count': '602122'},\n",
       " {'sex': 'Female', 'age_group': '80+ Years', 'count': '519717'},\n",
       " {'sex': 'Female', 'age_group': 'Missing', 'count': '82711'},\n",
       " {'sex': 'Male', 'age_group': '0 - 9 Years', 'count': '452695'},\n",
       " {'sex': 'Male', 'age_group': '10 - 19 Years', 'count': '1036909'},\n",
       " {'sex': 'Male', 'age_group': '20 - 29 Years', 'count': '1785473'},\n",
       " {'sex': 'Male', 'age_group': '30 - 39 Years', 'count': '1588699'},\n",
       " {'sex': 'Male', 'age_group': '40 - 49 Years', 'count': '1436373'},\n",
       " {'sex': 'Male', 'age_group': '50 - 59 Years', 'count': '1420730'},\n",
       " {'sex': 'Male', 'age_group': '60 - 69 Years', 'count': '1024935'},\n",
       " {'sex': 'Male', 'age_group': '70 - 79 Years', 'count': '559563'},\n",
       " {'sex': 'Male', 'age_group': '80+ Years', 'count': '319479'},\n",
       " {'sex': 'Male', 'age_group': 'Missing', 'count': '70027'},\n",
       " {'sex': 'Missing', 'age_group': '0 - 9 Years', 'count': '4835'},\n",
       " {'sex': 'Missing', 'age_group': '10 - 19 Years', 'count': '5459'},\n",
       " {'sex': 'Missing', 'age_group': '20 - 29 Years', 'count': '8744'},\n",
       " {'sex': 'Missing', 'age_group': '30 - 39 Years', 'count': '7608'},\n",
       " {'sex': 'Missing', 'age_group': '40 - 49 Years', 'count': '7050'},\n",
       " {'sex': 'Missing', 'age_group': '50 - 59 Years', 'count': '6592'},\n",
       " {'sex': 'Missing', 'age_group': '60 - 69 Years', 'count': '4425'},\n",
       " {'sex': 'Missing', 'age_group': '70 - 79 Years', 'count': '2286'},\n",
       " {'sex': 'Missing', 'age_group': '80+ Years', 'count': '1623'},\n",
       " {'sex': 'Missing', 'age_group': 'Missing', 'count': '2102'},\n",
       " {'sex': 'Missing', 'age_group': 'NA', 'count': '7'},\n",
       " {'sex': 'NA', 'age_group': 'NA', 'count': '15'},\n",
       " {'sex': 'Other', 'age_group': '0 - 9 Years', 'count': '16'},\n",
       " {'sex': 'Other', 'age_group': '10 - 19 Years', 'count': '43'},\n",
       " {'sex': 'Other', 'age_group': '20 - 29 Years', 'count': '76'},\n",
       " {'sex': 'Other', 'age_group': '30 - 39 Years', 'count': '68'},\n",
       " {'sex': 'Other', 'age_group': '40 - 49 Years', 'count': '48'},\n",
       " {'sex': 'Other', 'age_group': '50 - 59 Years', 'count': '47'},\n",
       " {'sex': 'Other', 'age_group': '60 - 69 Years', 'count': '22'},\n",
       " {'sex': 'Other', 'age_group': '70 - 79 Years', 'count': '15'},\n",
       " {'sex': 'Other', 'age_group': '80+ Years', 'count': '8'},\n",
       " {'sex': 'Other', 'age_group': 'Missing', 'count': '18'},\n",
       " {'sex': 'Other', 'age_group': 'NA', 'count': '48'},\n",
       " {'sex': 'Unknown', 'age_group': '0 - 9 Years', 'count': '10157'},\n",
       " {'sex': 'Unknown', 'age_group': '10 - 19 Years', 'count': '23275'},\n",
       " {'sex': 'Unknown', 'age_group': '20 - 29 Years', 'count': '37930'},\n",
       " {'sex': 'Unknown', 'age_group': '30 - 39 Years', 'count': '32306'},\n",
       " {'sex': 'Unknown', 'age_group': '40 - 49 Years', 'count': '28508'},\n",
       " {'sex': 'Unknown', 'age_group': '50 - 59 Years', 'count': '25551'},\n",
       " {'sex': 'Unknown', 'age_group': '60 - 69 Years', 'count': '16484'},\n",
       " {'sex': 'Unknown', 'age_group': '70 - 79 Years', 'count': '8504'},\n",
       " {'sex': 'Unknown', 'age_group': '80+ Years', 'count': '8018'},\n",
       " {'sex': 'Unknown', 'age_group': 'Missing', 'count': '7126'},\n",
       " {'sex': 'Unknown', 'age_group': 'NA', 'count': '7'}]"
      ]
     },
     "execution_count": 54,
     "metadata": {},
     "output_type": "execute_result"
    }
   ],
   "source": [
    "print(len(res_sex_age))\n",
    "res_sex_age"
   ]
  },
  {
   "cell_type": "code",
   "execution_count": 55,
   "metadata": {},
   "outputs": [],
   "source": [
    "res_sex_age_race = client.get(\"vbim-akqf\", \n",
    "                     group = \"sex, age_group, race_ethnicity_combined\",\n",
    "                     select = \"sex, age_group, race_ethnicity_combined, count(*)\")"
   ]
  },
  {
   "cell_type": "code",
   "execution_count": 57,
   "metadata": {},
   "outputs": [
    {
     "name": "stdout",
     "output_type": "stream",
     "text": [
      "378\n"
     ]
    },
    {
     "data": {
      "text/plain": [
       "20565345"
      ]
     },
     "execution_count": 57,
     "metadata": {},
     "output_type": "execute_result"
    }
   ],
   "source": [
    "print(len(res_sex_age_race))\n",
    "sum( [ int(row[\"count\"]) for row in res_sex_age_race])"
   ]
  },
  {
   "cell_type": "code",
   "execution_count": 63,
   "metadata": {},
   "outputs": [],
   "source": [
    "res_sex_age_race_date = client.get(\"vbim-akqf\", \n",
    "                     group = \"cdc_case_earliest_dt, sex, age_group, race_ethnicity_combined\",\n",
    "                     select = \"cdc_case_earliest_dt, sex, age_group, race_ethnicity_combined, count(*)\",\n",
    "                                  limit = 200000)"
   ]
  },
  {
   "cell_type": "code",
   "execution_count": 65,
   "metadata": {},
   "outputs": [
    {
     "name": "stdout",
     "output_type": "stream",
     "text": [
      "88076\n"
     ]
    },
    {
     "data": {
      "text/plain": [
       "20565345"
      ]
     },
     "execution_count": 65,
     "metadata": {},
     "output_type": "execute_result"
    }
   ],
   "source": [
    "print(len(res_sex_age_race_date))\n",
    "sum( [ int(row[\"count\"]) for row in res_sex_age_race_date])"
   ]
  },
  {
   "cell_type": "code",
   "execution_count": 60,
   "metadata": {},
   "outputs": [],
   "source": [
    "res_date = client.get(\"vbim-akqf\", \n",
    "                     group = \"cdc_case_earliest_dt\",\n",
    "                      select = \"cdc_case_earliest_dt, count(*)\")"
   ]
  },
  {
   "cell_type": "code",
   "execution_count": 64,
   "metadata": {},
   "outputs": [
    {
     "name": "stdout",
     "output_type": "stream",
     "text": [
      "410\n"
     ]
    },
    {
     "data": {
      "text/plain": [
       "20565345"
      ]
     },
     "execution_count": 64,
     "metadata": {},
     "output_type": "execute_result"
    }
   ],
   "source": [
    "print(len(res_date))\n",
    "sum( [ int(row[\"count\"]) for row in res_date])"
   ]
  },
  {
   "cell_type": "code",
   "execution_count": 62,
   "metadata": {},
   "outputs": [
    {
     "data": {
      "text/plain": [
       "154980"
      ]
     },
     "execution_count": 62,
     "metadata": {},
     "output_type": "execute_result"
    }
   ],
   "source": [
    "410 * 378"
   ]
  },
  {
   "cell_type": "code",
   "execution_count": 69,
   "metadata": {},
   "outputs": [],
   "source": [
    "with open(os.path.join(\"OUT_DATA\", \"covid_by_pop_group.json\"), \"w\") as fs :\n",
    "    json.dump(res_sex_age_race_date, fs)"
   ]
  },
  {
   "cell_type": "code",
   "execution_count": null,
   "metadata": {},
   "outputs": [],
   "source": []
  }
 ],
 "metadata": {
  "kernelspec": {
   "display_name": "Python 3",
   "language": "python",
   "name": "python3"
  },
  "language_info": {
   "codemirror_mode": {
    "name": "ipython",
    "version": 3
   },
   "file_extension": ".py",
   "mimetype": "text/x-python",
   "name": "python",
   "nbconvert_exporter": "python",
   "pygments_lexer": "ipython3",
   "version": "3.7.9"
  },
  "toc": {
   "base_numbering": 1,
   "nav_menu": {},
   "number_sections": true,
   "sideBar": true,
   "skip_h1_title": false,
   "title_cell": "Table of Contents",
   "title_sidebar": "Contents",
   "toc_cell": false,
   "toc_position": {},
   "toc_section_display": true,
   "toc_window_display": false
  },
  "varInspector": {
   "cols": {
    "lenName": 16,
    "lenType": 16,
    "lenVar": 40
   },
   "kernels_config": {
    "python": {
     "delete_cmd_postfix": "",
     "delete_cmd_prefix": "del ",
     "library": "var_list.py",
     "varRefreshCmd": "print(var_dic_list())"
    },
    "r": {
     "delete_cmd_postfix": ") ",
     "delete_cmd_prefix": "rm(",
     "library": "var_list.r",
     "varRefreshCmd": "cat(var_dic_list()) "
    }
   },
   "types_to_exclude": [
    "module",
    "function",
    "builtin_function_or_method",
    "instance",
    "_Feature"
   ],
   "window_display": false
  }
 },
 "nbformat": 4,
 "nbformat_minor": 4
}
