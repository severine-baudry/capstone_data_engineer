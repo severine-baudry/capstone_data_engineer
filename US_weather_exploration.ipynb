{
 "cells": [
  {
   "cell_type": "code",
   "execution_count": 1,
   "metadata": {},
   "outputs": [],
   "source": [
    "import configparser\n",
    "import os\n",
    "import pyspark\n",
    "from pyspark import SparkConf\n",
    "from pyspark.sql import SparkSession\n",
    "import pyspark.sql.functions as F\n",
    "import pyspark.sql.types as T\n",
    "import pandas as pd\n",
    "import matplotlib.pyplot as plt\n",
    "from datetime import date, timedelta"
   ]
  },
  {
   "cell_type": "code",
   "execution_count": 2,
   "metadata": {},
   "outputs": [
    {
     "data": {
      "text/plain": [
       "['capstone.cfg']"
      ]
     },
     "execution_count": 2,
     "metadata": {},
     "output_type": "execute_result"
    }
   ],
   "source": [
    "config = configparser.ConfigParser()\n",
    "config.read(\"capstone.cfg\")"
   ]
  },
  {
   "cell_type": "code",
   "execution_count": 3,
   "metadata": {},
   "outputs": [],
   "source": [
    "os.chdir(config[\"PATH\"][\"project\"])"
   ]
  },
  {
   "cell_type": "markdown",
   "metadata": {},
   "source": [
    "Create spark session. Add driver postgress to enable to load from existing postgres DB\n"
   ]
  },
  {
   "cell_type": "code",
   "execution_count": 4,
   "metadata": {},
   "outputs": [],
   "source": [
    "# add driver postgress to enable to load from existing postgres DB\n",
    "spark = SparkSession \\\n",
    "    .builder \\\n",
    "    .appName(\"US_weather\") \\\n",
    "    .config(\"spark.jars\", \"postgresql-42.2.18.jar\")\\\n",
    "    .config( \"spark.driver.extraClassPath\", \"postgresql-42.2.18.jar\")\\\n",
    "    .getOrCreate()"
   ]
  },
  {
   "cell_type": "markdown",
   "metadata": {},
   "source": [
    "Connect to postgres; read stations table from postgres DB \"covid\""
   ]
  },
  {
   "cell_type": "markdown",
   "metadata": {},
   "source": [
    "# Load data"
   ]
  },
  {
   "cell_type": "markdown",
   "metadata": {},
   "source": [
    "## Load weather stations location data from postgres DB"
   ]
  },
  {
   "cell_type": "code",
   "execution_count": 5,
   "metadata": {},
   "outputs": [],
   "source": [
    "stations = spark.read.format(\"jdbc\")\\\n",
    "    .option(\"url\" , \"jdbc:postgresql://localhost:5432/covid\")\\\n",
    "    .option(\"dbtable\", \"world_stations\")\\\n",
    "    .option(\"user\",\"sb\")\\\n",
    "    .option(\"password\", \"sb\")\\\n",
    "    .load()"
   ]
  },
  {
   "cell_type": "code",
   "execution_count": 6,
   "metadata": {},
   "outputs": [
    {
     "name": "stdout",
     "output_type": "stream",
     "text": [
      "root\n",
      " |-- station_id: string (nullable = true)\n",
      " |-- latitude: double (nullable = true)\n",
      " |-- longitude: double (nullable = true)\n",
      " |-- elevation: double (nullable = true)\n",
      " |-- state: string (nullable = true)\n",
      " |-- station_name: string (nullable = true)\n",
      "\n"
     ]
    }
   ],
   "source": [
    "stations.printSchema()"
   ]
  },
  {
   "cell_type": "code",
   "execution_count": 7,
   "metadata": {},
   "outputs": [],
   "source": [
    "# Puerto Rico, Virgin Islands, Guam, Samoa\n",
    "unincorporated_territories = [\"RQ\", \"VQ\", \"CQ\", \"AQ\"]\n",
    "US_territories = unincorporated_territories[:]\n",
    "US_territories.append(\"US\")"
   ]
  },
  {
   "cell_type": "code",
   "execution_count": 8,
   "metadata": {},
   "outputs": [],
   "source": [
    "US_stations = stations[ stations[\"station_id\"][0:2].isin(US_territories) ]"
   ]
  },
  {
   "cell_type": "code",
   "execution_count": 9,
   "metadata": {},
   "outputs": [
    {
     "name": "stdout",
     "output_type": "stream",
     "text": [
      "CPU times: user 2.23 ms, sys: 339 µs, total: 2.57 ms\n",
      "Wall time: 3.78 s\n"
     ]
    },
    {
     "data": {
      "text/plain": [
       "65478"
      ]
     },
     "execution_count": 9,
     "metadata": {},
     "output_type": "execute_result"
    }
   ],
   "source": [
    "%%time\n",
    "US_stations.count()"
   ]
  },
  {
   "cell_type": "markdown",
   "metadata": {},
   "source": [
    "## Load world wide weather info from csv file"
   ]
  },
  {
   "cell_type": "code",
   "execution_count": 10,
   "metadata": {},
   "outputs": [],
   "source": [
    "weather_path = os.path.join(config[\"PATH\"][\"project\"], \"DATA/WEATHER/2020.csv\" )\n",
    "weather_2020 = spark.read.load(weather_path, format = \"csv\", sep = \",\",\n",
    "                            schema = \"station_id string, date string, measured string, v1 string, v2 string, v3 string, v4 string, v5 string\")"
   ]
  },
  {
   "cell_type": "code",
   "execution_count": 11,
   "metadata": {},
   "outputs": [
    {
     "name": "stdout",
     "output_type": "stream",
     "text": [
      "root\n",
      " |-- station_id: string (nullable = true)\n",
      " |-- date: string (nullable = true)\n",
      " |-- measured: string (nullable = true)\n",
      " |-- v1: string (nullable = true)\n",
      " |-- v2: string (nullable = true)\n",
      " |-- v3: string (nullable = true)\n",
      " |-- v4: string (nullable = true)\n",
      " |-- v5: string (nullable = true)\n",
      "\n"
     ]
    }
   ],
   "source": [
    "weather_2020.printSchema()"
   ]
  },
  {
   "cell_type": "code",
   "execution_count": 12,
   "metadata": {},
   "outputs": [
    {
     "name": "stdout",
     "output_type": "stream",
     "text": [
      "CPU times: user 5.99 ms, sys: 294 µs, total: 6.28 ms\n",
      "Wall time: 14.3 s\n"
     ]
    },
    {
     "data": {
      "text/plain": [
       "34320857"
      ]
     },
     "execution_count": 12,
     "metadata": {},
     "output_type": "execute_result"
    }
   ],
   "source": [
    "%%time\n",
    "nb_weather_records = weather_2020.count()\n",
    "nb_weather_records"
   ]
  },
  {
   "cell_type": "code",
   "execution_count": 13,
   "metadata": {},
   "outputs": [
    {
     "name": "stdout",
     "output_type": "stream",
     "text": [
      "+-----------+--------+--------+---+----+----+---+----+\n",
      "| station_id|    date|measured| v1|  v2|  v3| v4|  v5|\n",
      "+-----------+--------+--------+---+----+----+---+----+\n",
      "|AEM00041194|20200101|    PRCP|  0|null|null|  S|null|\n",
      "|AEM00041194|20200101|    TAVG|217|   H|null|  S|null|\n",
      "|AE000041196|20200101|    TMIN|168|null|null|  S|null|\n",
      "|AE000041196|20200101|    PRCP|  0|   D|null|  S|null|\n",
      "|AE000041196|20200101|    TAVG|211|   H|null|  S|null|\n",
      "|AEM00041217|20200101|    TAVG|205|   H|null|  S|null|\n",
      "|AEM00041218|20200101|    TMIN|148|null|null|  S|null|\n",
      "|AEM00041218|20200101|    TAVG|199|   H|null|  S|null|\n",
      "|AFM00040990|20200101|    TMAX|174|null|null|  S|null|\n",
      "|AFM00040990|20200101|    TMIN| 45|null|null|  S|null|\n",
      "+-----------+--------+--------+---+----+----+---+----+\n",
      "only showing top 10 rows\n",
      "\n",
      "CPU times: user 2.67 ms, sys: 404 µs, total: 3.07 ms\n",
      "Wall time: 642 ms\n"
     ]
    }
   ],
   "source": [
    "%%time\n",
    "weather_2020.show(10)"
   ]
  },
  {
   "cell_type": "markdown",
   "metadata": {},
   "source": [
    "# Data analysis"
   ]
  },
  {
   "cell_type": "markdown",
   "metadata": {},
   "source": [
    "## Join weather with station, to then filter and keep only US stations"
   ]
  },
  {
   "cell_type": "code",
   "execution_count": 14,
   "metadata": {},
   "outputs": [],
   "source": [
    "weather_2020 = weather_2020.join( US_stations, [\"station_id\"])"
   ]
  },
  {
   "cell_type": "code",
   "execution_count": 15,
   "metadata": {},
   "outputs": [
    {
     "name": "stdout",
     "output_type": "stream",
     "text": [
      "root\n",
      " |-- station_id: string (nullable = true)\n",
      " |-- date: string (nullable = true)\n",
      " |-- measured: string (nullable = true)\n",
      " |-- v1: string (nullable = true)\n",
      " |-- v2: string (nullable = true)\n",
      " |-- v3: string (nullable = true)\n",
      " |-- v4: string (nullable = true)\n",
      " |-- v5: string (nullable = true)\n",
      " |-- latitude: double (nullable = true)\n",
      " |-- longitude: double (nullable = true)\n",
      " |-- elevation: double (nullable = true)\n",
      " |-- state: string (nullable = true)\n",
      " |-- station_name: string (nullable = true)\n",
      "\n"
     ]
    }
   ],
   "source": [
    "weather_2020.printSchema()"
   ]
  },
  {
   "cell_type": "code",
   "execution_count": 16,
   "metadata": {},
   "outputs": [
    {
     "name": "stdout",
     "output_type": "stream",
     "text": [
      "CPU times: user 0 ns, sys: 5.53 ms, total: 5.53 ms\n",
      "Wall time: 161 ms\n"
     ]
    }
   ],
   "source": [
    "%%time\n",
    "weather_2020 = weather_2020.filter( weather_2020.station_id.isNotNull() )"
   ]
  },
  {
   "cell_type": "code",
   "execution_count": 17,
   "metadata": {},
   "outputs": [
    {
     "name": "stdout",
     "output_type": "stream",
     "text": [
      "CPU times: user 20.2 ms, sys: 1.86 ms, total: 22 ms\n",
      "Wall time: 1min 33s\n"
     ]
    },
    {
     "data": {
      "text/plain": [
       "25176049"
      ]
     },
     "execution_count": 17,
     "metadata": {},
     "output_type": "execute_result"
    }
   ],
   "source": [
    "%%time\n",
    "nb_weather_record_US = weather_2020.count()\n",
    "nb_weather_record_US"
   ]
  },
  {
   "cell_type": "code",
   "execution_count": null,
   "metadata": {},
   "outputs": [],
   "source": [
    "# 25074507\n",
    "# 0.7305909348359221"
   ]
  },
  {
   "cell_type": "code",
   "execution_count": 18,
   "metadata": {},
   "outputs": [
    {
     "data": {
      "text/plain": [
       "0.733549543940584"
      ]
     },
     "execution_count": 18,
     "metadata": {},
     "output_type": "execute_result"
    }
   ],
   "source": [
    "nb_weather_record_US/nb_weather_records\n"
   ]
  },
  {
   "cell_type": "code",
   "execution_count": null,
   "metadata": {},
   "outputs": [],
   "source": [
    "%%time\n",
    "weather_2020.show(10)"
   ]
  },
  {
   "cell_type": "markdown",
   "metadata": {},
   "source": [
    "## check possible values for measurement columns"
   ]
  },
  {
   "cell_type": "markdown",
   "metadata": {},
   "source": [
    "### v2 : measurement flag"
   ]
  },
  {
   "cell_type": "code",
   "execution_count": 19,
   "metadata": {},
   "outputs": [
    {
     "name": "stderr",
     "output_type": "stream",
     "text": [
      "UsageError: Line magic function `%%time` not found.\n"
     ]
    }
   ],
   "source": [
    "# Measurement flag ??\n",
    "%%time\n",
    "weather_2020.select(\"v2\").distinct().count()"
   ]
  },
  {
   "cell_type": "code",
   "execution_count": null,
   "metadata": {},
   "outputs": [],
   "source": [
    "%%time\n",
    "v2_distinct = weather_2020.select(\"v2\").distinct().collect()"
   ]
  },
  {
   "cell_type": "markdown",
   "metadata": {},
   "source": [
    "### v3 : Q flag (quality of measurement)"
   ]
  },
  {
   "cell_type": "code",
   "execution_count": 20,
   "metadata": {},
   "outputs": [
    {
     "data": {
      "text/plain": [
       "15"
      ]
     },
     "execution_count": 20,
     "metadata": {},
     "output_type": "execute_result"
    }
   ],
   "source": [
    "# Q Flag : quality of measurement\n",
    "v3_distinct = weather_2020.select(\"v3\").distinct().collect()\n",
    "len(v3_distinct)"
   ]
  },
  {
   "cell_type": "code",
   "execution_count": 21,
   "metadata": {},
   "outputs": [],
   "source": [
    "stat_quality = weather_2020.groupBy(\"v3\").count().orderBy(\"count\").collect()"
   ]
  },
  {
   "cell_type": "code",
   "execution_count": 22,
   "metadata": {},
   "outputs": [
    {
     "data": {
      "text/plain": [
       "[Row(v3='T', count=17),\n",
       " Row(v3='W', count=70),\n",
       " Row(v3='R', count=107),\n",
       " Row(v3='N', count=167),\n",
       " Row(v3='M', count=213),\n",
       " Row(v3='K', count=303),\n",
       " Row(v3='G', count=391),\n",
       " Row(v3='X', count=1446),\n",
       " Row(v3='Z', count=1848),\n",
       " Row(v3='S', count=1852),\n",
       " Row(v3='O', count=2194),\n",
       " Row(v3='D', count=3449),\n",
       " Row(v3='L', count=8138),\n",
       " Row(v3='I', count=9966),\n",
       " Row(v3=None, count=25145888)]"
      ]
     },
     "execution_count": 22,
     "metadata": {},
     "output_type": "execute_result"
    }
   ],
   "source": [
    "stat_quality"
   ]
  },
  {
   "cell_type": "code",
   "execution_count": 23,
   "metadata": {},
   "outputs": [
    {
     "name": "stdout",
     "output_type": "stream",
     "text": [
      "Row(v3=None)\n",
      "Row(v3='D')\n",
      "Row(v3='G')\n",
      "Row(v3='I')\n",
      "Row(v3='K')\n",
      "Row(v3='L')\n",
      "Row(v3='M')\n",
      "Row(v3='N')\n",
      "Row(v3='O')\n",
      "Row(v3='R')\n",
      "Row(v3='S')\n",
      "Row(v3='T')\n",
      "Row(v3='W')\n",
      "Row(v3='X')\n",
      "Row(v3='Z')\n"
     ]
    }
   ],
   "source": [
    "def none_to_str(a):\n",
    "    if a is None:\n",
    "        return \"\"\n",
    "    else :\n",
    "        return a\n",
    "\n",
    "for item in sorted(v3_distinct, key = lambda a : none_to_str(a[0])):\n",
    "    print(item)"
   ]
  },
  {
   "cell_type": "markdown",
   "metadata": {},
   "source": [
    "### v4 : S flag (source of measurement)"
   ]
  },
  {
   "cell_type": "code",
   "execution_count": 24,
   "metadata": {},
   "outputs": [
    {
     "data": {
      "text/plain": [
       "9"
      ]
     },
     "execution_count": 24,
     "metadata": {},
     "output_type": "execute_result"
    }
   ],
   "source": [
    "# S flag : source of measurement\n",
    "v4_distinct = weather_2020.select(\"v4\").distinct().collect()\n",
    "len(v4_distinct)"
   ]
  },
  {
   "cell_type": "code",
   "execution_count": 25,
   "metadata": {},
   "outputs": [
    {
     "name": "stdout",
     "output_type": "stream",
     "text": [
      "Row(v4='7')\n",
      "Row(v4='H')\n",
      "Row(v4='N')\n",
      "Row(v4='R')\n",
      "Row(v4='S')\n",
      "Row(v4='T')\n",
      "Row(v4='U')\n",
      "Row(v4='W')\n",
      "Row(v4='Z')\n"
     ]
    }
   ],
   "source": [
    "for item in sorted(v4_distinct, key = lambda a : none_to_str(a[0])):\n",
    "    print(item)"
   ]
  },
  {
   "cell_type": "markdown",
   "metadata": {},
   "source": [
    "### v5 : hour ???"
   ]
  },
  {
   "cell_type": "code",
   "execution_count": 26,
   "metadata": {},
   "outputs": [
    {
     "data": {
      "text/plain": [
       "40"
      ]
     },
     "execution_count": 26,
     "metadata": {},
     "output_type": "execute_result"
    }
   ],
   "source": [
    "# HOUR ????\n",
    "v5_distinct = weather_2020.select(\"v5\").distinct().collect()\n",
    "len(v5_distinct)"
   ]
  },
  {
   "cell_type": "code",
   "execution_count": 27,
   "metadata": {},
   "outputs": [
    {
     "name": "stdout",
     "output_type": "stream",
     "text": [
      "Row(v5=None)\n",
      "Row(v5='0100')\n",
      "Row(v5='0400')\n",
      "Row(v5='0430')\n",
      "Row(v5='0500')\n",
      "Row(v5='0530')\n",
      "Row(v5='0600')\n",
      "Row(v5='0630')\n",
      "Row(v5='0700')\n",
      "Row(v5='0730')\n",
      "Row(v5='0800')\n",
      "Row(v5='0830')\n",
      "Row(v5='0900')\n",
      "Row(v5='0930')\n",
      "Row(v5='1000')\n",
      "Row(v5='1030')\n",
      "Row(v5='1100')\n",
      "Row(v5='1130')\n",
      "Row(v5='1200')\n",
      "Row(v5='1300')\n",
      "Row(v5='1400')\n",
      "Row(v5='1430')\n",
      "Row(v5='1500')\n",
      "Row(v5='1530')\n",
      "Row(v5='1600')\n",
      "Row(v5='1630')\n",
      "Row(v5='1700')\n",
      "Row(v5='1730')\n",
      "Row(v5='1800')\n",
      "Row(v5='1830')\n",
      "Row(v5='1900')\n",
      "Row(v5='1930')\n",
      "Row(v5='2000')\n",
      "Row(v5='2100')\n",
      "Row(v5='2130')\n",
      "Row(v5='2200')\n",
      "Row(v5='2230')\n",
      "Row(v5='2300')\n",
      "Row(v5='2330')\n",
      "Row(v5='2400')\n"
     ]
    }
   ],
   "source": [
    "for item in sorted(v5_distinct, key = lambda a : none_to_str(a[0])):\n",
    "    print(item)"
   ]
  },
  {
   "cell_type": "markdown",
   "metadata": {},
   "source": [
    "### Measured elements"
   ]
  },
  {
   "cell_type": "code",
   "execution_count": 28,
   "metadata": {},
   "outputs": [
    {
     "data": {
      "text/plain": [
       "[Row(measured='AWDR', count=17264),\n",
       " Row(measured='AWND', count=360547),\n",
       " Row(measured='DAPR', count=80250),\n",
       " Row(measured='DASF', count=2),\n",
       " Row(measured='EVAP', count=43562),\n",
       " Row(measured='MDPR', count=79392),\n",
       " Row(measured='MDSF', count=2),\n",
       " Row(measured='MNPN', count=20710),\n",
       " Row(measured='MXPN', count=21216),\n",
       " Row(measured='PGTM', count=78011),\n",
       " Row(measured='PRCP', count=7469136),\n",
       " Row(measured='PSUN', count=963),\n",
       " Row(measured='SN31', count=4957),\n",
       " Row(measured='SN32', count=46877),\n",
       " Row(measured='SN33', count=4087),\n",
       " Row(measured='SN35', count=1262),\n",
       " Row(measured='SN36', count=603),\n",
       " Row(measured='SN51', count=1694),\n",
       " Row(measured='SN52', count=18246),\n",
       " Row(measured='SN53', count=2345),\n",
       " Row(measured='SN55', count=1056),\n",
       " Row(measured='SN56', count=640),\n",
       " Row(measured='SNOW', count=4138057),\n",
       " Row(measured='SNWD', count=2416217),\n",
       " Row(measured='SX31', count=4956),\n",
       " Row(measured='SX32', count=47154),\n",
       " Row(measured='SX33', count=4083),\n",
       " Row(measured='SX35', count=1628),\n",
       " Row(measured='SX36', count=969),\n",
       " Row(measured='SX51', count=1695),\n",
       " Row(measured='SX52', count=18607),\n",
       " Row(measured='SX53', count=2345),\n",
       " Row(measured='SX55', count=1057),\n",
       " Row(measured='SX56', count=640),\n",
       " Row(measured='TAVG', count=850731),\n",
       " Row(measured='THIC', count=950),\n",
       " Row(measured='TMAX', count=2663096),\n",
       " Row(measured='TMIN', count=2661770),\n",
       " Row(measured='TOBS', count=1685014),\n",
       " Row(measured='TSUN', count=958),\n",
       " Row(measured='WDF2', count=331267),\n",
       " Row(measured='WDF5', count=329236),\n",
       " Row(measured='WDFG', count=10539),\n",
       " Row(measured='WDMV', count=32518),\n",
       " Row(measured='WESD', count=502765),\n",
       " Row(measured='WESF', count=259989),\n",
       " Row(measured='WSF2', count=331309),\n",
       " Row(measured='WSF5', count=329387),\n",
       " Row(measured='WSFG', count=15141),\n",
       " Row(measured='WSFI', count=17264),\n",
       " Row(measured='WT01', count=141111),\n",
       " Row(measured='WT02', count=17542),\n",
       " Row(measured='WT03', count=53528),\n",
       " Row(measured='WT04', count=3124),\n",
       " Row(measured='WT05', count=2105),\n",
       " Row(measured='WT06', count=4445),\n",
       " Row(measured='WT07', count=123),\n",
       " Row(measured='WT08', count=37408),\n",
       " Row(measured='WT09', count=514),\n",
       " Row(measured='WT10', count=16),\n",
       " Row(measured='WT11', count=3969)]"
      ]
     },
     "execution_count": 28,
     "metadata": {},
     "output_type": "execute_result"
    }
   ],
   "source": [
    "l_elements= weather_2020.groupBy(\"measured\").count().orderBy(\"measured\").collect()\n",
    "l_elements"
   ]
  },
  {
   "cell_type": "code",
   "execution_count": 29,
   "metadata": {},
   "outputs": [
    {
     "data": {
      "text/plain": [
       "[Row(measured='DASF', count=2),\n",
       " Row(measured='MDSF', count=2),\n",
       " Row(measured='WT10', count=16),\n",
       " Row(measured='WT07', count=123),\n",
       " Row(measured='WT09', count=514),\n",
       " Row(measured='SN36', count=603),\n",
       " Row(measured='SN56', count=640),\n",
       " Row(measured='SX56', count=640),\n",
       " Row(measured='THIC', count=950),\n",
       " Row(measured='TSUN', count=958),\n",
       " Row(measured='PSUN', count=963),\n",
       " Row(measured='SX36', count=969),\n",
       " Row(measured='SN55', count=1056),\n",
       " Row(measured='SX55', count=1057),\n",
       " Row(measured='SN35', count=1262),\n",
       " Row(measured='SX35', count=1628),\n",
       " Row(measured='SN51', count=1694),\n",
       " Row(measured='SX51', count=1695),\n",
       " Row(measured='WT05', count=2105),\n",
       " Row(measured='SN53', count=2345),\n",
       " Row(measured='SX53', count=2345),\n",
       " Row(measured='WT04', count=3124),\n",
       " Row(measured='WT11', count=3969),\n",
       " Row(measured='SX33', count=4083),\n",
       " Row(measured='SN33', count=4087),\n",
       " Row(measured='WT06', count=4445),\n",
       " Row(measured='SX31', count=4956),\n",
       " Row(measured='SN31', count=4957),\n",
       " Row(measured='WDFG', count=10539),\n",
       " Row(measured='WSFG', count=15141),\n",
       " Row(measured='AWDR', count=17264),\n",
       " Row(measured='WSFI', count=17264),\n",
       " Row(measured='WT02', count=17542),\n",
       " Row(measured='SN52', count=18246),\n",
       " Row(measured='SX52', count=18607),\n",
       " Row(measured='MNPN', count=20710),\n",
       " Row(measured='MXPN', count=21216),\n",
       " Row(measured='WDMV', count=32518),\n",
       " Row(measured='WT08', count=37408),\n",
       " Row(measured='EVAP', count=43562),\n",
       " Row(measured='SN32', count=46877),\n",
       " Row(measured='SX32', count=47154),\n",
       " Row(measured='WT03', count=53528),\n",
       " Row(measured='PGTM', count=78011),\n",
       " Row(measured='MDPR', count=79392),\n",
       " Row(measured='DAPR', count=80250),\n",
       " Row(measured='WT01', count=141111),\n",
       " Row(measured='WESF', count=259989),\n",
       " Row(measured='WDF5', count=329236),\n",
       " Row(measured='WSF5', count=329387),\n",
       " Row(measured='WDF2', count=331267),\n",
       " Row(measured='WSF2', count=331309),\n",
       " Row(measured='AWND', count=360547),\n",
       " Row(measured='WESD', count=502765),\n",
       " Row(measured='TAVG', count=850731),\n",
       " Row(measured='TOBS', count=1685014),\n",
       " Row(measured='SNWD', count=2416217),\n",
       " Row(measured='TMIN', count=2661770),\n",
       " Row(measured='TMAX', count=2663096),\n",
       " Row(measured='SNOW', count=4138057),\n",
       " Row(measured='PRCP', count=7469136)]"
      ]
     },
     "execution_count": 29,
     "metadata": {},
     "output_type": "execute_result"
    }
   ],
   "source": [
    "sorted(l_elements, key = lambda a :a[\"count\"])"
   ]
  },
  {
   "cell_type": "code",
   "execution_count": 30,
   "metadata": {},
   "outputs": [],
   "source": [
    "measurements = [\"PRCP\",\"TMAX\",\"TMIN\", \"TOBS\", \"SNOW\", \"SNWD\"]"
   ]
  },
  {
   "cell_type": "code",
   "execution_count": 31,
   "metadata": {},
   "outputs": [],
   "source": [
    "#weather_2020.write.partitionedBy( \"date\").format(\"parquet\").save(\"weather_2020_with_stations.parquet\")"
   ]
  },
  {
   "cell_type": "code",
   "execution_count": 32,
   "metadata": {},
   "outputs": [
    {
     "name": "stdout",
     "output_type": "stream",
     "text": [
      "CPU times: user 15.3 ms, sys: 3.94 ms, total: 19.3 ms\n",
      "Wall time: 1min 23s\n"
     ]
    },
    {
     "data": {
      "text/plain": [
       "366"
      ]
     },
     "execution_count": 32,
     "metadata": {},
     "output_type": "execute_result"
    }
   ],
   "source": [
    "%%time\n",
    "weather_2020.select(\"date\").distinct().count()"
   ]
  },
  {
   "cell_type": "markdown",
   "metadata": {},
   "source": [
    "## Filter data"
   ]
  },
  {
   "cell_type": "markdown",
   "metadata": {},
   "source": [
    "### Remove rows with quality control failed"
   ]
  },
  {
   "cell_type": "code",
   "execution_count": 33,
   "metadata": {},
   "outputs": [],
   "source": [
    "weather_2020 = weather_2020.filter( weather_2020[\"v3\"].isNull())"
   ]
  },
  {
   "cell_type": "code",
   "execution_count": 34,
   "metadata": {},
   "outputs": [
    {
     "name": "stdout",
     "output_type": "stream",
     "text": [
      "root\n",
      " |-- station_id: string (nullable = true)\n",
      " |-- date: string (nullable = true)\n",
      " |-- measured: string (nullable = true)\n",
      " |-- v1: string (nullable = true)\n",
      " |-- v2: string (nullable = true)\n",
      " |-- v3: string (nullable = true)\n",
      " |-- v4: string (nullable = true)\n",
      " |-- v5: string (nullable = true)\n",
      " |-- latitude: double (nullable = true)\n",
      " |-- longitude: double (nullable = true)\n",
      " |-- elevation: double (nullable = true)\n",
      " |-- state: string (nullable = true)\n",
      " |-- station_name: string (nullable = true)\n",
      "\n"
     ]
    }
   ],
   "source": [
    "weather_2020.printSchema()"
   ]
  },
  {
   "cell_type": "code",
   "execution_count": 35,
   "metadata": {},
   "outputs": [
    {
     "name": "stdout",
     "output_type": "stream",
     "text": [
      "CPU times: user 51.3 ms, sys: 22 ms, total: 73.3 ms\n",
      "Wall time: 5min 57s\n"
     ]
    }
   ],
   "source": [
    "%%time\n",
    "weather_2020.select(\"station_id\",\"date\",\"measured\",\"v1\")\\\n",
    "    .write.partitionBy( \"date\").format(\"parquet\").mode(\"overwrite\").save(\"weather_2020_with_stations.parquet\")"
   ]
  },
  {
   "cell_type": "code",
   "execution_count": 36,
   "metadata": {},
   "outputs": [
    {
     "name": "stdout",
     "output_type": "stream",
     "text": [
      "root\n",
      " |-- station_id: string (nullable = true)\n",
      " |-- date: string (nullable = true)\n",
      " |-- measured: string (nullable = true)\n",
      " |-- v1: string (nullable = true)\n",
      " |-- v2: string (nullable = true)\n",
      " |-- v3: string (nullable = true)\n",
      " |-- v4: string (nullable = true)\n",
      " |-- v5: string (nullable = true)\n",
      " |-- latitude: double (nullable = true)\n",
      " |-- longitude: double (nullable = true)\n",
      " |-- elevation: double (nullable = true)\n",
      " |-- state: string (nullable = true)\n",
      " |-- station_name: string (nullable = true)\n",
      "\n"
     ]
    }
   ],
   "source": [
    "weather_2020.printSchema()"
   ]
  },
  {
   "cell_type": "markdown",
   "metadata": {},
   "source": [
    "### Check that there is only 1 measurement per (date, station, metric)"
   ]
  },
  {
   "cell_type": "code",
   "execution_count": 37,
   "metadata": {},
   "outputs": [],
   "source": [
    "too_much_measures = weather_2020.groupBy(\"date\", \"station_id\", \"measured\").count().filter( \"count > 1\")"
   ]
  },
  {
   "cell_type": "code",
   "execution_count": 38,
   "metadata": {},
   "outputs": [
    {
     "name": "stdout",
     "output_type": "stream",
     "text": [
      "CPU times: user 10.1 ms, sys: 7.15 ms, total: 17.2 ms\n",
      "Wall time: 1min 21s\n"
     ]
    },
    {
     "data": {
      "text/plain": [
       "0"
      ]
     },
     "execution_count": 38,
     "metadata": {},
     "output_type": "execute_result"
    }
   ],
   "source": [
    "%%time \n",
    "too_much_measures.count()"
   ]
  },
  {
   "cell_type": "code",
   "execution_count": 39,
   "metadata": {},
   "outputs": [
    {
     "name": "stdout",
     "output_type": "stream",
     "text": [
      "+--------+-----+\n",
      "|    date|count|\n",
      "+--------+-----+\n",
      "|20200417|71415|\n",
      "|20200416|71276|\n",
      "|20200810|71074|\n",
      "|20201026|70968|\n",
      "|20201006|70967|\n",
      "|20201007|70850|\n",
      "|20200916|70844|\n",
      "|20200921|70754|\n",
      "|20200908|70727|\n",
      "|20200812|70696|\n",
      "+--------+-----+\n",
      "only showing top 10 rows\n",
      "\n"
     ]
    }
   ],
   "source": [
    "weather_2020.groupBy(\"date\").count().orderBy( F.col(\"count\").desc()).show(10)"
   ]
  },
  {
   "cell_type": "markdown",
   "metadata": {},
   "source": [
    "# Specialized vs generic stations"
   ]
  },
  {
   "cell_type": "code",
   "execution_count": 35,
   "metadata": {},
   "outputs": [],
   "source": [
    "groupby_station_element = weather_2020.groupBy(\"station_id\", \"measured\").agg( F.count(\"date\").alias(\"nb_days\"))"
   ]
  },
  {
   "cell_type": "code",
   "execution_count": 36,
   "metadata": {},
   "outputs": [
    {
     "name": "stdout",
     "output_type": "stream",
     "text": [
      "root\n",
      " |-- station_id: string (nullable = true)\n",
      " |-- measured: string (nullable = true)\n",
      " |-- nb_days: long (nullable = false)\n",
      "\n"
     ]
    }
   ],
   "source": [
    "groupby_station_element.printSchema()"
   ]
  },
  {
   "cell_type": "code",
   "execution_count": null,
   "metadata": {},
   "outputs": [],
   "source": [
    "df_stations_minnbmeasurements= groupby_station_element.groupBy(\"station_id\").min(\"nb_days\").toPandas()"
   ]
  },
  {
   "cell_type": "code",
   "execution_count": null,
   "metadata": {},
   "outputs": [],
   "source": [
    "df_stations_minnbmeasurements.head()"
   ]
  },
  {
   "cell_type": "code",
   "execution_count": 137,
   "metadata": {},
   "outputs": [
    {
     "data": {
      "text/plain": [
       "array([[<AxesSubplot:title={'center':'min(nb_days)'}>]], dtype=object)"
      ]
     },
     "execution_count": 137,
     "metadata": {},
     "output_type": "execute_result"
    },
    {
     "data": {
      "image/png": "[encoded data removed]",
      "text/plain": [
       "<Figure size 432x288 with 1 Axes>"
      ]
     },
     "metadata": {
      "needs_background": "light"
     },
     "output_type": "display_data"
    }
   ],
   "source": [
    "df_stations_minnbmeasurements.hist()"
   ]
  },
  {
   "cell_type": "code",
   "execution_count": null,
   "metadata": {},
   "outputs": [],
   "source": [
    "df_stations_maxnbmeasurements= groupby_station_element.groupBy(\"station_id\").max(\"nb_days\").toPandas()"
   ]
  },
  {
   "cell_type": "code",
   "execution_count": 138,
   "metadata": {},
   "outputs": [
    {
     "data": {
      "text/plain": [
       "array([[<AxesSubplot:title={'center':'max(nb_days)'}>]], dtype=object)"
      ]
     },
     "execution_count": 138,
     "metadata": {},
     "output_type": "execute_result"
    },
    {
     "data": {
      "image/png": "[encoded data removed]",
      "text/plain": [
       "<Figure size 432x288 with 1 Axes>"
      ]
     },
     "metadata": {
      "needs_background": "light"
     },
     "output_type": "display_data"
    }
   ],
   "source": [
    "df_stations_maxnbmeasurements.hist()"
   ]
  },
  {
   "cell_type": "markdown",
   "metadata": {},
   "source": [
    "**Conclusion : most of the stations are specialized in a few elements. For therse elements, they output a measure almost every day. For the other elements, they almost never output a measure.** "
   ]
  },
  {
   "cell_type": "code",
   "execution_count": null,
   "metadata": {},
   "outputs": [],
   "source": [
    "nb_snowfall_perdate = weather_2020.filter( weather_2020[\"measured\"] == \"SNOW\").groupBy(\"date\").count().orderBy(\"date\").toPandas()"
   ]
  },
  {
   "cell_type": "code",
   "execution_count": null,
   "metadata": {},
   "outputs": [],
   "source": [
    "#### !!!!!!!!!!! must user .values for constructing series from dataframe with explicit index !!!!!!!!!!\n",
    "snowfall_serie = pd.Series( nb_snowfall_perdate[\"count\"].values, index =pd.to_datetime(nb_snowfall_perdate[\"date\"]) )"
   ]
  },
  {
   "cell_type": "code",
   "execution_count": 134,
   "metadata": {},
   "outputs": [
    {
     "data": {
      "text/plain": [
       "<AxesSubplot:xlabel='date'>"
      ]
     },
     "execution_count": 134,
     "metadata": {},
     "output_type": "execute_result"
    },
    {
     "data": {
      "image/png": "[encoded data removed]",
      "text/plain": [
       "<Figure size 432x288 with 1 Axes>"
      ]
     },
     "metadata": {
      "needs_background": "light"
     },
     "output_type": "display_data"
    }
   ],
   "source": [
    "snowfall_serie.plot()"
   ]
  },
  {
   "cell_type": "code",
   "execution_count": 135,
   "metadata": {},
   "outputs": [
    {
     "name": "stdout",
     "output_type": "stream",
     "text": [
      "root\n",
      " |-- station_id: string (nullable = true)\n",
      " |-- measured: string (nullable = true)\n",
      " |-- nb_days: long (nullable = false)\n",
      "\n"
     ]
    }
   ],
   "source": [
    "groupby_station_element.printSchema()"
   ]
  },
  {
   "cell_type": "markdown",
   "metadata": {},
   "source": [
    "keep only (station, element) where a measure exist almost everyday "
   ]
  },
  {
   "cell_type": "code",
   "execution_count": 40,
   "metadata": {},
   "outputs": [],
   "source": [
    "groupby_station_element_filtered = groupby_station_element.filter( groupby_station_element[\"nb_days\"] >350)"
   ]
  },
  {
   "cell_type": "code",
   "execution_count": 39,
   "metadata": {},
   "outputs": [
    {
     "name": "stdout",
     "output_type": "stream",
     "text": [
      "CPU times: user 18.3 ms, sys: 122 µs, total: 18.4 ms\n",
      "Wall time: 1min 20s\n"
     ]
    },
    {
     "data": {
      "text/plain": [
       "50108"
      ]
     },
     "execution_count": 39,
     "metadata": {},
     "output_type": "execute_result"
    }
   ],
   "source": [
    "%%time\n",
    "groupby_station_element_filtered.count()"
   ]
  },
  {
   "cell_type": "code",
   "execution_count": 41,
   "metadata": {},
   "outputs": [
    {
     "name": "stdout",
     "output_type": "stream",
     "text": [
      "CPU times: user 12.8 ms, sys: 3.58 ms, total: 16.4 ms\n",
      "Wall time: 1min 1s\n"
     ]
    },
    {
     "data": {
      "text/plain": [
       "41051"
      ]
     },
     "execution_count": 41,
     "metadata": {},
     "output_type": "execute_result"
    }
   ],
   "source": [
    "%%time\n",
    "groupby_station_element.select(\"station_id\").distinct().count()"
   ]
  },
  {
   "cell_type": "code",
   "execution_count": 44,
   "metadata": {},
   "outputs": [],
   "source": [
    "# stations with at least 1 element with > 350 measurements\n",
    "filtered_stations = groupby_station_element_filtered.select(\"station_id\").distinct()"
   ]
  },
  {
   "cell_type": "code",
   "execution_count": 149,
   "metadata": {},
   "outputs": [
    {
     "data": {
      "text/plain": [
       "227.59613353482084"
      ]
     },
     "execution_count": 149,
     "metadata": {},
     "output_type": "execute_result"
    }
   ],
   "source": [
    "np.sqrt(51800)"
   ]
  },
  {
   "cell_type": "code",
   "execution_count": 155,
   "metadata": {},
   "outputs": [
    {
     "data": {
      "text/plain": [
       "station_id      3305\n",
       "min(nb_days)    3305\n",
       "dtype: int64"
      ]
     },
     "execution_count": 155,
     "metadata": {},
     "output_type": "execute_result"
    }
   ],
   "source": [
    "df_stations_minnbmeasurements[ df_stations_minnbmeasurements[\"min(nb_days)\"] > 350].count()"
   ]
  },
  {
   "cell_type": "code",
   "execution_count": 154,
   "metadata": {},
   "outputs": [
    {
     "data": {
      "text/html": [
       "<div>\n",
       "<style scoped>\n",
       "    .dataframe tbody tr th:only-of-type {\n",
       "        vertical-align: middle;\n",
       "    }\n",
       "\n",
       "    .dataframe tbody tr th {\n",
       "        vertical-align: top;\n",
       "    }\n",
       "\n",
       "    .dataframe thead th {\n",
       "        text-align: right;\n",
       "    }\n",
       "</style>\n",
       "<table border=\"1\" class=\"dataframe\">\n",
       "  <thead>\n",
       "    <tr style=\"text-align: right;\">\n",
       "      <th></th>\n",
       "      <th>station_id</th>\n",
       "      <th>min(nb_days)</th>\n",
       "    </tr>\n",
       "  </thead>\n",
       "  <tbody>\n",
       "    <tr>\n",
       "      <th>0</th>\n",
       "      <td>US10keit020</td>\n",
       "      <td>10</td>\n",
       "    </tr>\n",
       "    <tr>\n",
       "      <th>1</th>\n",
       "      <td>US10pawn007</td>\n",
       "      <td>20</td>\n",
       "    </tr>\n",
       "    <tr>\n",
       "      <th>2</th>\n",
       "      <td>US10perk021</td>\n",
       "      <td>323</td>\n",
       "    </tr>\n",
       "    <tr>\n",
       "      <th>3</th>\n",
       "      <td>US10shem003</td>\n",
       "      <td>1</td>\n",
       "    </tr>\n",
       "    <tr>\n",
       "      <th>4</th>\n",
       "      <td>US1ARGN0006</td>\n",
       "      <td>2</td>\n",
       "    </tr>\n",
       "  </tbody>\n",
       "</table>\n",
       "</div>"
      ],
      "text/plain": [
       "    station_id  min(nb_days)\n",
       "0  US10keit020            10\n",
       "1  US10pawn007            20\n",
       "2  US10perk021           323\n",
       "3  US10shem003             1\n",
       "4  US1ARGN0006             2"
      ]
     },
     "execution_count": 154,
     "metadata": {},
     "output_type": "execute_result"
    }
   ],
   "source": [
    "df_stations_minnbmeasurements.head()"
   ]
  },
  {
   "cell_type": "code",
   "execution_count": null,
   "metadata": {},
   "outputs": [],
   "source": [
    "select_measures = weather_2020.filter( weather_2020[\"measured\"].isin(measurements ))"
   ]
  },
  {
   "cell_type": "code",
   "execution_count": null,
   "metadata": {},
   "outputs": [],
   "source": [
    "select_measures.count()"
   ]
  },
  {
   "cell_type": "code",
   "execution_count": null,
   "metadata": {},
   "outputs": [],
   "source": [
    "select_measures.printSchema()"
   ]
  },
  {
   "cell_type": "markdown",
   "metadata": {},
   "source": [
    "Check that there is only 1 measurement (per date, station, metric)"
   ]
  },
  {
   "cell_type": "code",
   "execution_count": null,
   "metadata": {},
   "outputs": [],
   "source": [
    "too_much_measures = select_measures.groupBy(\"date\", \"station_id\", \"measured\").count().filter( \"count > 1\")"
   ]
  },
  {
   "cell_type": "code",
   "execution_count": null,
   "metadata": {},
   "outputs": [],
   "source": [
    "too_much_measures.count()"
   ]
  },
  {
   "cell_type": "code",
   "execution_count": null,
   "metadata": {},
   "outputs": [],
   "source": [
    "select_measures = select_measures.select(\"station_id\", \"date\", \"measured\", \"v1\")\\\n",
    "    .groupBy(\"date\",\"station_id\", \"measured\")\\\n",
    "    .agg( F.first(\"v1\").alias(\"v1\"))"
   ]
  },
  {
   "cell_type": "code",
   "execution_count": null,
   "metadata": {},
   "outputs": [],
   "source": [
    "select_measures.printSchema()"
   ]
  },
  {
   "cell_type": "code",
   "execution_count": null,
   "metadata": {},
   "outputs": [],
   "source": [
    "pivoted_weather = select_measures.groupBy(\"station_id\", \"date\").pivot(\"measured\", measurements).agg(F.first(\"v1\").alias(\"v1\"))"
   ]
  },
  {
   "cell_type": "code",
   "execution_count": null,
   "metadata": {},
   "outputs": [],
   "source": [
    "pivoted_weather.count()"
   ]
  },
  {
   "cell_type": "code",
   "execution_count": null,
   "metadata": {},
   "outputs": [],
   "source": [
    "pivoted_weather.show(10)"
   ]
  },
  {
   "cell_type": "markdown",
   "metadata": {},
   "source": [
    "# Find closest station per fips"
   ]
  },
  {
   "cell_type": "code",
   "execution_count": 16,
   "metadata": {},
   "outputs": [],
   "source": [
    "gazeeter_county = spark.read.load(\"gazeeter_counties.csv\", format = \"csv\", sep = \",\", header = True)"
   ]
  },
  {
   "cell_type": "code",
   "execution_count": 17,
   "metadata": {},
   "outputs": [
    {
     "name": "stdout",
     "output_type": "stream",
     "text": [
      "root\n",
      " |-- _c0: string (nullable = true)\n",
      " |-- state: string (nullable = true)\n",
      " |-- county: string (nullable = true)\n",
      " |-- fips: string (nullable = true)\n",
      " |-- latitude: string (nullable = true)\n",
      " |-- longitude: string (nullable = true)\n",
      "\n"
     ]
    }
   ],
   "source": [
    "gazeeter_county.printSchema()"
   ]
  },
  {
   "cell_type": "code",
   "execution_count": 28,
   "metadata": {},
   "outputs": [],
   "source": [
    "gazeeter_county = gazeeter_county.withColumn(\"latitude\", F.col(\"latitude\").cast(T.DoubleType()) )\\\n",
    "                        .withColumn(\"longitude\", F.col(\"longitude\").cast(T.DoubleType()) )"
   ]
  },
  {
   "cell_type": "code",
   "execution_count": 29,
   "metadata": {},
   "outputs": [
    {
     "name": "stdout",
     "output_type": "stream",
     "text": [
      "root\n",
      " |-- _c0: string (nullable = true)\n",
      " |-- state: string (nullable = true)\n",
      " |-- county: string (nullable = true)\n",
      " |-- fips: string (nullable = true)\n",
      " |-- latitude: double (nullable = true)\n",
      " |-- longitude: double (nullable = true)\n",
      "\n"
     ]
    }
   ],
   "source": [
    "gazeeter_county.printSchema()"
   ]
  },
  {
   "cell_type": "code",
   "execution_count": 30,
   "metadata": {},
   "outputs": [
    {
     "data": {
      "text/plain": [
       "[Row(_c0='0', state='AL', county='Autauga County', fips='01001', latitude=32.532237, longitude=-86.64644),\n",
       " Row(_c0='1', state='AL', county='Baldwin County', fips='01003', latitude=30.659218, longitude=-87.746067),\n",
       " Row(_c0='2', state='AL', county='Barbour County', fips='01005', latitude=31.870253, longitude=-85.405104),\n",
       " Row(_c0='3', state='AL', county='Bibb County', fips='01007', latitude=33.015893, longitude=-87.127148),\n",
       " Row(_c0='4', state='AL', county='Blount County', fips='01009', latitude=33.977358, longitude=-86.56644),\n",
       " Row(_c0='5', state='AL', county='Bullock County', fips='01011', latitude=32.101759, longitude=-85.717261),\n",
       " Row(_c0='6', state='AL', county='Butler County', fips='01013', latitude=31.751667, longitude=-86.681969),\n",
       " Row(_c0='7', state='AL', county='Calhoun County', fips='01015', latitude=33.770516, longitude=-85.827909),\n",
       " Row(_c0='8', state='AL', county='Chambers County', fips='01017', latitude=32.915504, longitude=-85.394032),\n",
       " Row(_c0='9', state='AL', county='Cherokee County', fips='01019', latitude=34.069515, longitude=-85.654242)]"
      ]
     },
     "execution_count": 30,
     "metadata": {},
     "output_type": "execute_result"
    }
   ],
   "source": [
    "gazeeter_county.take(10)"
   ]
  },
  {
   "cell_type": "code",
   "execution_count": null,
   "metadata": {},
   "outputs": [],
   "source": []
  }
 ],
 "metadata": {
  "kernelspec": {
   "display_name": "pyspark",
   "language": "python",
   "name": "pyspark"
  },
  "language_info": {
   "codemirror_mode": {
    "name": "ipython",
    "version": 3
   },
   "file_extension": ".py",
   "mimetype": "text/x-python",
   "name": "python",
   "nbconvert_exporter": "python",
   "pygments_lexer": "ipython3",
   "version": "3.7.9"
  },
  "toc": {
   "base_numbering": 1,
   "nav_menu": {},
   "number_sections": true,
   "sideBar": true,
   "skip_h1_title": false,
   "title_cell": "Table of Contents",
   "title_sidebar": "Contents",
   "toc_cell": false,
   "toc_position": {},
   "toc_section_display": true,
   "toc_window_display": false
  },
  "varInspector": {
   "cols": {
    "lenName": 16,
    "lenType": 16,
    "lenVar": 40
   },
   "kernels_config": {
    "python": {
     "delete_cmd_postfix": "",
     "delete_cmd_prefix": "del ",
     "library": "var_list.py",
     "varRefreshCmd": "print(var_dic_list())"
    },
    "r": {
     "delete_cmd_postfix": ") ",
     "delete_cmd_prefix": "rm(",
     "library": "var_list.r",
     "varRefreshCmd": "cat(var_dic_list()) "
    }
   },
   "types_to_exclude": [
    "module",
    "function",
    "builtin_function_or_method",
    "instance",
    "_Feature"
   ],
   "window_display": false
  }
 },
 "nbformat": 4,
 "nbformat_minor": 4
}
