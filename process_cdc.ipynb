{
 "cells": [
  {
   "cell_type": "code",
   "execution_count": 170,
   "metadata": {},
   "outputs": [],
   "source": [
    "import configparser\n",
    "import os\n",
    "import pyspark\n",
    "from pyspark import SparkConf\n",
    "from pyspark.sql import SparkSession\n",
    "import pyspark.sql.functions as F\n",
    "import pyspark.sql.types as T\n",
    "from pyspark.sql.functions import udf, col, lit\n",
    "from pyspark.sql.types import MapType, StringType, DateType\n",
    "from collections import OrderedDict\n",
    "import pandas as pd\n",
    "import numpy as np"
   ]
  },
  {
   "cell_type": "code",
   "execution_count": 2,
   "metadata": {},
   "outputs": [],
   "source": [
    "config = configparser.ConfigParser()\n",
    "config.read(\"capstone.cfg\")\n",
    "\n",
    "os.chdir(config[\"PATH\"][\"project\"])\n",
    "project_path = config[\"PATH\"][\"project\"]\n"
   ]
  },
  {
   "cell_type": "code",
   "execution_count": 3,
   "metadata": {},
   "outputs": [],
   "source": [
    "def create_spark_session():\n",
    "    spark = SparkSession \\\n",
    "        .builder \\\n",
    "        .appName(\"covid_DB\") \\\n",
    "        .getOrCreate()\n",
    "    \n",
    "    return spark"
   ]
  },
  {
   "cell_type": "code",
   "execution_count": 4,
   "metadata": {},
   "outputs": [],
   "source": [
    "spark = create_spark_session()"
   ]
  },
  {
   "cell_type": "code",
   "execution_count": 139,
   "metadata": {},
   "outputs": [],
   "source": [
    "df_cdc_raw = spark.read.json(os.path.join( project_path, \"DATA\",\"covid_by_pop_group.json\"),\n",
    "                        multiLine = True)"
   ]
  },
  {
   "cell_type": "code",
   "execution_count": 140,
   "metadata": {},
   "outputs": [
    {
     "data": {
      "text/plain": [
       "95735"
      ]
     },
     "execution_count": 140,
     "metadata": {},
     "output_type": "execute_result"
    }
   ],
   "source": [
    "df_cdc_raw.count()"
   ]
  },
  {
   "cell_type": "code",
   "execution_count": 141,
   "metadata": {},
   "outputs": [
    {
     "name": "stdout",
     "output_type": "stream",
     "text": [
      "root\n",
      " |-- age_group: string (nullable = true)\n",
      " |-- cdc_case_earliest_dt: string (nullable = true)\n",
      " |-- count: string (nullable = true)\n",
      " |-- race_ethnicity_combined: string (nullable = true)\n",
      " |-- sex: string (nullable = true)\n",
      "\n"
     ]
    }
   ],
   "source": [
    "df_cdc_raw.printSchema()"
   ]
  },
  {
   "cell_type": "code",
   "execution_count": 142,
   "metadata": {},
   "outputs": [
    {
     "name": "stdout",
     "output_type": "stream",
     "text": [
      "+-------------+--------------------+-----+-----------------------+-------+\n",
      "|    age_group|cdc_case_earliest_dt|count|race_ethnicity_combined|    sex|\n",
      "+-------------+--------------------+-----+-----------------------+-------+\n",
      "|    80+ Years|2021-01-07T00:00:...|    1|                Unknown|Missing|\n",
      "|    80+ Years|2020-12-20T00:00:...|   24|    White, Non-Hispanic|Unknown|\n",
      "|30 - 39 Years|2020-12-07T00:00:...|   30|                Unknown|Missing|\n",
      "|    80+ Years|2020-12-27T00:00:...|   55|    Asian, Non-Hispanic|   Male|\n",
      "|20 - 29 Years|2020-12-09T00:00:...|  663|    Black, Non-Hispanic|   Male|\n",
      "+-------------+--------------------+-----+-----------------------+-------+\n",
      "only showing top 5 rows\n",
      "\n"
     ]
    }
   ],
   "source": [
    "df_cdc_raw.show(5)"
   ]
  },
  {
   "cell_type": "markdown",
   "metadata": {},
   "source": [
    "## Create dimension tables"
   ]
  },
  {
   "cell_type": "code",
   "execution_count": 110,
   "metadata": {},
   "outputs": [],
   "source": [
    "dim_age = spark.createDataFrame(\n",
    "    data = [\n",
    "            (0,  '0 - 9 Years'),\n",
    "            (10, '10 - 19 Years'),\n",
    "            (20, '20 - 29 Years'),\n",
    "            (30, '30 - 39 Years'),\n",
    "            (40, '40 - 49 Years'),\n",
    "            (50, '50 - 59 Years'),\n",
    "            (60, '60 - 69 Years'),\n",
    "            (70, '70 - 79 Years'),\n",
    "            (80, '80+ Years'),\n",
    "            (1000,'Missing'),\n",
    "            (2000,'NA') ],\n",
    "    schema = [\"age_group_id\", \"age_group\"]\n",
    "    \n",
    ")"
   ]
  },
  {
   "cell_type": "code",
   "execution_count": 111,
   "metadata": {},
   "outputs": [
    {
     "name": "stdout",
     "output_type": "stream",
     "text": [
      "root\n",
      " |-- age_group_id: long (nullable = true)\n",
      " |-- age_group: string (nullable = true)\n",
      "\n"
     ]
    }
   ],
   "source": [
    "dim_age.printSchema()"
   ]
  },
  {
   "cell_type": "code",
   "execution_count": 32,
   "metadata": {},
   "outputs": [
    {
     "name": "stdout",
     "output_type": "stream",
     "text": [
      "+------------+-------------+\n",
      "|age_group_id|    age_group|\n",
      "+------------+-------------+\n",
      "|           0|  0 - 9 Years|\n",
      "|          10|10 - 19 Years|\n",
      "|          20|20 - 29 Years|\n",
      "|          30|30 - 39 Years|\n",
      "|          40|40 - 49 Years|\n",
      "|          50|50 - 59 Years|\n",
      "|          60|60 - 69 Years|\n",
      "|          70|70 - 79 Years|\n",
      "|          80|    80+ Years|\n",
      "|        1000|      Missing|\n",
      "|        2000|           NA|\n",
      "+------------+-------------+\n",
      "\n"
     ]
    }
   ],
   "source": [
    "dim_age.show()"
   ]
  },
  {
   "cell_type": "code",
   "execution_count": 23,
   "metadata": {},
   "outputs": [],
   "source": [
    "l_race_ethnicity = ['American Indian/Alaska Native, Non-Hispanic',\n",
    " 'Asian, Non-Hispanic',\n",
    " 'Black, Non-Hispanic',\n",
    " 'Hispanic/Latino',\n",
    " 'Missing',\n",
    " 'Multiple/Other, Non-Hispanic',\n",
    " 'NA',\n",
    " 'Native Hawaiian/Other Pacific Islander, Non-Hispanic',\n",
    " 'Unknown',\n",
    " 'White, Non-Hispanic']"
   ]
  },
  {
   "cell_type": "code",
   "execution_count": 24,
   "metadata": {},
   "outputs": [
    {
     "data": {
      "text/plain": [
       "['American Indian/Alaska Native',\n",
       " 'Asian',\n",
       " 'Black',\n",
       " 'Hispanic/Latino',\n",
       " 'Missing',\n",
       " 'Multiple/Other',\n",
       " 'NA',\n",
       " 'Native Hawaiian/Other Pacific Islander',\n",
       " 'Unknown',\n",
       " 'White']"
      ]
     },
     "execution_count": 24,
     "metadata": {},
     "output_type": "execute_result"
    }
   ],
   "source": [
    "l_race = [ a.split(\",\")[0] for a in l_race_ethnicity]\n",
    "l_race"
   ]
  },
  {
   "cell_type": "code",
   "execution_count": 123,
   "metadata": {},
   "outputs": [],
   "source": [
    "dim_race_ethnicity = spark.createDataFrame(\n",
    "    data = [ (0, 'American Indian/Alaska Native', False),\n",
    "             (1, 'Asian', False),\n",
    "             (2, 'Black', False),\n",
    "             (3, 'Native Hawaiian/Other Pacific Islander', False),\n",
    "             (4, 'White', False),\n",
    "             (5, 'Hispanic/Latino', True),\n",
    "             (10, 'Multiple/Other', None),\n",
    "             (1000, 'Missing', None),\n",
    "             (2000, 'NA', None),\n",
    "             (3000, 'Unknown', None)\n",
    "           ],\n",
    "    schema = [\"race_ethnicity_id\", \"race\", \"Hispanic_Latino\"]\n",
    ")"
   ]
  },
  {
   "cell_type": "code",
   "execution_count": 124,
   "metadata": {},
   "outputs": [
    {
     "name": "stdout",
     "output_type": "stream",
     "text": [
      "root\n",
      " |-- race_ethnicity_id: long (nullable = true)\n",
      " |-- race: string (nullable = true)\n",
      " |-- Hispanic_Latino: boolean (nullable = true)\n",
      "\n"
     ]
    }
   ],
   "source": [
    "dim_race_ethnicity.printSchema()"
   ]
  },
  {
   "cell_type": "code",
   "execution_count": 125,
   "metadata": {},
   "outputs": [
    {
     "name": "stdout",
     "output_type": "stream",
     "text": [
      "+-----------------+--------------------+---------------+\n",
      "|race_ethnicity_id|                race|Hispanic_Latino|\n",
      "+-----------------+--------------------+---------------+\n",
      "|                0|American Indian/A...|          false|\n",
      "|                1|               Asian|          false|\n",
      "|                2|               Black|          false|\n",
      "|                3|Native Hawaiian/O...|          false|\n",
      "|                4|               White|          false|\n",
      "|                5|     Hispanic/Latino|           true|\n",
      "|               10|      Multiple/Other|           null|\n",
      "|             1000|             Missing|           null|\n",
      "|             2000|                  NA|           null|\n",
      "|             3000|             Unknown|           null|\n",
      "+-----------------+--------------------+---------------+\n",
      "\n"
     ]
    }
   ],
   "source": [
    "dim_race_ethnicity.show()"
   ]
  },
  {
   "cell_type": "code",
   "execution_count": 36,
   "metadata": {},
   "outputs": [],
   "source": [
    "dim_sex = spark.createDataFrame(\n",
    "    data = [ (0, 'Female'), \n",
    "             (1, 'Male'), \n",
    "             (2, 'Other'), \n",
    "             (1000, 'Missing'), \n",
    "             (2000, 'NA'), \n",
    "             (3000, 'Unknown')        \n",
    "            ],\n",
    "    schema = [ \"sex_id\", \"sex\"]\n",
    ")"
   ]
  },
  {
   "cell_type": "code",
   "execution_count": 37,
   "metadata": {},
   "outputs": [
    {
     "name": "stdout",
     "output_type": "stream",
     "text": [
      "root\n",
      " |-- sex_id: long (nullable = true)\n",
      " |-- sex: string (nullable = true)\n",
      "\n"
     ]
    }
   ],
   "source": [
    "dim_sex.printSchema()"
   ]
  },
  {
   "cell_type": "code",
   "execution_count": 38,
   "metadata": {},
   "outputs": [
    {
     "name": "stdout",
     "output_type": "stream",
     "text": [
      "+------+-------+\n",
      "|sex_id|    sex|\n",
      "+------+-------+\n",
      "|     0| Female|\n",
      "|     1|   Male|\n",
      "|     2|  Other|\n",
      "|  1000|Missing|\n",
      "|  2000|     NA|\n",
      "|  3000|Unknown|\n",
      "+------+-------+\n",
      "\n"
     ]
    }
   ],
   "source": [
    "dim_sex.show()"
   ]
  },
  {
   "cell_type": "code",
   "execution_count": 163,
   "metadata": {},
   "outputs": [],
   "source": [
    "df_dates = df_cdc_raw.select(\"cdc_case_earliest_dt\").distinct().sort(col(\"cdc_case_earliest_dt\").desc() )"
   ]
  },
  {
   "cell_type": "code",
   "execution_count": 164,
   "metadata": {},
   "outputs": [
    {
     "data": {
      "text/plain": [
       "441"
      ]
     },
     "execution_count": 164,
     "metadata": {},
     "output_type": "execute_result"
    }
   ],
   "source": [
    "df_dates.count()"
   ]
  },
  {
   "cell_type": "code",
   "execution_count": 166,
   "metadata": {},
   "outputs": [
    {
     "name": "stdout",
     "output_type": "stream",
     "text": [
      "+--------------------+\n",
      "|cdc_case_earliest_dt|\n",
      "+--------------------+\n",
      "|2021-03-16T00:00:...|\n",
      "|2021-03-15T00:00:...|\n",
      "|2021-03-14T00:00:...|\n",
      "|2021-03-13T00:00:...|\n",
      "|2021-03-12T00:00:...|\n",
      "+--------------------+\n",
      "only showing top 5 rows\n",
      "\n"
     ]
    }
   ],
   "source": [
    "df_dates.show(5)"
   ]
  },
  {
   "cell_type": "code",
   "execution_count": 173,
   "metadata": {},
   "outputs": [],
   "source": [
    "df_dates = df_dates.withColumn(\"date\", col(\"cdc_case_earliest_dt\").cast(DateType()))"
   ]
  },
  {
   "cell_type": "code",
   "execution_count": 174,
   "metadata": {},
   "outputs": [
    {
     "name": "stdout",
     "output_type": "stream",
     "text": [
      "+--------------------+----------+\n",
      "|cdc_case_earliest_dt|      date|\n",
      "+--------------------+----------+\n",
      "|2021-03-16T00:00:...|2021-03-16|\n",
      "|2021-03-15T00:00:...|2021-03-15|\n",
      "|2021-03-14T00:00:...|2021-03-14|\n",
      "|2021-03-13T00:00:...|2021-03-13|\n",
      "|2021-03-12T00:00:...|2021-03-12|\n",
      "|2021-03-11T00:00:...|2021-03-11|\n",
      "|2021-03-10T00:00:...|2021-03-10|\n",
      "|2021-03-09T00:00:...|2021-03-09|\n",
      "|2021-03-08T00:00:...|2021-03-08|\n",
      "|2021-03-07T00:00:...|2021-03-07|\n",
      "|2021-03-06T00:00:...|2021-03-06|\n",
      "|2021-03-05T00:00:...|2021-03-05|\n",
      "|2021-03-04T00:00:...|2021-03-04|\n",
      "|2021-03-03T00:00:...|2021-03-03|\n",
      "|2021-03-02T00:00:...|2021-03-02|\n",
      "|2021-03-01T00:00:...|2021-03-01|\n",
      "|2021-02-28T00:00:...|2021-02-28|\n",
      "|2021-02-27T00:00:...|2021-02-27|\n",
      "|2021-02-26T00:00:...|2021-02-26|\n",
      "|2021-02-25T00:00:...|2021-02-25|\n",
      "+--------------------+----------+\n",
      "only showing top 20 rows\n",
      "\n"
     ]
    }
   ],
   "source": [
    "df_dates.show()"
   ]
  },
  {
   "cell_type": "code",
   "execution_count": 51,
   "metadata": {},
   "outputs": [],
   "source": [
    "@udf(StringType())\n",
    "def parse_race_ethnicity(line):\n",
    "    return line.split(\",\")[0]\n"
   ]
  },
  {
   "cell_type": "code",
   "execution_count": 70,
   "metadata": {},
   "outputs": [
    {
     "name": "stdout",
     "output_type": "stream",
     "text": [
      "root\n",
      " |-- age_group: string (nullable = true)\n",
      " |-- cdc_case_earliest_dt: string (nullable = true)\n",
      " |-- count: string (nullable = true)\n",
      " |-- race_ethnicity_combined: string (nullable = true)\n",
      " |-- sex: string (nullable = true)\n",
      "\n"
     ]
    }
   ],
   "source": [
    "df_cdc_raw.printSchema()"
   ]
  },
  {
   "cell_type": "code",
   "execution_count": 143,
   "metadata": {},
   "outputs": [],
   "source": [
    "df_cdc_raw = df_cdc_raw.withColumn(\"race_ethnicity_combined\", parse_race_ethnicity(\"race_ethnicity_combined\"))"
   ]
  },
  {
   "cell_type": "code",
   "execution_count": 144,
   "metadata": {},
   "outputs": [
    {
     "data": {
      "text/html": [
       "<div>\n",
       "<style scoped>\n",
       "    .dataframe tbody tr th:only-of-type {\n",
       "        vertical-align: middle;\n",
       "    }\n",
       "\n",
       "    .dataframe tbody tr th {\n",
       "        vertical-align: top;\n",
       "    }\n",
       "\n",
       "    .dataframe thead th {\n",
       "        text-align: right;\n",
       "    }\n",
       "</style>\n",
       "<table border=\"1\" class=\"dataframe\">\n",
       "  <thead>\n",
       "    <tr style=\"text-align: right;\">\n",
       "      <th></th>\n",
       "      <th>race_ethnicity_combined</th>\n",
       "    </tr>\n",
       "  </thead>\n",
       "  <tbody>\n",
       "    <tr>\n",
       "      <th>0</th>\n",
       "      <td>NA</td>\n",
       "    </tr>\n",
       "    <tr>\n",
       "      <th>1</th>\n",
       "      <td>Native Hawaiian/Other Pacific Islander</td>\n",
       "    </tr>\n",
       "    <tr>\n",
       "      <th>2</th>\n",
       "      <td>Hispanic/Latino</td>\n",
       "    </tr>\n",
       "    <tr>\n",
       "      <th>3</th>\n",
       "      <td>Unknown</td>\n",
       "    </tr>\n",
       "    <tr>\n",
       "      <th>4</th>\n",
       "      <td>Missing</td>\n",
       "    </tr>\n",
       "    <tr>\n",
       "      <th>5</th>\n",
       "      <td>White</td>\n",
       "    </tr>\n",
       "    <tr>\n",
       "      <th>6</th>\n",
       "      <td>Black</td>\n",
       "    </tr>\n",
       "    <tr>\n",
       "      <th>7</th>\n",
       "      <td>Asian</td>\n",
       "    </tr>\n",
       "    <tr>\n",
       "      <th>8</th>\n",
       "      <td>Multiple/Other</td>\n",
       "    </tr>\n",
       "    <tr>\n",
       "      <th>9</th>\n",
       "      <td>American Indian/Alaska Native</td>\n",
       "    </tr>\n",
       "  </tbody>\n",
       "</table>\n",
       "</div>"
      ],
      "text/plain": [
       "                  race_ethnicity_combined\n",
       "0                                      NA\n",
       "1  Native Hawaiian/Other Pacific Islander\n",
       "2                         Hispanic/Latino\n",
       "3                                 Unknown\n",
       "4                                 Missing\n",
       "5                                   White\n",
       "6                                   Black\n",
       "7                                   Asian\n",
       "8                          Multiple/Other\n",
       "9           American Indian/Alaska Native"
      ]
     },
     "execution_count": 144,
     "metadata": {},
     "output_type": "execute_result"
    }
   ],
   "source": [
    "df_cdc_raw.select(\"race_ethnicity_combined\").distinct().toPandas()"
   ]
  },
  {
   "cell_type": "markdown",
   "metadata": {},
   "source": [
    "## Check that the dataframe does not contain null values"
   ]
  },
  {
   "cell_type": "code",
   "execution_count": 145,
   "metadata": {},
   "outputs": [
    {
     "data": {
      "text/plain": [
       "\"'age_group' IS NULL OR 'cdc_case_earliest_dt' IS NULL OR 'count' IS NULL OR 'race_ethnicity_combined' IS NULL OR 'sex' IS NULL\""
      ]
     },
     "execution_count": 145,
     "metadata": {},
     "output_type": "execute_result"
    }
   ],
   "source": [
    "# query : rows with null values (in any columns)\n",
    "cond_null = \" OR \".join( [ f\"'{a}' IS NULL\" for a in df_cdc_raw.columns])\n",
    "cond_null"
   ]
  },
  {
   "cell_type": "code",
   "execution_count": 146,
   "metadata": {},
   "outputs": [],
   "source": [
    "# check that no value is null\n",
    "cdc_null = df_cdc_raw.filter( cond_null)"
   ]
  },
  {
   "cell_type": "code",
   "execution_count": 147,
   "metadata": {},
   "outputs": [
    {
     "data": {
      "text/plain": [
       "0"
      ]
     },
     "execution_count": 147,
     "metadata": {},
     "output_type": "execute_result"
    }
   ],
   "source": [
    "cdc_null.count()"
   ]
  },
  {
   "cell_type": "code",
   "execution_count": 148,
   "metadata": {},
   "outputs": [
    {
     "name": "stdout",
     "output_type": "stream",
     "text": [
      "root\n",
      " |-- age_group: string (nullable = true)\n",
      " |-- cdc_case_earliest_dt: string (nullable = true)\n",
      " |-- count: string (nullable = true)\n",
      " |-- race_ethnicity_combined: string (nullable = true)\n",
      " |-- sex: string (nullable = true)\n",
      "\n"
     ]
    }
   ],
   "source": [
    "df_cdc_raw.printSchema()"
   ]
  },
  {
   "cell_type": "code",
   "execution_count": 175,
   "metadata": {},
   "outputs": [],
   "source": [
    "# convert text date column into DateType\n",
    "df_cdc = df_cdc_raw.withColumn(\"cdc_case_earliest_dt\", col(\"cdc_case_earliest_dt\").cast(DateType()))"
   ]
  },
  {
   "cell_type": "code",
   "execution_count": 176,
   "metadata": {},
   "outputs": [],
   "source": [
    "# join with dimension tables to get fact table\n",
    "df_cdc = df_cdc.join( dim_age, on = \"age_group\", how = \"left_outer\")\\\n",
    "                    .withColumnRenamed(\"race_ethnicity_combined\", \"race\")\\\n",
    "                    .join(dim_race_ethnicity, on = \"race\", how = \"left_outer\")\\\n",
    "                    .join(dim_sex, on = \"sex\", how = \"left_outer\")\\\n",
    "                    .select(\"cdc_case_earliest_dt\",\"sex_id\",\"age_group_id\", \"race_ethnicity_id\", \"count\")"
   ]
  },
  {
   "cell_type": "code",
   "execution_count": 177,
   "metadata": {},
   "outputs": [
    {
     "data": {
      "text/plain": [
       "95735"
      ]
     },
     "execution_count": 177,
     "metadata": {},
     "output_type": "execute_result"
    }
   ],
   "source": [
    "df_cdc.count()"
   ]
  },
  {
   "cell_type": "code",
   "execution_count": 178,
   "metadata": {},
   "outputs": [
    {
     "name": "stdout",
     "output_type": "stream",
     "text": [
      "root\n",
      " |-- cdc_case_earliest_dt: date (nullable = true)\n",
      " |-- sex_id: long (nullable = true)\n",
      " |-- age_group_id: long (nullable = true)\n",
      " |-- race_ethnicity_id: long (nullable = true)\n",
      " |-- count: string (nullable = true)\n",
      "\n"
     ]
    }
   ],
   "source": [
    "df_cdc.printSchema()"
   ]
  },
  {
   "cell_type": "code",
   "execution_count": 179,
   "metadata": {},
   "outputs": [
    {
     "data": {
      "text/plain": [
       "0"
      ]
     },
     "execution_count": 179,
     "metadata": {},
     "output_type": "execute_result"
    }
   ],
   "source": [
    "# check that there are no NULL values, ie that no rows contain values not in dimensions tables\n",
    "df_cdc.filter( \" OR \".join( [ f\"'{a}' IS NULL\" for a in df_cdc.columns] ) )\\\n",
    "        .count()"
   ]
  },
  {
   "cell_type": "code",
   "execution_count": 181,
   "metadata": {},
   "outputs": [],
   "source": [
    "# write to jdbc\n",
    "table_name = \"covid_per_popgroup\"\n",
    "df_cdc.write\\\n",
    "    .format(\"jdbc\")\\\n",
    "    .mode(\"overwrite\")\\\n",
    "    .option(\"url\", \"jdbc:postgresql:capstone\")\\\n",
    "    .option(\"dbtable\", table_name)\\\n",
    "    .option(\"user\",\"postgres\")\\\n",
    "    .option(\"password\", \"postgres\")\\\n",
    "    .save()"
   ]
  },
  {
   "cell_type": "code",
   "execution_count": 136,
   "metadata": {},
   "outputs": [],
   "source": [
    "table_name = \"dim_age_group\"\n",
    "dim_age.write\\\n",
    "    .format(\"jdbc\")\\\n",
    "    .option(\"url\", \"jdbc:postgresql:capstone\")\\\n",
    "    .option(\"dbtable\", table_name)\\\n",
    "    .option(\"user\",\"postgres\")\\\n",
    "    .option(\"password\", \"postgres\")\\\n",
    "    .save()"
   ]
  },
  {
   "cell_type": "code",
   "execution_count": 137,
   "metadata": {},
   "outputs": [],
   "source": [
    "table_name = \"dim_sex\"\n",
    "dim_sex.write\\\n",
    "    .format(\"jdbc\")\\\n",
    "    .option(\"url\", \"jdbc:postgresql:capstone\")\\\n",
    "    .option(\"dbtable\", table_name)\\\n",
    "    .option(\"user\",\"postgres\")\\\n",
    "    .option(\"password\", \"postgres\")\\\n",
    "    .save()"
   ]
  },
  {
   "cell_type": "code",
   "execution_count": 138,
   "metadata": {},
   "outputs": [],
   "source": [
    "table_name = \"dim_race_ethnicity\"\n",
    "dim_race_ethnicity.write\\\n",
    "    .format(\"jdbc\")\\\n",
    "    .option(\"url\", \"jdbc:postgresql:capstone\")\\\n",
    "    .option(\"dbtable\", table_name)\\\n",
    "    .option(\"user\",\"postgres\")\\\n",
    "    .option(\"password\", \"postgres\")\\\n",
    "    .save()"
   ]
  },
  {
   "cell_type": "code",
   "execution_count": null,
   "metadata": {},
   "outputs": [],
   "source": []
  }
 ],
 "metadata": {
  "kernelspec": {
   "display_name": "Python 3",
   "language": "python",
   "name": "python3"
  },
  "language_info": {
   "codemirror_mode": {
    "name": "ipython",
    "version": 3
   },
   "file_extension": ".py",
   "mimetype": "text/x-python",
   "name": "python",
   "nbconvert_exporter": "python",
   "pygments_lexer": "ipython3",
   "version": "3.7.9"
  }
 },
 "nbformat": 4,
 "nbformat_minor": 4
}
