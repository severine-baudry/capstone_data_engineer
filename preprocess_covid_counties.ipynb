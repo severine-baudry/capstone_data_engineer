{
 "cells": [
  {
   "cell_type": "code",
   "execution_count": 1,
   "metadata": {},
   "outputs": [],
   "source": [
    "import configparser\n",
    "import os\n",
    "import pyspark\n",
    "from pyspark import SparkConf\n",
    "from pyspark.sql import SparkSession\n",
    "import pyspark.sql.functions as F\n",
    "import pyspark.sql.types as T\n",
    "from pyspark.sql.functions import udf, col, lit\n",
    "from pyspark.sql.types import MapType, StringType, FloatType\n",
    "from pyspark.sql import DataFrame, Window\n",
    "from collections import OrderedDict\n",
    "import pandas as pd\n",
    "import numpy as np\n",
    "import matplotlib.pyplot as plt\n",
    "import matplotlib.dates as mdates"
   ]
  },
  {
   "cell_type": "code",
   "execution_count": 2,
   "metadata": {},
   "outputs": [],
   "source": [
    "config = configparser.ConfigParser()\n",
    "config.read(\"capstone.cfg\")\n",
    "\n",
    "os.chdir(config[\"PATH\"][\"project\"])\n",
    "project_path = config[\"PATH\"][\"project\"]\n"
   ]
  },
  {
   "cell_type": "code",
   "execution_count": 3,
   "metadata": {},
   "outputs": [],
   "source": [
    "def create_spark_session():\n",
    "    spark = SparkSession \\\n",
    "        .builder \\\n",
    "        .appName(\"covid_DB\") \\\n",
    "        .getOrCreate()\n",
    "    \n",
    "    return spark"
   ]
  },
  {
   "cell_type": "code",
   "execution_count": 4,
   "metadata": {},
   "outputs": [],
   "source": [
    "spark = create_spark_session()"
   ]
  },
  {
   "cell_type": "code",
   "execution_count": 5,
   "metadata": {},
   "outputs": [],
   "source": [
    "df_covid = spark.read.option(\"header\", True).csv(os.path.join(project_path, \"DATA\",\"COVID\", \"us-counties.csv\"))"
   ]
  },
  {
   "cell_type": "code",
   "execution_count": 6,
   "metadata": {},
   "outputs": [
    {
     "name": "stdout",
     "output_type": "stream",
     "text": [
      "root\n",
      " |-- date: string (nullable = true)\n",
      " |-- county: string (nullable = true)\n",
      " |-- state: string (nullable = true)\n",
      " |-- fips: string (nullable = true)\n",
      " |-- cases: string (nullable = true)\n",
      " |-- deaths: string (nullable = true)\n",
      "\n"
     ]
    }
   ],
   "source": [
    "df_covid.printSchema()"
   ]
  },
  {
   "cell_type": "code",
   "execution_count": 7,
   "metadata": {},
   "outputs": [],
   "source": [
    "df_covid = df_covid.withColumn(\"date\", F.to_date(\"date\"))"
   ]
  },
  {
   "cell_type": "code",
   "execution_count": 8,
   "metadata": {},
   "outputs": [
    {
     "name": "stdout",
     "output_type": "stream",
     "text": [
      "root\n",
      " |-- date: date (nullable = true)\n",
      " |-- county: string (nullable = true)\n",
      " |-- state: string (nullable = true)\n",
      " |-- fips: string (nullable = true)\n",
      " |-- cases: string (nullable = true)\n",
      " |-- deaths: string (nullable = true)\n",
      "\n"
     ]
    }
   ],
   "source": [
    "df_covid.printSchema()"
   ]
  },
  {
   "cell_type": "code",
   "execution_count": 9,
   "metadata": {},
   "outputs": [
    {
     "name": "stdout",
     "output_type": "stream",
     "text": [
      "+----------+-----------+----------+-----+-----+------+\n",
      "|      date|     county|     state| fips|cases|deaths|\n",
      "+----------+-----------+----------+-----+-----+------+\n",
      "|2020-01-21|  Snohomish|Washington|53061|    1|     0|\n",
      "|2020-01-22|  Snohomish|Washington|53061|    1|     0|\n",
      "|2020-01-23|  Snohomish|Washington|53061|    1|     0|\n",
      "|2020-01-24|       Cook|  Illinois|17031|    1|     0|\n",
      "|2020-01-24|  Snohomish|Washington|53061|    1|     0|\n",
      "|2020-01-25|     Orange|California|06059|    1|     0|\n",
      "|2020-01-25|       Cook|  Illinois|17031|    1|     0|\n",
      "|2020-01-25|  Snohomish|Washington|53061|    1|     0|\n",
      "|2020-01-26|   Maricopa|   Arizona|04013|    1|     0|\n",
      "|2020-01-26|Los Angeles|California|06037|    1|     0|\n",
      "|2020-01-26|     Orange|California|06059|    1|     0|\n",
      "|2020-01-26|       Cook|  Illinois|17031|    1|     0|\n",
      "|2020-01-26|  Snohomish|Washington|53061|    1|     0|\n",
      "|2020-01-27|   Maricopa|   Arizona|04013|    1|     0|\n",
      "|2020-01-27|Los Angeles|California|06037|    1|     0|\n",
      "|2020-01-27|     Orange|California|06059|    1|     0|\n",
      "|2020-01-27|       Cook|  Illinois|17031|    1|     0|\n",
      "|2020-01-27|  Snohomish|Washington|53061|    1|     0|\n",
      "|2020-01-28|   Maricopa|   Arizona|04013|    1|     0|\n",
      "|2020-01-28|Los Angeles|California|06037|    1|     0|\n",
      "+----------+-----------+----------+-----+-----+------+\n",
      "only showing top 20 rows\n",
      "\n"
     ]
    }
   ],
   "source": [
    "df_covid.show()"
   ]
  },
  {
   "cell_type": "code",
   "execution_count": 10,
   "metadata": {},
   "outputs": [
    {
     "data": {
      "text/plain": [
       "1170376"
      ]
     },
     "execution_count": 10,
     "metadata": {},
     "output_type": "execute_result"
    }
   ],
   "source": [
    "df_covid.count()"
   ]
  },
  {
   "cell_type": "code",
   "execution_count": 11,
   "metadata": {},
   "outputs": [
    {
     "data": {
      "text/plain": [
       "10721"
      ]
     },
     "execution_count": 11,
     "metadata": {},
     "output_type": "execute_result"
    }
   ],
   "source": [
    "df_covid.where(col(\"fips\").isNull()).count()"
   ]
  },
  {
   "cell_type": "code",
   "execution_count": 12,
   "metadata": {},
   "outputs": [],
   "source": [
    "map_fips_stations = spark.read.parquet( os.path.join(project_path, \"OUT_DATA/\", \"stations_per_fips\"))"
   ]
  },
  {
   "cell_type": "code",
   "execution_count": 13,
   "metadata": {},
   "outputs": [
    {
     "name": "stdout",
     "output_type": "stream",
     "text": [
      "root\n",
      " |-- location_id: long (nullable = true)\n",
      " |-- fips: string (nullable = true)\n",
      " |-- county: string (nullable = true)\n",
      " |-- fips_state: string (nullable = true)\n",
      " |-- station_id: string (nullable = true)\n",
      " |-- station_name: string (nullable = true)\n",
      " |-- station_state: string (nullable = true)\n",
      " |-- angle: double (nullable = true)\n",
      " |-- distance: double (nullable = true)\n",
      " |-- measured: string (nullable = true)\n",
      "\n"
     ]
    }
   ],
   "source": [
    "map_fips_stations.printSchema()"
   ]
  },
  {
   "cell_type": "code",
   "execution_count": 14,
   "metadata": {},
   "outputs": [],
   "source": [
    "nyt_locations = df_covid.select(\"fips\", \"county\", \"state\").distinct()"
   ]
  },
  {
   "cell_type": "code",
   "execution_count": 15,
   "metadata": {},
   "outputs": [
    {
     "data": {
      "text/plain": [
       "3274"
      ]
     },
     "execution_count": 15,
     "metadata": {},
     "output_type": "execute_result"
    }
   ],
   "source": [
    "nyt_locations.count()"
   ]
  },
  {
   "cell_type": "code",
   "execution_count": 16,
   "metadata": {},
   "outputs": [
    {
     "data": {
      "text/plain": [
       "3272"
      ]
     },
     "execution_count": 16,
     "metadata": {},
     "output_type": "execute_result"
    }
   ],
   "source": [
    "map_locations = map_fips_stations.select(\"location_id\", \"fips\", \"county\", \"fips_state\").distinct()\n",
    "map_locations.count()"
   ]
  },
  {
   "cell_type": "code",
   "execution_count": 17,
   "metadata": {},
   "outputs": [
    {
     "data": {
      "text/plain": [
       "3272"
      ]
     },
     "execution_count": 17,
     "metadata": {},
     "output_type": "execute_result"
    }
   ],
   "source": [
    "nyt_locations.join(map_locations, \n",
    "            (nyt_locations.fips.eqNullSafe(map_locations.fips) ) &\n",
    "            (nyt_locations.county.eqNullSafe(map_locations.county) )& \n",
    "            (nyt_locations.state.eqNullSafe( map_locations.fips_state) ) )\\\n",
    "            .count()"
   ]
  },
  {
   "cell_type": "code",
   "execution_count": 18,
   "metadata": {},
   "outputs": [
    {
     "name": "stdout",
     "output_type": "stream",
     "text": [
      "+-----+--------------------+------+\n",
      "| fips|              county| state|\n",
      "+-----+--------------------+------+\n",
      "|02997|Bristol Bay plus ...|Alaska|\n",
      "|02998|Yakutat plus Hoon...|Alaska|\n",
      "+-----+--------------------+------+\n",
      "\n"
     ]
    }
   ],
   "source": [
    "nyt_locations.join(map_locations, \n",
    "            (nyt_locations.fips.eqNullSafe(map_locations.fips) ) &\n",
    "            (nyt_locations.county.eqNullSafe(map_locations.county) )& \n",
    "            (nyt_locations.state.eqNullSafe( map_locations.fips_state) ) ,\n",
    "            how = \"left_anti\")\\\n",
    "            .show()"
   ]
  },
  {
   "cell_type": "code",
   "execution_count": 19,
   "metadata": {},
   "outputs": [],
   "source": [
    "# filter out non matched locations and add location_id\n",
    "df_covid_filter = df_covid.alias(\"covid\").join( map_locations.alias(\"loc\"),\n",
    "            (df_covid.fips.eqNullSafe(map_fips_stations.fips) ) &\n",
    "            (df_covid.county.eqNullSafe(map_fips_stations.county) ) & \n",
    "            (df_covid.state.eqNullSafe( map_fips_stations.fips_state) ) )\\\n",
    "       .select(\"date\", \"location_id\", \"covid.fips\", \"covid.county\", \"covid.state\", \"deaths\", \"cases\")\n",
    "                                             "
   ]
  },
  {
   "cell_type": "code",
   "execution_count": 20,
   "metadata": {},
   "outputs": [],
   "source": [
    "# compute daily cases and daily deaths, from cumulated values\n",
    "# first add a column with the lag value (i.e. the value from the previous day)\n",
    "# then compute the difference btw current day and previous day values\n",
    "w = Window.partitionBy(\"location_id\").orderBy(\"date\")\n",
    "df_covid_daily = df_covid_filter\\\n",
    "    .withColumn(\"deaths_prev\", F.lag(\"deaths\", count = 1, default = 0).over(w) ) \\\n",
    "    .withColumn(\"cases_prev\", F.lag(\"cases\", count = 1, default = 0).over(w) )\\\n",
    "    .withColumn(\"daily_deaths\", col(\"deaths\") - col(\"deaths_prev\"))\\\n",
    "    .withColumn(\"daily_cases\", col(\"cases\") - col(\"cases_prev\"))"
   ]
  },
  {
   "cell_type": "code",
   "execution_count": 21,
   "metadata": {},
   "outputs": [
    {
     "name": "stdout",
     "output_type": "stream",
     "text": [
      "root\n",
      " |-- date: date (nullable = true)\n",
      " |-- location_id: long (nullable = true)\n",
      " |-- fips: string (nullable = true)\n",
      " |-- county: string (nullable = true)\n",
      " |-- state: string (nullable = true)\n",
      " |-- deaths: string (nullable = true)\n",
      " |-- cases: string (nullable = true)\n",
      " |-- deaths_prev: string (nullable = true)\n",
      " |-- cases_prev: string (nullable = true)\n",
      " |-- daily_deaths: double (nullable = true)\n",
      " |-- daily_cases: double (nullable = true)\n",
      "\n"
     ]
    }
   ],
   "source": [
    "df_covid_daily.printSchema()"
   ]
  },
  {
   "cell_type": "code",
   "execution_count": 41,
   "metadata": {},
   "outputs": [],
   "source": [
    "out_path = os.path.join(project_path, \"OUT_DATA\", \"covid_per_county\")\n",
    "\n",
    "df_covid_daily.select(\"date\", \"location_id\", \"daily_cases\", \"daily_deaths\") \\\n",
    "    .write.mode(\"overwrite\").parquet(out_path)"
   ]
  },
  {
   "cell_type": "code",
   "execution_count": 42,
   "metadata": {},
   "outputs": [],
   "source": [
    "max_date = df_covid_daily.agg({\"date\" : \"max\" }).collect()[0][\"max(date)\"]"
   ]
  },
  {
   "cell_type": "code",
   "execution_count": 44,
   "metadata": {},
   "outputs": [
    {
     "data": {
      "text/plain": [
       "datetime.date(2021, 3, 29)"
      ]
     },
     "execution_count": 44,
     "metadata": {},
     "output_type": "execute_result"
    }
   ],
   "source": [
    "max_date"
   ]
  },
  {
   "cell_type": "code",
   "execution_count": 35,
   "metadata": {},
   "outputs": [],
   "source": [
    "# compute last date for each location_id : used to filter out data for subsequent loads\n",
    "w = Window.partitionBy(\"location_id\").orderBy( col(\"date\").desc())\n",
    "columns = df_covid_filter.columns[:]\n",
    "last_data = df_covid_filter.withColumn(\"rank\", F.rank().over(w))\\\n",
    "    .where(\"rank == 1\")\\\n",
    "    .select(columns)"
   ]
  },
  {
   "cell_type": "code",
   "execution_count": 40,
   "metadata": {},
   "outputs": [],
   "source": [
    "last_data.write\\\n",
    "    .format(\"jdbc\")\\\n",
    "    .option(\"url\", \"jdbc:postgresql:capstone\")\\\n",
    "    .option(\"dbtable\", \"last_data\")\\\n",
    "    .option(\"user\",\"postgres\")\\\n",
    "    .option(\"password\", \"postgres\")\\\n",
    "    .save()"
   ]
  },
  {
   "cell_type": "code",
   "execution_count": 39,
   "metadata": {},
   "outputs": [
    {
     "data": {
      "text/plain": [
       "3272"
      ]
     },
     "execution_count": 39,
     "metadata": {},
     "output_type": "execute_result"
    }
   ],
   "source": [
    "last_data.count()"
   ]
  }
 ],
 "metadata": {
  "kernelspec": {
   "display_name": "Python 3",
   "language": "python",
   "name": "python3"
  },
  "language_info": {
   "codemirror_mode": {
    "name": "ipython",
    "version": 3
   },
   "file_extension": ".py",
   "mimetype": "text/x-python",
   "name": "python",
   "nbconvert_exporter": "python",
   "pygments_lexer": "ipython3",
   "version": "3.7.9"
  }
 },
 "nbformat": 4,
 "nbformat_minor": 4
}
